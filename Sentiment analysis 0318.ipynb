{
 "cells": [
  {
   "cell_type": "code",
   "execution_count": 1,
   "metadata": {
    "collapsed": false,
    "deletable": true,
    "editable": true
   },
   "outputs": [
    {
     "name": "stderr",
     "output_type": "stream",
     "text": [
      "C:\\Users\\sonja tilly.ABERDEEN\\AppData\\Local\\Continuum\\Anaconda2\\lib\\site-packages\\nltk\\twitter\\__init__.py:20: UserWarning: The twython library has not been installed. Some functionality from the twitter package will not be available.\n",
      "  warnings.warn(\"The twython library has not been installed. \"\n"
     ]
    }
   ],
   "source": [
    "# import libraries\n",
    "\n",
    "import pandas as pd\n",
    "import numpy as np\n",
    "import matplotlib.pyplot as plt\n",
    "%matplotlib inline\n",
    "import seaborn as sns\n",
    "from nltk.sentiment.vader import SentimentIntensityAnalyzer as SIA\n",
    "import datetime\n",
    "import nltk\n",
    "from nltk import pos_tag"
   ]
  },
  {
   "cell_type": "code",
   "execution_count": 2,
   "metadata": {
    "collapsed": false,
    "deletable": true,
    "editable": true
   },
   "outputs": [],
   "source": [
    "# import data\n",
    "\n",
    "file = pd.read_csv(\"C:\\\\Users\\\\sonja tilly.ABERDEEN\\\\abcnews-date-text.csv\")"
   ]
  },
  {
   "cell_type": "code",
   "execution_count": 3,
   "metadata": {
    "collapsed": false,
    "deletable": true,
    "editable": true
   },
   "outputs": [],
   "source": [
    "data = file[750000:]"
   ]
  },
  {
   "cell_type": "code",
   "execution_count": 4,
   "metadata": {
    "collapsed": false,
    "deletable": true,
    "editable": true
   },
   "outputs": [
    {
     "data": {
      "text/html": [
       "<div>\n",
       "<table border=\"1\" class=\"dataframe\">\n",
       "  <thead>\n",
       "    <tr style=\"text-align: right;\">\n",
       "      <th></th>\n",
       "      <th>publish_date</th>\n",
       "      <th>headline_text</th>\n",
       "    </tr>\n",
       "  </thead>\n",
       "  <tbody>\n",
       "    <tr>\n",
       "      <th>750000</th>\n",
       "      <td>20121218</td>\n",
       "      <td>syrian rebels take over palestinian camp</td>\n",
       "    </tr>\n",
       "    <tr>\n",
       "      <th>750001</th>\n",
       "      <td>20121218</td>\n",
       "      <td>syrias prime minister sneaks into war torn aleppo</td>\n",
       "    </tr>\n",
       "    <tr>\n",
       "      <th>750002</th>\n",
       "      <td>20121218</td>\n",
       "      <td>target 100s virtual farm in sydneys cbd</td>\n",
       "    </tr>\n",
       "    <tr>\n",
       "      <th>750003</th>\n",
       "      <td>20121218</td>\n",
       "      <td>taxi driver in court over fatal passenger death</td>\n",
       "    </tr>\n",
       "    <tr>\n",
       "      <th>750004</th>\n",
       "      <td>20121218</td>\n",
       "      <td>teenager killed in road smash</td>\n",
       "    </tr>\n",
       "  </tbody>\n",
       "</table>\n",
       "</div>"
      ],
      "text/plain": [
       "        publish_date                                      headline_text\n",
       "750000      20121218           syrian rebels take over palestinian camp\n",
       "750001      20121218  syrias prime minister sneaks into war torn aleppo\n",
       "750002      20121218            target 100s virtual farm in sydneys cbd\n",
       "750003      20121218    taxi driver in court over fatal passenger death\n",
       "750004      20121218                      teenager killed in road smash"
      ]
     },
     "execution_count": 4,
     "metadata": {},
     "output_type": "execute_result"
    }
   ],
   "source": [
    "data.head()"
   ]
  },
  {
   "cell_type": "code",
   "execution_count": 5,
   "metadata": {
    "collapsed": false,
    "deletable": true,
    "editable": true
   },
   "outputs": [],
   "source": [
    "# calculate polarity scores\n",
    "\n",
    "sentences=[i for i in data.headline_text]\n",
    "sid = SIA()\n",
    "\n",
    "scores = []\n",
    "for sentence in sentences:\n",
    "    ss = sid.polarity_scores(sentence) \n",
    "    scores.append(ss['compound'])"
   ]
  },
  {
   "cell_type": "code",
   "execution_count": 6,
   "metadata": {
    "collapsed": false,
    "deletable": true,
    "editable": true
   },
   "outputs": [
    {
     "name": "stderr",
     "output_type": "stream",
     "text": [
      "C:\\Users\\sonja tilly.ABERDEEN\\AppData\\Local\\Continuum\\Anaconda2\\lib\\site-packages\\ipykernel\\__main__.py:1: SettingWithCopyWarning: \n",
      "A value is trying to be set on a copy of a slice from a DataFrame.\n",
      "Try using .loc[row_indexer,col_indexer] = value instead\n",
      "\n",
      "See the caveats in the documentation: http://pandas.pydata.org/pandas-docs/stable/indexing.html#indexing-view-versus-copy\n",
      "  if __name__ == '__main__':\n"
     ]
    }
   ],
   "source": [
    "data['polarity_scores'] = scores"
   ]
  },
  {
   "cell_type": "code",
   "execution_count": 7,
   "metadata": {
    "collapsed": false
   },
   "outputs": [
    {
     "data": {
      "text/html": [
       "<div>\n",
       "<table border=\"1\" class=\"dataframe\">\n",
       "  <thead>\n",
       "    <tr style=\"text-align: right;\">\n",
       "      <th></th>\n",
       "      <th>publish_date</th>\n",
       "      <th>headline_text</th>\n",
       "      <th>polarity_scores</th>\n",
       "    </tr>\n",
       "  </thead>\n",
       "  <tbody>\n",
       "    <tr>\n",
       "      <th>750000</th>\n",
       "      <td>20121218</td>\n",
       "      <td>syrian rebels take over palestinian camp</td>\n",
       "      <td>-0.2023</td>\n",
       "    </tr>\n",
       "    <tr>\n",
       "      <th>750001</th>\n",
       "      <td>20121218</td>\n",
       "      <td>syrias prime minister sneaks into war torn aleppo</td>\n",
       "      <td>-0.7096</td>\n",
       "    </tr>\n",
       "    <tr>\n",
       "      <th>750002</th>\n",
       "      <td>20121218</td>\n",
       "      <td>target 100s virtual farm in sydneys cbd</td>\n",
       "      <td>0.0000</td>\n",
       "    </tr>\n",
       "    <tr>\n",
       "      <th>750003</th>\n",
       "      <td>20121218</td>\n",
       "      <td>taxi driver in court over fatal passenger death</td>\n",
       "      <td>-0.8126</td>\n",
       "    </tr>\n",
       "    <tr>\n",
       "      <th>750004</th>\n",
       "      <td>20121218</td>\n",
       "      <td>teenager killed in road smash</td>\n",
       "      <td>-0.6705</td>\n",
       "    </tr>\n",
       "  </tbody>\n",
       "</table>\n",
       "</div>"
      ],
      "text/plain": [
       "        publish_date                                      headline_text  \\\n",
       "750000      20121218           syrian rebels take over palestinian camp   \n",
       "750001      20121218  syrias prime minister sneaks into war torn aleppo   \n",
       "750002      20121218            target 100s virtual farm in sydneys cbd   \n",
       "750003      20121218    taxi driver in court over fatal passenger death   \n",
       "750004      20121218                      teenager killed in road smash   \n",
       "\n",
       "        polarity_scores  \n",
       "750000          -0.2023  \n",
       "750001          -0.7096  \n",
       "750002           0.0000  \n",
       "750003          -0.8126  \n",
       "750004          -0.6705  "
      ]
     },
     "execution_count": 7,
     "metadata": {},
     "output_type": "execute_result"
    }
   ],
   "source": [
    "data.head()"
   ]
  },
  {
   "cell_type": "code",
   "execution_count": 8,
   "metadata": {
    "collapsed": false,
    "deletable": true,
    "editable": true
   },
   "outputs": [
    {
     "data": {
      "text/plain": [
       "<matplotlib.axes._subplots.AxesSubplot at 0xdbeb7f0>"
      ]
     },
     "execution_count": 8,
     "metadata": {},
     "output_type": "execute_result"
    },
    {
     "data": {
      "image/png": "[encoded data removed]",
      "text/plain": [
       "<matplotlib.figure.Figure at 0xdbebf60>"
      ]
     },
     "metadata": {},
     "output_type": "display_data"
    }
   ],
   "source": [
    "sns.set_style(\"dark\")\n",
    "sns.set_context(\"paper\") #use talk for larger chart\n",
    "sns.set_color_codes()\n",
    "\n",
    "sns.distplot(data['polarity_scores'], color='seagreen')"
   ]
  },
  {
   "cell_type": "markdown",
   "metadata": {
    "collapsed": false,
    "deletable": true,
    "editable": true
   },
   "source": [
    "**Preprocessing**"
   ]
  },
  {
   "cell_type": "code",
   "execution_count": 9,
   "metadata": {
    "collapsed": false,
    "deletable": true,
    "editable": true
   },
   "outputs": [
    {
     "name": "stdout",
     "output_type": "stream",
     "text": [
      "[u'i', u'me', u'my', u'myself', u'we', u'our', u'ours', u'ourselves', u'you', u\"you're\"]\n"
     ]
    }
   ],
   "source": [
    "# load nltk's English stopwords as 'stopwords'\n",
    "stopwords = nltk.corpus.stopwords.words('english')\n",
    "more_stopwords = ['1', '2', '3', '4', '5', '6', '7', '8', '9']\n",
    "stopwords.extend(more_stopwords)\n",
    "print(stopwords[0:10])\n",
    "\n",
    "# create tokenizer that picks out sequences of alphanumeric characters as tokens and drops everything else\n",
    "from nltk.tokenize import RegexpTokenizer\n",
    "tokenizer = RegexpTokenizer(r'\\w+')\n",
    "\n",
    "# load nltk's Lemmatizer\n",
    "\n",
    "from nltk.stem import WordNetLemmatizer\n",
    "wordnet_lemmatizer = WordNetLemmatizer() "
   ]
  },
  {
   "cell_type": "code",
   "execution_count": 10,
   "metadata": {
    "collapsed": true,
    "deletable": true,
    "editable": true
   },
   "outputs": [],
   "source": [
    "# create function to create list of sentences\n",
    "\n",
    "def raw_text(lol):\n",
    "    temp = []\n",
    "    for i in lol:\n",
    "        sent = \" \".join(str(item) for item in i)\n",
    "        temp.append(sent)\n",
    "    return temp"
   ]
  },
  {
   "cell_type": "code",
   "execution_count": 11,
   "metadata": {
    "collapsed": false,
    "deletable": true,
    "editable": true
   },
   "outputs": [],
   "source": [
    "# tidy up text\n",
    "\n",
    "def clean_up(temp0):\n",
    "    temp1 = [t.lower() for t in temp0]\n",
    "    temp2 = [(tokenizer.tokenize(t)) for t in temp1]\n",
    "    temp3 = [[(wordnet_lemmatizer.lemmatize(t)) for t in l] for l in temp2]\n",
    "    temp4 = raw_text(temp3)\n",
    "    temp5 = [[i for i in l.split() if i not in stopwords] for l in temp4]\n",
    "    return temp5"
   ]
  },
  {
   "cell_type": "code",
   "execution_count": 12,
   "metadata": {
    "collapsed": false,
    "deletable": true,
    "editable": true
   },
   "outputs": [
    {
     "data": {
      "text/plain": [
       "['syrian rebels take over palestinian camp',\n",
       " 'syrias prime minister sneaks into war torn aleppo']"
      ]
     },
     "execution_count": 12,
     "metadata": {},
     "output_type": "execute_result"
    }
   ],
   "source": [
    "text = [line for line in data.headline_text]\n",
    "text[0:2]"
   ]
  },
  {
   "cell_type": "code",
   "execution_count": 13,
   "metadata": {
    "collapsed": false
   },
   "outputs": [],
   "source": [
    "tokens = clean_up(text)"
   ]
  },
  {
   "cell_type": "code",
   "execution_count": 14,
   "metadata": {
    "collapsed": false
   },
   "outputs": [
    {
     "data": {
      "text/plain": [
       "[['syrian', 'rebel', 'take', 'palestinian', 'camp'],\n",
       " ['syria', 'prime', 'minister', 'sneak', 'war', 'torn', 'aleppo'],\n",
       " ['target', '100', 'virtual', 'farm', 'sydney', 'cbd'],\n",
       " ['taxi', 'driver', 'court', 'fatal', 'passenger', 'death'],\n",
       " ['teenager', 'killed', 'road', 'smash'],\n",
       " ['tennant', 'creek', 'police', 'flood', 'warning'],\n",
       " ['australian', 'sharemarket', 'bounce', 'back'],\n",
       " ['drum', 'tuesday', '18', 'december'],\n",
       " ['indigenous', 'quarter'],\n",
       " ['thousand', 'farewell', 'nurse', 'died', 'prank', 'call']]"
      ]
     },
     "execution_count": 14,
     "metadata": {},
     "output_type": "execute_result"
    }
   ],
   "source": [
    "tokens[0:10]"
   ]
  },
  {
   "cell_type": "markdown",
   "metadata": {},
   "source": [
    "**Latent Dirichlet Allocation for topic modelling**"
   ]
  },
  {
   "cell_type": "code",
   "execution_count": 15,
   "metadata": {
    "collapsed": false,
    "deletable": true,
    "editable": true
   },
   "outputs": [
    {
     "name": "stderr",
     "output_type": "stream",
     "text": [
      "C:\\Users\\sonja tilly.ABERDEEN\\AppData\\Local\\Continuum\\Anaconda2\\lib\\site-packages\\gensim-3.2.0-py2.7-win-amd64.egg\\gensim\\utils.py:860: UserWarning: detected Windows; aliasing chunkize to chunkize_serial\n",
      "  warnings.warn(\"detected Windows; aliasing chunkize to chunkize_serial\")\n"
     ]
    }
   ],
   "source": [
    "from gensim import corpora, models \n",
    "\n",
    "#def lda_model(words):\n",
    "def lda_model(text):\n",
    "    dictionary = corpora.Dictionary(text)\n",
    "    corpus_lda = [dictionary.doc2bow(t) for t in text] \n",
    "    lda = models.LdaModel(corpus_lda, num_topics=7,  \n",
    "                                    id2word=dictionary) \n",
    "    topics_matrix = lda.show_topics(formatted=True, num_words=7)\n",
    "    raw = raw_text(topics_matrix)\n",
    "    stuff = [\"'\", \"+\", '1', '2', '3', '4', '5', '6', '7', '8', \n",
    "             '9', '0', '*', '.', '\"', ',']\n",
    "    chars = [''.join([char for char in l if char not in stuff]) for l in raw]\n",
    "    topics = pd.DataFrame(chars, columns = ['Words'])\n",
    "    for w in topics.Words:\n",
    "        print w\n",
    "    return topics\n"
   ]
  },
  {
   "cell_type": "code",
   "execution_count": 16,
   "metadata": {
    "collapsed": false,
    "deletable": true,
    "editable": true
   },
   "outputs": [
    {
     "name": "stdout",
     "output_type": "stream",
     "text": [
      " new  wa  ash  show  home  say  royal\n",
      " adelaide  crash  woman  car  dy  world  cup\n",
      " trump  australia  queensland  day  sex  north  test\n",
      " say  wa  family  state  government  health  tasmanian\n",
      " turnbull  power  change  say  final  big  open\n",
      " police  man  death  donald  year  murder  attack\n",
      " election  australian  labor  market  tasmania  national  christmas\n"
     ]
    },
    {
     "data": {
      "text/html": [
       "<div>\n",
       "<table border=\"1\" class=\"dataframe\">\n",
       "  <thead>\n",
       "    <tr style=\"text-align: right;\">\n",
       "      <th></th>\n",
       "      <th>Words</th>\n",
       "    </tr>\n",
       "  </thead>\n",
       "  <tbody>\n",
       "    <tr>\n",
       "      <th>0</th>\n",
       "      <td>new  wa  ash  show  home  say  royal</td>\n",
       "    </tr>\n",
       "    <tr>\n",
       "      <th>1</th>\n",
       "      <td>adelaide  crash  woman  car  dy  world  cup</td>\n",
       "    </tr>\n",
       "    <tr>\n",
       "      <th>2</th>\n",
       "      <td>trump  australia  queensland  day  sex  north...</td>\n",
       "    </tr>\n",
       "    <tr>\n",
       "      <th>3</th>\n",
       "      <td>say  wa  family  state  government  health  t...</td>\n",
       "    </tr>\n",
       "    <tr>\n",
       "      <th>4</th>\n",
       "      <td>turnbull  power  change  say  final  big  open</td>\n",
       "    </tr>\n",
       "    <tr>\n",
       "      <th>5</th>\n",
       "      <td>police  man  death  donald  year  murder  attack</td>\n",
       "    </tr>\n",
       "    <tr>\n",
       "      <th>6</th>\n",
       "      <td>election  australian  labor  market  tasmania...</td>\n",
       "    </tr>\n",
       "  </tbody>\n",
       "</table>\n",
       "</div>"
      ],
      "text/plain": [
       "                                               Words\n",
       "0               new  wa  ash  show  home  say  royal\n",
       "1        adelaide  crash  woman  car  dy  world  cup\n",
       "2   trump  australia  queensland  day  sex  north...\n",
       "3   say  wa  family  state  government  health  t...\n",
       "4     turnbull  power  change  say  final  big  open\n",
       "5   police  man  death  donald  year  murder  attack\n",
       "6   election  australian  labor  market  tasmania..."
      ]
     },
     "execution_count": 16,
     "metadata": {},
     "output_type": "execute_result"
    }
   ],
   "source": [
    "lda_model(tokens)"
   ]
  },
  {
   "cell_type": "markdown",
   "metadata": {},
   "source": [
    "**Classification task: predict positive/negative headlines**"
   ]
  },
  {
   "cell_type": "code",
   "execution_count": 17,
   "metadata": {
    "collapsed": true
   },
   "outputs": [],
   "source": [
    "clean_text = raw_text(tokens)"
   ]
  },
  {
   "cell_type": "code",
   "execution_count": 23,
   "metadata": {
    "collapsed": false
   },
   "outputs": [],
   "source": [
    "reduced_text = clean_text[0:50000]"
   ]
  },
  {
   "cell_type": "code",
   "execution_count": 24,
   "metadata": {
    "collapsed": false,
    "deletable": true,
    "editable": true
   },
   "outputs": [],
   "source": [
    "from sklearn.feature_extraction.text import TfidfVectorizer, CountVectorizer\n",
    "\n",
    "tfidf_vectorizer = TfidfVectorizer()\n",
    "tfidf = tfidf_vectorizer.fit_transform(reduced_text)\n",
    "\n",
    "count_vectorizer = CountVectorizer()\n",
    "count_v = count_vectorizer.fit_transform(reduced_text)"
   ]
  },
  {
   "cell_type": "code",
   "execution_count": 25,
   "metadata": {
    "collapsed": false
   },
   "outputs": [],
   "source": [
    "# transform polarity scores to target\n",
    "\n",
    "def transform_target(score):\n",
    "    if score > 0:\n",
    "        return 2\n",
    "    elif score == 0:\n",
    "        return 1\n",
    "    else:\n",
    "        return 0\n",
    "\n",
    "target = data['polarity_scores']\n",
    "y = target.apply(transform_target)[:50000]"
   ]
  },
  {
   "cell_type": "code",
   "execution_count": 26,
   "metadata": {
    "collapsed": false,
    "deletable": true,
    "editable": true
   },
   "outputs": [],
   "source": [
    "X = tfidf"
   ]
  },
  {
   "cell_type": "code",
   "execution_count": 27,
   "metadata": {
    "collapsed": false,
    "deletable": true,
    "editable": true
   },
   "outputs": [],
   "source": [
    "from sklearn.model_selection import train_test_split\n",
    "\n",
    "X_train, X_test, y_train, y_test = train_test_split(X, y, test_size=0.33, random_state=42)"
   ]
  },
  {
   "cell_type": "code",
   "execution_count": 28,
   "metadata": {
    "collapsed": false,
    "deletable": true,
    "editable": true
   },
   "outputs": [],
   "source": [
    "from sklearn.neural_network import MLPClassifier\n",
    "\n",
    "mlp = MLPClassifier(hidden_layer_sizes=(100, ), \n",
    "                                 activation='relu', \n",
    "                                 solver='adam', \n",
    "                                 alpha=0.0001, \n",
    "                                 batch_size='auto', \n",
    "                                 learning_rate='constant', \n",
    "                                 learning_rate_init=0.001, \n",
    "                                 power_t=0.5, \n",
    "                                 max_iter=200, \n",
    "                                 shuffle=True, \n",
    "                                 random_state=47, \n",
    "                                 tol=0.0001, \n",
    "                                 verbose=False, \n",
    "                                 warm_start=False, \n",
    "                                 momentum=0.9, \n",
    "                                 nesterovs_momentum=True, \n",
    "                                 early_stopping=False, \n",
    "                                 validation_fraction=0.1, \n",
    "                                 beta_1=0.9, \n",
    "                                 beta_2=0.999, \n",
    "                                 epsilon=1e-08)"
   ]
  },
  {
   "cell_type": "code",
   "execution_count": 29,
   "metadata": {
    "collapsed": false
   },
   "outputs": [
    {
     "data": {
      "text/plain": [
       "MLPClassifier(activation='relu', alpha=0.0001, batch_size='auto', beta_1=0.9,\n",
       "       beta_2=0.999, early_stopping=False, epsilon=1e-08,\n",
       "       hidden_layer_sizes=(100,), learning_rate='constant',\n",
       "       learning_rate_init=0.001, max_iter=200, momentum=0.9,\n",
       "       nesterovs_momentum=True, power_t=0.5, random_state=47, shuffle=True,\n",
       "       solver='adam', tol=0.0001, validation_fraction=0.1, verbose=False,\n",
       "       warm_start=False)"
      ]
     },
     "execution_count": 29,
     "metadata": {},
     "output_type": "execute_result"
    }
   ],
   "source": [
    "mlp.fit(X_train, y_train)"
   ]
  },
  {
   "cell_type": "code",
   "execution_count": 30,
   "metadata": {
    "collapsed": true
   },
   "outputs": [],
   "source": [
    "from sklearn.model_selection import cross_val_score\n",
    "from sklearn.metrics import accuracy_score\n",
    "\n",
    "scores = cross_val_score(mlp, X_train, y_train, cv=10, scoring='accuracy')"
   ]
  },
  {
   "cell_type": "code",
   "execution_count": 31,
   "metadata": {
    "collapsed": false
   },
   "outputs": [
    {
     "ename": "NameError",
     "evalue": "name 'mean' is not defined",
     "output_type": "error",
     "traceback": [
      "\u001b[0;31m---------------------------------------------------------------------------\u001b[0m",
      "\u001b[0;31mNameError\u001b[0m                                 Traceback (most recent call last)",
      "\u001b[0;32m<ipython-input-31-cecc63e100e6>\u001b[0m in \u001b[0;36m<module>\u001b[0;34m()\u001b[0m\n\u001b[0;32m----> 1\u001b[0;31m \u001b[0mavg_score\u001b[0m \u001b[1;33m=\u001b[0m \u001b[0mmean\u001b[0m\u001b[1;33m(\u001b[0m\u001b[0mscores\u001b[0m\u001b[1;33m)\u001b[0m\u001b[1;33m\u001b[0m\u001b[0m\n\u001b[0m",
      "\u001b[0;31mNameError\u001b[0m: name 'mean' is not defined"
     ]
    }
   ],
   "source": [
    "avg_score = mean(scores)"
   ]
  },
  {
   "cell_type": "code",
   "execution_count": null,
   "metadata": {
    "collapsed": true
   },
   "outputs": [],
   "source": []
  },
  {
   "cell_type": "code",
   "execution_count": null,
   "metadata": {
    "collapsed": true
   },
   "outputs": [],
   "source": []
  },
  {
   "cell_type": "markdown",
   "metadata": {
    "collapsed": false,
    "deletable": true,
    "editable": true
   },
   "source": [
    "# what is the likelihood for each headline? (bigram language model)"
   ]
  },
  {
   "cell_type": "code",
   "execution_count": null,
   "metadata": {
    "collapsed": true
   },
   "outputs": [],
   "source": []
  },
  {
   "cell_type": "code",
   "execution_count": null,
   "metadata": {
    "collapsed": false
   },
   "outputs": [],
   "source": []
  },
  {
   "cell_type": "code",
   "execution_count": null,
   "metadata": {
    "collapsed": true
   },
   "outputs": [],
   "source": []
  }
 ],
 "metadata": {
  "kernelspec": {
   "display_name": "Python 2",
   "language": "python",
   "name": "python2"
  },
  "language_info": {
   "codemirror_mode": {
    "name": "ipython",
    "version": 2
   },
   "file_extension": ".py",
   "mimetype": "text/x-python",
   "name": "python",
   "nbconvert_exporter": "python",
   "pygments_lexer": "ipython2",
   "version": "2.7.13"
  }
 },
 "nbformat": 4,
 "nbformat_minor": 2
}
