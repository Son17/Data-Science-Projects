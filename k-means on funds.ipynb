{
 "cells": [
  {
   "cell_type": "markdown",
   "metadata": {
    "deletable": true,
    "editable": true
   },
   "source": [
    "**Import libraries**"
   ]
  },
  {
   "cell_type": "code",
   "execution_count": 1,
   "metadata": {
    "collapsed": false,
    "deletable": true,
    "editable": true
   },
   "outputs": [],
   "source": [
    "import pandas as pd\n",
    "import numpy as np\n",
    "import matplotlib.pyplot as plt\n",
    "import seaborn as sns\n",
    "%matplotlib inline\n",
    "from sklearn.cluster import KMeans\n",
    "from sklearn.decomposition import PCA\n",
    "from sklearn.metrics import silhouette_score, silhouette_samples"
   ]
  },
  {
   "cell_type": "markdown",
   "metadata": {
    "deletable": true,
    "editable": true
   },
   "source": [
    "**Import data**"
   ]
  },
  {
   "cell_type": "code",
   "execution_count": 2,
   "metadata": {
    "collapsed": false,
    "deletable": true,
    "editable": true
   },
   "outputs": [
    {
     "data": {
      "text/html": [
       "<div>\n",
       "<table border=\"1\" class=\"dataframe\">\n",
       "  <thead>\n",
       "    <tr style=\"text-align: right;\">\n",
       "      <th></th>\n",
       "      <th>09/03/2017 To\r\n",
       "10/03/2017</th>\n",
       "      <th>10/03/2017 To\r\n",
       "13/03/2017</th>\n",
       "      <th>13/03/2017 To\r\n",
       "14/03/2017</th>\n",
       "      <th>14/03/2017 To\r\n",
       "15/03/2017</th>\n",
       "      <th>15/03/2017 To\r\n",
       "16/03/2017</th>\n",
       "      <th>16/03/2017 To\r\n",
       "17/03/2017</th>\n",
       "      <th>17/03/2017 To\r\n",
       "20/03/2017</th>\n",
       "      <th>20/03/2017 To\r\n",
       "21/03/2017</th>\n",
       "      <th>21/03/2017 To\r\n",
       "22/03/2017</th>\n",
       "      <th>22/03/2017 To\r\n",
       "23/03/2017</th>\n",
       "      <th>...</th>\n",
       "      <th>26/05/2017 To\r\n",
       "29/05/2017</th>\n",
       "      <th>29/05/2017 To\r\n",
       "30/05/2017</th>\n",
       "      <th>30/05/2017 To\r\n",
       "31/05/2017</th>\n",
       "      <th>31/05/2017 To\r\n",
       "01/06/2017</th>\n",
       "      <th>01/06/2017 To\r\n",
       "02/06/2017</th>\n",
       "      <th>02/06/2017 To\r\n",
       "05/06/2017</th>\n",
       "      <th>05/06/2017 To\r\n",
       "06/06/2017</th>\n",
       "      <th>06/06/2017 To\r\n",
       "07/06/2017</th>\n",
       "      <th>07/06/2017 To\r\n",
       "08/06/2017</th>\n",
       "      <th>08/06/2017 To\r\n",
       "09/06/2017</th>\n",
       "    </tr>\n",
       "  </thead>\n",
       "  <tbody>\n",
       "    <tr>\n",
       "      <th>BofA Merrill Lynch Sterling Corp&amp;Coll TR GBP</th>\n",
       "      <td>-0.232917</td>\n",
       "      <td>-0.009643</td>\n",
       "      <td>0.058878</td>\n",
       "      <td>0.120224</td>\n",
       "      <td>-0.12312</td>\n",
       "      <td>0.113633</td>\n",
       "      <td>0.03699</td>\n",
       "      <td>-0.161329</td>\n",
       "      <td>0.531444</td>\n",
       "      <td>-0.359572</td>\n",
       "      <td>...</td>\n",
       "      <td>0.032829</td>\n",
       "      <td>0.075753</td>\n",
       "      <td>-0.184677</td>\n",
       "      <td>-0.232693</td>\n",
       "      <td>0.093096</td>\n",
       "      <td>0.050215</td>\n",
       "      <td>0.444294</td>\n",
       "      <td>0.092306</td>\n",
       "      <td>-0.371833</td>\n",
       "      <td>0.09602</td>\n",
       "    </tr>\n",
       "  </tbody>\n",
       "</table>\n",
       "<p>1 rows × 66 columns</p>\n",
       "</div>"
      ],
      "text/plain": [
       "                                              09/03/2017 To\\r\\n10/03/2017  \\\n",
       "BofA Merrill Lynch Sterling Corp&Coll TR GBP                    -0.232917   \n",
       "\n",
       "                                              10/03/2017 To\\r\\n13/03/2017  \\\n",
       "BofA Merrill Lynch Sterling Corp&Coll TR GBP                    -0.009643   \n",
       "\n",
       "                                              13/03/2017 To\\r\\n14/03/2017  \\\n",
       "BofA Merrill Lynch Sterling Corp&Coll TR GBP                     0.058878   \n",
       "\n",
       "                                              14/03/2017 To\\r\\n15/03/2017  \\\n",
       "BofA Merrill Lynch Sterling Corp&Coll TR GBP                     0.120224   \n",
       "\n",
       "                                              15/03/2017 To\\r\\n16/03/2017  \\\n",
       "BofA Merrill Lynch Sterling Corp&Coll TR GBP                     -0.12312   \n",
       "\n",
       "                                              16/03/2017 To\\r\\n17/03/2017  \\\n",
       "BofA Merrill Lynch Sterling Corp&Coll TR GBP                     0.113633   \n",
       "\n",
       "                                              17/03/2017 To\\r\\n20/03/2017  \\\n",
       "BofA Merrill Lynch Sterling Corp&Coll TR GBP                      0.03699   \n",
       "\n",
       "                                              20/03/2017 To\\r\\n21/03/2017  \\\n",
       "BofA Merrill Lynch Sterling Corp&Coll TR GBP                    -0.161329   \n",
       "\n",
       "                                              21/03/2017 To\\r\\n22/03/2017  \\\n",
       "BofA Merrill Lynch Sterling Corp&Coll TR GBP                     0.531444   \n",
       "\n",
       "                                              22/03/2017 To\\r\\n23/03/2017  \\\n",
       "BofA Merrill Lynch Sterling Corp&Coll TR GBP                    -0.359572   \n",
       "\n",
       "                                                         ...               \\\n",
       "BofA Merrill Lynch Sterling Corp&Coll TR GBP             ...                \n",
       "\n",
       "                                              26/05/2017 To\\r\\n29/05/2017  \\\n",
       "BofA Merrill Lynch Sterling Corp&Coll TR GBP                     0.032829   \n",
       "\n",
       "                                              29/05/2017 To\\r\\n30/05/2017  \\\n",
       "BofA Merrill Lynch Sterling Corp&Coll TR GBP                     0.075753   \n",
       "\n",
       "                                              30/05/2017 To\\r\\n31/05/2017  \\\n",
       "BofA Merrill Lynch Sterling Corp&Coll TR GBP                    -0.184677   \n",
       "\n",
       "                                              31/05/2017 To\\r\\n01/06/2017  \\\n",
       "BofA Merrill Lynch Sterling Corp&Coll TR GBP                    -0.232693   \n",
       "\n",
       "                                              01/06/2017 To\\r\\n02/06/2017  \\\n",
       "BofA Merrill Lynch Sterling Corp&Coll TR GBP                     0.093096   \n",
       "\n",
       "                                              02/06/2017 To\\r\\n05/06/2017  \\\n",
       "BofA Merrill Lynch Sterling Corp&Coll TR GBP                     0.050215   \n",
       "\n",
       "                                              05/06/2017 To\\r\\n06/06/2017  \\\n",
       "BofA Merrill Lynch Sterling Corp&Coll TR GBP                     0.444294   \n",
       "\n",
       "                                              06/06/2017 To\\r\\n07/06/2017  \\\n",
       "BofA Merrill Lynch Sterling Corp&Coll TR GBP                     0.092306   \n",
       "\n",
       "                                              07/06/2017 To\\r\\n08/06/2017  \\\n",
       "BofA Merrill Lynch Sterling Corp&Coll TR GBP                    -0.371833   \n",
       "\n",
       "                                              08/06/2017 To\\r\\n09/06/2017  \n",
       "BofA Merrill Lynch Sterling Corp&Coll TR GBP                      0.09602  \n",
       "\n",
       "[1 rows x 66 columns]"
      ]
     },
     "execution_count": 2,
     "metadata": {},
     "output_type": "execute_result"
    }
   ],
   "source": [
    "data = pd.ExcelFile(\"C:\\\\Users\\\\sonja tilly.ABERDEEN\\\\bdfds kmeans.xlsx\")\n",
    "\n",
    "# read tabs\n",
    "\n",
    "funds = data.parse('funds').fillna(0).transpose()\n",
    "indices = data.parse('indices').fillna(0).transpose()\n",
    "\n",
    "indices.head(1)"
   ]
  },
  {
   "cell_type": "markdown",
   "metadata": {
    "deletable": true,
    "editable": true
   },
   "source": [
    "**Perform PCA on data to reduce the dimensions and produce 2D data**"
   ]
  },
  {
   "cell_type": "code",
   "execution_count": 3,
   "metadata": {
    "collapsed": false,
    "deletable": true,
    "editable": true
   },
   "outputs": [
    {
     "name": "stdout",
     "output_type": "stream",
     "text": [
      "                                                     Factor1   Factor2\n",
      "Aberdeen Corporate Bond P In                       -0.460030  0.773691\n",
      "Aberdeen Sterling Opportunistic Corporate Bd P Inc -0.278230  0.329641\n",
      "Allianz Euro Investment Grade Bond Strategy I EUR  -0.179703  0.149515\n",
      "BGF Global Corporate Bond X4RF GBP Hedged          -0.670122 -0.464727\n",
      "Eastspring Investments-US Corporate Bond D         -0.138199 -0.662321\n",
      "\n",
      "[ 0.3206527   0.16175728]\n"
     ]
    }
   ],
   "source": [
    "X=funds\n",
    "pca = PCA(n_components=2)\n",
    "X_pca = pca.fit_transform(X)\n",
    "\n",
    "results = pd.DataFrame(X_pca, index=funds.index, columns=['Factor1','Factor2'])\n",
    "\n",
    "print(results.head())\n",
    "print(\"\")\n",
    "print(pca.explained_variance_ratio_)"
   ]
  },
  {
   "cell_type": "code",
   "execution_count": 4,
   "metadata": {
    "collapsed": false,
    "deletable": true,
    "editable": true
   },
   "outputs": [
    {
     "name": "stdout",
     "output_type": "stream",
     "text": [
      "                                                    Factor1   Factor2\n",
      "BofA Merrill Lynch Sterling Corp&Coll TR GBP      -0.544216  0.847511\n",
      "BofA Merrill Lynch U.S. Corporate Master TR       -0.821724 -0.702504\n",
      "BofA Merrill Lynch UK Gilts 1-10 Year TR GBP      -0.037101  0.456324\n",
      "BofA Merrill Lynch US Financial TR USD            -0.503817 -0.548372\n",
      "BofA Merrill Lynch US High Yield Master II TR USD  1.104826 -0.424984\n"
     ]
    }
   ],
   "source": [
    "X1=indices\n",
    "pca = PCA(n_components=2)\n",
    "X1_pca = pca.fit_transform(X1)\n",
    "\n",
    "results1 = pd.DataFrame(X1_pca, index=indices.index, columns=['Factor1','Factor2'])\n",
    "\n",
    "print(results1.head())"
   ]
  },
  {
   "cell_type": "markdown",
   "metadata": {
    "deletable": true,
    "editable": true
   },
   "source": [
    "*Factor 1 and Factor 2 explain xxx% and xxx% of the variance, respectively. Together, the two components explain xxx% of overall variance.*"
   ]
  },
  {
   "cell_type": "markdown",
   "metadata": {
    "deletable": true,
    "editable": true
   },
   "source": [
    "**Apply KMeans to reduced data**"
   ]
  },
  {
   "cell_type": "code",
   "execution_count": 5,
   "metadata": {
    "collapsed": false,
    "deletable": true,
    "editable": true
   },
   "outputs": [
    {
     "name": "stdout",
     "output_type": "stream",
     "text": [
      "The silhouette score for 2 clusters is: 0.437.\n",
      "The silhouette score for 3 clusters is: 0.4.\n",
      "The silhouette score for 4 clusters is: 0.464.\n",
      "The silhouette score for 5 clusters is: 0.411.\n",
      "The silhouette score for 6 clusters is: 0.482.\n",
      "The silhouette score for 7 clusters is: 0.493.\n",
      "The silhouette score for 8 clusters is: 0.459.\n",
      "The silhouette score for 9 clusters is: 0.437.\n"
     ]
    }
   ],
   "source": [
    "def clusterKMeans(k):\n",
    "    clusterer = KMeans(n_clusters=k, random_state=47).fit(X_pca)\n",
    "    centroids = clusterer.cluster_centers_\n",
    "    labels = clusterer.labels_\n",
    "    score = silhouette_score(X_pca, clusterer.labels_, metric='euclidean')\n",
    "    samples_score = silhouette_samples(X_pca, clusterer.labels_, metric='euclidean')\n",
    "    return centroids, labels, score, samples_score\n",
    "\n",
    "for i in range(2,10):\n",
    "    centroids, labels, score, samples_score = clusterKMeans(i)\n",
    "    print(\"The silhouette score for \"+ str(i) + \" clusters is: {:.3}.\".format(score))"
   ]
  },
  {
   "cell_type": "markdown",
   "metadata": {
    "collapsed": false,
    "deletable": true,
    "editable": true
   },
   "source": [
    "*xxx clusters yield the highest silhouette score.*\n",
    "\n",
    "**Preparing data for plotting**"
   ]
  },
  {
   "cell_type": "code",
   "execution_count": 6,
   "metadata": {
    "collapsed": false,
    "deletable": true,
    "editable": true
   },
   "outputs": [
    {
     "data": {
      "text/html": [
       "<div>\n",
       "<table border=\"1\" class=\"dataframe\">\n",
       "  <thead>\n",
       "    <tr style=\"text-align: right;\">\n",
       "      <th></th>\n",
       "      <th>Factor1</th>\n",
       "      <th>Factor2</th>\n",
       "      <th>Cluster</th>\n",
       "      <th>Name</th>\n",
       "    </tr>\n",
       "  </thead>\n",
       "  <tbody>\n",
       "    <tr>\n",
       "      <th>13</th>\n",
       "      <td>0.742991</td>\n",
       "      <td>-0.021980</td>\n",
       "      <td>4</td>\n",
       "      <td>PIMCO GIS Global Invt Grade Credit Inst GBP H Inc</td>\n",
       "    </tr>\n",
       "    <tr>\n",
       "      <th>14</th>\n",
       "      <td>1.120750</td>\n",
       "      <td>-0.048147</td>\n",
       "      <td>6</td>\n",
       "      <td>PIMCO GIS Total Return Bond Inst GBP Hdg Acc</td>\n",
       "    </tr>\n",
       "    <tr>\n",
       "      <th>15</th>\n",
       "      <td>0.427993</td>\n",
       "      <td>0.543569</td>\n",
       "      <td>1</td>\n",
       "      <td>PIMCO GIS UK Corporate Bond Inst GBP Acc</td>\n",
       "    </tr>\n",
       "    <tr>\n",
       "      <th>16</th>\n",
       "      <td>0.545668</td>\n",
       "      <td>-0.141959</td>\n",
       "      <td>4</td>\n",
       "      <td>Pioneer Funds US Dollar Aggregate Bd A No Dis USD</td>\n",
       "    </tr>\n",
       "    <tr>\n",
       "      <th>17</th>\n",
       "      <td>-0.470238</td>\n",
       "      <td>0.495886</td>\n",
       "      <td>2</td>\n",
       "      <td>Royal London Sterling Credit Z</td>\n",
       "    </tr>\n",
       "  </tbody>\n",
       "</table>\n",
       "</div>"
      ],
      "text/plain": [
       "     Factor1   Factor2  Cluster  \\\n",
       "13  0.742991 -0.021980        4   \n",
       "14  1.120750 -0.048147        6   \n",
       "15  0.427993  0.543569        1   \n",
       "16  0.545668 -0.141959        4   \n",
       "17 -0.470238  0.495886        2   \n",
       "\n",
       "                                                 Name  \n",
       "13  PIMCO GIS Global Invt Grade Credit Inst GBP H Inc  \n",
       "14       PIMCO GIS Total Return Bond Inst GBP Hdg Acc  \n",
       "15           PIMCO GIS UK Corporate Bond Inst GBP Acc  \n",
       "16  Pioneer Funds US Dollar Aggregate Bd A No Dis USD  \n",
       "17                     Royal London Sterling Credit Z  "
      ]
     },
     "execution_count": 6,
     "metadata": {},
     "output_type": "execute_result"
    }
   ],
   "source": [
    "for i in range(7,8):\n",
    "    centroids, labels, score, samples_score = clusterKMeans(i)\n",
    "    \n",
    "dat = pd.DataFrame(X_pca,columns=['Factor1','Factor2'])\n",
    "dat['Cluster']=labels\n",
    "dat['Name']=funds.index\n",
    "dat.tail()"
   ]
  },
  {
   "cell_type": "code",
   "execution_count": 7,
   "metadata": {
    "collapsed": false,
    "deletable": true,
    "editable": true
   },
   "outputs": [
    {
     "data": {
      "text/html": [
       "<div>\n",
       "<table border=\"1\" class=\"dataframe\">\n",
       "  <thead>\n",
       "    <tr style=\"text-align: right;\">\n",
       "      <th></th>\n",
       "      <th>Factor1</th>\n",
       "      <th>Factor2</th>\n",
       "      <th>Name</th>\n",
       "    </tr>\n",
       "  </thead>\n",
       "  <tbody>\n",
       "    <tr>\n",
       "      <th>0</th>\n",
       "      <td>-0.544216</td>\n",
       "      <td>0.847511</td>\n",
       "      <td>BofA Merrill Lynch Sterling Corp&amp;Coll TR GBP</td>\n",
       "    </tr>\n",
       "    <tr>\n",
       "      <th>1</th>\n",
       "      <td>-0.821724</td>\n",
       "      <td>-0.702504</td>\n",
       "      <td>BofA Merrill Lynch U.S. Corporate Master TR</td>\n",
       "    </tr>\n",
       "    <tr>\n",
       "      <th>2</th>\n",
       "      <td>-0.037101</td>\n",
       "      <td>0.456324</td>\n",
       "      <td>BofA Merrill Lynch UK Gilts 1-10 Year TR GBP</td>\n",
       "    </tr>\n",
       "    <tr>\n",
       "      <th>3</th>\n",
       "      <td>-0.503817</td>\n",
       "      <td>-0.548372</td>\n",
       "      <td>BofA Merrill Lynch US Financial TR USD</td>\n",
       "    </tr>\n",
       "    <tr>\n",
       "      <th>4</th>\n",
       "      <td>1.104826</td>\n",
       "      <td>-0.424984</td>\n",
       "      <td>BofA Merrill Lynch US High Yield Master II TR USD</td>\n",
       "    </tr>\n",
       "    <tr>\n",
       "      <th>5</th>\n",
       "      <td>0.111132</td>\n",
       "      <td>0.280944</td>\n",
       "      <td>BofA Merrill Lynch Euro Corporate TR</td>\n",
       "    </tr>\n",
       "    <tr>\n",
       "      <th>6</th>\n",
       "      <td>0.690901</td>\n",
       "      <td>0.091081</td>\n",
       "      <td>BofA Merrill Lynch Euro Subordinated Financial TR</td>\n",
       "    </tr>\n",
       "  </tbody>\n",
       "</table>\n",
       "</div>"
      ],
      "text/plain": [
       "    Factor1   Factor2                                               Name\n",
       "0 -0.544216  0.847511       BofA Merrill Lynch Sterling Corp&Coll TR GBP\n",
       "1 -0.821724 -0.702504        BofA Merrill Lynch U.S. Corporate Master TR\n",
       "2 -0.037101  0.456324       BofA Merrill Lynch UK Gilts 1-10 Year TR GBP\n",
       "3 -0.503817 -0.548372             BofA Merrill Lynch US Financial TR USD\n",
       "4  1.104826 -0.424984  BofA Merrill Lynch US High Yield Master II TR USD\n",
       "5  0.111132  0.280944               BofA Merrill Lynch Euro Corporate TR\n",
       "6  0.690901  0.091081  BofA Merrill Lynch Euro Subordinated Financial TR"
      ]
     },
     "execution_count": 7,
     "metadata": {},
     "output_type": "execute_result"
    }
   ],
   "source": [
    "ind = pd.DataFrame(X1_pca,columns=['Factor1','Factor2'])\n",
    "ind['Name']=indices.index\n",
    "ind"
   ]
  },
  {
   "cell_type": "code",
   "execution_count": 34,
   "metadata": {
    "collapsed": false,
    "deletable": true,
    "editable": true
   },
   "outputs": [],
   "source": [
    "#set colours\n",
    "\n",
    "def rgb2hex(r,g,b):\n",
    "    hex = \"#{:02x}{:02x}{:02x}\".format(r,g,b)\n",
    "    return hex\n",
    "\n",
    "\n",
    "colour_dict = {0: rgb2hex(162,164,163), 1:rgb2hex(215,169,0), 2:rgb2hex(197,94,155),\\\n",
    "               3:rgb2hex(149,45,152), 4:rgb2hex(205,137,78), 5:rgb2hex(88,166,24),\\\n",
    "               6:rgb2hex(0,165,153), 7:rgb2hex(93,7,73)}\n",
    "#colour_dict = {0:'violet', 1:'cyan', 2:'limegreen', 3:'blue', 4:'yellow',\\\n",
    "#5:'darkorange', 6:'maroon', 7:'indigo'}\n",
    "dat['Colour'] = dat['Cluster'].map(colour_dict)\n",
    "ind['Colour']='magenta'"
   ]
  },
  {
   "cell_type": "code",
   "execution_count": 35,
   "metadata": {
    "collapsed": false,
    "deletable": true,
    "editable": true
   },
   "outputs": [
    {
     "data": {
      "text/html": [
       "<div>\n",
       "<table border=\"1\" class=\"dataframe\">\n",
       "  <thead>\n",
       "    <tr style=\"text-align: right;\">\n",
       "      <th></th>\n",
       "      <th>Factor1</th>\n",
       "      <th>Factor2</th>\n",
       "      <th>Cluster</th>\n",
       "      <th>Name</th>\n",
       "      <th>Colour</th>\n",
       "      <th>Centroidx</th>\n",
       "      <th>Centroidy</th>\n",
       "    </tr>\n",
       "  </thead>\n",
       "  <tbody>\n",
       "    <tr>\n",
       "      <th>17</th>\n",
       "      <td>-0.470238</td>\n",
       "      <td>0.495886</td>\n",
       "      <td>2</td>\n",
       "      <td>Royal London Sterling Credit Z</td>\n",
       "      <td>#c55e9b</td>\n",
       "      <td>[-0.393678323939]</td>\n",
       "      <td>[0.481752675796]</td>\n",
       "    </tr>\n",
       "  </tbody>\n",
       "</table>\n",
       "</div>"
      ],
      "text/plain": [
       "     Factor1   Factor2  Cluster                            Name   Colour  \\\n",
       "17 -0.470238  0.495886        2  Royal London Sterling Credit Z  #c55e9b   \n",
       "\n",
       "            Centroidx         Centroidy  \n",
       "17  [-0.393678323939]  [0.481752675796]  "
      ]
     },
     "execution_count": 35,
     "metadata": {},
     "output_type": "execute_result"
    }
   ],
   "source": [
    "#add centroid coordinates for each cluster\n",
    "centroidsx = {0:centroids[0:1,0], 1:centroids[1:2, 0], 2:centroids[2:3, 0], 3:centroids[3:4, 0], 4: centroids[4:5, 0], 5: centroids[5:6, 0], 6: centroids[6:7, 0], 7: centroids[7:8, 0]}\n",
    "centroidsy = {0:centroids[0:1,1], 1:centroids[1:2, 1], 2:centroids[2:3, 1], 3:centroids[3:4, 1], 4: centroids[4:5, 1], 5: centroids[5:6, 1], 6: centroids[6:7, 1], 7: centroids[7:8, 1]}\n",
    "dat['Centroidx'] = dat['Cluster'].map(centroidsx)\n",
    "dat['Centroidy'] = dat['Cluster'].map(centroidsy)\n",
    "dat.tail(1)"
   ]
  },
  {
   "cell_type": "markdown",
   "metadata": {
    "deletable": true,
    "editable": true
   },
   "source": [
    "**Plot factors and clusters**"
   ]
  },
  {
   "cell_type": "code",
   "execution_count": 36,
   "metadata": {
    "collapsed": false,
    "deletable": true,
    "editable": true,
    "scrolled": true
   },
   "outputs": [
    {
     "data": {
      "image/png": "[encoded data removed]",
      "text/plain": [
       "<matplotlib.figure.Figure at 0xc5ac780>"
      ]
     },
     "metadata": {},
     "output_type": "display_data"
    }
   ],
   "source": [
    "fig = plt.figure(figsize=(12,8))\n",
    "sns.set_style(\"white\")\n",
    "plt.rc('xtick', labelsize=10) \n",
    "plt.rc('ytick', labelsize=10) \n",
    "plt.xlim(-1.5, 1.5)\n",
    "plt.ylim(-1.5, 1.5)\n",
    "plt.rcParams.update({'font.size': 12})\n",
    "ax1 = fig.add_subplot(111)\n",
    "ax2 = fig.add_subplot(111)\n",
    "ax3 = fig.add_subplot(111)\n",
    "\n",
    "ax1.scatter(dat['Factor1'].iloc[:18], dat['Factor2'].iloc[:18], c=dat['Colour'], marker=(5,2), label='')\n",
    "ax2.scatter(dat['Centroidx'], dat['Centroidy'], s=30, c='k', marker=\"x\", label='')\n",
    "ax3.scatter(ind['Factor1'],ind['Factor2'], c=rgb2hex(213,43,30), marker=(5,1), label='')\n",
    "\n",
    "#fig.suptitle('Corporate Bond Fund clusters', fontsize=12, fontweight='bold')\n",
    "\n",
    "ax3.annotate('£ corps',xy=(ind['Factor1'].iloc[0:1],ind['Factor2'].iloc[0:1]), xytext=(1,10),textcoords='offset pixels')\n",
    "ax3.annotate('$ corps',xy=(ind['Factor1'].iloc[1:2],ind['Factor2'].iloc[1:2]), xytext=(1,-15),textcoords='offset pixels')\n",
    "ax3.annotate('SD gilts',xy=(ind['Factor1'].iloc[2:3],ind['Factor2'].iloc[2:3]), xytext=(1,7),textcoords='offset pixels')\n",
    "ax3.annotate('US fins',xy=(ind['Factor1'].iloc[3:4],ind['Factor2'].iloc[3:4]), xytext=(1,10),textcoords='offset pixels')\n",
    "ax3.annotate('US HY',xy=(ind['Factor1'].iloc[4:5],ind['Factor2'].iloc[4:5]), xytext=(1,7),textcoords='offset pixels')\n",
    "ax3.annotate('€ corps',xy=(ind['Factor1'].iloc[5:6],ind['Factor2'].iloc[5:6]), xytext=(1,-15),textcoords='offset pixels')\n",
    "ax3.annotate('€ subord fins',xy=(ind['Factor1'].iloc[6:7],ind['Factor2'].iloc[6:7]), xytext=(1,7),textcoords='offset pixels')\n",
    "\n",
    "plt.show()"
   ]
  },
  {
   "cell_type": "markdown",
   "metadata": {
    "deletable": true,
    "editable": true
   },
   "source": [
    "**Interpreting KMeans clusters**"
   ]
  },
  {
   "cell_type": "code",
   "execution_count": 39,
   "metadata": {
    "collapsed": false,
    "deletable": true,
    "editable": true
   },
   "outputs": [
    {
     "data": {
      "text/html": [
       "<div>\n",
       "<table border=\"1\" class=\"dataframe\">\n",
       "  <thead>\n",
       "    <tr style=\"text-align: right;\">\n",
       "      <th></th>\n",
       "      <th>Factor1</th>\n",
       "      <th>Factor2</th>\n",
       "      <th>Cluster</th>\n",
       "      <th>Name</th>\n",
       "      <th>Colour</th>\n",
       "      <th>Centroidx</th>\n",
       "      <th>Centroidy</th>\n",
       "    </tr>\n",
       "  </thead>\n",
       "  <tbody>\n",
       "    <tr>\n",
       "      <th>0</th>\n",
       "      <td>-0.460030</td>\n",
       "      <td>0.773691</td>\n",
       "      <td>2</td>\n",
       "      <td>Aberdeen Corporate Bond P In</td>\n",
       "      <td>#c55e9b</td>\n",
       "      <td>[-0.393678323939]</td>\n",
       "      <td>[0.481752675796]</td>\n",
       "    </tr>\n",
       "    <tr>\n",
       "      <th>1</th>\n",
       "      <td>-0.278230</td>\n",
       "      <td>0.329641</td>\n",
       "      <td>2</td>\n",
       "      <td>Aberdeen Sterling Opportunistic Corporate Bd P...</td>\n",
       "      <td>#c55e9b</td>\n",
       "      <td>[-0.393678323939]</td>\n",
       "      <td>[0.481752675796]</td>\n",
       "    </tr>\n",
       "    <tr>\n",
       "      <th>11</th>\n",
       "      <td>-0.366216</td>\n",
       "      <td>0.327793</td>\n",
       "      <td>2</td>\n",
       "      <td>M&amp;G Strategic Corporate Bond Sterling X Acc</td>\n",
       "      <td>#c55e9b</td>\n",
       "      <td>[-0.393678323939]</td>\n",
       "      <td>[0.481752675796]</td>\n",
       "    </tr>\n",
       "    <tr>\n",
       "      <th>17</th>\n",
       "      <td>-0.470238</td>\n",
       "      <td>0.495886</td>\n",
       "      <td>2</td>\n",
       "      <td>Royal London Sterling Credit Z</td>\n",
       "      <td>#c55e9b</td>\n",
       "      <td>[-0.393678323939]</td>\n",
       "      <td>[0.481752675796]</td>\n",
       "    </tr>\n",
       "  </tbody>\n",
       "</table>\n",
       "</div>"
      ],
      "text/plain": [
       "     Factor1   Factor2  Cluster  \\\n",
       "0  -0.460030  0.773691        2   \n",
       "1  -0.278230  0.329641        2   \n",
       "11 -0.366216  0.327793        2   \n",
       "17 -0.470238  0.495886        2   \n",
       "\n",
       "                                                 Name   Colour  \\\n",
       "0                        Aberdeen Corporate Bond P In  #c55e9b   \n",
       "1   Aberdeen Sterling Opportunistic Corporate Bd P...  #c55e9b   \n",
       "11        M&G Strategic Corporate Bond Sterling X Acc  #c55e9b   \n",
       "17                     Royal London Sterling Credit Z  #c55e9b   \n",
       "\n",
       "            Centroidx         Centroidy  \n",
       "0   [-0.393678323939]  [0.481752675796]  \n",
       "1   [-0.393678323939]  [0.481752675796]  \n",
       "11  [-0.393678323939]  [0.481752675796]  \n",
       "17  [-0.393678323939]  [0.481752675796]  "
      ]
     },
     "execution_count": 39,
     "metadata": {},
     "output_type": "execute_result"
    }
   ],
   "source": [
    "# Which funds are clustered together? Look at the funds in each cluster.\n",
    "\n",
    "cluster0 = dat[(dat['Cluster']==0)] #grey\n",
    "cluster1 = dat[(dat['Cluster']==1)] #yellow \n",
    "cluster2 = dat[(dat['Cluster']==2)] #pink\n",
    "cluster3 = dat[(dat['Cluster']==3)] #light purple\n",
    "cluster4 = dat[(dat['Cluster']==4)] #light orange \n",
    "cluster5 = dat[(dat['Cluster']==5)] #grassgreen\n",
    "cluster6 = dat[(dat['Cluster']==6)] #turquoise\n",
    "\n",
    "cluster2"
   ]
  },
  {
   "cell_type": "markdown",
   "metadata": {
    "collapsed": false,
    "deletable": true,
    "editable": true
   },
   "source": [
    "**Conclusion: what do the clusters tell us?**\n",
    "\n",
    "*The clusters indicates what segments of the sterling bond market best describe each fund's returns over five years and groups funds accordingly.*\n",
    "\n",
    "Cluster 0 (grey) contains corporate bond funds whose returns are correlated to US credit.\n",
    "\n",
    "Cluster 1 (yellow) contains corporate bond funds whose returns are correlated to € corporates and short-dated credit.\n",
    "\n",
    "Cluster 2 (pink) contains core £ corporate bond funds (both index-level duration and U/W duration).\n",
    "\n",
    "Cluster 3 (light purple) contains funds whose returns whose returns have affinity to higher yielding assets such as high yield or financials.\n",
    "\n",
    "Cluster 4 (orange) contains funds whose returns are correlated to € subordinated financials and US HY.\n",
    "\n",
    "Cluster 5 (dark purple) contains corporate bond funds that have a sizeable US financials allocation.\n",
    "\n",
    "Cluster 6 (turquoise) contains corporate bond funds whose returns are correlated to US HY.\n"
   ]
  },
  {
   "cell_type": "code",
   "execution_count": null,
   "metadata": {
    "collapsed": true,
    "deletable": true,
    "editable": true
   },
   "outputs": [],
   "source": []
  },
  {
   "cell_type": "code",
   "execution_count": null,
   "metadata": {
    "collapsed": true,
    "deletable": true,
    "editable": true
   },
   "outputs": [],
   "source": []
  },
  {
   "cell_type": "code",
   "execution_count": null,
   "metadata": {
    "collapsed": true,
    "deletable": true,
    "editable": true
   },
   "outputs": [],
   "source": []
  }
 ],
 "metadata": {
  "anaconda-cloud": {},
  "kernelspec": {
   "display_name": "python3.5",
   "language": "python",
   "name": "python3.5"
  },
  "language_info": {
   "codemirror_mode": {
    "name": "ipython",
    "version": 3
   },
   "file_extension": ".py",
   "mimetype": "text/x-python",
   "name": "python",
   "nbconvert_exporter": "python",
   "pygments_lexer": "ipython3",
   "version": "3.5.2"
  }
 },
 "nbformat": 4,
 "nbformat_minor": 2
}
