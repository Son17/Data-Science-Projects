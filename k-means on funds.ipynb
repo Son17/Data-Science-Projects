{
 "cells": [
  {
   "cell_type": "markdown",
   "metadata": {},
   "source": [
    "**Import libraries**"
   ]
  },
  {
   "cell_type": "code",
   "execution_count": 1,
   "metadata": {
    "collapsed": false
   },
   "outputs": [],
   "source": [
    "import pandas as pd\n",
    "import numpy as np\n",
    "import matplotlib.pyplot as plt\n",
    "import seaborn as sns\n",
    "%matplotlib inline\n",
    "from sklearn.cluster import KMeans\n",
    "from sklearn.decomposition import PCA\n",
    "from sklearn.metrics import silhouette_score, silhouette_samples"
   ]
  },
  {
   "cell_type": "markdown",
   "metadata": {},
   "source": [
    "**Import data**"
   ]
  },
  {
   "cell_type": "code",
   "execution_count": 2,
   "metadata": {
    "collapsed": false
   },
   "outputs": [
    {
     "data": {
      "text/html": [
       "<div>\n",
       "<table border=\"1\" class=\"dataframe\">\n",
       "  <thead>\n",
       "    <tr style=\"text-align: right;\">\n",
       "      <th></th>\n",
       "      <th>Feb-12</th>\n",
       "      <th>Mar-12</th>\n",
       "      <th>Apr-12</th>\n",
       "      <th>May-12</th>\n",
       "      <th>Jun-12</th>\n",
       "      <th>Jul-12</th>\n",
       "      <th>Aug-12</th>\n",
       "      <th>Sep-12</th>\n",
       "      <th>Oct-12</th>\n",
       "      <th>Nov-12</th>\n",
       "      <th>...</th>\n",
       "      <th>Apr-16</th>\n",
       "      <th>May-16</th>\n",
       "      <th>Jun-16</th>\n",
       "      <th>Jul-16</th>\n",
       "      <th>Aug-16</th>\n",
       "      <th>Sep-16</th>\n",
       "      <th>Oct-16</th>\n",
       "      <th>Nov-16</th>\n",
       "      <th>Dec-16</th>\n",
       "      <th>Jan-17</th>\n",
       "    </tr>\n",
       "    <tr>\n",
       "      <th>Name</th>\n",
       "      <th></th>\n",
       "      <th></th>\n",
       "      <th></th>\n",
       "      <th></th>\n",
       "      <th></th>\n",
       "      <th></th>\n",
       "      <th></th>\n",
       "      <th></th>\n",
       "      <th></th>\n",
       "      <th></th>\n",
       "      <th></th>\n",
       "      <th></th>\n",
       "      <th></th>\n",
       "      <th></th>\n",
       "      <th></th>\n",
       "      <th></th>\n",
       "      <th></th>\n",
       "      <th></th>\n",
       "      <th></th>\n",
       "      <th></th>\n",
       "      <th></th>\n",
       "    </tr>\n",
       "  </thead>\n",
       "  <tbody>\n",
       "    <tr>\n",
       "      <th>Aberdeen Corporate Bond A Ac</th>\n",
       "      <td>1.57</td>\n",
       "      <td>0.09</td>\n",
       "      <td>-0.43</td>\n",
       "      <td>0.86</td>\n",
       "      <td>0.94</td>\n",
       "      <td>3.98</td>\n",
       "      <td>1.06</td>\n",
       "      <td>1.61</td>\n",
       "      <td>1.11</td>\n",
       "      <td>1.49</td>\n",
       "      <td>...</td>\n",
       "      <td>0.75</td>\n",
       "      <td>0.71</td>\n",
       "      <td>2.01</td>\n",
       "      <td>4.76</td>\n",
       "      <td>3.65</td>\n",
       "      <td>-1.08</td>\n",
       "      <td>-3.78</td>\n",
       "      <td>-1.4</td>\n",
       "      <td>1.95</td>\n",
       "      <td>-1.09</td>\n",
       "    </tr>\n",
       "  </tbody>\n",
       "</table>\n",
       "<p>1 rows × 60 columns</p>\n",
       "</div>"
      ],
      "text/plain": [
       "                              Feb-12  Mar-12  Apr-12  May-12  Jun-12  Jul-12  \\\n",
       "Name                                                                           \n",
       "Aberdeen Corporate Bond A Ac    1.57    0.09   -0.43    0.86    0.94    3.98   \n",
       "\n",
       "                              Aug-12  Sep-12  Oct-12  Nov-12   ...    Apr-16  \\\n",
       "Name                                                           ...             \n",
       "Aberdeen Corporate Bond A Ac    1.06    1.61    1.11    1.49   ...      0.75   \n",
       "\n",
       "                              May-16  Jun-16  Jul-16  Aug-16  Sep-16  Oct-16  \\\n",
       "Name                                                                           \n",
       "Aberdeen Corporate Bond A Ac    0.71    2.01    4.76    3.65   -1.08   -3.78   \n",
       "\n",
       "                              Nov-16  Dec-16  Jan-17  \n",
       "Name                                                  \n",
       "Aberdeen Corporate Bond A Ac    -1.4    1.95   -1.09  \n",
       "\n",
       "[1 rows x 60 columns]"
      ]
     },
     "execution_count": 2,
     "metadata": {},
     "output_type": "execute_result"
    }
   ],
   "source": [
    "data = pd.read_csv(\"C:\\Users\\sonja tilly.ABERDEEN\\\\MLrolling5Yrtns.csv\")\n",
    "data = data.set_index('Name')\n",
    "data = data.fillna(0)\n",
    "data.head(1)"
   ]
  },
  {
   "cell_type": "markdown",
   "metadata": {},
   "source": [
    "**Perform PCA on data to reduce the dimensions and produce 2D data**"
   ]
  },
  {
   "cell_type": "code",
   "execution_count": 3,
   "metadata": {
    "collapsed": false
   },
   "outputs": [
    {
     "data": {
      "text/html": [
       "<div>\n",
       "<table border=\"1\" class=\"dataframe\">\n",
       "  <thead>\n",
       "    <tr style=\"text-align: right;\">\n",
       "      <th></th>\n",
       "      <th>Factor1</th>\n",
       "      <th>Factor2</th>\n",
       "    </tr>\n",
       "    <tr>\n",
       "      <th>Name</th>\n",
       "      <th></th>\n",
       "      <th></th>\n",
       "    </tr>\n",
       "  </thead>\n",
       "  <tbody>\n",
       "    <tr>\n",
       "      <th>Aberdeen Corporate Bond A Ac</th>\n",
       "      <td>3.374630</td>\n",
       "      <td>-2.178111</td>\n",
       "    </tr>\n",
       "    <tr>\n",
       "      <th>Aberdeen Sterling Long Dated Corporate Bond A Acc</th>\n",
       "      <td>-2.970331</td>\n",
       "      <td>6.099475</td>\n",
       "    </tr>\n",
       "    <tr>\n",
       "      <th>Aberdeen Sterling Short Dated Corporate Bond A Acc</th>\n",
       "      <td>-9.304355</td>\n",
       "      <td>2.124659</td>\n",
       "    </tr>\n",
       "    <tr>\n",
       "      <th>Alliance Trust Monthly Income Bond B Acc</th>\n",
       "      <td>-1.628642</td>\n",
       "      <td>-6.108987</td>\n",
       "    </tr>\n",
       "    <tr>\n",
       "      <th>Alliance Trust SF Corporate Bond SC2</th>\n",
       "      <td>1.766268</td>\n",
       "      <td>-2.843686</td>\n",
       "    </tr>\n",
       "  </tbody>\n",
       "</table>\n",
       "</div>"
      ],
      "text/plain": [
       "                                                     Factor1   Factor2\n",
       "Name                                                                  \n",
       "Aberdeen Corporate Bond A Ac                        3.374630 -2.178111\n",
       "Aberdeen Sterling Long Dated Corporate Bond A Acc  -2.970331  6.099475\n",
       "Aberdeen Sterling Short Dated Corporate Bond A Acc -9.304355  2.124659\n",
       "Alliance Trust Monthly Income Bond B Acc           -1.628642 -6.108987\n",
       "Alliance Trust SF Corporate Bond SC2                1.766268 -2.843686"
      ]
     },
     "execution_count": 3,
     "metadata": {},
     "output_type": "execute_result"
    }
   ],
   "source": [
    "X=data\n",
    "pca = PCA(n_components=2)\n",
    "X_pca = pca.fit_transform(X)\n",
    "\n",
    "\n",
    "results = pd.DataFrame(X_pca, index=data.index, columns=['Factor1','Factor2'])\n",
    "\n",
    "results.head()"
   ]
  },
  {
   "cell_type": "markdown",
   "metadata": {},
   "source": [
    "**Apply KMeans to reduced data**"
   ]
  },
  {
   "cell_type": "code",
   "execution_count": 25,
   "metadata": {
    "collapsed": false
   },
   "outputs": [
    {
     "name": "stdout",
     "output_type": "stream",
     "text": [
      "The silhouette score for 2 clusters is: 0.504.\n",
      "The silhouette score for 3 clusters is: 0.542.\n",
      "The silhouette score for 4 clusters is: 0.537.\n",
      "The silhouette score for 5 clusters is: 0.564.\n",
      "The silhouette score for 6 clusters is: 0.57.\n",
      "The silhouette score for 7 clusters is: 0.555.\n",
      "The silhouette score for 8 clusters is: 0.552.\n",
      "The silhouette score for 9 clusters is: 0.439.\n"
     ]
    }
   ],
   "source": [
    "def clusterKMeans(k):\n",
    "    clusterer = KMeans(n_clusters=k, random_state=47).fit(X_pca)\n",
    "    centroids = clusterer.cluster_centers_\n",
    "    labels = clusterer.labels_\n",
    "    score = silhouette_score(X_pca, clusterer.labels_, metric='euclidean')\n",
    "    samples_score = silhouette_samples(X_pca, clusterer.labels_, metric='euclidean')\n",
    "    return centroids, labels, score, samples_score\n",
    "\n",
    "for i in range(2,10):\n",
    "    centroids, labels, score, samples_score = clusterKMeans(i)\n",
    "    print \"The silhouette score for \"+ str(i) + \" clusters is: {:.3}.\".format(score)"
   ]
  },
  {
   "cell_type": "code",
   "execution_count": null,
   "metadata": {
    "collapsed": false
   },
   "outputs": [],
   "source": []
  },
  {
   "cell_type": "markdown",
   "metadata": {
    "collapsed": false
   },
   "source": [
    "*Six clusters yield the highest silhouette score.*\n",
    "\n",
    "**Preparing data for plotting**"
   ]
  },
  {
   "cell_type": "code",
   "execution_count": 5,
   "metadata": {
    "collapsed": false
   },
   "outputs": [
    {
     "data": {
      "text/html": [
       "<div>\n",
       "<table border=\"1\" class=\"dataframe\">\n",
       "  <thead>\n",
       "    <tr style=\"text-align: right;\">\n",
       "      <th></th>\n",
       "      <th>Factor1</th>\n",
       "      <th>Factor2</th>\n",
       "      <th>Cluster</th>\n",
       "      <th>Name</th>\n",
       "    </tr>\n",
       "  </thead>\n",
       "  <tbody>\n",
       "    <tr>\n",
       "      <th>0</th>\n",
       "      <td>3.37463</td>\n",
       "      <td>-2.178111</td>\n",
       "      <td>1</td>\n",
       "      <td>Aberdeen Corporate Bond A Ac</td>\n",
       "    </tr>\n",
       "  </tbody>\n",
       "</table>\n",
       "</div>"
      ],
      "text/plain": [
       "   Factor1   Factor2  Cluster                          Name\n",
       "0  3.37463 -2.178111        1  Aberdeen Corporate Bond A Ac"
      ]
     },
     "execution_count": 5,
     "metadata": {},
     "output_type": "execute_result"
    }
   ],
   "source": [
    "for i in range(6,7):\n",
    "    centroids, labels, score = clusterKMeans(i)\n",
    "    \n",
    "dat=pd.DataFrame(X_pca,columns=['Factor1','Factor2'])\n",
    "dat['Cluster']=labels\n",
    "dat['Name']=data.index\n",
    "dat.head(1)"
   ]
  },
  {
   "cell_type": "code",
   "execution_count": 6,
   "metadata": {
    "collapsed": false
   },
   "outputs": [
    {
     "name": "stderr",
     "output_type": "stream",
     "text": [
      "C:\\Users\\sonja tilly.ABERDEEN\\AppData\\Local\\Enthought\\Canopy\\User\\lib\\site-packages\\pandas\\core\\indexing.py:141: SettingWithCopyWarning: \n",
      "A value is trying to be set on a copy of a slice from a DataFrame\n",
      "\n",
      "See the caveats in the documentation: http://pandas.pydata.org/pandas-docs/stable/indexing.html#indexing-view-versus-copy\n",
      "  self._setitem_with_indexer(indexer, value)\n"
     ]
    }
   ],
   "source": [
    "#set colours\n",
    "colour_dict = {0:'goldenrod', 1:'cyan', 2:'limegreen', 3:'blue', 4:'blueviolet', 5:'maroon', 6:'darkorange', 7:'indigo'}\n",
    "dat['Colour'] = dat['Cluster'].map(colour_dict)\n",
    "dat['Colour'].iloc[131:141]='magenta'"
   ]
  },
  {
   "cell_type": "code",
   "execution_count": 7,
   "metadata": {
    "collapsed": false
   },
   "outputs": [
    {
     "data": {
      "text/html": [
       "<div>\n",
       "<table border=\"1\" class=\"dataframe\">\n",
       "  <thead>\n",
       "    <tr style=\"text-align: right;\">\n",
       "      <th></th>\n",
       "      <th>Factor1</th>\n",
       "      <th>Factor2</th>\n",
       "      <th>Cluster</th>\n",
       "      <th>Name</th>\n",
       "      <th>Colour</th>\n",
       "      <th>Centroidx</th>\n",
       "      <th>Centroidy</th>\n",
       "    </tr>\n",
       "  </thead>\n",
       "  <tbody>\n",
       "    <tr>\n",
       "      <th>135</th>\n",
       "      <td>-3.52334</td>\n",
       "      <td>3.775185</td>\n",
       "      <td>2</td>\n",
       "      <td>BofA ML UK Gilts 1-10 Year TR GBP</td>\n",
       "      <td>magenta</td>\n",
       "      <td>[-1.83960661715]</td>\n",
       "      <td>[5.50972307109]</td>\n",
       "    </tr>\n",
       "  </tbody>\n",
       "</table>\n",
       "</div>"
      ],
      "text/plain": [
       "     Factor1   Factor2  Cluster                               Name   Colour  \\\n",
       "135 -3.52334  3.775185        2  BofA ML UK Gilts 1-10 Year TR GBP  magenta   \n",
       "\n",
       "            Centroidx        Centroidy  \n",
       "135  [-1.83960661715]  [5.50972307109]  "
      ]
     },
     "execution_count": 7,
     "metadata": {},
     "output_type": "execute_result"
    }
   ],
   "source": [
    "#add centroid coordinates for each cluster\n",
    "centroidsx = {0:centroids[0:1,0], 1:centroids[1:2, 0], 2:centroids[2:3, 0], 3:centroids[3:4, 0], 4: centroids[4:5, 0], 5: centroids[5:6, 0], 6: centroids[6:7, 0], 7: centroids[7:8, 0]}\n",
    "centroidsy = {0:centroids[0:1,1], 1:centroids[1:2, 1], 2:centroids[2:3, 1], 3:centroids[3:4, 1], 4: centroids[4:5, 1], 5: centroids[5:6, 1], 6: centroids[6:7, 1], 7: centroids[7:8, 1]}\n",
    "dat['Centroidx'] = dat['Cluster'].map(centroidsx)\n",
    "dat['Centroidy'] = dat['Cluster'].map(centroidsy)\n",
    "dat.tail(1)"
   ]
  },
  {
   "cell_type": "markdown",
   "metadata": {},
   "source": [
    "**Plot factors and clusters**"
   ]
  },
  {
   "cell_type": "code",
   "execution_count": 8,
   "metadata": {
    "collapsed": false
   },
   "outputs": [
    {
     "data": {
      "image/png": "[encoded data removed]",
      "text/plain": [
       "<matplotlib.figure.Figure at 0xc0b0ef0>"
      ]
     },
     "metadata": {},
     "output_type": "display_data"
    }
   ],
   "source": [
    "fig = plt.figure(figsize=(8,5))\n",
    "plt.style.use('seaborn-deep')\n",
    "plt.rc('xtick', labelsize=10) \n",
    "plt.rc('ytick', labelsize=10) \n",
    "plt.xlim(-20, 25)\n",
    "plt.ylim(-20, 25)\n",
    "plt.rcParams.update({'font.size': 10})\n",
    "ax1 = fig.add_subplot(111)\n",
    "ax2 = fig.add_subplot(111)\n",
    "ax3 = fig.add_subplot(111)\n",
    "\n",
    "ax1.scatter(dat['Factor1'].iloc[:131], dat['Factor2'].iloc[:131], c=dat['Colour'], marker=(5,2), label='')\n",
    "ax2.scatter(dat['Centroidx'], dat['Centroidy'], s=30, c='k', marker=\"x\", label='')\n",
    "ax3.scatter(dat['Factor1'].iloc[131:136],dat['Factor1'].iloc[131:136], c='red', marker=(5,1), label='fx income indices')\n",
    "\n",
    "fig.suptitle('Sterling Corporate Bond clustering', fontsize=12, fontweight='bold')\n",
    "\n",
    "ax3.annotate('Strlg non-Fin',xy=(dat['Factor1'].iloc[131:132],dat['Factor2'].iloc[131:132]), xytext=(3,2),textcoords='offset pixels')\n",
    "ax3.annotate('Strlg Fin',xy=(dat['Factor1'].iloc[132:133],dat['Factor2'].iloc[132:133]), xytext=(3,2),textcoords='offset pixels')\n",
    "ax3.annotate('Strlg HY',xy=(dat['Factor1'].iloc[133:134],dat['Factor2'].iloc[133:134]), xytext=(3,2),textcoords='offset pixels')\n",
    "ax3.annotate('Gilts 25+Y',xy=(dat['Factor1'].iloc[134:135],dat['Factor2'].iloc[134:135]), xytext=(3,2),textcoords='offset pixels')\n",
    "ax3.annotate('Gilts 1-10Y',xy=(dat['Factor1'].iloc[135:136],dat['Factor2'].iloc[135:136]), xytext=(3,-1),textcoords='offset pixels')\n",
    "\n",
    "plt.show()"
   ]
  },
  {
   "cell_type": "markdown",
   "metadata": {},
   "source": [
    "**Interpreting KMeans clusters**"
   ]
  },
  {
   "cell_type": "code",
   "execution_count": 9,
   "metadata": {
    "collapsed": false
   },
   "outputs": [],
   "source": [
    "# Which funds are clustered together? Look at the funds in each cluster.\n",
    "\n",
    "cluster0 = dat[(dat['Cluster']==0)]\n",
    "cluster1 = dat[(dat['Cluster']==1)]\n",
    "cluster2 = dat[(dat['Cluster']==2)]\n",
    "cluster3 = dat[(dat['Cluster']==3)]\n",
    "cluster4 = dat[(dat['Cluster']==4)]\n",
    "cluster5 = dat[(dat['Cluster']==5)]\n",
    "cluster6 = dat[(dat['Cluster']==6)]"
   ]
  },
  {
   "cell_type": "markdown",
   "metadata": {
    "collapsed": false
   },
   "source": [
    "**Conclusion: what do the clusters tell us?**\n",
    "\n",
    "*The clusters indicates what segments of the sterling bond market best describe each fund's returns over five years and groups funds accordingly.*\n",
    "\n",
    "Cluster 0 (goldenrod) contains mainly short duration corporate bond funds.\n",
    "\n",
    "Cluster 1 (cyan) contains corporate bond funds benchmarked to the broad market (\"plain vanilla corporate bond funds\"). Returns of this group are closely correlated to financials, which can be partly explained by the index containing a large portion of them (c 40%), partly by the majority of funds being overweight financials.\n",
    "\n",
    "Cluster 2 (limegreen) contains corporate bond funds whose returns are correlated to 1-10Y maturity gilts.\n",
    "\n",
    "Cluster 3 (blue) contains funds whose returns have affinity to higher yielding assets such as high yield or financials.\n",
    "\n",
    "Cluster 4 (blueviolet) contains funds whose returns have affinity to longer-dated gilts and non-financials.\n",
    "\n",
    "Cluster 5 only contains long-dated gilt index.\n",
    "\n",
    "Cluster 6 is empty - this is somewhat strange, as the silhouette score was highest at six clusters?!"
   ]
  },
  {
   "cell_type": "code",
   "execution_count": null,
   "metadata": {
    "collapsed": true
   },
   "outputs": [],
   "source": []
  }
 ],
 "metadata": {
  "anaconda-cloud": {},
  "kernelspec": {
   "display_name": "Python 2",
   "language": "python",
   "name": "python2"
  },
  "language_info": {
   "codemirror_mode": {
    "name": "ipython",
    "version": 2
   },
   "file_extension": ".py",
   "mimetype": "text/x-python",
   "name": "python",
   "nbconvert_exporter": "python",
   "pygments_lexer": "ipython2",
   "version": "2.7.11"
  }
 },
 "nbformat": 4,
 "nbformat_minor": 2
}
