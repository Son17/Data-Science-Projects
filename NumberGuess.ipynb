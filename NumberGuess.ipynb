{
 "cells": [
  {
   "cell_type": "code",
   "execution_count": null,
   "metadata": {
    "collapsed": false
   },
   "outputs": [],
   "source": [
    "\"\"\"This program rolls a pair of dice and asks the user to guess a number. Based on the user's guess, the program should determine a winner. If the user's guess is greater than the total value of the dice roll, they win!\"\"\" "
   ]
  },
  {
   "cell_type": "code",
   "execution_count": 1,
   "metadata": {
    "collapsed": false
   },
   "outputs": [
    {
     "name": "stdout",
     "output_type": "stream",
     "text": [
      "The maximum value is: 12\n",
      "Guess a number: 5\n",
      "Rolling, rolling, rolling...\n",
      "The first value is: 2\n",
      "The second value is: 4\n",
      "The total is: 6\n",
      "Computing Result...\n",
      "Hurray,I won!\n"
     ]
    }
   ],
   "source": [
    "from random import randint\n",
    "from time import sleep\n",
    "\n",
    "def get_user_guess():\n",
    "    ug = int(raw_input(\"Guess a number: \"))\n",
    "    return ug\n",
    "\n",
    "def roll_dice(nos):\n",
    "    first_roll = randint(1, nos)\n",
    "    second_roll = randint(1, nos)\n",
    "    maxval = nos*2\n",
    "    print \"The maximum value is: \" + str(maxval)\n",
    "    sleep(1)\n",
    "    ug = get_user_guess()\n",
    "    if ug > maxval:\n",
    "        print(\"This is an invalid guess.\")\n",
    "        return\n",
    "    else:\n",
    "        print \"Rolling, rolling, rolling...\"\n",
    "        sleep(2)\n",
    "        print(\"The first value is: %d\" %(first_roll))\n",
    "        sleep(1)\n",
    "        print(\"The second value is: %d\" %(second_roll))\n",
    "        sleep(1)\n",
    "        total=first_roll + second_roll\n",
    "        print(\"The total is: %d\" %(total))\n",
    "        print(\"Computing Result...\")\n",
    "        sleep(1)\n",
    "        if ug>total:\n",
    "          print(\"Congratulations,you won!\")\n",
    "          return\n",
    "        else:\n",
    "          print(\"Hurray,I won!\")\n",
    "          return\n",
    "    \n",
    "roll_dice(6)\n",
    "   "
   ]
  },
  {
   "cell_type": "code",
   "execution_count": null,
   "metadata": {
    "collapsed": false
   },
   "outputs": [],
   "source": []
  },
  {
   "cell_type": "code",
   "execution_count": null,
   "metadata": {
    "collapsed": true
   },
   "outputs": [],
   "source": []
  }
 ],
 "metadata": {
  "anaconda-cloud": {},
  "kernelspec": {
   "display_name": "Python [default]",
   "language": "python",
   "name": "python2"
  },
  "language_info": {
   "codemirror_mode": {
    "name": "ipython",
    "version": 2
   },
   "file_extension": ".py",
   "mimetype": "text/x-python",
   "name": "python",
   "nbconvert_exporter": "python",
   "pygments_lexer": "ipython2",
   "version": "2.7.12"
  }
 },
 "nbformat": 4,
 "nbformat_minor": 1
}
