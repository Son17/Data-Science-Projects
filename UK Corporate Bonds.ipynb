{
 "cells": [
  {
   "cell_type": "code",
   "execution_count": 10,
   "metadata": {
    "collapsed": false
   },
   "outputs": [
    {
     "data": {
      "text/plain": [
       "<pandas.io.excel.ExcelFile at 0xadb6208>"
      ]
     },
     "execution_count": 10,
     "metadata": {},
     "output_type": "execute_result"
    }
   ],
   "source": [
    "import pandas as pd\n",
    "xls_file = pd.ExcelFile('C:\\\\Users\\\\sonja tilly.ABERDEEN\\\\UKCB.xls')\n",
    "xls_file"
   ]
  },
  {
   "cell_type": "code",
   "execution_count": 11,
   "metadata": {
    "collapsed": false
   },
   "outputs": [
    {
     "data": {
      "text/plain": [
       "[u'raw', u'funds']"
      ]
     },
     "execution_count": 11,
     "metadata": {},
     "output_type": "execute_result"
    }
   ],
   "source": [
    "xls_file.sheet_names"
   ]
  },
  {
   "cell_type": "code",
   "execution_count": 12,
   "metadata": {
    "collapsed": false
   },
   "outputs": [
    {
     "data": {
      "text/html": [
       "<div>\n",
       "<table border=\"1\" class=\"dataframe\">\n",
       "  <thead>\n",
       "    <tr style=\"text-align: right;\">\n",
       "      <th></th>\n",
       "      <th>Aberdeen</th>\n",
       "      <th>Invesco</th>\n",
       "      <th>MandG</th>\n",
       "      <th>Index</th>\n",
       "      <th>PIMCO</th>\n",
       "      <th>RLAM</th>\n",
       "      <th>AberdeenSO</th>\n",
       "    </tr>\n",
       "  </thead>\n",
       "  <tbody>\n",
       "    <tr>\n",
       "      <th>2011-12-01</th>\n",
       "      <td>1.620675</td>\n",
       "      <td>2.247356</td>\n",
       "      <td>2.223834</td>\n",
       "      <td>2.562588</td>\n",
       "      <td>2.318145</td>\n",
       "      <td>1.788909</td>\n",
       "      <td>1.89</td>\n",
       "    </tr>\n",
       "    <tr>\n",
       "      <th>2012-01-01</th>\n",
       "      <td>2.470296</td>\n",
       "      <td>4.166068</td>\n",
       "      <td>1.572476</td>\n",
       "      <td>2.318234</td>\n",
       "      <td>2.890625</td>\n",
       "      <td>1.669596</td>\n",
       "      <td>1.60</td>\n",
       "    </tr>\n",
       "    <tr>\n",
       "      <th>2012-02-01</th>\n",
       "      <td>1.629567</td>\n",
       "      <td>2.406565</td>\n",
       "      <td>1.629612</td>\n",
       "      <td>1.069941</td>\n",
       "      <td>1.138952</td>\n",
       "      <td>1.400604</td>\n",
       "      <td>1.08</td>\n",
       "    </tr>\n",
       "    <tr>\n",
       "      <th>2012-03-01</th>\n",
       "      <td>0.083840</td>\n",
       "      <td>0.484816</td>\n",
       "      <td>-0.091628</td>\n",
       "      <td>-0.014236</td>\n",
       "      <td>0.450450</td>\n",
       "      <td>-0.086207</td>\n",
       "      <td>-0.14</td>\n",
       "    </tr>\n",
       "    <tr>\n",
       "      <th>2012-04-01</th>\n",
       "      <td>-0.403068</td>\n",
       "      <td>-0.877840</td>\n",
       "      <td>-0.504414</td>\n",
       "      <td>-0.234990</td>\n",
       "      <td>-0.149477</td>\n",
       "      <td>-0.345125</td>\n",
       "      <td>-0.59</td>\n",
       "    </tr>\n",
       "  </tbody>\n",
       "</table>\n",
       "</div>"
      ],
      "text/plain": [
       "            Aberdeen   Invesco     MandG     Index     PIMCO      RLAM  \\\n",
       "2011-12-01  1.620675  2.247356  2.223834  2.562588  2.318145  1.788909   \n",
       "2012-01-01  2.470296  4.166068  1.572476  2.318234  2.890625  1.669596   \n",
       "2012-02-01  1.629567  2.406565  1.629612  1.069941  1.138952  1.400604   \n",
       "2012-03-01  0.083840  0.484816 -0.091628 -0.014236  0.450450 -0.086207   \n",
       "2012-04-01 -0.403068 -0.877840 -0.504414 -0.234990 -0.149477 -0.345125   \n",
       "\n",
       "            AberdeenSO  \n",
       "2011-12-01        1.89  \n",
       "2012-01-01        1.60  \n",
       "2012-02-01        1.08  \n",
       "2012-03-01       -0.14  \n",
       "2012-04-01       -0.59  "
      ]
     },
     "execution_count": 12,
     "metadata": {},
     "output_type": "execute_result"
    }
   ],
   "source": [
    "#load sheet as dataframe, set index\n",
    "funds_df = xls_file.parse('funds')\n",
    "funds_df.dropna(axis=0,inplace=True)\n",
    "funds_df = funds_df.astype(float)\n",
    "funds_df.head()"
   ]
  },
  {
   "cell_type": "code",
   "execution_count": 13,
   "metadata": {
    "collapsed": false
   },
   "outputs": [
    {
     "data": {
      "text/html": [
       "<div>\n",
       "<table border=\"1\" class=\"dataframe\">\n",
       "  <thead>\n",
       "    <tr style=\"text-align: right;\">\n",
       "      <th></th>\n",
       "      <th>Aberdeen</th>\n",
       "      <th>Invesco</th>\n",
       "      <th>MandG</th>\n",
       "      <th>Index</th>\n",
       "      <th>PIMCO</th>\n",
       "      <th>RLAM</th>\n",
       "      <th>AberdeenSO</th>\n",
       "    </tr>\n",
       "  </thead>\n",
       "  <tbody>\n",
       "    <tr>\n",
       "      <th>Aberdeen</th>\n",
       "      <td>1.000000</td>\n",
       "      <td>0.852318</td>\n",
       "      <td>0.955975</td>\n",
       "      <td>0.973917</td>\n",
       "      <td>0.971629</td>\n",
       "      <td>0.982747</td>\n",
       "      <td>0.271225</td>\n",
       "    </tr>\n",
       "    <tr>\n",
       "      <th>Invesco</th>\n",
       "      <td>0.852318</td>\n",
       "      <td>1.000000</td>\n",
       "      <td>0.834907</td>\n",
       "      <td>0.767792</td>\n",
       "      <td>0.780264</td>\n",
       "      <td>0.814221</td>\n",
       "      <td>0.323700</td>\n",
       "    </tr>\n",
       "    <tr>\n",
       "      <th>MandG</th>\n",
       "      <td>0.955975</td>\n",
       "      <td>0.834907</td>\n",
       "      <td>1.000000</td>\n",
       "      <td>0.935144</td>\n",
       "      <td>0.920006</td>\n",
       "      <td>0.946231</td>\n",
       "      <td>0.230739</td>\n",
       "    </tr>\n",
       "    <tr>\n",
       "      <th>Index</th>\n",
       "      <td>0.973917</td>\n",
       "      <td>0.767792</td>\n",
       "      <td>0.935144</td>\n",
       "      <td>1.000000</td>\n",
       "      <td>0.989201</td>\n",
       "      <td>0.975483</td>\n",
       "      <td>0.291457</td>\n",
       "    </tr>\n",
       "    <tr>\n",
       "      <th>PIMCO</th>\n",
       "      <td>0.971629</td>\n",
       "      <td>0.780264</td>\n",
       "      <td>0.920006</td>\n",
       "      <td>0.989201</td>\n",
       "      <td>1.000000</td>\n",
       "      <td>0.970109</td>\n",
       "      <td>0.305136</td>\n",
       "    </tr>\n",
       "    <tr>\n",
       "      <th>RLAM</th>\n",
       "      <td>0.982747</td>\n",
       "      <td>0.814221</td>\n",
       "      <td>0.946231</td>\n",
       "      <td>0.975483</td>\n",
       "      <td>0.970109</td>\n",
       "      <td>1.000000</td>\n",
       "      <td>0.257482</td>\n",
       "    </tr>\n",
       "    <tr>\n",
       "      <th>AberdeenSO</th>\n",
       "      <td>0.271225</td>\n",
       "      <td>0.323700</td>\n",
       "      <td>0.230739</td>\n",
       "      <td>0.291457</td>\n",
       "      <td>0.305136</td>\n",
       "      <td>0.257482</td>\n",
       "      <td>1.000000</td>\n",
       "    </tr>\n",
       "  </tbody>\n",
       "</table>\n",
       "</div>"
      ],
      "text/plain": [
       "            Aberdeen   Invesco     MandG     Index     PIMCO      RLAM  \\\n",
       "Aberdeen    1.000000  0.852318  0.955975  0.973917  0.971629  0.982747   \n",
       "Invesco     0.852318  1.000000  0.834907  0.767792  0.780264  0.814221   \n",
       "MandG       0.955975  0.834907  1.000000  0.935144  0.920006  0.946231   \n",
       "Index       0.973917  0.767792  0.935144  1.000000  0.989201  0.975483   \n",
       "PIMCO       0.971629  0.780264  0.920006  0.989201  1.000000  0.970109   \n",
       "RLAM        0.982747  0.814221  0.946231  0.975483  0.970109  1.000000   \n",
       "AberdeenSO  0.271225  0.323700  0.230739  0.291457  0.305136  0.257482   \n",
       "\n",
       "            AberdeenSO  \n",
       "Aberdeen      0.271225  \n",
       "Invesco       0.323700  \n",
       "MandG         0.230739  \n",
       "Index         0.291457  \n",
       "PIMCO         0.305136  \n",
       "RLAM          0.257482  \n",
       "AberdeenSO    1.000000  "
      ]
     },
     "execution_count": 13,
     "metadata": {},
     "output_type": "execute_result"
    }
   ],
   "source": [
    "#calculate correlations\n",
    "\n",
    "funds_df.corr()"
   ]
  },
  {
   "cell_type": "code",
   "execution_count": 15,
   "metadata": {
    "collapsed": false
   },
   "outputs": [
    {
     "data": {
      "text/plain": [
       "0.08494736575430345"
      ]
     },
     "execution_count": 15,
     "metadata": {},
     "output_type": "execute_result"
    }
   ],
   "source": [
    "from scipy import stats\n",
    "#R squared: AberdeenSO\n",
    "slope, intercept, r_value, p_value, std_err = stats.linregress(funds_df['AberdeenSO'], funds_df['Index'])\n",
    "r_value**2"
   ]
  },
  {
   "cell_type": "code",
   "execution_count": 16,
   "metadata": {
    "collapsed": false
   },
   "outputs": [
    {
     "data": {
      "text/plain": [
       "0.94851500561514601"
      ]
     },
     "execution_count": 16,
     "metadata": {},
     "output_type": "execute_result"
    }
   ],
   "source": [
    "#R squared: Aberdeen\n",
    "slope, intercept, r_value, p_value, std_err = stats.linregress(funds_df['Aberdeen'], funds_df['Index'])\n",
    "r_value**2"
   ]
  },
  {
   "cell_type": "code",
   "execution_count": 17,
   "metadata": {
    "collapsed": false
   },
   "outputs": [
    {
     "data": {
      "text/plain": [
       "0.58950485942747854"
      ]
     },
     "execution_count": 17,
     "metadata": {},
     "output_type": "execute_result"
    }
   ],
   "source": [
    "#R squared: Invesco\n",
    "slope, intercept, r_value, p_value, std_err = stats.linregress(funds_df['Invesco'], funds_df['Index'])\n",
    "r_value**2"
   ]
  },
  {
   "cell_type": "code",
   "execution_count": 18,
   "metadata": {
    "collapsed": false
   },
   "outputs": [
    {
     "data": {
      "text/plain": [
       "0.87449435908507067"
      ]
     },
     "execution_count": 18,
     "metadata": {},
     "output_type": "execute_result"
    }
   ],
   "source": [
    "#R squared: MandG\n",
    "slope, intercept, r_value, p_value, std_err = stats.linregress(funds_df['MandG'], funds_df['Index'])\n",
    "r_value**2"
   ]
  },
  {
   "cell_type": "code",
   "execution_count": 19,
   "metadata": {
    "collapsed": false
   },
   "outputs": [
    {
     "data": {
      "text/plain": [
       "0.97851837930783225"
      ]
     },
     "execution_count": 19,
     "metadata": {},
     "output_type": "execute_result"
    }
   ],
   "source": [
    "#R squared: Pimco\n",
    "slope, intercept, r_value, p_value, std_err = stats.linregress(funds_df['PIMCO'], funds_df['Index'])\n",
    "r_value**2"
   ]
  },
  {
   "cell_type": "code",
   "execution_count": 20,
   "metadata": {
    "collapsed": false
   },
   "outputs": [
    {
     "data": {
      "text/plain": [
       "0.95156716858183854"
      ]
     },
     "execution_count": 20,
     "metadata": {},
     "output_type": "execute_result"
    }
   ],
   "source": [
    "#R squared: RLAM\n",
    "slope, intercept, r_value, p_value, std_err = stats.linregress(funds_df['RLAM'], funds_df['Index'])\n",
    "r_value**2"
   ]
  },
  {
   "cell_type": "code",
   "execution_count": 21,
   "metadata": {
    "collapsed": false
   },
   "outputs": [
    {
     "data": {
      "image/png": "[encoded data removed]",
      "text/plain": [
       "<matplotlib.figure.Figure at 0xae69518>"
      ]
     },
     "metadata": {},
     "output_type": "display_data"
    }
   ],
   "source": [
    "import matplotlib.pyplot as plt\n",
    "%matplotlib inline\n",
    "from pylab import *\n",
    "\n",
    "def predict(x):\n",
    "    return slope * x + intercept\n",
    "\n",
    "#best fit line for Aberdeen\n",
    "fitLine = predict(funds_df['Aberdeen'])\n",
    "\n",
    "plt.scatter(funds_df['Aberdeen'], funds_df['Index'])\n",
    "plt.plot(funds_df['Aberdeen'], fitLine, c='g')\n",
    "plt.show()"
   ]
  },
  {
   "cell_type": "code",
   "execution_count": 22,
   "metadata": {
    "collapsed": false
   },
   "outputs": [
    {
     "data": {
      "image/png": "[encoded data removed]",
      "text/plain": [
       "<matplotlib.figure.Figure at 0xae539e8>"
      ]
     },
     "metadata": {},
     "output_type": "display_data"
    }
   ],
   "source": [
    "#best fit line for AberdeenSO\n",
    "fitLine = predict(funds_df['AberdeenSO'])\n",
    "\n",
    "plt.scatter(funds_df['AberdeenSO'], funds_df['Index'])\n",
    "plt.plot(funds_df['AberdeenSO'], fitLine, c='g')\n",
    "plt.show()"
   ]
  },
  {
   "cell_type": "code",
   "execution_count": null,
   "metadata": {
    "collapsed": false
   },
   "outputs": [],
   "source": [
    "#best fit line for Invesco\n",
    "fitLine = predict(funds_df['Invesco'])\n",
    "\n",
    "plt.scatter(funds_df['Invesco'], funds_df['Index'])\n",
    "plt.plot(funds_df['Invesco'], fitLine, c='g')\n",
    "plt.show()"
   ]
  },
  {
   "cell_type": "code",
   "execution_count": null,
   "metadata": {
    "collapsed": false
   },
   "outputs": [],
   "source": [
    "#best fit line for MandG\n",
    "fitLine = predict(funds_df['MandG'])\n",
    "\n",
    "plt.scatter(funds_df['MandG'], funds_df['Index'])\n",
    "plt.plot(funds_df['MandG'], fitLine, c='g')\n",
    "plt.show()"
   ]
  },
  {
   "cell_type": "code",
   "execution_count": null,
   "metadata": {
    "collapsed": false
   },
   "outputs": [],
   "source": [
    "#best fit line for PIMCO\n",
    "fitLine = predict(funds_df['PIMCO'])\n",
    "\n",
    "plt.scatter(funds_df['PIMCO'], funds_df['Index'])\n",
    "plt.plot(funds_df['PIMCO'], fitLine, c='g')\n",
    "plt.show()"
   ]
  },
  {
   "cell_type": "code",
   "execution_count": null,
   "metadata": {
    "collapsed": false
   },
   "outputs": [],
   "source": [
    "#best fit line for RLAM\n",
    "fitLine = predict(funds_df['RLAM'])\n",
    "\n",
    "plt.scatter(funds_df['RLAM'], funds_df['Index'])\n",
    "plt.plot(funds_df['RLAM'], fitLine, c='g')\n",
    "plt.show()"
   ]
  },
  {
   "cell_type": "code",
   "execution_count": null,
   "metadata": {
    "collapsed": true
   },
   "outputs": [],
   "source": []
  }
 ],
 "metadata": {
  "anaconda-cloud": {},
  "kernelspec": {
   "display_name": "Python [default]",
   "language": "python",
   "name": "python2"
  },
  "language_info": {
   "codemirror_mode": {
    "name": "ipython",
    "version": 2
   },
   "file_extension": ".py",
   "mimetype": "text/x-python",
   "name": "python",
   "nbconvert_exporter": "python",
   "pygments_lexer": "ipython2",
   "version": "2.7.12"
  }
 },
 "nbformat": 4,
 "nbformat_minor": 1
}
