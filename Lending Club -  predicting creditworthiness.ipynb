{
 "cells": [
  {
   "cell_type": "markdown",
   "metadata": {
    "deletable": true,
    "editable": true
   },
   "source": [
    "# Lending Club: predicing creditworthiness"
   ]
  },
  {
   "cell_type": "code",
   "execution_count": 1,
   "metadata": {
    "collapsed": true,
    "deletable": true,
    "editable": true
   },
   "outputs": [],
   "source": [
    "#import libraries\n",
    "\n",
    "import numpy as np\n",
    "import pandas as pd\n",
    "import matplotlib.pyplot as plt\n",
    "%matplotlib inline\n",
    "import seaborn as sns\n",
    "import datetime"
   ]
  },
  {
   "cell_type": "code",
   "execution_count": 2,
   "metadata": {
    "collapsed": true,
    "deletable": true,
    "editable": true
   },
   "outputs": [],
   "source": [
    "# import raw data\n",
    "\n",
    "df_raw = pd.read_csv('C:\\\\Users\\sonja tilly.ABERDEEN\\\\LendingClub.csv', low_memory=False)"
   ]
  },
  {
   "cell_type": "code",
   "execution_count": 3,
   "metadata": {
    "collapsed": false,
    "deletable": true,
    "editable": true
   },
   "outputs": [
    {
     "name": "stdout",
     "output_type": "stream",
     "text": [
      "<class 'pandas.core.frame.DataFrame'>\n",
      "RangeIndex: 24776 entries, 0 to 24775\n",
      "Data columns (total 21 columns):\n",
      "Loan Amount                          24776 non-null int64\n",
      "Loan Term                            24776 non-null object\n",
      "Employment Length                    24776 non-null float64\n",
      "Home Ownership                       24776 non-null object\n",
      "Annual Income                        24776 non-null float64\n",
      "Loan Purpose                         24776 non-null object\n",
      "Address State                        24775 non-null object\n",
      "Debt To Income Ratio                 24775 non-null float64\n",
      "No. Delinquencies In Last 2 Years    24775 non-null object\n",
      "Earliest Credit Line Opened          24776 non-null float64\n",
      "FICO Credit Score                    24775 non-null float64\n",
      "No. Inquiries In Last 6 Months       24775 non-null float64\n",
      "Months Since Last Delinquency        24776 non-null int64\n",
      "No. Of Credit Lines                  24775 non-null float64\n",
      "No. Adverse Public Records           24775 non-null object\n",
      "Total Credit Balance                 24775 non-null float64\n",
      "Use Of Credit Line                   24724 non-null float64\n",
      "Total Number Of Credit Lines         24775 non-null float64\n",
      "Loan Application Description         24776 non-null int64\n",
      "No. Of Public Record Bankruptcies    24776 non-null object\n",
      "Class                                24776 non-null object\n",
      "dtypes: float64(10), int64(3), object(8)\n",
      "memory usage: 4.0+ MB\n"
     ]
    }
   ],
   "source": [
    "df_raw.info()"
   ]
  },
  {
   "cell_type": "markdown",
   "metadata": {
    "deletable": true,
    "editable": true
   },
   "source": [
    "The dataset contains a mix of datatypes. \n",
    "The objects need to be converted into numerical values. \n",
    "The feature 'Class' will be the target and its values will be converted in '0' and '1'."
   ]
  },
  {
   "cell_type": "markdown",
   "metadata": {
    "deletable": true,
    "editable": true
   },
   "source": [
    "## Exploratory Data Analysis"
   ]
  },
  {
   "cell_type": "code",
   "execution_count": 6,
   "metadata": {
    "collapsed": false,
    "deletable": true,
    "editable": true
   },
   "outputs": [
    {
     "data": {
      "text/plain": [
       "Creditworthy      20274\n",
       "Uncreditworthy     4502\n",
       "Name: Class, dtype: int64"
      ]
     },
     "execution_count": 6,
     "metadata": {},
     "output_type": "execute_result"
    }
   ],
   "source": [
    "# let's have a look at the target variable.\n",
    "\n",
    "count = df_raw['Class'].value_counts()\n",
    "count"
   ]
  },
  {
   "cell_type": "code",
   "execution_count": 7,
   "metadata": {
    "collapsed": true,
    "deletable": true,
    "editable": true
   },
   "outputs": [],
   "source": [
    "# convert 'Class' feature (=target) into numerical values\n",
    "\n",
    "def credit_worthiness(status):\n",
    "    if status == 'Creditworthy':\n",
    "        return 0\n",
    "    elif status == 'Uncreditworthy':\n",
    "        return 1\n",
    "    else:\n",
    "        return status\n",
    "\n",
    "df_raw['Class_new'] = df_raw['Class'].apply(credit_worthiness)\n"
   ]
  },
  {
   "cell_type": "code",
   "execution_count": 8,
   "metadata": {
    "collapsed": false,
    "deletable": true,
    "editable": true
   },
   "outputs": [
    {
     "name": "stdout",
     "output_type": "stream",
     "text": [
      "81.83\n",
      "18.17\n"
     ]
    }
   ],
   "source": [
    "# calculate percentage\n",
    "total = len(df_raw.index)\n",
    "credit = df_raw['Class_new'].value_counts()\n",
    "\n",
    "creditworthy = round((credit[0]/total)*100,2)\n",
    "uncreditworthy = round((credit[1]/total)*100,2)\n",
    "print(creditworthy)\n",
    "print(uncreditworthy)"
   ]
  },
  {
   "cell_type": "code",
   "execution_count": 9,
   "metadata": {
    "collapsed": false,
    "deletable": true,
    "editable": true
   },
   "outputs": [
    {
     "data": {
      "image/png": "[encoded data removed]",
      "text/plain": [
       "<matplotlib.figure.Figure at 0xafcb320>"
      ]
     },
     "metadata": {},
     "output_type": "display_data"
    }
   ],
   "source": [
    "sums = df_raw.Class_new.groupby(df_raw.Class_new).value_counts()\n",
    "\n",
    "colors = sns.color_palette(\"Greens\", n_colors=2, desat=1)\n",
    "\n",
    "explode=(0.04, 0.04)\n",
    "plt.pie([count[0], count[1]], labels=['Creditworthy: 81.83%', 'Uncreditworthy: 18.17%'],\\\n",
    "       explode=explode, colors=colors)\n",
    "plt.axis('equal')\n",
    "plt.tight_layout()"
   ]
  },
  {
   "cell_type": "markdown",
   "metadata": {
    "deletable": true,
    "editable": true
   },
   "source": [
    "The dataset is unbalanced, with uncreditworthy observations only accounting for 18.17%.\n",
    "\n",
    "The unbalanced nature of the data will have to be considered when making predictions."
   ]
  },
  {
   "cell_type": "code",
   "execution_count": 27,
   "metadata": {
    "collapsed": false
   },
   "outputs": [],
   "source": [
    "# what is the link between loan purpose and creditworthiness?\n",
    "\n",
    "table = pd.pivot_table(df_raw, values='Loan Amount', index='Loan Purpose', \\\n",
    "                        columns='Class_new', aggfunc='count').fillna(0)\n",
    "table.columns = ['good', 'bad']\n",
    "table['Sum'] = table['good'] + table['bad']\n",
    "table['percent_good'] = table['good']/table['Sum']*100\n",
    "table['percent_bad'] = table['bad']/table['Sum']*100\n",
    "\n",
    "table.drop(table.columns[[0, 1, 2]], axis=1, inplace=True)\n",
    "table = table[1: :]\n"
   ]
  },
  {
   "cell_type": "code",
   "execution_count": 28,
   "metadata": {
    "collapsed": false
   },
   "outputs": [
    {
     "data": {
      "text/plain": [
       "<matplotlib.text.Text at 0xb368a20>"
      ]
     },
     "execution_count": 28,
     "metadata": {},
     "output_type": "execute_result"
    },
    {
     "data": {
      "image/png": "[encoded data removed]",
      "text/plain": [
       "<matplotlib.figure.Figure at 0xb14acf8>"
      ]
     },
     "metadata": {},
     "output_type": "display_data"
    }
   ],
   "source": [
    "colors = ('seagreen','magenta')\n",
    "ax= table.plot(legend=False, kind='bar',stacked=True, ylim=(0,100), color=colors, fontsize=9,\\\n",
    "                title='Loan Purpose and creditworthiness')\n",
    "plt.legend(loc='upper left', bbox_to_anchor=(1.0, 0.5))\n",
    "ax.set_xticklabels(table.index, rotation=70)\n",
    "ax.set_xlabel('purpose', fontsize=9)\n",
    "ax.set_ylabel('percentage', fontsize=9)"
   ]
  },
  {
   "cell_type": "code",
   "execution_count": 24,
   "metadata": {
    "collapsed": false
   },
   "outputs": [
    {
     "data": {
      "text/html": [
       "<div>\n",
       "<table border=\"1\" class=\"dataframe\">\n",
       "  <thead>\n",
       "    <tr style=\"text-align: right;\">\n",
       "      <th></th>\n",
       "      <th>percent_good</th>\n",
       "      <th>percent_bad</th>\n",
       "    </tr>\n",
       "    <tr>\n",
       "      <th>Home Ownership</th>\n",
       "      <th></th>\n",
       "      <th></th>\n",
       "    </tr>\n",
       "  </thead>\n",
       "  <tbody>\n",
       "    <tr>\n",
       "      <th>NOne</th>\n",
       "      <td>100.000000</td>\n",
       "      <td>0.000000</td>\n",
       "    </tr>\n",
       "    <tr>\n",
       "      <th>OTHER</th>\n",
       "      <td>82.653061</td>\n",
       "      <td>17.346939</td>\n",
       "    </tr>\n",
       "    <tr>\n",
       "      <th>OWN</th>\n",
       "      <td>81.030213</td>\n",
       "      <td>18.969787</td>\n",
       "    </tr>\n",
       "    <tr>\n",
       "      <th>RENT</th>\n",
       "      <td>80.452830</td>\n",
       "      <td>19.547170</td>\n",
       "    </tr>\n",
       "  </tbody>\n",
       "</table>\n",
       "</div>"
      ],
      "text/plain": [
       "                percent_good  percent_bad\n",
       "Home Ownership                           \n",
       "NOne              100.000000     0.000000\n",
       "OTHER              82.653061    17.346939\n",
       "OWN                81.030213    18.969787\n",
       "RENT               80.452830    19.547170"
      ]
     },
     "execution_count": 24,
     "metadata": {},
     "output_type": "execute_result"
    }
   ],
   "source": [
    "# what is the link between home ownership and creditworthiness?\n",
    "\n",
    "table1 = pd.pivot_table(df_raw, values='Loan Amount', index='Home Ownership', \\\n",
    "                        columns='Class_new', aggfunc='count').fillna(0)\n",
    "table1.columns = ['good', 'bad']\n",
    "table1['Sum'] = table1['good'] + table1['bad']\n",
    "table1['percent_good'] = table1['good']/table1['Sum']*100\n",
    "table1['percent_bad'] = table1['bad']/table1['Sum']*100\n",
    "\n",
    "table1.drop(table1.columns[[0, 1, 2]], axis=1, inplace=True)\n",
    "table1 = table1.iloc[1: :]\n",
    "table1"
   ]
  },
  {
   "cell_type": "code",
   "execution_count": 31,
   "metadata": {
    "collapsed": false
   },
   "outputs": [
    {
     "data": {
      "text/plain": [
       "<matplotlib.text.Text at 0xa569c50>"
      ]
     },
     "execution_count": 31,
     "metadata": {},
     "output_type": "execute_result"
    },
    {
     "data": {
      "image/png": "[encoded data removed]",
      "text/plain": [
       "<matplotlib.figure.Figure at 0xa609f98>"
      ]
     },
     "metadata": {},
     "output_type": "display_data"
    }
   ],
   "source": [
    "colors = ('seagreen','magenta')\n",
    "ax1= table1.plot(legend=False, kind='bar',stacked=True, ylim=(0,100), color=colors, fontsize=9,\\\n",
    "                title='Home Ownership and creditworthiness')\n",
    "plt.legend(loc='upper left', bbox_to_anchor=(1.0, 0.5))\n",
    "ax1.set_xticklabels(table1.index, rotation=70)\n",
    "ax1.set_xlabel('purpose', fontsize=9)\n",
    "ax1.set_ylabel('percentage', fontsize=9)"
   ]
  },
  {
   "cell_type": "code",
   "execution_count": 33,
   "metadata": {
    "collapsed": false
   },
   "outputs": [
    {
     "name": "stdout",
     "output_type": "stream",
     "text": [
      "                 good    bad     Sum       %good       %bad  above mean\n",
      "Address State                                                          \n",
      "AK               49.0    8.0    57.0   85.964912  14.035088   -2.501998\n",
      "AL              240.0   45.0   285.0   84.210526  15.789474   -0.747612\n",
      "AR              132.0   18.0   150.0   88.000000  12.000000   -4.537086\n",
      "AZ              487.0  112.0   599.0   81.302170  18.697830    2.160744\n",
      "CA             3552.0  933.0  4485.0   79.197324  20.802676    4.265590\n",
      "CO              431.0   81.0   512.0   84.179688  15.820312   -0.716773\n",
      "CT              390.0   78.0   468.0   83.333333  16.666667    0.129581\n",
      "DC              127.0   11.0   138.0   92.028986   7.971014   -8.566071\n",
      "DE               61.0   11.0    72.0   84.722222  15.277778   -1.259308\n",
      "FL             1328.0  413.0  1741.0   76.278001  23.721999    7.184913\n",
      "GA              694.0  181.0   875.0   79.314286  20.685714    4.148629\n",
      "HI               89.0   21.0   110.0   80.909091  19.090909    2.553824\n",
      "IA                4.0    0.0     4.0  100.000000   0.000000  -16.537086\n",
      "ID                5.0    1.0     6.0   83.333333  16.666667    0.129581\n",
      "IL              741.0  126.0   867.0   85.467128  14.532872   -2.004214\n",
      "IN               11.0    0.0    11.0  100.000000   0.000000  -16.537086\n",
      "KS              137.0   26.0   163.0   84.049080  15.950920   -0.586165\n",
      "KY              153.0   32.0   185.0   82.702703  17.297297    0.760212\n",
      "LA              220.0   34.0   254.0   86.614173  13.385827   -3.151259\n",
      "MA              684.0  125.0   809.0   84.548826  15.451174   -1.085911\n",
      "MD              535.0  125.0   660.0   81.060606  18.939394    2.402308\n",
      "ME                3.0    0.0     3.0  100.000000   0.000000  -16.537086\n",
      "MI              398.0   84.0   482.0   82.572614  17.427386    0.890300\n",
      "MN              354.0   66.0   420.0   84.285714  15.714286   -0.822800\n",
      "MO              320.0   89.0   409.0   78.239609  21.760391    5.223306\n",
      "MS               17.0    2.0    19.0   89.473684  10.526316   -6.010770\n",
      "MT               47.0    6.0    53.0   88.679245  11.320755   -5.216331\n",
      "NC              377.0  101.0   478.0   78.870293  21.129707    4.592622\n",
      "NE                2.0    3.0     5.0   40.000000  60.000000   43.462914\n",
      "NH               91.0   20.0   111.0   81.981982  18.018018    1.480932\n",
      "NJ              882.0  221.0  1103.0   79.963735  20.036265    3.499179\n",
      "NM               96.0   21.0   117.0   82.051282  17.948718    1.411632\n",
      "NV              219.0   87.0   306.0   71.568627  28.431373   11.894287\n",
      "NY             2022.0  379.0  2401.0   84.214910  15.785090   -0.751996\n",
      "OH              596.0  120.0   716.0   83.240223  16.759777    0.222691\n",
      "OK              172.0   33.0   205.0   83.902439  16.097561   -0.439525\n",
      "OR              225.0   59.0   284.0   79.225352  20.774648    4.237562\n",
      "PA              761.0  129.0   890.0   85.505618  14.494382   -2.042704\n",
      "RI              112.0   19.0   131.0   85.496183  14.503817   -2.033269\n",
      "SC              237.0   53.0   290.0   81.724138  18.275862    1.738776\n",
      "SD               31.0    7.0    38.0   81.578947  18.421053    1.883967\n",
      "TN               16.0    2.0    18.0   88.888889  11.111111   -5.425974\n",
      "TX             1470.0  274.0  1744.0   84.288991  15.711009   -0.826076\n",
      "UT              146.0   41.0   187.0   78.074866  21.925134    5.388048\n",
      "VA              780.0  129.0   909.0   85.808581  14.191419   -2.345666\n",
      "VT               29.0    7.0    36.0   80.555556  19.444444    2.907359\n",
      "WA              428.0  103.0   531.0   80.602637  19.397363    2.860278\n",
      "WI              237.0   50.0   287.0   82.578397  17.421603    0.884517\n",
      "WV               81.0   15.0    96.0   84.375000  15.625000   -0.912086\n",
      "WY               54.0    1.0    55.0   98.181818   1.818182  -14.718904\n"
     ]
    }
   ],
   "source": [
    "#How is loan performance related to address state?\n",
    "\n",
    "table2 = pd.pivot_table(df_raw, values='Loan Amount', index='Address State', columns=['Class_new'], aggfunc='count').fillna(0)\n",
    "table2.columns=[['good', 'bad']]\n",
    "table2['Sum']=table2['good']+table2['bad']\n",
    "table2['%good']=table2['good']/table2['Sum']*100\n",
    "table2['%bad']=table2['bad']/table2['Sum']*100\n",
    "table2.index = table2.index.astype(str)\n",
    "table2['above mean'] = table2['%bad'] - table2['%bad'].mean()  \n",
    "print(table2)"
   ]
  },
  {
   "cell_type": "code",
   "execution_count": 37,
   "metadata": {
    "collapsed": false
   },
   "outputs": [
    {
     "name": "stdout",
     "output_type": "stream",
     "text": [
      "High five! You successfully sent some data to your account on plotly. View your plot in your browser at https://plot.ly/~Son17/0 or inside your plot.ly account where it is named 'd3-cloropleth-map'\n"
     ]
    },
    {
     "data": {
      "text/html": [
       "<iframe id=\"igraph\" scrolling=\"no\" style=\"border:none;\" seamless=\"seamless\" src=\"https://plot.ly/~Son17/0.embed\" height=\"525px\" width=\"100%\"></iframe>"
      ],
      "text/plain": [
       "<plotly.tools.PlotlyDisplay object>"
      ]
     },
     "execution_count": 37,
     "metadata": {},
     "output_type": "execute_result"
    }
   ],
   "source": [
    "#Plot bad loans on map\n",
    "\n",
    "import plotly.plotly as py\n",
    "py.sign_in('Son17', 'GGwvotqQmpBq2zCu1w46')\n",
    "\n",
    "data = [ dict(\n",
    "        type='choropleth',\n",
    "        colorscale = 'Greens',\n",
    "        autocolorscale = False,\n",
    "        locations = table2.index,\n",
    "        z = table2['%bad'].astype(float).round(2),\n",
    "        locationmode = 'USA-states',\n",
    "        marker = dict(\n",
    "            line = dict (\n",
    "                color = 'rgb(255,255,255)',\n",
    "                width = 2\n",
    "            ) ),\n",
    "        colorbar = dict(title = \"Portion of uncreditworthy loans (%)\"))]\n",
    "\n",
    "layout = dict(\n",
    "        title = 'Uncreditworthy loans by state (%)',\n",
    "        geo = dict(\n",
    "            scope='usa',\n",
    "            projection=dict( type='albers usa' ),\n",
    "            showlakes = True,\n",
    "            lakecolor = 'rgb(255, 255, 255)'),)\n",
    "    \n",
    "fig = dict( data=data, layout=layout )\n",
    "py.iplot( fig, filename='d3-cloropleth-map' )"
   ]
  },
  {
   "cell_type": "code",
   "execution_count": 40,
   "metadata": {
    "collapsed": false
   },
   "outputs": [
    {
     "name": "stdout",
     "output_type": "stream",
     "text": [
      "High five! You successfully sent some data to your account on plotly. View your plot in your browser at https://plot.ly/~Son17/0 or inside your plot.ly account where it is named 'd3-cloropleth-map'\n"
     ]
    },
    {
     "data": {
      "text/html": [
       "<iframe id=\"igraph\" scrolling=\"no\" style=\"border:none;\" seamless=\"seamless\" src=\"https://plot.ly/~Son17/0.embed\" height=\"525px\" width=\"100%\"></iframe>"
      ],
      "text/plain": [
       "<plotly.tools.PlotlyDisplay object>"
      ]
     },
     "execution_count": 40,
     "metadata": {},
     "output_type": "execute_result"
    }
   ],
   "source": [
    "#Plot bad loans on map\n",
    "\n",
    "import plotly.plotly as py\n",
    "py.sign_in('Son17', 'GGwvotqQmpBq2zCu1w46')\n",
    "\n",
    "data = [ dict(\n",
    "        type='choropleth',\n",
    "        colorscale = 'Greens',\n",
    "        autocolorscale = False,\n",
    "        locations = table2.index,\n",
    "        z = table2['Sum'].astype(float).round(2),\n",
    "        locationmode = 'USA-states',\n",
    "        marker = dict(\n",
    "            line = dict (\n",
    "                color = 'rgb(255,255,255)',\n",
    "                width = 2\n",
    "            ) ),\n",
    "        colorbar = dict(title = \"Number of uncreditworthy loans\"))]\n",
    "\n",
    "layout = dict(\n",
    "        title = 'Uncreditworthy loans by state in absolute numbers',\n",
    "        geo = dict(\n",
    "            scope='usa',\n",
    "            projection=dict( type='albers usa' ),\n",
    "            showlakes = True,\n",
    "            lakecolor = 'rgb(255, 255, 255)'),)\n",
    "    \n",
    "fig = dict( data=data, layout=layout )\n",
    "py.iplot( fig, filename='d3-cloropleth-map' )"
   ]
  },
  {
   "cell_type": "code",
   "execution_count": 109,
   "metadata": {
    "collapsed": false
   },
   "outputs": [
    {
     "data": {
      "text/html": [
       "<div>\n",
       "<table border=\"1\" class=\"dataframe\">\n",
       "  <thead>\n",
       "    <tr style=\"text-align: right;\">\n",
       "      <th></th>\n",
       "      <th>percent_good</th>\n",
       "      <th>percent_bad</th>\n",
       "    </tr>\n",
       "    <tr>\n",
       "      <th>No. Of Public Record Bankruptcies</th>\n",
       "      <th></th>\n",
       "      <th></th>\n",
       "    </tr>\n",
       "  </thead>\n",
       "  <tbody>\n",
       "    <tr>\n",
       "      <th>0</th>\n",
       "      <td>82.165096</td>\n",
       "      <td>17.834904</td>\n",
       "    </tr>\n",
       "    <tr>\n",
       "      <th>1</th>\n",
       "      <td>73.878365</td>\n",
       "      <td>26.121635</td>\n",
       "    </tr>\n",
       "    <tr>\n",
       "      <th>2</th>\n",
       "      <td>80.000000</td>\n",
       "      <td>20.000000</td>\n",
       "    </tr>\n",
       "  </tbody>\n",
       "</table>\n",
       "</div>"
      ],
      "text/plain": [
       "                                   percent_good  percent_bad\n",
       "No. Of Public Record Bankruptcies                           \n",
       "0                                     82.165096    17.834904\n",
       "1                                     73.878365    26.121635\n",
       "2                                     80.000000    20.000000"
      ]
     },
     "execution_count": 109,
     "metadata": {},
     "output_type": "execute_result"
    }
   ],
   "source": [
    "# what is the link between No. Of Public Record Bankruptcies and creditworthiness?\n",
    "\n",
    "table3 = pd.pivot_table(df_raw, values='Loan Amount', index='No. Of Public Record Bankruptcies', \\\n",
    "                        columns='Class_new', aggfunc='count').fillna(0)\n",
    "table3.columns = ['good', 'bad']\n",
    "table3['Sum'] = table3['good'] + table3['bad']\n",
    "table3['percent_good'] = table3['good']/table3['Sum']*100\n",
    "table3['percent_bad'] = table3['bad']/table3['Sum']*100\n",
    "\n",
    "table3.drop(table3.columns[[0, 1, 2]], axis=1, inplace=True)\n",
    "table3 = table3.iloc[0: :]\n",
    "table3"
   ]
  },
  {
   "cell_type": "code",
   "execution_count": 110,
   "metadata": {
    "collapsed": false
   },
   "outputs": [
    {
     "data": {
      "text/plain": [
       "<matplotlib.text.Text at 0xf0052b0>"
      ]
     },
     "execution_count": 110,
     "metadata": {},
     "output_type": "execute_result"
    },
    {
     "data": {
      "image/png": "[encoded data removed]",
      "text/plain": [
       "<matplotlib.figure.Figure at 0xee36208>"
      ]
     },
     "metadata": {},
     "output_type": "display_data"
    }
   ],
   "source": [
    "colors = ('seagreen','magenta')\n",
    "ax3= table3.plot(legend=False, kind='bar',stacked=True, ylim=(0,100), color=colors, fontsize=9,\\\n",
    "                title='No. Of Public Record Bankruptcies and creditworthiness')\n",
    "plt.legend(loc='upper left', bbox_to_anchor=(1.0, 0.5))\n",
    "ax3.set_xticklabels(table3.index, rotation=70)\n",
    "ax3.set_xlabel('No. Of Public Record Bankruptcies', fontsize=9)\n",
    "ax3.set_ylabel('percentage', fontsize=9)"
   ]
  },
  {
   "cell_type": "code",
   "execution_count": 113,
   "metadata": {
    "collapsed": false
   },
   "outputs": [
    {
     "data": {
      "text/html": [
       "<div>\n",
       "<table border=\"1\" class=\"dataframe\">\n",
       "  <thead>\n",
       "    <tr style=\"text-align: right;\">\n",
       "      <th></th>\n",
       "      <th>percent_good</th>\n",
       "      <th>percent_bad</th>\n",
       "    </tr>\n",
       "    <tr>\n",
       "      <th>FICO Credit Score</th>\n",
       "      <th></th>\n",
       "      <th></th>\n",
       "    </tr>\n",
       "  </thead>\n",
       "  <tbody>\n",
       "    <tr>\n",
       "      <th>625.0</th>\n",
       "      <td>100.000000</td>\n",
       "      <td>0.000000</td>\n",
       "    </tr>\n",
       "    <tr>\n",
       "      <th>630.0</th>\n",
       "      <td>100.000000</td>\n",
       "      <td>0.000000</td>\n",
       "    </tr>\n",
       "    <tr>\n",
       "      <th>660.0</th>\n",
       "      <td>71.138211</td>\n",
       "      <td>28.861789</td>\n",
       "    </tr>\n",
       "    <tr>\n",
       "      <th>665.0</th>\n",
       "      <td>71.714534</td>\n",
       "      <td>28.285466</td>\n",
       "    </tr>\n",
       "    <tr>\n",
       "      <th>670.0</th>\n",
       "      <td>73.128120</td>\n",
       "      <td>26.871880</td>\n",
       "    </tr>\n",
       "  </tbody>\n",
       "</table>\n",
       "</div>"
      ],
      "text/plain": [
       "                   percent_good  percent_bad\n",
       "FICO Credit Score                           \n",
       "625.0                100.000000     0.000000\n",
       "630.0                100.000000     0.000000\n",
       "660.0                 71.138211    28.861789\n",
       "665.0                 71.714534    28.285466\n",
       "670.0                 73.128120    26.871880"
      ]
     },
     "execution_count": 113,
     "metadata": {},
     "output_type": "execute_result"
    }
   ],
   "source": [
    "# what is the link between FICO Credit Score and creditworthiness?\n",
    "\n",
    "table4 = pd.pivot_table(df_raw, values='Loan Amount', index='FICO Credit Score', \\\n",
    "                        columns='Class_new', aggfunc='count').fillna(0)\n",
    "table4.columns = ['good', 'bad']\n",
    "table4['Sum'] = table4['good'] + table4['bad']\n",
    "table4['percent_good'] = table4['good']/table4['Sum']*100\n",
    "table4['percent_bad'] = table4['bad']/table4['Sum']*100\n",
    "\n",
    "table4.drop(table4.columns[[0, 1, 2]], axis=1, inplace=True)\n",
    "table4 = table4.iloc[0: :]\n",
    "table4.head()"
   ]
  },
  {
   "cell_type": "code",
   "execution_count": 114,
   "metadata": {
    "collapsed": false
   },
   "outputs": [
    {
     "data": {
      "text/plain": [
       "<matplotlib.text.Text at 0xf150fd0>"
      ]
     },
     "execution_count": 114,
     "metadata": {},
     "output_type": "execute_result"
    },
    {
     "data": {
      "image/png": "[encoded data removed]",
      "text/plain": [
       "<matplotlib.figure.Figure at 0xf225a90>"
      ]
     },
     "metadata": {},
     "output_type": "display_data"
    }
   ],
   "source": [
    "colors = ('seagreen','magenta')\n",
    "ax4= table4.plot(legend=False, kind='bar',stacked=True, ylim=(0,100), color=colors, fontsize=9,\\\n",
    "                title='FICO Credit Score and creditworthiness')\n",
    "plt.legend(loc='upper left', bbox_to_anchor=(1.0, 0.5))\n",
    "ax4.set_xticklabels(table4.index, rotation=70)\n",
    "ax4.set_xlabel('FICO Credit Score', fontsize=9)\n",
    "ax4.set_ylabel('percentage', fontsize=9)"
   ]
  },
  {
   "cell_type": "code",
   "execution_count": 116,
   "metadata": {
    "collapsed": false
   },
   "outputs": [
    {
     "data": {
      "text/html": [
       "<div>\n",
       "<table border=\"1\" class=\"dataframe\">\n",
       "  <thead>\n",
       "    <tr style=\"text-align: right;\">\n",
       "      <th></th>\n",
       "      <th>percent_good</th>\n",
       "      <th>percent_bad</th>\n",
       "    </tr>\n",
       "    <tr>\n",
       "      <th>No. Adverse Public Records</th>\n",
       "      <th></th>\n",
       "      <th></th>\n",
       "    </tr>\n",
       "  </thead>\n",
       "  <tbody>\n",
       "    <tr>\n",
       "      <th>0.0</th>\n",
       "      <td>82.315619</td>\n",
       "      <td>17.684381</td>\n",
       "    </tr>\n",
       "    <tr>\n",
       "      <th>1.0</th>\n",
       "      <td>72.763578</td>\n",
       "      <td>27.236422</td>\n",
       "    </tr>\n",
       "    <tr>\n",
       "      <th>2.0</th>\n",
       "      <td>75.757576</td>\n",
       "      <td>24.242424</td>\n",
       "    </tr>\n",
       "    <tr>\n",
       "      <th>3.0</th>\n",
       "      <td>100.000000</td>\n",
       "      <td>0.000000</td>\n",
       "    </tr>\n",
       "    <tr>\n",
       "      <th>4.0</th>\n",
       "      <td>100.000000</td>\n",
       "      <td>0.000000</td>\n",
       "    </tr>\n",
       "  </tbody>\n",
       "</table>\n",
       "</div>"
      ],
      "text/plain": [
       "                            percent_good  percent_bad\n",
       "No. Adverse Public Records                           \n",
       "0.0                            82.315619    17.684381\n",
       "1.0                            72.763578    27.236422\n",
       "2.0                            75.757576    24.242424\n",
       "3.0                           100.000000     0.000000\n",
       "4.0                           100.000000     0.000000"
      ]
     },
     "execution_count": 116,
     "metadata": {},
     "output_type": "execute_result"
    }
   ],
   "source": [
    "# what is the link between No. Adverse Public Records and creditworthiness?\n",
    "\n",
    "table5 = pd.pivot_table(df_raw, values='Loan Amount', index='No. Adverse Public Records', \\\n",
    "                        columns='Class_new', aggfunc='count').fillna(0)\n",
    "table5.columns = ['good', 'bad']\n",
    "table5['Sum'] = table5['good'] + table5['bad']\n",
    "table5['percent_good'] = table5['good']/table5['Sum']*100\n",
    "table5['percent_bad'] = table5['bad']/table5['Sum']*100\n",
    "\n",
    "table5.drop(table5.columns[[0, 1, 2]], axis=1, inplace=True)\n",
    "table5 = table5.iloc[0: :]\n",
    "table5.head()"
   ]
  },
  {
   "cell_type": "code",
   "execution_count": 117,
   "metadata": {
    "collapsed": false
   },
   "outputs": [
    {
     "data": {
      "text/plain": [
       "<matplotlib.text.Text at 0xf3d5b00>"
      ]
     },
     "execution_count": 117,
     "metadata": {},
     "output_type": "execute_result"
    },
    {
     "data": {
      "image/png": "[encoded data removed]",
      "text/plain": [
       "<matplotlib.figure.Figure at 0xf3c9d30>"
      ]
     },
     "metadata": {},
     "output_type": "display_data"
    }
   ],
   "source": [
    "colors = ('seagreen','magenta')\n",
    "ax5= table5.plot(legend=False, kind='bar',stacked=True, ylim=(0,100), color=colors, fontsize=9,\\\n",
    "                title='No. Adverse Public Records and creditworthiness')\n",
    "plt.legend(loc='upper left', bbox_to_anchor=(1.0, 0.5))\n",
    "ax5.set_xticklabels(table5.index, rotation=70)\n",
    "ax5.set_xlabel('No. Adverse Public Records', fontsize=9)\n",
    "ax5.set_ylabel('percentage', fontsize=9)"
   ]
  },
  {
   "cell_type": "markdown",
   "metadata": {},
   "source": [
    "# Data preprocessing"
   ]
  },
  {
   "cell_type": "code",
   "execution_count": 41,
   "metadata": {
    "collapsed": false,
    "deletable": true,
    "editable": true
   },
   "outputs": [],
   "source": [
    "# create dummy variables for categorical data\n",
    "\n",
    "df_raw = pd.get_dummies(df_raw, columns=['Loan Term','Home Ownership', 'Loan Purpose', 'Address State'])"
   ]
  },
  {
   "cell_type": "code",
   "execution_count": 42,
   "metadata": {
    "collapsed": false,
    "deletable": true,
    "editable": true
   },
   "outputs": [],
   "source": [
    "# encode remaining columns containing object data types\n",
    "\n",
    "from sklearn import preprocessing \n",
    "\n",
    "cols = ['No. Delinquencies In Last 2 Years', 'No. Adverse Public Records',\\\n",
    "           'No. Of Public Record Bankruptcies']\n",
    "\n",
    "le = preprocessing.LabelEncoder()\n",
    "\n",
    "def labelencoder(input):\n",
    "    if input == 'None':\n",
    "        return 0\n",
    "    elif input == 'One':\n",
    "        return 1\n",
    "    elif input == 'Two':\n",
    "        return 2\n",
    "    elif input == 'Three':\n",
    "        return 3\n",
    "    elif input == 'Four':\n",
    "        return 4\n",
    "    elif input == 'Five':\n",
    "        return 5\n",
    "    elif input == 'Six':\n",
    "        return 6\n",
    "    elif input == 'Seven':\n",
    "        return 7\n",
    "    elif input == 'Eight':\n",
    "        return 8\n",
    "    elif input == 'Nine':\n",
    "        return 9\n",
    "    else:\n",
    "        return input\n",
    "\n",
    "for c in cols:    \n",
    "    df_raw[c] = df_raw[c].apply(labelencoder)\n"
   ]
  },
  {
   "cell_type": "code",
   "execution_count": 43,
   "metadata": {
    "collapsed": false
   },
   "outputs": [],
   "source": [
    "# drop redundant feature\n",
    "\n",
    "df_raw.drop('Class', axis=1, inplace=True)"
   ]
  },
  {
   "cell_type": "code",
   "execution_count": 44,
   "metadata": {
    "collapsed": false,
    "deletable": true,
    "editable": true
   },
   "outputs": [
    {
     "name": "stdout",
     "output_type": "stream",
     "text": [
      "<class 'pandas.core.frame.DataFrame'>\n",
      "RangeIndex: 24776 entries, 0 to 24775\n",
      "Data columns (total 89 columns):\n",
      "Loan Amount                          24776 non-null int64\n",
      "Employment Length                    24776 non-null float64\n",
      "Annual Income                        24776 non-null float64\n",
      "Debt To Income Ratio                 24775 non-null float64\n",
      "No. Delinquencies In Last 2 Years    24775 non-null float64\n",
      "Earliest Credit Line Opened          24776 non-null float64\n",
      "FICO Credit Score                    24775 non-null float64\n",
      "No. Inquiries In Last 6 Months       24775 non-null float64\n",
      "Months Since Last Delinquency        24776 non-null int64\n",
      "No. Of Credit Lines                  24775 non-null float64\n",
      "No. Adverse Public Records           24775 non-null float64\n",
      "Total Credit Balance                 24775 non-null float64\n",
      "Use Of Credit Line                   24724 non-null float64\n",
      "Total Number Of Credit Lines         24775 non-null float64\n",
      "Loan Application Description         24776 non-null int64\n",
      "No. Of Public Record Bankruptcies    24776 non-null int64\n",
      "Class_new                            24776 non-null int64\n",
      "Loan Term_36 Months                  24776 non-null uint8\n",
      "Loan Term_60 Months                  24776 non-null uint8\n",
      "Home Ownership_MORTGAGE              24776 non-null uint8\n",
      "Home Ownership_NOne                  24776 non-null uint8\n",
      "Home Ownership_OTHER                 24776 non-null uint8\n",
      "Home Ownership_OWN                   24776 non-null uint8\n",
      "Home Ownership_RENT                  24776 non-null uint8\n",
      "Loan Purpose_0                       24776 non-null uint8\n",
      "Loan Purpose_Car                     24776 non-null uint8\n",
      "Loan Purpose_Credit Card             24776 non-null uint8\n",
      "Loan Purpose_Debt Consolidation      24776 non-null uint8\n",
      "Loan Purpose_Educationalal           24776 non-null uint8\n",
      "Loan Purpose_Home Improvement        24776 non-null uint8\n",
      "Loan Purpose_House                   24776 non-null uint8\n",
      "Loan Purpose_Major Purchase          24776 non-null uint8\n",
      "Loan Purpose_Medical                 24776 non-null uint8\n",
      "Loan Purpose_Moving                  24776 non-null uint8\n",
      "Loan Purpose_Other                   24776 non-null uint8\n",
      "Loan Purpose_Renewable Energy        24776 non-null uint8\n",
      "Loan Purpose_Small Business          24776 non-null uint8\n",
      "Loan Purpose_Vacation                24776 non-null uint8\n",
      "Loan Purpose_Wedding                 24776 non-null uint8\n",
      "Address State_AK                     24776 non-null uint8\n",
      "Address State_AL                     24776 non-null uint8\n",
      "Address State_AR                     24776 non-null uint8\n",
      "Address State_AZ                     24776 non-null uint8\n",
      "Address State_CA                     24776 non-null uint8\n",
      "Address State_CO                     24776 non-null uint8\n",
      "Address State_CT                     24776 non-null uint8\n",
      "Address State_DC                     24776 non-null uint8\n",
      "Address State_DE                     24776 non-null uint8\n",
      "Address State_FL                     24776 non-null uint8\n",
      "Address State_GA                     24776 non-null uint8\n",
      "Address State_HI                     24776 non-null uint8\n",
      "Address State_IA                     24776 non-null uint8\n",
      "Address State_ID                     24776 non-null uint8\n",
      "Address State_IL                     24776 non-null uint8\n",
      "Address State_IN                     24776 non-null uint8\n",
      "Address State_KS                     24776 non-null uint8\n",
      "Address State_KY                     24776 non-null uint8\n",
      "Address State_LA                     24776 non-null uint8\n",
      "Address State_MA                     24776 non-null uint8\n",
      "Address State_MD                     24776 non-null uint8\n",
      "Address State_ME                     24776 non-null uint8\n",
      "Address State_MI                     24776 non-null uint8\n",
      "Address State_MN                     24776 non-null uint8\n",
      "Address State_MO                     24776 non-null uint8\n",
      "Address State_MS                     24776 non-null uint8\n",
      "Address State_MT                     24776 non-null uint8\n",
      "Address State_NC                     24776 non-null uint8\n",
      "Address State_NE                     24776 non-null uint8\n",
      "Address State_NH                     24776 non-null uint8\n",
      "Address State_NJ                     24776 non-null uint8\n",
      "Address State_NM                     24776 non-null uint8\n",
      "Address State_NV                     24776 non-null uint8\n",
      "Address State_NY                     24776 non-null uint8\n",
      "Address State_OH                     24776 non-null uint8\n",
      "Address State_OK                     24776 non-null uint8\n",
      "Address State_OR                     24776 non-null uint8\n",
      "Address State_PA                     24776 non-null uint8\n",
      "Address State_RI                     24776 non-null uint8\n",
      "Address State_SC                     24776 non-null uint8\n",
      "Address State_SD                     24776 non-null uint8\n",
      "Address State_TN                     24776 non-null uint8\n",
      "Address State_TX                     24776 non-null uint8\n",
      "Address State_UT                     24776 non-null uint8\n",
      "Address State_VA                     24776 non-null uint8\n",
      "Address State_VT                     24776 non-null uint8\n",
      "Address State_WA                     24776 non-null uint8\n",
      "Address State_WI                     24776 non-null uint8\n",
      "Address State_WV                     24776 non-null uint8\n",
      "Address State_WY                     24776 non-null uint8\n",
      "dtypes: float64(12), int64(5), uint8(72)\n",
      "memory usage: 4.9 MB\n"
     ]
    }
   ],
   "source": [
    "# let's have a look a the preprocessed data:\n",
    "\n",
    "df_raw.info()"
   ]
  },
  {
   "cell_type": "code",
   "execution_count": null,
   "metadata": {
    "collapsed": true
   },
   "outputs": [],
   "source": []
  },
  {
   "cell_type": "code",
   "execution_count": 45,
   "metadata": {
    "collapsed": false,
    "deletable": true,
    "editable": true
   },
   "outputs": [
    {
     "data": {
      "text/plain": [
       "<matplotlib.axes._subplots.AxesSubplot at 0xb4416a0>"
      ]
     },
     "execution_count": 45,
     "metadata": {},
     "output_type": "execute_result"
    },
    {
     "data": {
      "image/png": "[encoded data removed]",
      "text/plain": [
       "<matplotlib.figure.Figure at 0xb486a90>"
      ]
     },
     "metadata": {},
     "output_type": "display_data"
    }
   ],
   "source": [
    "corr = df_raw.corr()\n",
    "sns.heatmap(corr, xticklabels='', yticklabels='')"
   ]
  },
  {
   "cell_type": "markdown",
   "metadata": {},
   "source": [
    "# Define X and y"
   ]
  },
  {
   "cell_type": "code",
   "execution_count": 46,
   "metadata": {
    "collapsed": false
   },
   "outputs": [
    {
     "data": {
      "text/plain": [
       "Loan Amount                          False\n",
       "Employment Length                    False\n",
       "Annual Income                        False\n",
       "Debt To Income Ratio                  True\n",
       "No. Delinquencies In Last 2 Years     True\n",
       "Earliest Credit Line Opened          False\n",
       "FICO Credit Score                     True\n",
       "No. Inquiries In Last 6 Months        True\n",
       "Months Since Last Delinquency        False\n",
       "No. Of Credit Lines                   True\n",
       "No. Adverse Public Records            True\n",
       "Total Credit Balance                  True\n",
       "Use Of Credit Line                    True\n",
       "Total Number Of Credit Lines          True\n",
       "Loan Application Description         False\n",
       "No. Of Public Record Bankruptcies    False\n",
       "Class_new                            False\n",
       "Loan Term_36 Months                  False\n",
       "Loan Term_60 Months                  False\n",
       "Home Ownership_MORTGAGE              False\n",
       "Home Ownership_NOne                  False\n",
       "Home Ownership_OTHER                 False\n",
       "Home Ownership_OWN                   False\n",
       "Home Ownership_RENT                  False\n",
       "Loan Purpose_0                       False\n",
       "Loan Purpose_Car                     False\n",
       "Loan Purpose_Credit Card             False\n",
       "Loan Purpose_Debt Consolidation      False\n",
       "Loan Purpose_Educationalal           False\n",
       "Loan Purpose_Home Improvement        False\n",
       "                                     ...  \n",
       "Address State_MD                     False\n",
       "Address State_ME                     False\n",
       "Address State_MI                     False\n",
       "Address State_MN                     False\n",
       "Address State_MO                     False\n",
       "Address State_MS                     False\n",
       "Address State_MT                     False\n",
       "Address State_NC                     False\n",
       "Address State_NE                     False\n",
       "Address State_NH                     False\n",
       "Address State_NJ                     False\n",
       "Address State_NM                     False\n",
       "Address State_NV                     False\n",
       "Address State_NY                     False\n",
       "Address State_OH                     False\n",
       "Address State_OK                     False\n",
       "Address State_OR                     False\n",
       "Address State_PA                     False\n",
       "Address State_RI                     False\n",
       "Address State_SC                     False\n",
       "Address State_SD                     False\n",
       "Address State_TN                     False\n",
       "Address State_TX                     False\n",
       "Address State_UT                     False\n",
       "Address State_VA                     False\n",
       "Address State_VT                     False\n",
       "Address State_WA                     False\n",
       "Address State_WI                     False\n",
       "Address State_WV                     False\n",
       "Address State_WY                     False\n",
       "dtype: bool"
      ]
     },
     "execution_count": 46,
     "metadata": {},
     "output_type": "execute_result"
    }
   ],
   "source": [
    "df_raw.isnull().any()"
   ]
  },
  {
   "cell_type": "code",
   "execution_count": 47,
   "metadata": {
    "collapsed": true
   },
   "outputs": [],
   "source": [
    "data = df_raw.fillna(df_raw.median())"
   ]
  },
  {
   "cell_type": "code",
   "execution_count": 48,
   "metadata": {
    "collapsed": false
   },
   "outputs": [
    {
     "name": "stdout",
     "output_type": "stream",
     "text": [
      "<class 'pandas.core.frame.DataFrame'>\n",
      "RangeIndex: 24776 entries, 0 to 24775\n",
      "Data columns (total 89 columns):\n",
      "Loan Amount                          24776 non-null int64\n",
      "Employment Length                    24776 non-null float64\n",
      "Annual Income                        24776 non-null float64\n",
      "Debt To Income Ratio                 24776 non-null float64\n",
      "No. Delinquencies In Last 2 Years    24776 non-null float64\n",
      "Earliest Credit Line Opened          24776 non-null float64\n",
      "FICO Credit Score                    24776 non-null float64\n",
      "No. Inquiries In Last 6 Months       24776 non-null float64\n",
      "Months Since Last Delinquency        24776 non-null int64\n",
      "No. Of Credit Lines                  24776 non-null float64\n",
      "No. Adverse Public Records           24776 non-null float64\n",
      "Total Credit Balance                 24776 non-null float64\n",
      "Use Of Credit Line                   24776 non-null float64\n",
      "Total Number Of Credit Lines         24776 non-null float64\n",
      "Loan Application Description         24776 non-null int64\n",
      "No. Of Public Record Bankruptcies    24776 non-null int64\n",
      "Class_new                            24776 non-null int64\n",
      "Loan Term_36 Months                  24776 non-null uint8\n",
      "Loan Term_60 Months                  24776 non-null uint8\n",
      "Home Ownership_MORTGAGE              24776 non-null uint8\n",
      "Home Ownership_NOne                  24776 non-null uint8\n",
      "Home Ownership_OTHER                 24776 non-null uint8\n",
      "Home Ownership_OWN                   24776 non-null uint8\n",
      "Home Ownership_RENT                  24776 non-null uint8\n",
      "Loan Purpose_0                       24776 non-null uint8\n",
      "Loan Purpose_Car                     24776 non-null uint8\n",
      "Loan Purpose_Credit Card             24776 non-null uint8\n",
      "Loan Purpose_Debt Consolidation      24776 non-null uint8\n",
      "Loan Purpose_Educationalal           24776 non-null uint8\n",
      "Loan Purpose_Home Improvement        24776 non-null uint8\n",
      "Loan Purpose_House                   24776 non-null uint8\n",
      "Loan Purpose_Major Purchase          24776 non-null uint8\n",
      "Loan Purpose_Medical                 24776 non-null uint8\n",
      "Loan Purpose_Moving                  24776 non-null uint8\n",
      "Loan Purpose_Other                   24776 non-null uint8\n",
      "Loan Purpose_Renewable Energy        24776 non-null uint8\n",
      "Loan Purpose_Small Business          24776 non-null uint8\n",
      "Loan Purpose_Vacation                24776 non-null uint8\n",
      "Loan Purpose_Wedding                 24776 non-null uint8\n",
      "Address State_AK                     24776 non-null uint8\n",
      "Address State_AL                     24776 non-null uint8\n",
      "Address State_AR                     24776 non-null uint8\n",
      "Address State_AZ                     24776 non-null uint8\n",
      "Address State_CA                     24776 non-null uint8\n",
      "Address State_CO                     24776 non-null uint8\n",
      "Address State_CT                     24776 non-null uint8\n",
      "Address State_DC                     24776 non-null uint8\n",
      "Address State_DE                     24776 non-null uint8\n",
      "Address State_FL                     24776 non-null uint8\n",
      "Address State_GA                     24776 non-null uint8\n",
      "Address State_HI                     24776 non-null uint8\n",
      "Address State_IA                     24776 non-null uint8\n",
      "Address State_ID                     24776 non-null uint8\n",
      "Address State_IL                     24776 non-null uint8\n",
      "Address State_IN                     24776 non-null uint8\n",
      "Address State_KS                     24776 non-null uint8\n",
      "Address State_KY                     24776 non-null uint8\n",
      "Address State_LA                     24776 non-null uint8\n",
      "Address State_MA                     24776 non-null uint8\n",
      "Address State_MD                     24776 non-null uint8\n",
      "Address State_ME                     24776 non-null uint8\n",
      "Address State_MI                     24776 non-null uint8\n",
      "Address State_MN                     24776 non-null uint8\n",
      "Address State_MO                     24776 non-null uint8\n",
      "Address State_MS                     24776 non-null uint8\n",
      "Address State_MT                     24776 non-null uint8\n",
      "Address State_NC                     24776 non-null uint8\n",
      "Address State_NE                     24776 non-null uint8\n",
      "Address State_NH                     24776 non-null uint8\n",
      "Address State_NJ                     24776 non-null uint8\n",
      "Address State_NM                     24776 non-null uint8\n",
      "Address State_NV                     24776 non-null uint8\n",
      "Address State_NY                     24776 non-null uint8\n",
      "Address State_OH                     24776 non-null uint8\n",
      "Address State_OK                     24776 non-null uint8\n",
      "Address State_OR                     24776 non-null uint8\n",
      "Address State_PA                     24776 non-null uint8\n",
      "Address State_RI                     24776 non-null uint8\n",
      "Address State_SC                     24776 non-null uint8\n",
      "Address State_SD                     24776 non-null uint8\n",
      "Address State_TN                     24776 non-null uint8\n",
      "Address State_TX                     24776 non-null uint8\n",
      "Address State_UT                     24776 non-null uint8\n",
      "Address State_VA                     24776 non-null uint8\n",
      "Address State_VT                     24776 non-null uint8\n",
      "Address State_WA                     24776 non-null uint8\n",
      "Address State_WI                     24776 non-null uint8\n",
      "Address State_WV                     24776 non-null uint8\n",
      "Address State_WY                     24776 non-null uint8\n",
      "dtypes: float64(12), int64(5), uint8(72)\n",
      "memory usage: 4.9 MB\n"
     ]
    }
   ],
   "source": [
    "data.info()"
   ]
  },
  {
   "cell_type": "markdown",
   "metadata": {},
   "source": [
    "# Address collinearity"
   ]
  },
  {
   "cell_type": "code",
   "execution_count": 68,
   "metadata": {
    "collapsed": false,
    "deletable": true,
    "editable": true
   },
   "outputs": [],
   "source": [
    "# Define X and y\n",
    "\n",
    "y = data['Class_new']\n",
    "y.columns = ['Class']\n",
    "X = data.drop(['Class_new'], axis=1)\n"
   ]
  },
  {
   "cell_type": "code",
   "execution_count": 69,
   "metadata": {
    "collapsed": false
   },
   "outputs": [
    {
     "name": "stderr",
     "output_type": "stream",
     "text": [
      "C:\\Users\\sonja tilly.ABERDEEN\\AppData\\Local\\Continuum\\Anaconda2\\envs\\py35\\lib\\site-packages\\statsmodels\\stats\\outliers_influence.py:167: RuntimeWarning:\n",
      "\n",
      "divide by zero encountered in double_scalars\n",
      "\n"
     ]
    },
    {
     "name": "stdout",
     "output_type": "stream",
     "text": [
      "dropping 'Address State_WY\n",
      "dropping 'Address State_WI\n",
      "dropping 'Address State_TX\n",
      "dropping 'Loan Purpose_Wedding\n",
      "dropping 'Loan Purpose_Debt Consolidation\n",
      "dropping 'Home Ownership_RENT\n",
      "dropping 'Loan Term_60 Months\n",
      "dropping 'Loan Term_36 Months\n",
      "dropping 'Total Number Of Credit Lines\n",
      "dropping 'Use Of Credit Line\n",
      "dropping 'No. Of Credit Lines\n",
      "dropping 'FICO Credit Score\n",
      "dropping 'Earliest Credit Line Opened\n",
      "dropping 'Annual Income\n",
      "Remaining variables:\n",
      "Index(['Loan Amount', 'Employment Length', 'Annual Income',\n",
      "       'Debt To Income Ratio', 'No. Delinquencies In Last 2 Years',\n",
      "       'Earliest Credit Line Opened', 'FICO Credit Score',\n",
      "       'No. Inquiries In Last 6 Months', 'Months Since Last Delinquency',\n",
      "       'No. Of Credit Lines', 'No. Adverse Public Records',\n",
      "       'Total Credit Balance', 'Use Of Credit Line',\n",
      "       'Total Number Of Credit Lines', 'Loan Application Description',\n",
      "       'No. Of Public Record Bankruptcies', 'Loan Term_36 Months',\n",
      "       'Loan Term_60 Months', 'Home Ownership_MORTGAGE', 'Home Ownership_NOne',\n",
      "       'Home Ownership_OTHER', 'Home Ownership_OWN', 'Home Ownership_RENT',\n",
      "       'Loan Purpose_0', 'Loan Purpose_Car', 'Loan Purpose_Credit Card',\n",
      "       'Loan Purpose_Debt Consolidation', 'Loan Purpose_Educationalal',\n",
      "       'Loan Purpose_Home Improvement', 'Loan Purpose_House',\n",
      "       'Loan Purpose_Major Purchase', 'Loan Purpose_Medical',\n",
      "       'Loan Purpose_Moving', 'Loan Purpose_Other',\n",
      "       'Loan Purpose_Renewable Energy', 'Loan Purpose_Small Business',\n",
      "       'Loan Purpose_Vacation', 'Loan Purpose_Wedding', 'Address State_AK',\n",
      "       'Address State_AL', 'Address State_AR', 'Address State_AZ',\n",
      "       'Address State_CA', 'Address State_CO', 'Address State_CT',\n",
      "       'Address State_DC', 'Address State_DE', 'Address State_FL',\n",
      "       'Address State_GA', 'Address State_HI', 'Address State_IA',\n",
      "       'Address State_ID', 'Address State_IL', 'Address State_IN',\n",
      "       'Address State_KS', 'Address State_KY', 'Address State_LA',\n",
      "       'Address State_MA', 'Address State_MD', 'Address State_ME',\n",
      "       'Address State_MI', 'Address State_MN', 'Address State_MO',\n",
      "       'Address State_MS', 'Address State_MT', 'Address State_NC',\n",
      "       'Address State_NE', 'Address State_NH', 'Address State_NJ',\n",
      "       'Address State_NM', 'Address State_NV', 'Address State_NY',\n",
      "       'Address State_OH', 'Address State_OK', 'Address State_OR',\n",
      "       'Address State_PA', 'Address State_RI', 'Address State_SC',\n",
      "       'Address State_SD', 'Address State_TN', 'Address State_TX',\n",
      "       'Address State_UT', 'Address State_VA', 'Address State_VT',\n",
      "       'Address State_WA', 'Address State_WI', 'Address State_WV',\n",
      "       'Address State_WY'],\n",
      "      dtype='object')\n"
     ]
    }
   ],
   "source": [
    "from statsmodels.stats.outliers_influence import variance_inflation_factor  \n",
    "\n",
    "def calculate_vif_(d, thresh=5.0):\n",
    "    variables = d.columns\n",
    "    dropped=True\n",
    "    while dropped:\n",
    "        dropped=False\n",
    "        vif = pd.DataFrame()\n",
    "        vif[\"VIF Factor\"] = [variance_inflation_factor(d[variables].values, i) for i in range(d[variables].shape[1])]\n",
    "        vif[\"features\"] = d[variables].columns\n",
    "        v=vif[vif[\"VIF Factor\"]>thresh]\n",
    "        \n",
    "        if len(v) > 0:\n",
    "            maxloc = v.iloc[len(v)-1]['features']\n",
    "            print('dropping \\'' + maxloc) \n",
    "            variables=variables.drop(maxloc)\n",
    "            dropped=True\n",
    "\n",
    "    print('Remaining variables:')\n",
    "    print(d.columns)\n",
    "    return d[variables]\n",
    "\n",
    "X_new = calculate_vif_(X, thresh=5.0)"
   ]
  },
  {
   "cell_type": "code",
   "execution_count": 70,
   "metadata": {
    "collapsed": true,
    "deletable": true,
    "editable": true
   },
   "outputs": [],
   "source": [
    "# train test split\n",
    "# stratify target y as it may not be normally distributed\n",
    "\n",
    "from sklearn.model_selection import train_test_split\n",
    "\n",
    "X_train, X_test, y_train, y_test = train_test_split(X_new, y, test_size=0.3, random_state=42,\\\n",
    "                                                    stratify=y)"
   ]
  },
  {
   "cell_type": "markdown",
   "metadata": {},
   "source": [
    "# Build model"
   ]
  },
  {
   "cell_type": "code",
   "execution_count": 71,
   "metadata": {
    "collapsed": false
   },
   "outputs": [],
   "source": [
    "# Build logistic regression model\n",
    "\n",
    "from sklearn import linear_model\n",
    "from sklearn.metrics import roc_auc_score\n",
    "\n",
    "regr = linear_model.LogisticRegression(random_state=42, class_weight={0:0.1817, 1:0.8183})\n",
    "regr.fit(X_train, y_train)\n",
    "\n",
    "y_pred_regr = regr.predict(X_test)"
   ]
  },
  {
   "cell_type": "code",
   "execution_count": 72,
   "metadata": {
    "collapsed": false
   },
   "outputs": [
    {
     "name": "stdout",
     "output_type": "stream",
     "text": [
      "The AUC score for a simple Logistic Regression model is 0.5977.\n"
     ]
    }
   ],
   "source": [
    "# Assess benchmark model performance using area under the curve (AUC)\n",
    "\n",
    "from sklearn.metrics import roc_auc_score\n",
    "\n",
    "AUC = roc_auc_score(y_test, y_pred_regr)\n",
    "print(\"The AUC score for a simple Logistic Regression model is {:.4f}.\".format(AUC))"
   ]
  },
  {
   "cell_type": "markdown",
   "metadata": {},
   "source": [
    "# Optimise model"
   ]
  },
  {
   "cell_type": "code",
   "execution_count": 85,
   "metadata": {
    "collapsed": false
   },
   "outputs": [
    {
     "name": "stdout",
     "output_type": "stream",
     "text": [
      "The AUC score for the optimized logistic regression model is 0.5950.\n"
     ]
    }
   ],
   "source": [
    "# Tuning hyperparameters - logistic regression\n",
    "\n",
    "from sklearn.model_selection import GridSearchCV\n",
    "\n",
    "\n",
    "param_grid = {'C': [0.1,0.2,0.3,0.4,0.5,0.6]}\n",
    "             \n",
    "gsregr = GridSearchCV(regr, param_grid)\n",
    "    \n",
    "gsregr.fit(X_train, y_train)\n",
    "\n",
    "gsregr_pred = gsregr.predict(X_test)\n",
    "\n",
    "AUC = roc_auc_score(y_test, gsregr_pred)\n",
    "print(\"The AUC score for the optimized logistic regression model is {:.4f}.\".format(AUC))"
   ]
  },
  {
   "cell_type": "code",
   "execution_count": 86,
   "metadata": {
    "collapsed": false
   },
   "outputs": [
    {
     "name": "stdout",
     "output_type": "stream",
     "text": [
      "{'C': 0.5}\n"
     ]
    }
   ],
   "source": [
    "print(gsregr.best_params_)"
   ]
  },
  {
   "cell_type": "code",
   "execution_count": 93,
   "metadata": {
    "collapsed": false
   },
   "outputs": [
    {
     "name": "stdout",
     "output_type": "stream",
     "text": [
      "0.604329873506\n"
     ]
    }
   ],
   "source": [
    "from sklearn.model_selection import cross_val_score\n",
    "\n",
    "scores = cross_val_score(regr, X_train, y_train, cv=5, scoring='roc_auc')\n",
    "\n",
    "scores_test = cross_val_score(regr, X_test, y_test, cv=5)\n",
    "print(scores_test.mean())"
   ]
  },
  {
   "cell_type": "code",
   "execution_count": null,
   "metadata": {
    "collapsed": true
   },
   "outputs": [],
   "source": []
  },
  {
   "cell_type": "code",
   "execution_count": null,
   "metadata": {
    "collapsed": true
   },
   "outputs": [],
   "source": []
  },
  {
   "cell_type": "code",
   "execution_count": null,
   "metadata": {
    "collapsed": true
   },
   "outputs": [],
   "source": [
    "# try XGBoost\n",
    "\n",
    "import lightgbm as lgb \n",
    "\n",
    "trn_x=X_train\n",
    "trn_y=y_train\n",
    "val_x=X_test\n",
    "val_y=y_test\n",
    "train_data = lgb.Dataset(trn_x, trn_y) \n",
    "test_data = lgb.Dataset(val_x,val_y, reference=train_data) "
   ]
  },
  {
   "cell_type": "code",
   "execution_count": null,
   "metadata": {
    "collapsed": true
   },
   "outputs": [],
   "source": [
    "# setting up parameters - \n",
    "# more details at https://github.com/Microsoft/LightGBM/blob/master/docs/Parameters.md\n",
    "\n",
    "param = {\n",
    "        'task': 'train',\n",
    "        'boosting_type': 'gbdt',\n",
    "        'objective': 'binary', # one class to predict\n",
    "        'num_classes': 1,\n",
    "        'metric': 'auc', \n",
    "        'max_depth': 10,\n",
    "        'learning_rate': 0.01,\n",
    "        'feature_fraction': 0.8,\n",
    "        'bagging_fraction': 0.8,\n",
    "        'num_thread':1,\n",
    "        'bagging_freq': 5,\n",
    "        'verbose': 0,\n",
    "        'num_iterations':80, \n",
    "        'is_unbalance':True,\n",
    "        'early_stopping_round':5 # stops if no improvement after 5 iterations\n",
    "        }\n",
    "\n",
    "num_round = 1000 # number of iterations\n",
    "\n",
    "lgb.cv(param, train_data, num_round, nfold=5) # crossvalidates with 5 folds for selection\n",
    "bst = lgb.train(param, train_data, num_round, valid_sets=[test_data] )"
   ]
  },
  {
   "cell_type": "code",
   "execution_count": null,
   "metadata": {
    "collapsed": true
   },
   "outputs": [],
   "source": [
    "probs = bst.predict(val_x)\n",
    "probs = pd.DataFrame(data=probs)\n",
    "probs.columns = ['probabilities']\n",
    "probs.head()"
   ]
  },
  {
   "cell_type": "code",
   "execution_count": null,
   "metadata": {
    "collapsed": true
   },
   "outputs": [],
   "source": [
    "# Get feature importances\n",
    "\n",
    "print('Feature importances:', list(bst.feature_importance()))\n",
    "feature_name = bst.feature_name()\n",
    "feats['name'] = feature_name\n",
    "featssorted = feats.sort_values(['feature importance'], ascending=False)"
   ]
  },
  {
   "cell_type": "code",
   "execution_count": null,
   "metadata": {
    "collapsed": true
   },
   "outputs": [],
   "source": [
    "# Plot feature importances\n",
    "\n",
    "import seaborn as sns\n",
    "\n",
    "sns.set(style='whitegrid')\n",
    "\n",
    "f, ax = plt.subplots(figsize=(15,10))\n",
    "ax = sns.barplot(x=featssorted['name'], y=featssorted['feature importance'])\n",
    "ax.set(xlabel='feature names', ylabel='feature importance')\n",
    "ax.set_title('Feature importances')\n",
    "for item in ax.get_xticklabels():\n",
    "    item.set_rotation(90)"
   ]
  },
  {
   "cell_type": "code",
   "execution_count": null,
   "metadata": {
    "collapsed": true
   },
   "outputs": [],
   "source": []
  },
  {
   "cell_type": "markdown",
   "metadata": {},
   "source": [
    "# ROC curve"
   ]
  },
  {
   "cell_type": "code",
   "execution_count": null,
   "metadata": {
    "collapsed": true
   },
   "outputs": [],
   "source": [
    "from sklearn.metrics import roc_curve\n",
    "\n",
    "probs = regr.predict_proba(X_test)\n",
    "preds = probs[:,1]\n",
    "fpr, tpr, threshold = roc_curve(y_tests, preds)\n",
    "AUC = roc_auc_score(y_test, y_pred_regr)"
   ]
  },
  {
   "cell_type": "code",
   "execution_count": null,
   "metadata": {
    "collapsed": true
   },
   "outputs": [],
   "source": [
    "preds2 = probs.iloc[:,1]\n",
    "fpr2, tpr2, threshold2 = roc_curve(y_test, preds2)"
   ]
  },
  {
   "cell_type": "code",
   "execution_count": null,
   "metadata": {
    "collapsed": true
   },
   "outputs": [],
   "source": [
    "sns.set_style(\"white\")\n",
    "\n",
    "plt.title('Receiver Operating Characteristic')\n",
    "plt.plot(fpr, tpr, 'seagreen', label='AUC (benchmark model) = %0.4f' % AUC)\n",
    "plt.legend(loc = 'lower right')\n",
    "plt.plot([0, 1], [0, 1],'m--', label='Random')\n",
    "plt.legend(loc = 'lower right')\n",
    "plt.plot(fpr2, tpr2, 'navy', label='AUC (final model) = 0.9871')\n",
    "plt.legend(loc = 'lower right')\n",
    "plt.xlim([0, 1])\n",
    "plt.ylim([0, 1])\n",
    "plt.ylabel('True Positive Rate')\n",
    "plt.xlabel('False Positive Rate')\n",
    "plt.show()"
   ]
  },
  {
   "cell_type": "code",
   "execution_count": null,
   "metadata": {
    "collapsed": true
   },
   "outputs": [],
   "source": []
  },
  {
   "cell_type": "code",
   "execution_count": null,
   "metadata": {
    "collapsed": true
   },
   "outputs": [],
   "source": []
  },
  {
   "cell_type": "markdown",
   "metadata": {},
   "source": [
    "# Confusion matrix"
   ]
  },
  {
   "cell_type": "code",
   "execution_count": null,
   "metadata": {
    "collapsed": true
   },
   "outputs": [],
   "source": [
    "cm = confusion_matrix(y_valid, preds_valid)\n",
    "\n",
    "df_cm = pd.DataFrame(cm, index = ['True (positive)', 'True (negative)'])\n",
    "df_cm.columns = ['Predicted (positive)', 'Predicted (negative)']\n",
    "\n",
    "sns.heatmap(df_cm, annot=True, fmt=\"d\")"
   ]
  }
 ],
 "metadata": {
  "kernelspec": {
   "display_name": "python3.5",
   "language": "python",
   "name": "python3.5"
  },
  "language_info": {
   "codemirror_mode": {
    "name": "ipython",
    "version": 3
   },
   "file_extension": ".py",
   "mimetype": "text/x-python",
   "name": "python",
   "nbconvert_exporter": "python",
   "pygments_lexer": "ipython3",
   "version": "3.5.2"
  }
 },
 "nbformat": 4,
 "nbformat_minor": 2
}
