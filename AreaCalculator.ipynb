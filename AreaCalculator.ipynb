{
 "cells": [
  {
   "cell_type": "code",
   "execution_count": null,
   "metadata": {
    "collapsed": false
   },
   "outputs": [],
   "source": [
    "\"\"\"This is a calculator that computes the area of a given shape, as selected byt he user\"\"\"\n",
    "\n",
    "from math import pi\n",
    "from time import sleep\n",
    "from datetime import datetime\n",
    "\n",
    "now = datetime.now()\n",
    "\"\"\"This is a calculator that computes the area of a given shape, as selected byt he user\"\"\"\n",
    "\n",
    "from math import pi\n",
    "from time import sleep\n",
    "from datetime import datetime\n",
    "\n",
    "now = datetime.now()\n",
    "\n",
    "print(\"The calculator is starting up!\")\n",
    "print('%s/%s/%s %s:%s' % (now.month, now.day, now.year, now.hour, now.minute))\n",
    "sleep(1)\n",
    "\n",
    "hint = \"Don't forget to include the correct units! \\nExiting...\"\n",
    "\n",
    "option = raw_input(\"Enter C for Circle or T for Triangle: \")\n",
    "option = option.upper()\n",
    "\n",
    "if option == 'C':\n",
    "    radius = float(raw_input(\"Input radius: \"))\n",
    "    area = pi*radius**2\n",
    "    print(\"The pie is baking...\")\n",
    "    sleep(1)\n",
    "    print(\"Area: %.2f. \\n%s\" %(area, hint))\n",
    "elif option == 'T':\n",
    "    base = float(raw_input(\"Input base: \")) \n",
    "    height = float(raw_input(\"Input height: \"))\n",
    "    area = base*height*0.5\n",
    "    print(\"Uni Bi Tri...\")\n",
    "    sleep(1)\n",
    "    print(\"Area: %.2f. \\n%s\" %(area, hint))\n",
    "else:\n",
    "    print(\"Error! Invalid shape selector specified. Exiting.\")     "
   ]
  },
  {
   "cell_type": "code",
   "execution_count": null,
   "metadata": {
    "collapsed": false
   },
   "outputs": [],
   "source": [
    " "
   ]
  },
  {
   "cell_type": "code",
   "execution_count": null,
   "metadata": {
    "collapsed": true
   },
   "outputs": [],
   "source": []
  },
  {
   "cell_type": "code",
   "execution_count": null,
   "metadata": {
    "collapsed": true
   },
   "outputs": [],
   "source": []
  },
  {
   "cell_type": "code",
   "execution_count": null,
   "metadata": {
    "collapsed": true
   },
   "outputs": [],
   "source": []
  }
 ],
 "metadata": {
  "kernelspec": {
   "display_name": "Python [default]",
   "language": "python",
   "name": "python2"
  },
  "language_info": {
   "codemirror_mode": {
    "name": "ipython",
    "version": 2
   },
   "file_extension": ".py",
   "mimetype": "text/x-python",
   "name": "python",
   "nbconvert_exporter": "python",
   "pygments_lexer": "ipython2",
   "version": "2.7.12"
  }
 },
 "nbformat": 4,
 "nbformat_minor": 1
}
