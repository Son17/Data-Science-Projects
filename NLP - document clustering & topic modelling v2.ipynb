{
 "cells": [
  {
   "cell_type": "code",
   "execution_count": 66,
   "metadata": {
    "collapsed": false,
    "deletable": true,
    "editable": true
   },
   "outputs": [],
   "source": [
    "# load libraries\n",
    "\n",
    "import glob\n",
    "import os\n",
    "import pandas as pd\n",
    "import numpy as np\n",
    "import nltk\n",
    "from nltk import word_tokenize\n",
    "import string\n",
    "import re\n",
    "import seaborn as sns\n",
    "import matplotlib.pyplot as plt\n",
    "%matplotlib inline"
   ]
  },
  {
   "cell_type": "code",
   "execution_count": 67,
   "metadata": {
    "collapsed": false,
    "deletable": true,
    "editable": true
   },
   "outputs": [
    {
     "data": {
      "text/plain": [
       "['C:\\\\Users\\\\sonja tilly.ABERDEEN\\\\text_docs\\\\Aberdeen.txt',\n",
       " 'C:\\\\Users\\\\sonja tilly.ABERDEEN\\\\text_docs\\\\Alliance Bernstein.txt',\n",
       " 'C:\\\\Users\\\\sonja tilly.ABERDEEN\\\\text_docs\\\\Allianz.txt',\n",
       " 'C:\\\\Users\\\\sonja tilly.ABERDEEN\\\\text_docs\\\\Amundi.txt',\n",
       " 'C:\\\\Users\\\\sonja tilly.ABERDEEN\\\\text_docs\\\\Aviva.txt',\n",
       " 'C:\\\\Users\\\\sonja tilly.ABERDEEN\\\\text_docs\\\\AXA.txt',\n",
       " 'C:\\\\Users\\\\sonja tilly.ABERDEEN\\\\text_docs\\\\Barclays.txt',\n",
       " 'C:\\\\Users\\\\sonja tilly.ABERDEEN\\\\text_docs\\\\BlackRock.txt',\n",
       " 'C:\\\\Users\\\\sonja tilly.ABERDEEN\\\\text_docs\\\\BlueBay.txt',\n",
       " 'C:\\\\Users\\\\sonja tilly.ABERDEEN\\\\text_docs\\\\BNP Paribas.txt']"
      ]
     },
     "execution_count": 67,
     "metadata": {},
     "output_type": "execute_result"
    }
   ],
   "source": [
    "# let's have a look at the files\n",
    "\n",
    "path = r'C:\\Users\\sonja tilly.ABERDEEN\\text_docs\\*'\n",
    "\n",
    "files = glob.glob(path)\n",
    "\n",
    "files[0:10]"
   ]
  },
  {
   "cell_type": "code",
   "execution_count": 68,
   "metadata": {
    "collapsed": false,
    "deletable": true,
    "editable": true
   },
   "outputs": [],
   "source": [
    "# let's read in the files and append to a list of lists\n",
    "\n",
    "list_of_lists = []\n",
    "\n",
    "for file in files:\n",
    "    text_file = open(file)\n",
    "    lines = text_file.readlines()\n",
    "    list_of_lists.append(lines)\n",
    "    text_file.close()"
   ]
  },
  {
   "cell_type": "code",
   "execution_count": 69,
   "metadata": {
    "collapsed": false,
    "deletable": true,
    "editable": true
   },
   "outputs": [
    {
     "data": {
      "text/plain": [
       "['Aberdeen\\n',\n",
       " 'Economic Outlook – January 2018\\n',\n",
       " 'Monthly highlights: Global economic strength to continue in 2018\\n',\n",
       " 'The global economy showed no sign of losing any momentum\\n',\n",
       " 'in 2017 Q4 and is heading into 2018 in a healthy state. We have\\n']"
      ]
     },
     "execution_count": 69,
     "metadata": {},
     "output_type": "execute_result"
    }
   ],
   "source": [
    "list_of_lists[0][:5]"
   ]
  },
  {
   "cell_type": "code",
   "execution_count": 70,
   "metadata": {
    "collapsed": false,
    "deletable": true,
    "editable": true
   },
   "outputs": [
    {
     "name": "stdout",
     "output_type": "stream",
     "text": [
      "Number of documents: 61\n",
      " \n",
      "['Aberdeen', 'Alliance Bernstein', 'Allianz', 'Amundi', 'Aviva', 'AXA', 'Barclays', 'BlackRock', 'BlueBay', 'BNP Paribas', 'Candriam', 'Capital Economics', 'Citi', 'ClearBridge', 'Credit Suisse', 'Danske Bank', 'Deutsche Bank', 'Eastspring', 'Fidelity', 'Fisher Investments', 'Franklin Templeton', 'GAM', 'Goldman Sachs', 'Hermes', 'HSBC', 'ING', 'Invesco', 'Investec', 'JanusHenderson', 'JOHCM', 'JPM', 'Kames Capital', 'Legg Mason', 'Liontrust', 'Lloyds Bank', 'Loomis Sayles', 'Macquarie', 'MAN GLG', 'MandG', 'Mirabaud', 'Morgan Stanley', 'Muzinich', 'Neptune', 'Neuberger Berman', 'Nordea', 'Pictet', 'Pimco', 'RLAM', 'Robeco', 'Sanlam', 'Schroders', 'SEB', 'Smith&Williamson', 'Standard Life', 'T Rowe Price', 'Threadneedle', 'UBP', 'UBS', 'Unicredit', 'Vanguard', 'Wellington']\n"
     ]
    }
   ],
   "source": [
    "# extract list of file company names\n",
    "\n",
    "list_of_names = []\n",
    "\n",
    "for f in files:\n",
    "    head, tail = os.path.split(f)\n",
    "    name = os.path.splitext(os.path.basename(tail))[0]\n",
    "    list_of_names.append(name)\n",
    "    \n",
    "print('Number of documents:', len(list_of_names))\n",
    "print(' ')\n",
    "print(list_of_names)"
   ]
  },
  {
   "cell_type": "code",
   "execution_count": 140,
   "metadata": {
    "collapsed": false,
    "deletable": true,
    "editable": true
   },
   "outputs": [
    {
     "name": "stdout",
     "output_type": "stream",
     "text": [
      "['i', 'me', 'my', 'myself', 'we', 'our', 'ours', 'ourselves', 'you', \"you're\"]\n"
     ]
    }
   ],
   "source": [
    "# load nltk's English stopwords as 'stopwords'\n",
    "stopwords = nltk.corpus.stopwords.words('english')\n",
    "more_stopwords = ['and', 'to', 'the', 'we', 'of', 'in', 'are', 'on', 'stephan',\n",
    "                 'year', 'investment', 'investor', 'portfolio', 'analyst', 'q',\n",
    "                 'manager', 'outlook', 'fund', 'economy', 'market', 'bank']\n",
    "stopwords.extend(more_stopwords)\n",
    "print(stopwords[0:10])\n",
    "\n",
    "# create tokenizer that picks out sequences of alphanumeric characters as tokens and drops everything else\n",
    "from nltk.tokenize import RegexpTokenizer\n",
    "tokenizer = RegexpTokenizer(r'\\w+')\n",
    "\n",
    "from nltk import pos_tag"
   ]
  },
  {
   "cell_type": "code",
   "execution_count": 141,
   "metadata": {
    "collapsed": false,
    "deletable": true,
    "editable": true
   },
   "outputs": [],
   "source": [
    "# tidy up list of lists\n",
    "\n",
    "def tidy_up(temp0):\n",
    "    temp1 = [[t.lower() for t in l] for l in temp0]\n",
    "    temp2 = [[t.replace('\\n','') for t in l] for l in temp1]\n",
    "    temp3 = [[t.replace('\\r','') for t in l] for l in temp2]\n",
    "    temp4 = [[pos_tag(tokenizer.tokenize(t)) for t in l] for l in temp3]\n",
    "    return temp4"
   ]
  },
  {
   "cell_type": "code",
   "execution_count": 142,
   "metadata": {
    "collapsed": false,
    "deletable": true,
    "editable": true
   },
   "outputs": [],
   "source": [
    "# create function to create list of sentences\n",
    "\n",
    "def raw_text(lol):\n",
    "    temp = []\n",
    "    for i in lol:\n",
    "        sent = \" \".join(str(item) for item in i)\n",
    "        temp.append(sent)\n",
    "    return temp"
   ]
  },
  {
   "cell_type": "code",
   "execution_count": 143,
   "metadata": {
    "collapsed": false,
    "deletable": true,
    "editable": true
   },
   "outputs": [
    {
     "data": {
      "text/plain": [
       "[('economic', 'JJ'), ('outlook', 'NN'), ('january', 'NN'), ('2018', 'CD')]"
      ]
     },
     "execution_count": 143,
     "metadata": {},
     "output_type": "execute_result"
    }
   ],
   "source": [
    "tokens = tidy_up(list_of_lists)\n",
    "\n",
    "tokens[0][1]"
   ]
  },
  {
   "cell_type": "code",
   "execution_count": 144,
   "metadata": {
    "collapsed": false,
    "deletable": true,
    "editable": true
   },
   "outputs": [],
   "source": [
    "# extract nouns\n",
    "\n",
    "from nltk import pos_tag\n",
    "\n",
    "nouns = []\n",
    "\n",
    "for t in tokens:\n",
    "    tmp = []\n",
    "    for l in t:\n",
    "        for token, pos in l:\n",
    "            if pos.startswith('N'):\n",
    "                tmp.append(token)\n",
    "            \n",
    "    nouns.append(tmp) \n",
    "\n"
   ]
  },
  {
   "cell_type": "code",
   "execution_count": 145,
   "metadata": {
    "collapsed": false,
    "deletable": true,
    "editable": true
   },
   "outputs": [
    {
     "data": {
      "text/plain": [
       "['aberdeen',\n",
       " 'outlook',\n",
       " 'january',\n",
       " 'highlights',\n",
       " 'strength',\n",
       " 'economy',\n",
       " 'sign',\n",
       " 'momentum',\n",
       " 'q4',\n",
       " 'state']"
      ]
     },
     "execution_count": 145,
     "metadata": {},
     "output_type": "execute_result"
    }
   ],
   "source": [
    "nouns[0][0:10]"
   ]
  },
  {
   "cell_type": "code",
   "execution_count": 146,
   "metadata": {
    "collapsed": true,
    "deletable": true,
    "editable": true
   },
   "outputs": [],
   "source": [
    "# load nltk's Lemmatizer\n",
    "\n",
    "from nltk.stem import WordNetLemmatizer\n",
    "\n",
    "wordnet_lemmatizer = WordNetLemmatizer()    "
   ]
  },
  {
   "cell_type": "code",
   "execution_count": 147,
   "metadata": {
    "collapsed": false,
    "deletable": true,
    "editable": true
   },
   "outputs": [],
   "source": [
    "# lemmatize tokens\n",
    "\n",
    "lems = []\n",
    "\n",
    "for lst in nouns:\n",
    "    temp = []\n",
    "    for l in lst:\n",
    "        st = wordnet_lemmatizer.lemmatize(l)\n",
    "        temp.append(st)\n",
    "    lems.append(temp) "
   ]
  },
  {
   "cell_type": "code",
   "execution_count": 148,
   "metadata": {
    "collapsed": false,
    "deletable": true,
    "editable": true
   },
   "outputs": [
    {
     "data": {
      "text/plain": [
       "['aberdeen',\n",
       " 'outlook',\n",
       " 'january',\n",
       " 'highlight',\n",
       " 'strength',\n",
       " 'economy',\n",
       " 'sign',\n",
       " 'momentum',\n",
       " 'q4',\n",
       " 'state']"
      ]
     },
     "execution_count": 148,
     "metadata": {},
     "output_type": "execute_result"
    }
   ],
   "source": [
    "lems[0][0:10]"
   ]
  },
  {
   "cell_type": "code",
   "execution_count": 149,
   "metadata": {
    "collapsed": false,
    "deletable": true,
    "editable": true
   },
   "outputs": [],
   "source": [
    "lems_sent = raw_text(lems)\n"
   ]
  },
  {
   "cell_type": "code",
   "execution_count": 150,
   "metadata": {
    "collapsed": false,
    "deletable": true,
    "editable": true
   },
   "outputs": [
    {
     "data": {
      "text/plain": [
       "['aberdeen',\n",
       " 'january',\n",
       " 'highlight',\n",
       " 'strength',\n",
       " 'sign',\n",
       " 'momentum',\n",
       " 'q4',\n",
       " 'state',\n",
       " 'forecast',\n",
       " 'growth']"
      ]
     },
     "execution_count": 150,
     "metadata": {},
     "output_type": "execute_result"
    }
   ],
   "source": [
    "# remove stopwords from stems\n",
    "\n",
    "clean_lems = [[i for i in l.split() if i not in stopwords] for l in lems_sent]\n",
    "clean_lems[0][0:10]\n"
   ]
  },
  {
   "cell_type": "code",
   "execution_count": 151,
   "metadata": {
    "collapsed": false,
    "deletable": true,
    "editable": true
   },
   "outputs": [
    {
     "data": {
      "text/plain": [
       "'aberdeen january highlight strength sign momentum q4 state forecast growth percentage point purchasing index pmi level month trade prospect commodity price manufacturer commodity producer growth whole'"
      ]
     },
     "execution_count": 151,
     "metadata": {},
     "output_type": "execute_result"
    }
   ],
   "source": [
    "corpus = raw_text(clean_lems)\n",
    "corpus[0][0:200]"
   ]
  },
  {
   "cell_type": "code",
   "execution_count": 152,
   "metadata": {
    "collapsed": false,
    "deletable": true,
    "editable": true
   },
   "outputs": [],
   "source": [
    "from sklearn.feature_extraction.text import TfidfVectorizer\n",
    "from sklearn.metrics.pairwise import cosine_similarity\n",
    "\n",
    "# try Word Frequencies with TfidfVectorizer\n",
    "\n",
    "# list text\n",
    "\n",
    "def tfidf_vectorizer(text):\n",
    "          \n",
    "    # create the transform\n",
    "    vectorizer = TfidfVectorizer()    \n",
    "        \n",
    "    # fit and encode text\n",
    "    vector = vectorizer.fit_transform(text)\n",
    "\n",
    "    # summarize encoded vector\n",
    "    #print(vector.shape)\n",
    "    array = vector.toarray()\n",
    "        \n",
    "    return array"
   ]
  },
  {
   "cell_type": "code",
   "execution_count": 153,
   "metadata": {
    "collapsed": false,
    "deletable": true,
    "editable": true
   },
   "outputs": [],
   "source": [
    "text_array = tfidf_vectorizer(corpus)"
   ]
  },
  {
   "cell_type": "code",
   "execution_count": 154,
   "metadata": {
    "collapsed": false,
    "deletable": true,
    "editable": true
   },
   "outputs": [],
   "source": [
    "# reduce data to 2 dimensions\n",
    "\n",
    "from sklearn.decomposition import PCA\n",
    "\n",
    "pca = PCA(n_components=2)\n",
    "\n",
    "red = pca.fit_transform(text_array)\n",
    "\n",
    "red_df = pd.DataFrame(red, columns=['X','Y'])\n"
   ]
  },
  {
   "cell_type": "code",
   "execution_count": 155,
   "metadata": {
    "collapsed": false,
    "deletable": true,
    "editable": true
   },
   "outputs": [
    {
     "data": {
      "text/plain": [
       "array([ 0.04303423,  0.03660087])"
      ]
     },
     "execution_count": 155,
     "metadata": {},
     "output_type": "execute_result"
    }
   ],
   "source": [
    "pca.explained_variance_"
   ]
  },
  {
   "cell_type": "code",
   "execution_count": 156,
   "metadata": {
    "collapsed": false,
    "deletable": true,
    "editable": true
   },
   "outputs": [
    {
     "name": "stdout",
     "output_type": "stream",
     "text": [
      "The silhouette score for 2 clusters is: 0.37.\n",
      "The silhouette score for 3 clusters is: 0.411.\n",
      "The silhouette score for 4 clusters is: 0.389.\n",
      "The silhouette score for 5 clusters is: 0.396.\n",
      "The silhouette score for 6 clusters is: 0.385.\n",
      "The silhouette score for 7 clusters is: 0.419.\n"
     ]
    }
   ],
   "source": [
    "# set up kmeans algorithm\n",
    "\n",
    "from sklearn.cluster import KMeans\n",
    "from sklearn.metrics import silhouette_score, silhouette_samples\n",
    "\n",
    "def clusterKMeans(k):\n",
    "    clusterer = KMeans(n_clusters=k, random_state=47).fit(red_df)\n",
    "    centroids = clusterer.cluster_centers_\n",
    "    labels = clusterer.labels_\n",
    "    score = silhouette_score(red_df, clusterer.labels_, metric='euclidean')\n",
    "    samples_score = silhouette_samples(red_df, clusterer.labels_, metric='euclidean')\n",
    "    return centroids, labels, score, samples_score\n",
    "\n",
    "for i in range(2,8):\n",
    "    centroids, labels, score, samples_score = clusterKMeans(i)\n",
    "    print(\"The silhouette score for \"+ str(i) + \" clusters is: {:.3}.\".format(score))"
   ]
  },
  {
   "cell_type": "code",
   "execution_count": 157,
   "metadata": {
    "collapsed": false,
    "deletable": true,
    "editable": true
   },
   "outputs": [
    {
     "data": {
      "text/html": [
       "<div>\n",
       "<table border=\"1\" class=\"dataframe\">\n",
       "  <thead>\n",
       "    <tr style=\"text-align: right;\">\n",
       "      <th></th>\n",
       "      <th>X</th>\n",
       "      <th>Y</th>\n",
       "      <th>Cluster</th>\n",
       "      <th>Names</th>\n",
       "    </tr>\n",
       "  </thead>\n",
       "  <tbody>\n",
       "    <tr>\n",
       "      <th>0</th>\n",
       "      <td>-0.196484</td>\n",
       "      <td>0.308973</td>\n",
       "      <td>6</td>\n",
       "      <td>Aberdeen</td>\n",
       "    </tr>\n",
       "    <tr>\n",
       "      <th>1</th>\n",
       "      <td>-0.343523</td>\n",
       "      <td>0.168530</td>\n",
       "      <td>6</td>\n",
       "      <td>Alliance Bernstein</td>\n",
       "    </tr>\n",
       "    <tr>\n",
       "      <th>2</th>\n",
       "      <td>0.027285</td>\n",
       "      <td>-0.111950</td>\n",
       "      <td>3</td>\n",
       "      <td>Allianz</td>\n",
       "    </tr>\n",
       "    <tr>\n",
       "      <th>3</th>\n",
       "      <td>-0.224798</td>\n",
       "      <td>-0.098185</td>\n",
       "      <td>2</td>\n",
       "      <td>Amundi</td>\n",
       "    </tr>\n",
       "    <tr>\n",
       "      <th>4</th>\n",
       "      <td>-0.068110</td>\n",
       "      <td>0.101894</td>\n",
       "      <td>3</td>\n",
       "      <td>Aviva</td>\n",
       "    </tr>\n",
       "  </tbody>\n",
       "</table>\n",
       "</div>"
      ],
      "text/plain": [
       "          X         Y  Cluster               Names\n",
       "0 -0.196484  0.308973        6            Aberdeen\n",
       "1 -0.343523  0.168530        6  Alliance Bernstein\n",
       "2  0.027285 -0.111950        3             Allianz\n",
       "3 -0.224798 -0.098185        2              Amundi\n",
       "4 -0.068110  0.101894        3               Aviva"
      ]
     },
     "execution_count": 157,
     "metadata": {},
     "output_type": "execute_result"
    }
   ],
   "source": [
    "# edit number of clusters\n",
    "\n",
    "for i in range(7,8):\n",
    "    centroids, labels, score, samples_score = clusterKMeans(i)\n",
    "    \n",
    "red_df['Cluster'] = labels\n",
    "\n",
    "red_df[\"Names\"] = list_of_names\n",
    "\n",
    "red_df.head()\n"
   ]
  },
  {
   "cell_type": "code",
   "execution_count": 158,
   "metadata": {
    "collapsed": false,
    "deletable": true,
    "editable": true
   },
   "outputs": [
    {
     "data": {
      "text/html": [
       "<div>\n",
       "<table border=\"1\" class=\"dataframe\">\n",
       "  <thead>\n",
       "    <tr style=\"text-align: right;\">\n",
       "      <th></th>\n",
       "      <th>X</th>\n",
       "      <th>Y</th>\n",
       "      <th>Cluster</th>\n",
       "      <th>Names</th>\n",
       "      <th>Centroidx</th>\n",
       "      <th>Centroidy</th>\n",
       "    </tr>\n",
       "  </thead>\n",
       "  <tbody>\n",
       "    <tr>\n",
       "      <th>56</th>\n",
       "      <td>0.086075</td>\n",
       "      <td>0.126187</td>\n",
       "      <td>4</td>\n",
       "      <td>UBP</td>\n",
       "      <td>[0.108410479476]</td>\n",
       "      <td>[0.228439288427]</td>\n",
       "    </tr>\n",
       "    <tr>\n",
       "      <th>57</th>\n",
       "      <td>0.110754</td>\n",
       "      <td>0.261798</td>\n",
       "      <td>4</td>\n",
       "      <td>UBS</td>\n",
       "      <td>[0.108410479476]</td>\n",
       "      <td>[0.228439288427]</td>\n",
       "    </tr>\n",
       "    <tr>\n",
       "      <th>58</th>\n",
       "      <td>-0.278827</td>\n",
       "      <td>0.063555</td>\n",
       "      <td>2</td>\n",
       "      <td>Unicredit</td>\n",
       "      <td>[-0.197427309153]</td>\n",
       "      <td>[-0.0353500908737]</td>\n",
       "    </tr>\n",
       "    <tr>\n",
       "      <th>59</th>\n",
       "      <td>-0.235618</td>\n",
       "      <td>-0.094101</td>\n",
       "      <td>2</td>\n",
       "      <td>Vanguard</td>\n",
       "      <td>[-0.197427309153]</td>\n",
       "      <td>[-0.0353500908737]</td>\n",
       "    </tr>\n",
       "    <tr>\n",
       "      <th>60</th>\n",
       "      <td>-0.062996</td>\n",
       "      <td>-0.330348</td>\n",
       "      <td>0</td>\n",
       "      <td>Wellington</td>\n",
       "      <td>[-0.120720189355]</td>\n",
       "      <td>[-0.24857047292]</td>\n",
       "    </tr>\n",
       "  </tbody>\n",
       "</table>\n",
       "</div>"
      ],
      "text/plain": [
       "           X         Y  Cluster       Names          Centroidx  \\\n",
       "56  0.086075  0.126187        4         UBP   [0.108410479476]   \n",
       "57  0.110754  0.261798        4         UBS   [0.108410479476]   \n",
       "58 -0.278827  0.063555        2   Unicredit  [-0.197427309153]   \n",
       "59 -0.235618 -0.094101        2    Vanguard  [-0.197427309153]   \n",
       "60 -0.062996 -0.330348        0  Wellington  [-0.120720189355]   \n",
       "\n",
       "             Centroidy  \n",
       "56    [0.228439288427]  \n",
       "57    [0.228439288427]  \n",
       "58  [-0.0353500908737]  \n",
       "59  [-0.0353500908737]  \n",
       "60    [-0.24857047292]  "
      ]
     },
     "execution_count": 158,
     "metadata": {},
     "output_type": "execute_result"
    }
   ],
   "source": [
    "#add centroid coordinates for each cluster\n",
    "\n",
    "centroidsx = {0:centroids[0:1,0], 1:centroids[1:2, 0], 2:centroids[2:3, 0], 3:centroids[3:4, 0],\n",
    "             4:centroids[4:5, 0], 5:centroids[5:6, 0], 6:centroids[6:7, 0]}\n",
    "\n",
    "centroidsy = {0:centroids[0:1,1], 1:centroids[1:2, 1], 2:centroids[2:3, 1], 3:centroids[3:4, 1],\n",
    "             4:centroids[4:5, 1], 5:centroids[5:6, 1], 6:centroids[6:7, 1]}\n",
    "\n",
    "red_df['Centroidx'] = red_df['Cluster'].map(centroidsx)\n",
    "\n",
    "red_df['Centroidy'] = red_df['Cluster'].map(centroidsy)\n",
    "\n",
    "red_df.tail()\n"
   ]
  },
  {
   "cell_type": "code",
   "execution_count": 159,
   "metadata": {
    "collapsed": false,
    "deletable": true,
    "editable": true
   },
   "outputs": [
    {
     "data": {
      "text/html": [
       "<div>\n",
       "<table border=\"1\" class=\"dataframe\">\n",
       "  <thead>\n",
       "    <tr style=\"text-align: right;\">\n",
       "      <th></th>\n",
       "      <th>X</th>\n",
       "      <th>Y</th>\n",
       "      <th>Cluster</th>\n",
       "      <th>Names</th>\n",
       "      <th>Centroidx</th>\n",
       "      <th>Centroidy</th>\n",
       "      <th>Colour</th>\n",
       "    </tr>\n",
       "  </thead>\n",
       "  <tbody>\n",
       "    <tr>\n",
       "      <th>60</th>\n",
       "      <td>-0.062996</td>\n",
       "      <td>-0.330348</td>\n",
       "      <td>0</td>\n",
       "      <td>Wellington</td>\n",
       "      <td>[-0.120720189355]</td>\n",
       "      <td>[-0.24857047292]</td>\n",
       "      <td>magenta</td>\n",
       "    </tr>\n",
       "    <tr>\n",
       "      <th>20</th>\n",
       "      <td>-0.018494</td>\n",
       "      <td>-0.338649</td>\n",
       "      <td>0</td>\n",
       "      <td>Franklin Templeton</td>\n",
       "      <td>[-0.120720189355]</td>\n",
       "      <td>[-0.24857047292]</td>\n",
       "      <td>magenta</td>\n",
       "    </tr>\n",
       "  </tbody>\n",
       "</table>\n",
       "</div>"
      ],
      "text/plain": [
       "           X         Y  Cluster               Names          Centroidx  \\\n",
       "60 -0.062996 -0.330348        0          Wellington  [-0.120720189355]   \n",
       "20 -0.018494 -0.338649        0  Franklin Templeton  [-0.120720189355]   \n",
       "\n",
       "           Centroidy   Colour  \n",
       "60  [-0.24857047292]  magenta  \n",
       "20  [-0.24857047292]  magenta  "
      ]
     },
     "execution_count": 159,
     "metadata": {},
     "output_type": "execute_result"
    }
   ],
   "source": [
    "#set colours\n",
    "\n",
    "colour_dict = {0:'magenta', 1:'cyan', 2:'limegreen', 3:'navy', 4:'gold', 5:'darkorange', 6:'purple', 7:'indigo'}\n",
    "red_df['Colour'] = red_df['Cluster'].map(colour_dict)\n",
    "\n",
    "red_df.sort_values('Cluster').iloc[0:2]"
   ]
  },
  {
   "cell_type": "code",
   "execution_count": 160,
   "metadata": {
    "collapsed": false,
    "deletable": true,
    "editable": true
   },
   "outputs": [
    {
     "data": {
      "text/html": [
       "<div>\n",
       "<table border=\"1\" class=\"dataframe\">\n",
       "  <thead>\n",
       "    <tr style=\"text-align: right;\">\n",
       "      <th></th>\n",
       "      <th>Words</th>\n",
       "      <th>Cluster</th>\n",
       "    </tr>\n",
       "  </thead>\n",
       "  <tbody>\n",
       "    <tr>\n",
       "      <th>60</th>\n",
       "      <td>wellington something punch bowl fundamental va...</td>\n",
       "      <td>0</td>\n",
       "    </tr>\n",
       "    <tr>\n",
       "      <th>20</th>\n",
       "      <td>franklin templeton macro yield risk number fac...</td>\n",
       "      <td>0</td>\n",
       "    </tr>\n",
       "    <tr>\n",
       "      <th>35</th>\n",
       "      <td>loomis sayles sector team globe opportunity tr...</td>\n",
       "      <td>0</td>\n",
       "    </tr>\n",
       "    <tr>\n",
       "      <th>36</th>\n",
       "      <td>macquarie climate course asset price equity in...</td>\n",
       "      <td>0</td>\n",
       "    </tr>\n",
       "    <tr>\n",
       "      <th>27</th>\n",
       "      <td>investec selectivity growth growth cycle cycle...</td>\n",
       "      <td>0</td>\n",
       "    </tr>\n",
       "  </tbody>\n",
       "</table>\n",
       "</div>"
      ],
      "text/plain": [
       "                                                Words  Cluster\n",
       "60  wellington something punch bowl fundamental va...        0\n",
       "20  franklin templeton macro yield risk number fac...        0\n",
       "35  loomis sayles sector team globe opportunity tr...        0\n",
       "36  macquarie climate course asset price equity in...        0\n",
       "27  investec selectivity growth growth cycle cycle...        0"
      ]
     },
     "execution_count": 160,
     "metadata": {},
     "output_type": "execute_result"
    }
   ],
   "source": [
    "# build clusters\n",
    "# add all strings to dataframe, then add up words if in same cluster\n",
    "\n",
    "stuff = [\"'\", \"+\", '1', '2', '3', '4', '5', '6', '7', '8', '9', '0', '*', '.', '\"', ',']\n",
    "chars = [''.join([char for char in l if char not in stuff]) for l in corpus]\n",
    "wrds = pd.DataFrame(chars, columns = ['Words'])\n",
    "\n",
    "wrds['Cluster'] = red_df['Cluster']\n",
    "wrds.sort_values('Cluster').head()"
   ]
  },
  {
   "cell_type": "code",
   "execution_count": 161,
   "metadata": {
    "collapsed": false,
    "deletable": true,
    "editable": true
   },
   "outputs": [],
   "source": [
    "# build clusters continued\n",
    "\n",
    "cluster_0 = []\n",
    "cluster_1 = []\n",
    "cluster_2 = []\n",
    "cluster_3 = []\n",
    "cluster_4 = []\n",
    "cluster_5 = []\n",
    "cluster_6 = []\n",
    "\n",
    "\n",
    "for row in wrds['Cluster']:\n",
    "    if row == 0:\n",
    "        cluster_0.append(wrds['Words'][wrds['Cluster']==0])\n",
    "    elif row == 1:\n",
    "        cluster_1.append(wrds['Words'][wrds['Cluster']==1])\n",
    "    elif row == 2:\n",
    "        cluster_2.append(wrds['Words'][wrds['Cluster']==2])\n",
    "    elif row == 3:\n",
    "        cluster_3.append(wrds['Words'][wrds['Cluster']==3])\n",
    "    elif row == 4:\n",
    "        cluster_4.append(wrds['Words'][wrds['Cluster']==4])\n",
    "    elif row == 5:\n",
    "        cluster_5.append(wrds['Words'][wrds['Cluster']==5])\n",
    "    else:\n",
    "        cluster_6.append(wrds['Words'][wrds['Cluster']==6])"
   ]
  },
  {
   "cell_type": "code",
   "execution_count": 162,
   "metadata": {
    "collapsed": false,
    "deletable": true,
    "editable": true
   },
   "outputs": [
    {
     "data": {
      "text/plain": [
       "0     aberdeen january highlight strength sign momen...\n",
       "1     alliance bernstein macro forecast trend consen...\n",
       "6     barclays exuberance expansion health surprise ...\n",
       "14    credit suisse capex policy growth driver emplo...\n",
       "15    danske january trend denmark time growth risk ...\n",
       "22    goldman sachs time world prediction strength g...\n",
       "23    hermes risk n link populism none money sink qe...\n",
       "26    invesco key takeaway expansion history growth ...\n",
       "53    life age growth unemployment pressure trade ba...\n",
       "54    rowe price accommodation point momentum growth...\n",
       "Name: Words, dtype: object"
      ]
     },
     "execution_count": 162,
     "metadata": {},
     "output_type": "execute_result"
    }
   ],
   "source": [
    "cluster_6[0]\n"
   ]
  },
  {
   "cell_type": "code",
   "execution_count": null,
   "metadata": {
    "collapsed": true,
    "deletable": true,
    "editable": true
   },
   "outputs": [],
   "source": []
  },
  {
   "cell_type": "code",
   "execution_count": 163,
   "metadata": {
    "collapsed": true,
    "deletable": true,
    "editable": true
   },
   "outputs": [],
   "source": [
    "# find most frequent words in each cluster\n",
    "\n",
    "from sklearn.feature_extraction.text import CountVectorizer\n",
    "import operator\n",
    "\n",
    "\n",
    "# edit number of clusters\n",
    "\n",
    "texts = [cluster_0, cluster_1, cluster_2, cluster_3, cluster_4, cluster_5, cluster_6]\n",
    "\n",
    "def most_frequent_words(cluster):\n",
    "    vectorizer = CountVectorizer()\n",
    "    X = vectorizer.fit_transform(cluster)\n",
    "    freq = np.ravel(X.sum(axis=0)) # sum each columns to get total counts for each word\n",
    "\n",
    "    # get vocabulary keys, sorted by value\n",
    "\n",
    "    vocab = [v[0] for v in sorted(vectorizer.vocabulary_.items(), key=operator.itemgetter(1))]\n",
    "    fdist = dict(zip(vocab, freq)) # return same format as nltk\n",
    "    fdist_sorted = sorted(fdist, key=fdist.get, reverse=True)[:5]\n",
    "    return fdist_sorted"
   ]
  },
  {
   "cell_type": "code",
   "execution_count": 164,
   "metadata": {
    "collapsed": false,
    "deletable": true,
    "editable": true
   },
   "outputs": [
    {
     "data": {
      "text/plain": [
       "['growth', 'rate', 'risk', 'inflation', 'equity']"
      ]
     },
     "execution_count": 164,
     "metadata": {},
     "output_type": "execute_result"
    }
   ],
   "source": [
    "fdist_sorted_0 = most_frequent_words(raw_text(cluster_0))\n",
    "fdist_sorted_0"
   ]
  },
  {
   "cell_type": "code",
   "execution_count": 165,
   "metadata": {
    "collapsed": false,
    "deletable": true,
    "editable": true
   },
   "outputs": [],
   "source": [
    "freq_words = []\n",
    "\n",
    "for t in texts:\n",
    "    freq = most_frequent_words(raw_text(t))\n",
    "    freq_words.append(freq)"
   ]
  },
  {
   "cell_type": "code",
   "execution_count": 166,
   "metadata": {
    "collapsed": false,
    "deletable": true,
    "editable": true
   },
   "outputs": [
    {
     "data": {
      "text/html": [
       "<div>\n",
       "<table border=\"1\" class=\"dataframe\">\n",
       "  <thead>\n",
       "    <tr style=\"text-align: right;\">\n",
       "      <th></th>\n",
       "      <th>Words</th>\n",
       "      <th>Cluster</th>\n",
       "      <th>Centroid_x</th>\n",
       "      <th>Centroid_y</th>\n",
       "    </tr>\n",
       "  </thead>\n",
       "  <tbody>\n",
       "    <tr>\n",
       "      <th>0</th>\n",
       "      <td>growth rate risk inflation equity</td>\n",
       "      <td>0</td>\n",
       "      <td>[-0.120720189355]</td>\n",
       "      <td>[-0.24857047292]</td>\n",
       "    </tr>\n",
       "    <tr>\n",
       "      <th>1</th>\n",
       "      <td>growth stock risk company price</td>\n",
       "      <td>1</td>\n",
       "      <td>[0.350672980837]</td>\n",
       "      <td>[0.0546960508492]</td>\n",
       "    </tr>\n",
       "    <tr>\n",
       "      <th>2</th>\n",
       "      <td>growth rate inflation risk policy</td>\n",
       "      <td>2</td>\n",
       "      <td>[-0.197427309153]</td>\n",
       "      <td>[-0.0353500908737]</td>\n",
       "    </tr>\n",
       "    <tr>\n",
       "      <th>3</th>\n",
       "      <td>growth rate inflation bond price</td>\n",
       "      <td>3</td>\n",
       "      <td>[0.0612561316375]</td>\n",
       "      <td>[0.00383278889411]</td>\n",
       "    </tr>\n",
       "    <tr>\n",
       "      <th>4</th>\n",
       "      <td>growth policy cycle election uncertainty</td>\n",
       "      <td>4</td>\n",
       "      <td>[0.108410479476]</td>\n",
       "      <td>[0.228439288427]</td>\n",
       "    </tr>\n",
       "    <tr>\n",
       "      <th>5</th>\n",
       "      <td>bond growth stock sector rate</td>\n",
       "      <td>5</td>\n",
       "      <td>[0.190039466737]</td>\n",
       "      <td>[-0.25381866173]</td>\n",
       "    </tr>\n",
       "    <tr>\n",
       "      <th>6</th>\n",
       "      <td>growth rate inflation price policy</td>\n",
       "      <td>6</td>\n",
       "      <td>[-0.213558033474]</td>\n",
       "      <td>[0.228714629359]</td>\n",
       "    </tr>\n",
       "  </tbody>\n",
       "</table>\n",
       "</div>"
      ],
      "text/plain": [
       "                                      Words  Cluster         Centroid_x  \\\n",
       "0         growth rate risk inflation equity        0  [-0.120720189355]   \n",
       "1           growth stock risk company price        1   [0.350672980837]   \n",
       "2         growth rate inflation risk policy        2  [-0.197427309153]   \n",
       "3          growth rate inflation bond price        3  [0.0612561316375]   \n",
       "4  growth policy cycle election uncertainty        4   [0.108410479476]   \n",
       "5             bond growth stock sector rate        5   [0.190039466737]   \n",
       "6        growth rate inflation price policy        6  [-0.213558033474]   \n",
       "\n",
       "           Centroid_y  \n",
       "0    [-0.24857047292]  \n",
       "1   [0.0546960508492]  \n",
       "2  [-0.0353500908737]  \n",
       "3  [0.00383278889411]  \n",
       "4    [0.228439288427]  \n",
       "5    [-0.25381866173]  \n",
       "6    [0.228714629359]  "
      ]
     },
     "execution_count": 166,
     "metadata": {},
     "output_type": "execute_result"
    }
   ],
   "source": [
    "cl = raw_text(freq_words)\n",
    "clu = pd.DataFrame(cl, columns=['Words'])\n",
    "clu['Cluster'] = range(0, len(texts))\n",
    "\n",
    "clu['Centroid_x'] = clu['Cluster'].map(centroidsx)\n",
    "clu['Centroid_y'] = clu['Cluster'].map(centroidsy)\n",
    "\n",
    "clu"
   ]
  },
  {
   "cell_type": "code",
   "execution_count": 167,
   "metadata": {
    "collapsed": false,
    "deletable": true,
    "editable": true,
    "scrolled": true
   },
   "outputs": [
    {
     "data": {
      "image/png": "[encoded data removed]",
      "text/plain": [
       "<matplotlib.figure.Figure at 0x10aa4c88>"
      ]
     },
     "metadata": {},
     "output_type": "display_data"
    }
   ],
   "source": [
    "# visualise results\n",
    "\n",
    "fig = plt.figure(figsize=(10,10))\n",
    "\n",
    "sns.set_style(\"white\")\n",
    "plt.rc('xtick', labelsize=10) \n",
    "plt.rc('ytick', labelsize=10) \n",
    "plt.xlim(-0.5,0.8)\n",
    "plt.ylim(-0.6,0.5)\n",
    "plt.rcParams.update({'font.size': 12})\n",
    "ax1 = fig.add_subplot(111)\n",
    "ax2 = fig.add_subplot(111)\n",
    "\n",
    "ax1.scatter(red_df['X'], red_df['Y'], c=red_df['Colour'], marker='o', s=200,\n",
    "            edgecolors='none', alpha=0.7,label='')\n",
    "ax2.scatter(clu['Centroid_x'], clu['Centroid_y'], s=30, c='k', marker=\"x\", label=clu['Words'])\n",
    "\n",
    "import matplotlib.patches as mpatches\n",
    "from matplotlib.legend_handler import HandlerPatch\n",
    "import matplotlib.lines as mlines\n",
    "\n",
    "line0 = mlines.Line2D([], [], color='magenta', marker='o', markersize=10, linestyle='None',label='')\n",
    "line1 = mlines.Line2D([], [], color='cyan', marker='o', markersize=10, linestyle='None',label='')\n",
    "line2 = mlines.Line2D([], [], color='limegreen', marker='o', markersize=10, linestyle='None', label='')\n",
    "line3 = mlines.Line2D([], [], color='navy', marker='o', markersize=10, linestyle='None', label='')\n",
    "line4 = mlines.Line2D([], [], color='gold', marker='o', markersize=10, linestyle='None', label='')\n",
    "line5 = mlines.Line2D([], [], color='darkorange', marker='o', markersize=10, linestyle='None', label='')\n",
    "line6 = mlines.Line2D([], [], color='purple', marker='o', markersize=10, linestyle='None', label='')\n",
    "\n",
    "ax2.legend([line0, line1, line2, line3, line4, line5, line6],[c for c in clu['Words']],\n",
    "         loc = 'lower center', ncol=2, labelspacing=0.5, fontsize=12)\n",
    "\n",
    "for i in range(len(red_df)):\n",
    "    ax1.text(red_df.ix[i]['X'], red_df.ix[i]['Y'], red_df.ix[i]['Names'], size=12)  "
   ]
  },
  {
   "cell_type": "markdown",
   "metadata": {
    "deletable": true,
    "editable": true
   },
   "source": [
    "# LDA topic modelling\n",
    "\n",
    "magenta: growth  rate  risk  inflation  equity  bond  policy  asset  credit  yield\n",
    "\n",
    "cyan: growth  rate  price  risk  bond  equity  sector  term  yield  policy\n",
    "\n",
    "limegreen: growth  rate  inflation  price  policy  risk  q  term  wage  interest\n"
   ]
  },
  {
   "cell_type": "code",
   "execution_count": 168,
   "metadata": {
    "collapsed": false,
    "deletable": true,
    "editable": true
   },
   "outputs": [],
   "source": [
    "# prepare clusters for Latent Dirichlet Allocation\n",
    "\n",
    "def prep_cluster(text):\n",
    "    t = [[i for i in ls.split()] for ls in text[0]]\n",
    "    return t\n"
   ]
  },
  {
   "cell_type": "code",
   "execution_count": 169,
   "metadata": {
    "collapsed": false,
    "deletable": true,
    "editable": true
   },
   "outputs": [],
   "source": [
    "# edit number of clusters\n",
    "\n",
    "cl_0 = prep_cluster(cluster_0)\n",
    "cl_1 = prep_cluster(cluster_1)\n",
    "cl_2 = prep_cluster(cluster_2)\n",
    "cl_3 = prep_cluster(cluster_3)\n",
    "cl_4 = prep_cluster(cluster_4)\n",
    "cl_5 = prep_cluster(cluster_5)\n",
    "cl_6 = prep_cluster(cluster_6)"
   ]
  },
  {
   "cell_type": "code",
   "execution_count": 170,
   "metadata": {
    "collapsed": false,
    "deletable": true,
    "editable": true
   },
   "outputs": [],
   "source": [
    "# edit number of clusters\n",
    "\n",
    "clusters = [cl_0, cl_1, cl_2, cl_3, cl_4, cl_5, cl_6]"
   ]
  },
  {
   "cell_type": "code",
   "execution_count": 171,
   "metadata": {
    "collapsed": false,
    "deletable": true,
    "editable": true
   },
   "outputs": [],
   "source": [
    "# use Latent Dirichlet Allocation for topic modelling\n",
    "\n",
    "from gensim import corpora, models \n",
    "\n",
    "def lda_model(words):\n",
    "    for c in clusters:\n",
    "        dictionary = corpora.Dictionary(c)\n",
    "        corpus_lda = [dictionary.doc2bow(text) for text in c] \n",
    "        lda = models.LdaModel(corpus_lda, num_topics=1,  \n",
    "                                id2word=dictionary) \n",
    "        topics_matrix = lda.show_topics(formatted=True, num_words=10)\n",
    "        raw = raw_text(topics_matrix)\n",
    "        stuff = [\"'\", \"+\", '1', '2', '3', '4', '5', '6', '7', '8', '9', '0', '*', '.', '\"', ',']\n",
    "        chars = [''.join([char for char in l if char not in stuff]) for l in raw]\n",
    "        topics = pd.DataFrame(chars, columns = ['Words'])\n",
    "        for w in topics.Words:\n",
    "            print(w)\n",
    "    return "
   ]
  },
  {
   "cell_type": "code",
   "execution_count": 172,
   "metadata": {
    "collapsed": false,
    "deletable": true,
    "editable": true
   },
   "outputs": [
    {
     "name": "stdout",
     "output_type": "stream",
     "text": [
      " growth  rate  risk  inflation  equity  policy  bond  credit  yield  asset\n",
      " growth  stock  risk  price  company  rate  race  term  value  valuation\n",
      " growth  rate  inflation  risk  policy  yield  equity  asset  term  return\n",
      " growth  rate  inflation  bond  price  policy  risk  yield  interest  equity\n",
      " growth  policy  cycle  uncertainty  election  gdp  liquidity  rate  recovery  sheet\n",
      " bond  growth  stock  sector  rate  equity  volatility  yield  inflation  risk\n",
      " growth  rate  inflation  price  policy  risk  term  wage  tax  forecast\n"
     ]
    }
   ],
   "source": [
    "lda_model(clusters)\n"
   ]
  },
  {
   "cell_type": "code",
   "execution_count": 173,
   "metadata": {
    "collapsed": false,
    "deletable": true,
    "editable": true
   },
   "outputs": [
    {
     "data": {
      "text/html": [
       "<div>\n",
       "<table border=\"1\" class=\"dataframe\">\n",
       "  <thead>\n",
       "    <tr style=\"text-align: right;\">\n",
       "      <th></th>\n",
       "      <th>X</th>\n",
       "      <th>Y</th>\n",
       "      <th>Cluster</th>\n",
       "    </tr>\n",
       "    <tr>\n",
       "      <th>Colour</th>\n",
       "      <th></th>\n",
       "      <th></th>\n",
       "      <th></th>\n",
       "    </tr>\n",
       "  </thead>\n",
       "  <tbody>\n",
       "    <tr>\n",
       "      <th>cyan</th>\n",
       "      <td>0.350673</td>\n",
       "      <td>0.054696</td>\n",
       "      <td>1</td>\n",
       "    </tr>\n",
       "    <tr>\n",
       "      <th>darkorange</th>\n",
       "      <td>0.190039</td>\n",
       "      <td>-0.253819</td>\n",
       "      <td>5</td>\n",
       "    </tr>\n",
       "    <tr>\n",
       "      <th>gold</th>\n",
       "      <td>0.108410</td>\n",
       "      <td>0.228439</td>\n",
       "      <td>4</td>\n",
       "    </tr>\n",
       "    <tr>\n",
       "      <th>limegreen</th>\n",
       "      <td>-0.197427</td>\n",
       "      <td>-0.035350</td>\n",
       "      <td>2</td>\n",
       "    </tr>\n",
       "    <tr>\n",
       "      <th>magenta</th>\n",
       "      <td>-0.120720</td>\n",
       "      <td>-0.248570</td>\n",
       "      <td>0</td>\n",
       "    </tr>\n",
       "    <tr>\n",
       "      <th>navy</th>\n",
       "      <td>0.061256</td>\n",
       "      <td>0.003833</td>\n",
       "      <td>3</td>\n",
       "    </tr>\n",
       "    <tr>\n",
       "      <th>purple</th>\n",
       "      <td>-0.213558</td>\n",
       "      <td>0.228715</td>\n",
       "      <td>6</td>\n",
       "    </tr>\n",
       "  </tbody>\n",
       "</table>\n",
       "</div>"
      ],
      "text/plain": [
       "                   X         Y  Cluster\n",
       "Colour                                 \n",
       "cyan        0.350673  0.054696        1\n",
       "darkorange  0.190039 -0.253819        5\n",
       "gold        0.108410  0.228439        4\n",
       "limegreen  -0.197427 -0.035350        2\n",
       "magenta    -0.120720 -0.248570        0\n",
       "navy        0.061256  0.003833        3\n",
       "purple     -0.213558  0.228715        6"
      ]
     },
     "execution_count": 173,
     "metadata": {},
     "output_type": "execute_result"
    }
   ],
   "source": [
    "red_df.groupby(by='Colour', axis=0).mean()"
   ]
  },
  {
   "cell_type": "markdown",
   "metadata": {
    "deletable": true,
    "editable": true
   },
   "source": [
    "# LDA topic modelling\n",
    "\n",
    "magenta: growth  rate  risk  inflation  equity  bond  policy  asset  credit  yield\n",
    "\n",
    "cyan: growth  rate  price  risk  bond  equity  sector  term  yield  policy\n",
    "\n",
    "limegreen: growth  rate  inflation  price  policy  risk  q  term  wage  interest\n"
   ]
  },
  {
   "cell_type": "code",
   "execution_count": 174,
   "metadata": {
    "collapsed": false,
    "deletable": true,
    "editable": true
   },
   "outputs": [],
   "source": [
    "# generate ngrams\n",
    "\n",
    "from nltk.util import ngrams\n",
    "from collections import Counter"
   ]
  },
  {
   "cell_type": "code",
   "execution_count": 175,
   "metadata": {
    "collapsed": false,
    "deletable": true,
    "editable": true
   },
   "outputs": [],
   "source": [
    "def ngram_counter(cluster):\n",
    "    counts = Counter()\n",
    "    for sent in cluster:\n",
    "        counts.update(\" \".join(n) for n in nltk.ngrams(sent, 2))\n",
    "    #print(counts.most_common(3))\n",
    "    #print(' ')\n",
    "    return counts.most_common(3)"
   ]
  },
  {
   "cell_type": "code",
   "execution_count": 176,
   "metadata": {
    "collapsed": false,
    "deletable": true,
    "editable": true
   },
   "outputs": [],
   "source": [
    "grams = []\n",
    "for c in clusters:\n",
    "    \n",
    "    #print('Cluster',  clusters.index(c), ':')\n",
    "    g = ngram_counter(c)\n",
    "    grams.append(g)\n"
   ]
  },
  {
   "cell_type": "code",
   "execution_count": 177,
   "metadata": {
    "collapsed": false,
    "deletable": true,
    "editable": true
   },
   "outputs": [
    {
     "data": {
      "text/plain": [
       "[[('interest rate', 89), ('government bond', 32), ('balance sheet', 28)],\n",
       " [('interest rate', 19), ('risk premium', 9), ('discount rate', 9)],\n",
       " [('interest rate', 103), ('balance sheet', 56), ('rate hike', 43)],\n",
       " [('interest rate', 44), ('oil price', 15), ('bond yield', 14)],\n",
       " [('policy uncertainty', 11), ('balance sheet', 11), ('business cycle', 9)],\n",
       " [('interest rate', 20), ('government bond', 8), ('bond yield', 8)],\n",
       " [('interest rate', 61), ('wage growth', 36), ('rate hike', 31)]]"
      ]
     },
     "execution_count": 177,
     "metadata": {},
     "output_type": "execute_result"
    }
   ],
   "source": [
    "grams"
   ]
  },
  {
   "cell_type": "code",
   "execution_count": 178,
   "metadata": {
    "collapsed": false,
    "deletable": true,
    "editable": true
   },
   "outputs": [],
   "source": [
    "top_grams = []\n",
    "\n",
    "for g in grams:\n",
    "    for m in g:\n",
    "        top_grams.append(m[0])\n",
    "    "
   ]
  },
  {
   "cell_type": "code",
   "execution_count": 179,
   "metadata": {
    "collapsed": false,
    "deletable": true,
    "editable": true
   },
   "outputs": [
    {
     "data": {
      "text/plain": [
       "['interest rate',\n",
       " 'government bond',\n",
       " 'balance sheet',\n",
       " 'interest rate',\n",
       " 'risk premium',\n",
       " 'discount rate',\n",
       " 'interest rate',\n",
       " 'balance sheet',\n",
       " 'rate hike',\n",
       " 'interest rate',\n",
       " 'oil price',\n",
       " 'bond yield',\n",
       " 'policy uncertainty',\n",
       " 'balance sheet',\n",
       " 'business cycle',\n",
       " 'interest rate',\n",
       " 'government bond',\n",
       " 'bond yield',\n",
       " 'interest rate',\n",
       " 'wage growth',\n",
       " 'rate hike']"
      ]
     },
     "execution_count": 179,
     "metadata": {},
     "output_type": "execute_result"
    }
   ],
   "source": [
    "top_grams"
   ]
  },
  {
   "cell_type": "code",
   "execution_count": 180,
   "metadata": {
    "collapsed": false,
    "deletable": true,
    "editable": true
   },
   "outputs": [],
   "source": [
    "# edit number of clusters\n",
    "\n",
    "clu['top_grams'] = [top_grams[0:3], top_grams[3:6], top_grams[6:9], top_grams[9:12], top_grams[12:15],\n",
    "                   top_grams[15:18], top_grams[18:21]]"
   ]
  },
  {
   "cell_type": "code",
   "execution_count": 181,
   "metadata": {
    "collapsed": false,
    "deletable": true,
    "editable": true
   },
   "outputs": [
    {
     "data": {
      "text/html": [
       "<div>\n",
       "<table border=\"1\" class=\"dataframe\">\n",
       "  <thead>\n",
       "    <tr style=\"text-align: right;\">\n",
       "      <th></th>\n",
       "      <th>Words</th>\n",
       "      <th>Cluster</th>\n",
       "      <th>Centroid_x</th>\n",
       "      <th>Centroid_y</th>\n",
       "      <th>top_grams</th>\n",
       "    </tr>\n",
       "  </thead>\n",
       "  <tbody>\n",
       "    <tr>\n",
       "      <th>0</th>\n",
       "      <td>growth rate risk inflation equity</td>\n",
       "      <td>0</td>\n",
       "      <td>[-0.120720189355]</td>\n",
       "      <td>[-0.24857047292]</td>\n",
       "      <td>[interest rate, government bond, balance sheet]</td>\n",
       "    </tr>\n",
       "    <tr>\n",
       "      <th>1</th>\n",
       "      <td>growth stock risk company price</td>\n",
       "      <td>1</td>\n",
       "      <td>[0.350672980837]</td>\n",
       "      <td>[0.0546960508492]</td>\n",
       "      <td>[interest rate, risk premium, discount rate]</td>\n",
       "    </tr>\n",
       "    <tr>\n",
       "      <th>2</th>\n",
       "      <td>growth rate inflation risk policy</td>\n",
       "      <td>2</td>\n",
       "      <td>[-0.197427309153]</td>\n",
       "      <td>[-0.0353500908737]</td>\n",
       "      <td>[interest rate, balance sheet, rate hike]</td>\n",
       "    </tr>\n",
       "    <tr>\n",
       "      <th>3</th>\n",
       "      <td>growth rate inflation bond price</td>\n",
       "      <td>3</td>\n",
       "      <td>[0.0612561316375]</td>\n",
       "      <td>[0.00383278889411]</td>\n",
       "      <td>[interest rate, oil price, bond yield]</td>\n",
       "    </tr>\n",
       "    <tr>\n",
       "      <th>4</th>\n",
       "      <td>growth policy cycle election uncertainty</td>\n",
       "      <td>4</td>\n",
       "      <td>[0.108410479476]</td>\n",
       "      <td>[0.228439288427]</td>\n",
       "      <td>[policy uncertainty, balance sheet, business c...</td>\n",
       "    </tr>\n",
       "    <tr>\n",
       "      <th>5</th>\n",
       "      <td>bond growth stock sector rate</td>\n",
       "      <td>5</td>\n",
       "      <td>[0.190039466737]</td>\n",
       "      <td>[-0.25381866173]</td>\n",
       "      <td>[interest rate, government bond, bond yield]</td>\n",
       "    </tr>\n",
       "    <tr>\n",
       "      <th>6</th>\n",
       "      <td>growth rate inflation price policy</td>\n",
       "      <td>6</td>\n",
       "      <td>[-0.213558033474]</td>\n",
       "      <td>[0.228714629359]</td>\n",
       "      <td>[interest rate, wage growth, rate hike]</td>\n",
       "    </tr>\n",
       "  </tbody>\n",
       "</table>\n",
       "</div>"
      ],
      "text/plain": [
       "                                      Words  Cluster         Centroid_x  \\\n",
       "0         growth rate risk inflation equity        0  [-0.120720189355]   \n",
       "1           growth stock risk company price        1   [0.350672980837]   \n",
       "2         growth rate inflation risk policy        2  [-0.197427309153]   \n",
       "3          growth rate inflation bond price        3  [0.0612561316375]   \n",
       "4  growth policy cycle election uncertainty        4   [0.108410479476]   \n",
       "5             bond growth stock sector rate        5   [0.190039466737]   \n",
       "6        growth rate inflation price policy        6  [-0.213558033474]   \n",
       "\n",
       "           Centroid_y                                          top_grams  \n",
       "0    [-0.24857047292]    [interest rate, government bond, balance sheet]  \n",
       "1   [0.0546960508492]       [interest rate, risk premium, discount rate]  \n",
       "2  [-0.0353500908737]          [interest rate, balance sheet, rate hike]  \n",
       "3  [0.00383278889411]             [interest rate, oil price, bond yield]  \n",
       "4    [0.228439288427]  [policy uncertainty, balance sheet, business c...  \n",
       "5    [-0.25381866173]       [interest rate, government bond, bond yield]  \n",
       "6    [0.228714629359]            [interest rate, wage growth, rate hike]  "
      ]
     },
     "execution_count": 181,
     "metadata": {},
     "output_type": "execute_result"
    }
   ],
   "source": [
    "clu"
   ]
  },
  {
   "cell_type": "code",
   "execution_count": 182,
   "metadata": {
    "collapsed": false,
    "deletable": true,
    "editable": true
   },
   "outputs": [
    {
     "data": {
      "image/png": "[encoded data removed]",
      "text/plain": [
       "<matplotlib.figure.Figure at 0x1ca2d5f8>"
      ]
     },
     "metadata": {},
     "output_type": "display_data"
    }
   ],
   "source": [
    "# visualise results with n_grams\n",
    "\n",
    "fig = plt.figure(figsize=(12,10))\n",
    "\n",
    "sns.set_style(\"white\")\n",
    "plt.rc('xtick', labelsize=10) \n",
    "plt.rc('ytick', labelsize=10) \n",
    "plt.xlim(-0.5,0.8)\n",
    "plt.ylim(-0.6,0.5)\n",
    "plt.rcParams.update({'font.size': 12})\n",
    "ax1 = fig.add_subplot(111)\n",
    "ax2 = fig.add_subplot(111)\n",
    "\n",
    "ax1.scatter(red_df['X'], red_df['Y'], c=red_df['Colour'], marker='o', s=200,\n",
    "            edgecolors='none', alpha=0.7,label='')\n",
    "ax2.scatter(clu['Centroid_x'], clu['Centroid_y'], s=30, c='k', marker=\"x\", label=clu['top_grams'])\n",
    "\n",
    "import matplotlib.patches as mpatches\n",
    "from matplotlib.legend_handler import HandlerPatch\n",
    "import matplotlib.lines as mlines\n",
    "\n",
    "line0 = mlines.Line2D([], [], color='magenta', marker='o', markersize=10, linestyle='None',label='')\n",
    "line1 = mlines.Line2D([], [], color='cyan', marker='o', markersize=10, linestyle='None',label='')\n",
    "line2 = mlines.Line2D([], [], color='limegreen', marker='o', markersize=10, linestyle='None', label='')\n",
    "line3 = mlines.Line2D([], [], color='navy', marker='o', markersize=10, linestyle='None', label='')\n",
    "line4 = mlines.Line2D([], [], color='gold', marker='o', markersize=10, linestyle='None', label='')\n",
    "line5 = mlines.Line2D([], [], color='darkorange', marker='o', markersize=10, linestyle='None', label='')\n",
    "line6 = mlines.Line2D([], [], color='purple', marker='o', markersize=10, linestyle='None', label='')\n",
    "\n",
    "ax2.legend([line0, line1, line2, line3, line4, line5, line6],[c for c in clu['top_grams']],\n",
    "         loc = 'lower center', ncol=2, labelspacing=0.5, fontsize=12)\n",
    "\n",
    "for i in range(len(red_df)):\n",
    "    ax1.text(red_df.ix[i]['X'], red_df.ix[i]['Y'], red_df.ix[i]['Names'], size=12)  "
   ]
  },
  {
   "cell_type": "code",
   "execution_count": null,
   "metadata": {
    "collapsed": true,
    "deletable": true,
    "editable": true
   },
   "outputs": [],
   "source": []
  },
  {
   "cell_type": "code",
   "execution_count": null,
   "metadata": {
    "collapsed": true,
    "deletable": true,
    "editable": true
   },
   "outputs": [],
   "source": []
  }
 ],
 "metadata": {
  "kernelspec": {
   "display_name": "Python 3",
   "language": "python",
   "name": "python3"
  },
  "language_info": {
   "codemirror_mode": {
    "name": "ipython",
    "version": 3
   },
   "file_extension": ".py",
   "mimetype": "text/x-python",
   "name": "python",
   "nbconvert_exporter": "python",
   "pygments_lexer": "ipython3",
   "version": "3.5.2"
  }
 },
 "nbformat": 4,
 "nbformat_minor": 2
}
