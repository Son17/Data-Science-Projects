{
 "cells": [
  {
   "cell_type": "code",
   "execution_count": 2,
   "metadata": {
    "collapsed": false
   },
   "outputs": [
    {
     "name": "stdout",
     "output_type": "stream",
     "text": [
      "Enter 1 to convert RGB to HEX. Enter 2 to convert HEX to RGB. Enter X to exit.1\n",
      "RGB to HEX...\n",
      "Enter R for red.111\n",
      "Enter G for green.222\n",
      "Enter B for blue.33\n",
      "6FDE21\n",
      "Enter 1 to convert RGB to HEX. Enter 2 to convert HEX to RGB. Enter X to exit.2\n",
      "HEX to RGB...\n",
      "Enter a hexadecimal value!6FDE21\n",
      "Blue: 33 Green: 222 Red: 111\n",
      "Enter 1 to convert RGB to HEX. Enter 2 to convert HEX to RGB. Enter X to exit.X\n"
     ]
    }
   ],
   "source": [
    "def rgb_hex():\n",
    "    invalid_msg = \"Invalid input!\"\n",
    "    red = int(raw_input(\"Enter R for red.\"))\n",
    "    if (red < 0 or red > 255):\n",
    "        print(\"Invalid input!\")\n",
    "        return\n",
    "    green = int(raw_input(\"Enter G for green.\"))\n",
    "    if (green < 0 or red > 255):\n",
    "        print(\"Invalid input!\")\n",
    "        return \n",
    "    blue = int(raw_input(\"Enter B for blue.\"))\n",
    "    if (blue < 0 or red > 255):\n",
    "        print(\"Invalid input!\")\n",
    "        return       \n",
    "    val = (red << 16) + (green << 8) + blue\n",
    "    print(\"%s\" % (hex(val)[2:]).upper())\n",
    "\n",
    "def hex_rgb():    \n",
    "    hex_val = raw_input(\"Enter a hexadecimal value!\")\n",
    "    if len(hex_val) != 6:\n",
    "        print(\"Invalid entry!\")\n",
    "        return\n",
    "    else:\n",
    "        hex_val = int(hex_val, 16)\n",
    "    two_hex_digits = 2**8\n",
    "    blue = hex_val % two_hex_digits\n",
    "    hex_val = (hex_val >> 8)\n",
    "    green = hex_val % two_hex_digits \n",
    "    hex_val = (hex_val >> 8)\n",
    "    red = hex_val % two_hex_digits\n",
    "    hex_val = (hex_val >> 8)\n",
    "    print(\"Blue: %s Green: %s Red: %s\" % (blue, green, red))\n",
    "\n",
    "def convert():\n",
    "    while True:\n",
    "        option = raw_input(\"Enter 1 to convert RGB to HEX. Enter 2 to convert HEX to RGB. Enter X to exit.\")    \n",
    "        if option == \"1\":\n",
    "            print(\"RGB to HEX...\")\n",
    "            rgb_hex()\n",
    "        elif option == \"2\":\n",
    "            print(\"HEX to RGB...\")\n",
    "            hex_rgb()\n",
    "        elif option == \"X\" or option == \"x\":\n",
    "            break\n",
    "        else:\n",
    "            print(\"Yiek! Error!\")\n",
    "\n",
    "convert()\n",
    "    "
   ]
  },
  {
   "cell_type": "code",
   "execution_count": null,
   "metadata": {
    "collapsed": false
   },
   "outputs": [],
   "source": []
  },
  {
   "cell_type": "code",
   "execution_count": null,
   "metadata": {
    "collapsed": true
   },
   "outputs": [],
   "source": []
  }
 ],
 "metadata": {
  "anaconda-cloud": {},
  "kernelspec": {
   "display_name": "Python [default]",
   "language": "python",
   "name": "python2"
  },
  "language_info": {
   "codemirror_mode": {
    "name": "ipython",
    "version": 2
   },
   "file_extension": ".py",
   "mimetype": "text/x-python",
   "name": "python",
   "nbconvert_exporter": "python",
   "pygments_lexer": "ipython2",
   "version": "2.7.12"
  }
 },
 "nbformat": 4,
 "nbformat_minor": 1
}
