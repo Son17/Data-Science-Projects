{
 "cells": [
  {
   "cell_type": "code",
   "execution_count": 81,
   "metadata": {
    "collapsed": true,
    "deletable": true,
    "editable": true
   },
   "outputs": [],
   "source": [
    "#import libraries\n",
    "import pandas as pd\n",
    "import numpy as np\n",
    "import datetime\n",
    "import matplotlib.pyplot as plt\n",
    "%matplotlib inline\n",
    "import seaborn as sns\n",
    "color = sns.color_palette()"
   ]
  },
  {
   "cell_type": "code",
   "execution_count": 82,
   "metadata": {
    "collapsed": false,
    "deletable": true,
    "editable": true
   },
   "outputs": [],
   "source": [
    "#import data\n",
    "xls_file = pd.ExcelFile('C:\\\\Users\\\\sonja tilly.ABERDEEN\\\\credit spread drivers 0717.xlsx')"
   ]
  },
  {
   "cell_type": "markdown",
   "metadata": {
    "deletable": true,
    "editable": true
   },
   "source": [
    "**Prep data**"
   ]
  },
  {
   "cell_type": "code",
   "execution_count": 83,
   "metadata": {
    "collapsed": false,
    "deletable": true,
    "editable": true
   },
   "outputs": [
    {
     "data": {
      "text/html": [
       "<div>\n",
       "<table border=\"1\" class=\"dataframe\">\n",
       "  <thead>\n",
       "    <tr style=\"text-align: right;\">\n",
       "      <th></th>\n",
       "      <th>FDTR Index</th>\n",
       "      <th>VIX Index</th>\n",
       "      <th>USTW$ Index</th>\n",
       "      <th>USGG10YR Index</th>\n",
       "      <th>USGG30YR Index</th>\n",
       "      <th>USGG5YR Index</th>\n",
       "      <th>USYC2Y10 Index</th>\n",
       "      <th>USYC2Y30 Index</th>\n",
       "      <th>USYC5Y10 Index</th>\n",
       "      <th>USYC2Y5Y Index</th>\n",
       "      <th>...</th>\n",
       "      <th>CICRTOT Index</th>\n",
       "      <th>ARDIMOYY Index</th>\n",
       "      <th>M1% YOY Index</th>\n",
       "      <th>SCGRRAI Index</th>\n",
       "      <th>EMB US Equity</th>\n",
       "      <th>SPE AUTO Index</th>\n",
       "      <th>SPE CARD Index</th>\n",
       "      <th>BFCIUS Index</th>\n",
       "      <th>INJCJMOM Index</th>\n",
       "      <th>LEI CHNG Index</th>\n",
       "    </tr>\n",
       "  </thead>\n",
       "  <tbody>\n",
       "    <tr>\n",
       "      <th>NaT</th>\n",
       "      <td>1.000000e-07</td>\n",
       "      <td>1.000000e-07</td>\n",
       "      <td>1.000000e-07</td>\n",
       "      <td>1.000000e-07</td>\n",
       "      <td>1.000000e-07</td>\n",
       "      <td>1.000000e-07</td>\n",
       "      <td>1.000000e-07</td>\n",
       "      <td>1.000000e-07</td>\n",
       "      <td>1.000000e-07</td>\n",
       "      <td>1.000000e-07</td>\n",
       "      <td>...</td>\n",
       "      <td>1.000000e-07</td>\n",
       "      <td>1.000000e-07</td>\n",
       "      <td>0.0</td>\n",
       "      <td>1.000000e-07</td>\n",
       "      <td>1.000000e-07</td>\n",
       "      <td>1.000000e-07</td>\n",
       "      <td>1.000000e-07</td>\n",
       "      <td>1.000000e-07</td>\n",
       "      <td>1.000000e-07</td>\n",
       "      <td>1.000000e-07</td>\n",
       "    </tr>\n",
       "  </tbody>\n",
       "</table>\n",
       "<p>1 rows × 42 columns</p>\n",
       "</div>"
      ],
      "text/plain": [
       "       FDTR Index     VIX Index   USTW$ Index  USGG10YR Index  USGG30YR Index  \\\n",
       "NaT  1.000000e-07  1.000000e-07  1.000000e-07    1.000000e-07    1.000000e-07   \n",
       "\n",
       "     USGG5YR Index  USYC2Y10 Index  USYC2Y30 Index  USYC5Y10 Index  \\\n",
       "NaT   1.000000e-07    1.000000e-07    1.000000e-07    1.000000e-07   \n",
       "\n",
       "     USYC2Y5Y Index       ...        CICRTOT Index  ARDIMOYY Index  \\\n",
       "NaT    1.000000e-07       ...         1.000000e-07    1.000000e-07   \n",
       "\n",
       "     M1% YOY Index  SCGRRAI Index  EMB US Equity  SPE AUTO Index  \\\n",
       "NaT            0.0   1.000000e-07   1.000000e-07    1.000000e-07   \n",
       "\n",
       "     SPE CARD Index  BFCIUS Index  INJCJMOM Index  LEI CHNG Index  \n",
       "NaT    1.000000e-07  1.000000e-07    1.000000e-07    1.000000e-07  \n",
       "\n",
       "[1 rows x 42 columns]"
      ]
     },
     "execution_count": 83,
     "metadata": {},
     "output_type": "execute_result"
    }
   ],
   "source": [
    "#parse sheet\n",
    "mthly = xls_file.parse('monthly_transformed')\n",
    "mthly = mthly.fillna(0.0000001)\n",
    "mthly.tail(1)"
   ]
  },
  {
   "cell_type": "code",
   "execution_count": 84,
   "metadata": {
    "collapsed": false,
    "deletable": true,
    "editable": true
   },
   "outputs": [
    {
     "data": {
      "text/html": [
       "<div>\n",
       "<table border=\"1\" class=\"dataframe\">\n",
       "  <thead>\n",
       "    <tr style=\"text-align: right;\">\n",
       "      <th></th>\n",
       "      <th>GDP CYOY Index</th>\n",
       "    </tr>\n",
       "  </thead>\n",
       "  <tbody>\n",
       "    <tr>\n",
       "      <th>1997-03-31</th>\n",
       "      <td>1.000000e-07</td>\n",
       "    </tr>\n",
       "    <tr>\n",
       "      <th>1997-06-30</th>\n",
       "      <td>-6.976744e-02</td>\n",
       "    </tr>\n",
       "  </tbody>\n",
       "</table>\n",
       "</div>"
      ],
      "text/plain": [
       "            GDP CYOY Index\n",
       "1997-03-31    1.000000e-07\n",
       "1997-06-30   -6.976744e-02"
      ]
     },
     "execution_count": 84,
     "metadata": {},
     "output_type": "execute_result"
    }
   ],
   "source": [
    "#parse sheet\n",
    "qly = xls_file.parse('qly1_transformed')\n",
    "qly = qly.fillna(0.0000001)\n",
    "qly.head(2)"
   ]
  },
  {
   "cell_type": "code",
   "execution_count": 85,
   "metadata": {
    "collapsed": false,
    "deletable": true,
    "editable": true
   },
   "outputs": [
    {
     "data": {
      "text/html": [
       "<div>\n",
       "<table border=\"1\" class=\"dataframe\">\n",
       "  <thead>\n",
       "    <tr style=\"text-align: right;\">\n",
       "      <th></th>\n",
       "      <th>SLDETIGT Index</th>\n",
       "      <th>SLDETGTS Index</th>\n",
       "    </tr>\n",
       "  </thead>\n",
       "  <tbody>\n",
       "    <tr>\n",
       "      <th>1997-01-31</th>\n",
       "      <td>1.000000e-07</td>\n",
       "      <td>1.000000e-07</td>\n",
       "    </tr>\n",
       "  </tbody>\n",
       "</table>\n",
       "</div>"
      ],
      "text/plain": [
       "            SLDETIGT Index  SLDETGTS Index\n",
       "1997-01-31    1.000000e-07    1.000000e-07"
      ]
     },
     "execution_count": 85,
     "metadata": {},
     "output_type": "execute_result"
    }
   ],
   "source": [
    "#parse sheet\n",
    "qly2 = xls_file.parse('qly2_transformed')\n",
    "qly2 = qly2.fillna(0.0000001)\n",
    "qly2.head(1)"
   ]
  },
  {
   "cell_type": "code",
   "execution_count": 106,
   "metadata": {
    "collapsed": false,
    "deletable": true,
    "editable": true
   },
   "outputs": [
    {
     "data": {
      "text/html": [
       "<div>\n",
       "<table border=\"1\" class=\"dataframe\">\n",
       "  <thead>\n",
       "    <tr style=\"text-align: right;\">\n",
       "      <th></th>\n",
       "      <th>GFSIFFND Index</th>\n",
       "      <th>XLF US Equity</th>\n",
       "      <th>XLE US Equity</th>\n",
       "      <th>XLK US Equity</th>\n",
       "      <th>XLV US Equity</th>\n",
       "      <th>XLI US Equity</th>\n",
       "      <th>XLY US Equity</th>\n",
       "      <th>XLB US Equity</th>\n",
       "      <th>CDX HY CDSI GEN 5Y SPRD Corp</th>\n",
       "    </tr>\n",
       "  </thead>\n",
       "  <tbody>\n",
       "    <tr>\n",
       "      <th>1998-12-31</th>\n",
       "      <td>1.000000e-07</td>\n",
       "      <td>1.000000e-07</td>\n",
       "      <td>1.000000e-07</td>\n",
       "      <td>1.000000e-07</td>\n",
       "      <td>1.000000e-07</td>\n",
       "      <td>1.000000e-07</td>\n",
       "      <td>1.000000e-07</td>\n",
       "      <td>1.000000e-07</td>\n",
       "      <td>1.000000e-07</td>\n",
       "    </tr>\n",
       "  </tbody>\n",
       "</table>\n",
       "</div>"
      ],
      "text/plain": [
       "            GFSIFFND Index  XLF US Equity  XLE US Equity  XLK US Equity  \\\n",
       "1998-12-31    1.000000e-07   1.000000e-07   1.000000e-07   1.000000e-07   \n",
       "\n",
       "            XLV US Equity  XLI US Equity  XLY US Equity  XLB US Equity  \\\n",
       "1998-12-31   1.000000e-07   1.000000e-07   1.000000e-07   1.000000e-07   \n",
       "\n",
       "            CDX HY CDSI GEN 5Y SPRD Corp  \n",
       "1998-12-31                  1.000000e-07  "
      ]
     },
     "execution_count": 106,
     "metadata": {},
     "output_type": "execute_result"
    }
   ],
   "source": [
    "#parse sheet\n",
    "dly = xls_file.parse('dly_transformed')\n",
    "dly = dly.fillna(0.0000001)\n",
    "dly.head(1)"
   ]
  },
  {
   "cell_type": "code",
   "execution_count": 107,
   "metadata": {
    "collapsed": false,
    "deletable": true,
    "editable": true
   },
   "outputs": [
    {
     "data": {
      "text/html": [
       "<div>\n",
       "<table border=\"1\" class=\"dataframe\">\n",
       "  <thead>\n",
       "    <tr style=\"text-align: right;\">\n",
       "      <th></th>\n",
       "      <th>GDP CYOY Index</th>\n",
       "    </tr>\n",
       "  </thead>\n",
       "  <tbody>\n",
       "    <tr>\n",
       "      <th>1997-03-31</th>\n",
       "      <td>1.000000e-07</td>\n",
       "    </tr>\n",
       "    <tr>\n",
       "      <th>1997-04-01</th>\n",
       "      <td>-6.976744e-02</td>\n",
       "    </tr>\n",
       "    <tr>\n",
       "      <th>1997-04-02</th>\n",
       "      <td>-6.976744e-02</td>\n",
       "    </tr>\n",
       "    <tr>\n",
       "      <th>1997-04-03</th>\n",
       "      <td>-6.976744e-02</td>\n",
       "    </tr>\n",
       "    <tr>\n",
       "      <th>1997-04-04</th>\n",
       "      <td>-6.976744e-02</td>\n",
       "    </tr>\n",
       "  </tbody>\n",
       "</table>\n",
       "</div>"
      ],
      "text/plain": [
       "            GDP CYOY Index\n",
       "1997-03-31    1.000000e-07\n",
       "1997-04-01   -6.976744e-02\n",
       "1997-04-02   -6.976744e-02\n",
       "1997-04-03   -6.976744e-02\n",
       "1997-04-04   -6.976744e-02"
      ]
     },
     "execution_count": 107,
     "metadata": {},
     "output_type": "execute_result"
    }
   ],
   "source": [
    "upsampled = qly.resample('D').mean().fillna(method='bfill')\n",
    "upsampled.head()"
   ]
  },
  {
   "cell_type": "code",
   "execution_count": 108,
   "metadata": {
    "collapsed": false,
    "deletable": true,
    "editable": true
   },
   "outputs": [
    {
     "data": {
      "text/html": [
       "<div>\n",
       "<table border=\"1\" class=\"dataframe\">\n",
       "  <thead>\n",
       "    <tr style=\"text-align: right;\">\n",
       "      <th></th>\n",
       "      <th>SLDETIGT Index</th>\n",
       "      <th>SLDETGTS Index</th>\n",
       "    </tr>\n",
       "  </thead>\n",
       "  <tbody>\n",
       "    <tr>\n",
       "      <th>1997-01-31</th>\n",
       "      <td>1.000000e-07</td>\n",
       "      <td>1.000000e-07</td>\n",
       "    </tr>\n",
       "    <tr>\n",
       "      <th>1997-02-01</th>\n",
       "      <td>2.142857e-01</td>\n",
       "      <td>-5.142857e-01</td>\n",
       "    </tr>\n",
       "    <tr>\n",
       "      <th>1997-02-02</th>\n",
       "      <td>2.142857e-01</td>\n",
       "      <td>-5.142857e-01</td>\n",
       "    </tr>\n",
       "    <tr>\n",
       "      <th>1997-02-03</th>\n",
       "      <td>2.142857e-01</td>\n",
       "      <td>-5.142857e-01</td>\n",
       "    </tr>\n",
       "    <tr>\n",
       "      <th>1997-02-04</th>\n",
       "      <td>2.142857e-01</td>\n",
       "      <td>-5.142857e-01</td>\n",
       "    </tr>\n",
       "  </tbody>\n",
       "</table>\n",
       "</div>"
      ],
      "text/plain": [
       "            SLDETIGT Index  SLDETGTS Index\n",
       "1997-01-31    1.000000e-07    1.000000e-07\n",
       "1997-02-01    2.142857e-01   -5.142857e-01\n",
       "1997-02-02    2.142857e-01   -5.142857e-01\n",
       "1997-02-03    2.142857e-01   -5.142857e-01\n",
       "1997-02-04    2.142857e-01   -5.142857e-01"
      ]
     },
     "execution_count": 108,
     "metadata": {},
     "output_type": "execute_result"
    }
   ],
   "source": [
    "upsampled2 = qly2.resample('D').mean().fillna(method='bfill')\n",
    "upsampled2.head()"
   ]
  },
  {
   "cell_type": "code",
   "execution_count": 89,
   "metadata": {
    "collapsed": false
   },
   "outputs": [],
   "source": [
    "#upsampled3 = dly.resample('M').mean().fillna(method='bfill')\n",
    "#upsampled3.head()"
   ]
  },
  {
   "cell_type": "code",
   "execution_count": 110,
   "metadata": {
    "collapsed": false,
    "deletable": true,
    "editable": true,
    "scrolled": true
   },
   "outputs": [
    {
     "name": "stdout",
     "output_type": "stream",
     "text": [
      "<class 'pandas.core.frame.DataFrame'>\n",
      "DatetimeIndex: 247 entries, 1997-01-31 to 2017-07-31\n",
      "Data columns (total 54 columns):\n",
      "FDTR Index                      247 non-null float64\n",
      "VIX Index                       247 non-null float64\n",
      "USTW$ Index                     247 non-null float64\n",
      "USGG10YR Index                  247 non-null float64\n",
      "USGG30YR Index                  247 non-null float64\n",
      "USGG5YR Index                   247 non-null float64\n",
      "USYC2Y10 Index                  247 non-null float64\n",
      "USYC2Y30 Index                  247 non-null float64\n",
      "USYC5Y10 Index                  247 non-null float64\n",
      "USYC2Y5Y Index                  247 non-null float64\n",
      "CPI YOY Index                   247 non-null float64\n",
      "FDIDFDMO Index                  247 non-null float64\n",
      "USURTOT Index                   247 non-null float64\n",
      "NFP TCH Index                   247 non-null float64\n",
      "USEMNCHG Index                  247 non-null float64\n",
      "IP CHNG Index                   247 non-null float64\n",
      "MTIBCHNG Index                  247 non-null float64\n",
      "MGT2TB Index                    247 non-null float64\n",
      "PIDSPINX Index                  247 non-null float64\n",
      "NAPMPMI Index                   247 non-null float64\n",
      "OUTFGAF Index                   247 non-null float64\n",
      "USGGBE10 Index                  247 non-null float64\n",
      "USHBMIDX Index                  247 non-null float64\n",
      "CONCCONF Index                  247 non-null float64\n",
      "OEUSKLAR Index                  247 non-null float64\n",
      "RSTAMOM Index                   247 non-null float64\n",
      "USTBTOT Index                   247 non-null float64\n",
      "FDDSGDP Index                   247 non-null float64\n",
      "M2% YOY Index                   247 non-null float64\n",
      "CLA Comdty                      247 non-null float64\n",
      "CONSSENT Index                  247 non-null float64\n",
      "PIDSDPS Index                   247 non-null float64\n",
      "CICRTOT Index                   247 non-null float64\n",
      "ARDIMOYY Index                  247 non-null float64\n",
      "M1% YOY Index                   247 non-null float64\n",
      "SCGRRAI Index                   247 non-null float64\n",
      "EMB US Equity                   247 non-null float64\n",
      "SPE AUTO Index                  247 non-null float64\n",
      "SPE CARD Index                  247 non-null float64\n",
      "BFCIUS Index                    247 non-null float64\n",
      "INJCJMOM Index                  247 non-null float64\n",
      "LEI CHNG Index                  247 non-null float64\n",
      "GDP CYOY Index                  243 non-null float64\n",
      "SLDETIGT Index                  244 non-null float64\n",
      "SLDETGTS Index                  244 non-null float64\n",
      "GFSIFFND Index                  247 non-null float64\n",
      "XLF US Equity                   247 non-null float64\n",
      "XLE US Equity                   247 non-null float64\n",
      "XLK US Equity                   247 non-null float64\n",
      "XLV US Equity                   247 non-null float64\n",
      "XLI US Equity                   247 non-null float64\n",
      "XLY US Equity                   247 non-null float64\n",
      "XLB US Equity                   247 non-null float64\n",
      "CDX HY CDSI GEN 5Y SPRD Corp    247 non-null float64\n",
      "dtypes: float64(54)\n",
      "memory usage: 106.1 KB\n"
     ]
    },
    {
     "name": "stderr",
     "output_type": "stream",
     "text": [
      "C:\\Users\\sonja tilly.ABERDEEN\\AppData\\Local\\Continuum\\Anaconda2\\envs\\py35\\lib\\site-packages\\pandas\\indexes\\base.py:1877: FutureWarning: In the future, 'NAT < x' and 'x < NAT' will always be False.\n",
      "  self._values[0] < other_diff[0]\n"
     ]
    }
   ],
   "source": [
    "#merge dataframes\n",
    "\n",
    "merged = pd.concat([mthly, upsampled, upsampled2, dly], axis=1)\n",
    "df = merged.resample('M').mean().fillna(method='bfill')\n",
    "\n",
    "df.info()"
   ]
  },
  {
   "cell_type": "markdown",
   "metadata": {
    "deletable": true,
    "editable": true
   },
   "source": [
    "**Create new features**"
   ]
  },
  {
   "cell_type": "code",
   "execution_count": 111,
   "metadata": {
    "collapsed": false,
    "deletable": true,
    "editable": true
   },
   "outputs": [],
   "source": [
    "#calculate z scores\n",
    "\n",
    "cols = list(df.columns)\n",
    "\n",
    "for col in cols:\n",
    "    col_zscore = col + '_zscore'\n",
    "    df[col_zscore] = (df[col] - df[col].mean())/df[col].std(ddof=0)"
   ]
  },
  {
   "cell_type": "code",
   "execution_count": 112,
   "metadata": {
    "collapsed": false
   },
   "outputs": [],
   "source": [
    "#calculate rolling 3M z-score\n",
    "\n",
    "cols = list(df.columns)\n",
    "\n",
    "for col in cols:\n",
    "    col_zscore = col + '_zscore'\n",
    "    mean = df[col].rolling(center=False, window=3).mean()\n",
    "    std = df[col].rolling(center=False, window=3).std()\n",
    "    df[col_zscore] = (df[col] - mean)/std\n",
    "\n"
   ]
  },
  {
   "cell_type": "code",
   "execution_count": 113,
   "metadata": {
    "collapsed": false
   },
   "outputs": [
    {
     "data": {
      "text/plain": [
       "Index(['FDTR Index', 'VIX Index', 'USTW$ Index', 'USGG10YR Index',\n",
       "       'USGG30YR Index', 'USGG5YR Index', 'USYC2Y10 Index', 'USYC2Y30 Index',\n",
       "       'USYC5Y10 Index', 'USYC2Y5Y Index',\n",
       "       ...\n",
       "       'SLDETGTS Index_zscore_zscore', 'GFSIFFND Index_zscore_zscore',\n",
       "       'XLF US Equity_zscore_zscore', 'XLE US Equity_zscore_zscore',\n",
       "       'XLK US Equity_zscore_zscore', 'XLV US Equity_zscore_zscore',\n",
       "       'XLI US Equity_zscore_zscore', 'XLY US Equity_zscore_zscore',\n",
       "       'XLB US Equity_zscore_zscore',\n",
       "       'CDX HY CDSI GEN 5Y SPRD Corp_zscore_zscore'],\n",
       "      dtype='object', length=162)"
      ]
     },
     "execution_count": 113,
     "metadata": {},
     "output_type": "execute_result"
    }
   ],
   "source": [
    "df.columns"
   ]
  },
  {
   "cell_type": "code",
   "execution_count": 120,
   "metadata": {
    "collapsed": false
   },
   "outputs": [
    {
     "data": {
      "text/html": [
       "<div>\n",
       "<table border=\"1\" class=\"dataframe\">\n",
       "  <thead>\n",
       "    <tr style=\"text-align: right;\">\n",
       "      <th></th>\n",
       "      <th>FDTR Index</th>\n",
       "      <th>VIX Index</th>\n",
       "      <th>USTW$ Index</th>\n",
       "      <th>USGG10YR Index</th>\n",
       "      <th>USGG30YR Index</th>\n",
       "      <th>USGG5YR Index</th>\n",
       "      <th>USYC2Y10 Index</th>\n",
       "      <th>USYC2Y30 Index</th>\n",
       "      <th>USYC5Y10 Index</th>\n",
       "      <th>USYC2Y5Y Index</th>\n",
       "      <th>...</th>\n",
       "      <th>SLDETGTS Index_zscore_zscore</th>\n",
       "      <th>GFSIFFND Index_zscore_zscore</th>\n",
       "      <th>XLF US Equity_zscore_zscore</th>\n",
       "      <th>XLE US Equity_zscore_zscore</th>\n",
       "      <th>XLK US Equity_zscore_zscore</th>\n",
       "      <th>XLV US Equity_zscore_zscore</th>\n",
       "      <th>XLI US Equity_zscore_zscore</th>\n",
       "      <th>XLY US Equity_zscore_zscore</th>\n",
       "      <th>XLB US Equity_zscore_zscore</th>\n",
       "      <th>CDX HY CDSI GEN 5Y SPRD Corp_zscore_zscore</th>\n",
       "    </tr>\n",
       "  </thead>\n",
       "  <tbody>\n",
       "    <tr>\n",
       "      <th>1997-01-31</th>\n",
       "      <td>1.000000e-07</td>\n",
       "      <td>1.000000e-07</td>\n",
       "      <td>1.000000e-07</td>\n",
       "      <td>1.000000e-07</td>\n",
       "      <td>1.000000e-07</td>\n",
       "      <td>1.000000e-07</td>\n",
       "      <td>1.000000e-07</td>\n",
       "      <td>1.000000e-07</td>\n",
       "      <td>1.000000e-07</td>\n",
       "      <td>1.000000e-07</td>\n",
       "      <td>...</td>\n",
       "      <td>NaN</td>\n",
       "      <td>NaN</td>\n",
       "      <td>NaN</td>\n",
       "      <td>NaN</td>\n",
       "      <td>NaN</td>\n",
       "      <td>NaN</td>\n",
       "      <td>NaN</td>\n",
       "      <td>NaN</td>\n",
       "      <td>NaN</td>\n",
       "      <td>NaN</td>\n",
       "    </tr>\n",
       "    <tr>\n",
       "      <th>1997-02-28</th>\n",
       "      <td>0.000000e+00</td>\n",
       "      <td>7.725118e-02</td>\n",
       "      <td>2.875537e-02</td>\n",
       "      <td>8.852259e-03</td>\n",
       "      <td>2.057916e-03</td>\n",
       "      <td>2.207609e-02</td>\n",
       "      <td>-3.540984e-01</td>\n",
       "      <td>-4.049296e-01</td>\n",
       "      <td>-9.015873e-01</td>\n",
       "      <td>-6.666667e-02</td>\n",
       "      <td>...</td>\n",
       "      <td>NaN</td>\n",
       "      <td>NaN</td>\n",
       "      <td>NaN</td>\n",
       "      <td>NaN</td>\n",
       "      <td>NaN</td>\n",
       "      <td>NaN</td>\n",
       "      <td>NaN</td>\n",
       "      <td>NaN</td>\n",
       "      <td>NaN</td>\n",
       "      <td>NaN</td>\n",
       "    </tr>\n",
       "    <tr>\n",
       "      <th>1997-03-31</th>\n",
       "      <td>2.500000e-01</td>\n",
       "      <td>4.697380e-02</td>\n",
       "      <td>8.466826e-03</td>\n",
       "      <td>5.084746e-02</td>\n",
       "      <td>4.129087e-02</td>\n",
       "      <td>5.405806e-02</td>\n",
       "      <td>1.011788e-01</td>\n",
       "      <td>-2.305476e-02</td>\n",
       "      <td>1.463415e-01</td>\n",
       "      <td>7.550077e-02</td>\n",
       "      <td>...</td>\n",
       "      <td>NaN</td>\n",
       "      <td>NaN</td>\n",
       "      <td>NaN</td>\n",
       "      <td>NaN</td>\n",
       "      <td>NaN</td>\n",
       "      <td>NaN</td>\n",
       "      <td>NaN</td>\n",
       "      <td>NaN</td>\n",
       "      <td>NaN</td>\n",
       "      <td>NaN</td>\n",
       "    </tr>\n",
       "    <tr>\n",
       "      <th>1997-04-30</th>\n",
       "      <td>0.000000e+00</td>\n",
       "      <td>-1.036889e-01</td>\n",
       "      <td>1.181038e-02</td>\n",
       "      <td>-2.753796e-02</td>\n",
       "      <td>-1.997988e-02</td>\n",
       "      <td>-2.723262e-02</td>\n",
       "      <td>-1.041215e-01</td>\n",
       "      <td>4.670330e-02</td>\n",
       "      <td>-1.373626e-02</td>\n",
       "      <td>-1.630824e-01</td>\n",
       "      <td>...</td>\n",
       "      <td>NaN</td>\n",
       "      <td>NaN</td>\n",
       "      <td>NaN</td>\n",
       "      <td>NaN</td>\n",
       "      <td>NaN</td>\n",
       "      <td>NaN</td>\n",
       "      <td>NaN</td>\n",
       "      <td>NaN</td>\n",
       "      <td>NaN</td>\n",
       "      <td>NaN</td>\n",
       "    </tr>\n",
       "    <tr>\n",
       "      <th>1997-05-31</th>\n",
       "      <td>0.000000e+00</td>\n",
       "      <td>-4.533611e-02</td>\n",
       "      <td>-1.738481e-02</td>\n",
       "      <td>-8.860189e-03</td>\n",
       "      <td>-7.384883e-03</td>\n",
       "      <td>-1.123077e-02</td>\n",
       "      <td>-2.104097e-02</td>\n",
       "      <td>5.270007e-02</td>\n",
       "      <td>-2.013201e-01</td>\n",
       "      <td>7.000000e-02</td>\n",
       "      <td>...</td>\n",
       "      <td>-1.0</td>\n",
       "      <td>NaN</td>\n",
       "      <td>NaN</td>\n",
       "      <td>NaN</td>\n",
       "      <td>NaN</td>\n",
       "      <td>NaN</td>\n",
       "      <td>NaN</td>\n",
       "      <td>NaN</td>\n",
       "      <td>NaN</td>\n",
       "      <td>NaN</td>\n",
       "    </tr>\n",
       "  </tbody>\n",
       "</table>\n",
       "<p>5 rows × 162 columns</p>\n",
       "</div>"
      ],
      "text/plain": [
       "              FDTR Index     VIX Index   USTW$ Index  USGG10YR Index  \\\n",
       "1997-01-31  1.000000e-07  1.000000e-07  1.000000e-07    1.000000e-07   \n",
       "1997-02-28  0.000000e+00  7.725118e-02  2.875537e-02    8.852259e-03   \n",
       "1997-03-31  2.500000e-01  4.697380e-02  8.466826e-03    5.084746e-02   \n",
       "1997-04-30  0.000000e+00 -1.036889e-01  1.181038e-02   -2.753796e-02   \n",
       "1997-05-31  0.000000e+00 -4.533611e-02 -1.738481e-02   -8.860189e-03   \n",
       "\n",
       "            USGG30YR Index  USGG5YR Index  USYC2Y10 Index  USYC2Y30 Index  \\\n",
       "1997-01-31    1.000000e-07   1.000000e-07    1.000000e-07    1.000000e-07   \n",
       "1997-02-28    2.057916e-03   2.207609e-02   -3.540984e-01   -4.049296e-01   \n",
       "1997-03-31    4.129087e-02   5.405806e-02    1.011788e-01   -2.305476e-02   \n",
       "1997-04-30   -1.997988e-02  -2.723262e-02   -1.041215e-01    4.670330e-02   \n",
       "1997-05-31   -7.384883e-03  -1.123077e-02   -2.104097e-02    5.270007e-02   \n",
       "\n",
       "            USYC5Y10 Index  USYC2Y5Y Index  \\\n",
       "1997-01-31    1.000000e-07    1.000000e-07   \n",
       "1997-02-28   -9.015873e-01   -6.666667e-02   \n",
       "1997-03-31    1.463415e-01    7.550077e-02   \n",
       "1997-04-30   -1.373626e-02   -1.630824e-01   \n",
       "1997-05-31   -2.013201e-01    7.000000e-02   \n",
       "\n",
       "                               ...                      \\\n",
       "1997-01-31                     ...                       \n",
       "1997-02-28                     ...                       \n",
       "1997-03-31                     ...                       \n",
       "1997-04-30                     ...                       \n",
       "1997-05-31                     ...                       \n",
       "\n",
       "            SLDETGTS Index_zscore_zscore  GFSIFFND Index_zscore_zscore  \\\n",
       "1997-01-31                           NaN                           NaN   \n",
       "1997-02-28                           NaN                           NaN   \n",
       "1997-03-31                           NaN                           NaN   \n",
       "1997-04-30                           NaN                           NaN   \n",
       "1997-05-31                          -1.0                           NaN   \n",
       "\n",
       "            XLF US Equity_zscore_zscore  XLE US Equity_zscore_zscore  \\\n",
       "1997-01-31                          NaN                          NaN   \n",
       "1997-02-28                          NaN                          NaN   \n",
       "1997-03-31                          NaN                          NaN   \n",
       "1997-04-30                          NaN                          NaN   \n",
       "1997-05-31                          NaN                          NaN   \n",
       "\n",
       "            XLK US Equity_zscore_zscore  XLV US Equity_zscore_zscore  \\\n",
       "1997-01-31                          NaN                          NaN   \n",
       "1997-02-28                          NaN                          NaN   \n",
       "1997-03-31                          NaN                          NaN   \n",
       "1997-04-30                          NaN                          NaN   \n",
       "1997-05-31                          NaN                          NaN   \n",
       "\n",
       "            XLI US Equity_zscore_zscore  XLY US Equity_zscore_zscore  \\\n",
       "1997-01-31                          NaN                          NaN   \n",
       "1997-02-28                          NaN                          NaN   \n",
       "1997-03-31                          NaN                          NaN   \n",
       "1997-04-30                          NaN                          NaN   \n",
       "1997-05-31                          NaN                          NaN   \n",
       "\n",
       "            XLB US Equity_zscore_zscore  \\\n",
       "1997-01-31                          NaN   \n",
       "1997-02-28                          NaN   \n",
       "1997-03-31                          NaN   \n",
       "1997-04-30                          NaN   \n",
       "1997-05-31                          NaN   \n",
       "\n",
       "            CDX HY CDSI GEN 5Y SPRD Corp_zscore_zscore  \n",
       "1997-01-31                                         NaN  \n",
       "1997-02-28                                         NaN  \n",
       "1997-03-31                                         NaN  \n",
       "1997-04-30                                         NaN  \n",
       "1997-05-31                                         NaN  \n",
       "\n",
       "[5 rows x 162 columns]"
      ]
     },
     "execution_count": 120,
     "metadata": {},
     "output_type": "execute_result"
    }
   ],
   "source": [
    "#address data lags\n",
    "\n",
    "#df[['CPI YOY Index','FDIDFDMO Index','USURTOT Index','NFP TCH Index', 'USEMNCHG Index',\\\n",
    " #  'IP CHNG Index', 'MTIBCHNG Index', 'MGT2TB Index', 'OUTFGAF Index', 'USHBMIDX Index',\\\n",
    "  # 'CONCCONF Index','RSTAMOM Index', 'USTBTOT Index', 'CONSSENT Index', 'CICRTOT Index',\\\n",
    "   #'SPE AUTO Index', 'SPE CARD Index', 'GDP CYOY Index']].shift(3).fillna(0.0000001)\n",
    "\n",
    "df['CPI YOY Index'] = df['CPI YOY Index'].shift(3)\n",
    "df['FDIDFDMO Index'] = df['FDIDFDMO Index'].shift(3)\n",
    "df['NFP TCH Index'] = df['NFP TCH Index'].shift(3)\n",
    "df['USEMNCHG Index'] = df['USEMNCHG Index'].shift(3)\n",
    "df['IP CHNG Index'] = df['IP CHNG Index'].shift(3)\n",
    "df['MTIBCHNG Index'] = df['MTIBCHNG Index'].shift(3)\n",
    "df['MGT2TB Index'] = df['MGT2TB Index'].shift(3)\n",
    "df['OUTFGAF Index'] = df['OUTFGAF Index'].shift(3)\n",
    "df['USHBMIDX Index'] = df['USHBMIDX Index'].shift(3)\n",
    "df['CONCCONF Index'] = df['CONCCONF Index'].shift(3)\n",
    "df['RSTAMOM Index'] = df['RSTAMOM Index'].shift(3)\n",
    "df['USTBTOT Index'] = df['USTBTOT Index'].shift(3)\n",
    "df['CONSSENT Index'] = df['CONSSENT Index'].shift(3)\n",
    "df['CICRTOT Index'] = df['CICRTOT Index'].shift(3)\n",
    "df['SPE AUTO Index'] = df['SPE AUTO Index'].shift(3)\n",
    "df['GDP CYOY Index'] = df['GDP CYOY Index'].shift(3)\n",
    "\n",
    "df.head()"
   ]
  },
  {
   "cell_type": "code",
   "execution_count": null,
   "metadata": {
    "collapsed": false,
    "deletable": true,
    "editable": true
   },
   "outputs": [],
   "source": [
    "#parse sheet\n",
    "tgt = xls_file.parse('tgt')\n",
    "y = np.array(tgt).ravel()"
   ]
  },
  {
   "cell_type": "code",
   "execution_count": null,
   "metadata": {
    "collapsed": false,
    "deletable": true,
    "editable": true
   },
   "outputs": [],
   "source": [
    "# For each variable in X, calculate VIF and save in dataframe\n",
    "\n",
    "from statsmodels.stats.outliers_influence import variance_inflation_factor\n",
    "\n",
    "vif = pd.DataFrame()\n",
    "vif[\"vif\"] = [variance_inflation_factor(df.values, i) for i in range(df.shape[1])]\n",
    "vif[\"features\"] = df.columns\n",
    "vif = (vif[vif.vif >= 5])\n",
    "vif"
   ]
  },
  {
   "cell_type": "code",
   "execution_count": null,
   "metadata": {
    "collapsed": false,
    "deletable": true,
    "editable": true
   },
   "outputs": [],
   "source": [
    "#drop features with infinite or above 5 variance inflation factor\n",
    "\n",
    "X.drop(X[['USGG10YR% Index_zscore', 'USGG30YR% Index_zscore', 'USGG5YR% Index_zscore',\\\n",
    "                  'USTBTOT% Index_zscore', 'GDPCTOT% Index_zscore',\\\n",
    "                  'GPDITOC% Index_zscore', 'GDP CQOQ Index_zscore']], axis=1, inplace=True)"
   ]
  },
  {
   "cell_type": "code",
   "execution_count": null,
   "metadata": {
    "collapsed": false,
    "deletable": true,
    "editable": true
   },
   "outputs": [],
   "source": [
    "#split dataset\n",
    "\n",
    "X_train = X[:196]\n",
    "y_train = y[:196]\n",
    "X_test = X[196:]\n",
    "y_test = y[196:]\n",
    "X_train.head()"
   ]
  },
  {
   "cell_type": "code",
   "execution_count": null,
   "metadata": {
    "collapsed": false,
    "deletable": true,
    "editable": true
   },
   "outputs": [],
   "source": [
    "#try Lasso regression\n",
    "\n",
    "from sklearn import linear_model\n",
    "\n",
    "lasso = linear_model.Lasso(alpha=0.21, fit_intercept=False, normalize=False, precompute=False,\\\n",
    "                           copy_X=True, max_iter=1000, tol=0.01, warm_start=False,\\\n",
    "                           positive=False, random_state=42, selection='cyclic')\n",
    "lasso.fit(X_train, y_train)\n",
    "lasso.score(X_test,y_test)"
   ]
  },
  {
   "cell_type": "code",
   "execution_count": null,
   "metadata": {
    "collapsed": false,
    "deletable": true,
    "editable": true
   },
   "outputs": [],
   "source": [
    "#try RandomForests\n",
    "\n",
    "from sklearn.ensemble import RandomForestRegressor\n",
    "\n",
    "tree = RandomForestRegressor(n_estimators=30, criterion='mse',\n",
    "                            max_depth=4, min_samples_split=2, \n",
    "                            min_samples_leaf=1,\n",
    "                            min_weight_fraction_leaf=0.30,\n",
    "                            max_features='auto',\n",
    "                            max_leaf_nodes=None,\n",
    "                            min_impurity_split=1e-07,\n",
    "                            bootstrap=True, oob_score=False, n_jobs=-1,\n",
    "                            random_state=None, verbose=0,\n",
    "                            warm_start=False)\n",
    "tree.fit(X_train, y_train)\n",
    "tree.score(X_test, y_test)"
   ]
  },
  {
   "cell_type": "code",
   "execution_count": null,
   "metadata": {
    "collapsed": true,
    "deletable": true,
    "editable": true
   },
   "outputs": [],
   "source": []
  },
  {
   "cell_type": "code",
   "execution_count": null,
   "metadata": {
    "collapsed": true,
    "deletable": true,
    "editable": true
   },
   "outputs": [],
   "source": []
  }
 ],
 "metadata": {
  "kernelspec": {
   "display_name": "py35",
   "language": "python",
   "name": "py35"
  },
  "language_info": {
   "codemirror_mode": {
    "name": "ipython",
    "version": 3
   },
   "file_extension": ".py",
   "mimetype": "text/x-python",
   "name": "python",
   "nbconvert_exporter": "python",
   "pygments_lexer": "ipython3",
   "version": "3.5.2"
  }
 },
 "nbformat": 4,
 "nbformat_minor": 2
}
