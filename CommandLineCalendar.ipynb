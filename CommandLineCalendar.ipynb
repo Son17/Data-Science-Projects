{
 "cells": [
  {
   "cell_type": "code",
   "execution_count": null,
   "metadata": {
    "collapsed": true
   },
   "outputs": [],
   "source": [
    "\"\"\"This is a calendar that can be interacted with from the command line\"\"\"\n",
    "\n",
    "from time import sleep, strftime\n",
    "\n",
    "username = \"Sonja\"\n",
    "\n",
    "calendar = {}\n",
    "\n",
    "def welcome():\n",
    "    print(\"Welcome\" + username)\n",
    "    print(\"Calendar is starting...\")\n",
    "    sleep(1)\n",
    "    print(\"Today is: \" + strftime(\"%A %B %d, %Y\"))\n",
    "    print(\"The time is: \" + strftime(\"%H\" + \":\" + \"%M\" + \":\" + \"%S\"))\n",
    "    sleep(1)\n",
    "    print(\"What would you like to do?\")\n",
    "    return"
   ]
  },
  {
   "cell_type": "code",
   "execution_count": null,
   "metadata": {
    "collapsed": false
   },
   "outputs": [],
   "source": [
    "def start_calendar():\n",
    "    welcome()\n",
    "    start = True\n",
    "    while start:\n",
    "        user_choice = raw_input(\"Enter A to Add, U to Update, V to View, D to Delete, X to Exit: \")\n",
    "        user_choice.upper()\n",
    "        if user_choice == \"V\":\n",
    "            if len(calendar.keys()) <1:\n",
    "                print(\"Calendar empty.\")\n",
    "            else:\n",
    "                print(calendar)\n",
    "        elif user_choice == \"U\":\n",
    "            date = raw_input(\"What date? \")\n",
    "            update = raw_input(\"Enter updae: \")\n",
    "            calendar[date] = update\n",
    "            print(\"Update successful!\")\n",
    "            print(calendar)\n",
    "        elif user_choice ==\"A\":\n",
    "            event = raw_input(\"Enter event: \")\n",
    "            date = raw_input(\"Enter date (MM/DD/YYYY): \")\n",
    "            if (len(date) > 10) or int(strftime(\"%Y\")) > int(date[6:]):\n",
    "                print(\"You entered an invalid date!\")\n",
    "                try_again = raw_input(\"Try again? Y for Yes, N for No: \")\n",
    "                try_again.upper()\n",
    "                if try_again == \"Y\":\n",
    "                    continue\n",
    "                else:\n",
    "                    start = False\n",
    "            else:\n",
    "                calendar[date] = event\n",
    "                print(calendar)\n",
    "        elif user_choice == \"D\":\n",
    "            if len(calendar.keys()) < 1:\n",
    "                print(\"Calendar is empty.\") \n",
    "            else:\n",
    "                event = raw_input(\"What event? \")\n",
    "                for date in calendar.keys():\n",
    "                    if event == calendar[date]:\n",
    "                        del calendar[date]\n",
    "                        print(\"Event was deleted successfully!\")\n",
    "                    else: \n",
    "                        print(\"Incorrect event was specified.\")\n",
    "        elif user_choice == \"X\":\n",
    "            start = False \n",
    "        else:\n",
    "            print(\"You entered an invalid command!\") \n",
    "\n",
    "start_calendar()"
   ]
  },
  {
   "cell_type": "code",
   "execution_count": null,
   "metadata": {
    "collapsed": true
   },
   "outputs": [],
   "source": [
    "           \n",
    "      "
   ]
  }
 ],
 "metadata": {
  "anaconda-cloud": {},
  "kernelspec": {
   "display_name": "Python [default]",
   "language": "python",
   "name": "python2"
  },
  "language_info": {
   "codemirror_mode": {
    "name": "ipython",
    "version": 2
   },
   "file_extension": ".py",
   "mimetype": "text/x-python",
   "name": "python",
   "nbconvert_exporter": "python",
   "pygments_lexer": "ipython2",
   "version": "2.7.12"
  }
 },
 "nbformat": 4,
 "nbformat_minor": 1
}
