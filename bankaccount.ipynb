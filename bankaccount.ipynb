{
 "cells": [
  {
   "cell_type": "code",
   "execution_count": 20,
   "metadata": {
    "collapsed": false
   },
   "outputs": [
    {
     "name": "stdout",
     "output_type": "stream",
     "text": [
      "Your balance is: $0.00\n",
      "Your balance is: $3000.00\n",
      "Your are withdrawing: $2000.00\n",
      "Sonja's account balance: $1000.00\n"
     ]
    },
    {
     "data": {
      "text/plain": [
       "\"Sonja's account balance: $1000.00\""
      ]
     },
     "execution_count": 20,
     "metadata": {},
     "output_type": "execute_result"
    }
   ],
   "source": [
    "\"\"\"This is a Python class that can be used to create and manipulate a personal bank account\"\"\"\n",
    "\n",
    "class BankAccount(object):\n",
    "    balance = 0\n",
    "    def __init__(self, name):\n",
    "        self.name = name\n",
    "    def __repr__(self):\n",
    "        return \"%s's account balance: $%.2f\" % (self.name, self.balance)\n",
    "    def show_balance(self):\n",
    "        print(\"Your balance is: $%.2f\" %(self.balance))\n",
    "    def deposit(self, amount):\n",
    "        if amount <=0:\n",
    "            print(\"You entered an invalid amount.\")\n",
    "            return\n",
    "        else:\n",
    "            self.balance += amount\n",
    "            print(\"Your balance is: $%.2f\" %(self.balance))\n",
    "    def withdraw(self, amount):\n",
    "        if amount > self.balance:\n",
    "            print(\"Sorry, your withdrawal exceeds your balance!\")\n",
    "        else:    \n",
    "            self.balance -= amount\n",
    "            print(\"Your are withdrawing: $%.2f\" % (amount))\n",
    "            \n",
    "my_account = BankAccount(\"Sonja\")\n",
    "my_account.show_balance()\n",
    "my_account.deposit(3000)\n",
    "my_account.withdraw(2000)\n",
    "print(my_account)\n",
    "my_account.__repr__()"
   ]
  },
  {
   "cell_type": "code",
   "execution_count": null,
   "metadata": {
    "collapsed": false
   },
   "outputs": [],
   "source": []
  },
  {
   "cell_type": "code",
   "execution_count": null,
   "metadata": {
    "collapsed": true
   },
   "outputs": [],
   "source": []
  }
 ],
 "metadata": {
  "anaconda-cloud": {},
  "kernelspec": {
   "display_name": "Python [default]",
   "language": "python",
   "name": "python2"
  },
  "language_info": {
   "codemirror_mode": {
    "name": "ipython",
    "version": 2
   },
   "file_extension": ".py",
   "mimetype": "text/x-python",
   "name": "python",
   "nbconvert_exporter": "python",
   "pygments_lexer": "ipython2",
   "version": "2.7.12"
  }
 },
 "nbformat": 4,
 "nbformat_minor": 1
}
