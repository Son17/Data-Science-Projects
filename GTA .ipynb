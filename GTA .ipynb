{
 "cells": [
  {
   "cell_type": "code",
   "execution_count": 1,
   "metadata": {
    "collapsed": true,
    "deletable": true,
    "editable": true
   },
   "outputs": [],
   "source": [
    "#import libraries\n",
    "import pandas as pd\n",
    "import numpy as np\n",
    "import datetime\n",
    "import matplotlib.pyplot as plt\n",
    "%matplotlib inline\n",
    "import seaborn as sns\n",
    "color = sns.color_palette()"
   ]
  },
  {
   "cell_type": "code",
   "execution_count": 2,
   "metadata": {
    "collapsed": false,
    "deletable": true,
    "editable": true
   },
   "outputs": [
    {
     "data": {
      "text/html": [
       "<div>\n",
       "<table border=\"1\" class=\"dataframe\">\n",
       "  <thead>\n",
       "    <tr style=\"text-align: right;\">\n",
       "      <th></th>\n",
       "      <th>Unnamed: 0</th>\n",
       "      <th>BOOKING_ID</th>\n",
       "      <th>CHECKIN_WINDOW</th>\n",
       "      <th>NO_OF_ROOMS</th>\n",
       "      <th>NO_OF_PASSENGERS</th>\n",
       "      <th>GROSS_SALES_EUR</th>\n",
       "      <th>COMMISSION_PERC</th>\n",
       "      <th>CLIENT_SEGMENT</th>\n",
       "      <th>SUPPLIER_CHAIN</th>\n",
       "      <th>STAR_RATING</th>\n",
       "      <th>ROOM_NIGHTS</th>\n",
       "      <th>CLIENT_MASTER_PARENT</th>\n",
       "    </tr>\n",
       "  </thead>\n",
       "  <tbody>\n",
       "    <tr>\n",
       "      <th>0</th>\n",
       "      <td>1</td>\n",
       "      <td>1</td>\n",
       "      <td>16</td>\n",
       "      <td>1</td>\n",
       "      <td>1</td>\n",
       "      <td>284.8347</td>\n",
       "      <td>5.467639</td>\n",
       "      <td>Retail Agent (Offline)</td>\n",
       "      <td>New World Hotels</td>\n",
       "      <td>5</td>\n",
       "      <td>2</td>\n",
       "      <td>1</td>\n",
       "    </tr>\n",
       "    <tr>\n",
       "      <th>1</th>\n",
       "      <td>2</td>\n",
       "      <td>2</td>\n",
       "      <td>5</td>\n",
       "      <td>1</td>\n",
       "      <td>2</td>\n",
       "      <td>970.9197</td>\n",
       "      <td>4.786115</td>\n",
       "      <td>Retail Agent (Offline)</td>\n",
       "      <td>Independent</td>\n",
       "      <td>4</td>\n",
       "      <td>2</td>\n",
       "      <td>1</td>\n",
       "    </tr>\n",
       "  </tbody>\n",
       "</table>\n",
       "</div>"
      ],
      "text/plain": [
       "   Unnamed: 0  BOOKING_ID  CHECKIN_WINDOW  NO_OF_ROOMS  NO_OF_PASSENGERS  \\\n",
       "0           1           1              16            1                 1   \n",
       "1           2           2               5            1                 2   \n",
       "\n",
       "   GROSS_SALES_EUR  COMMISSION_PERC          CLIENT_SEGMENT    SUPPLIER_CHAIN  \\\n",
       "0         284.8347         5.467639  Retail Agent (Offline)  New World Hotels   \n",
       "1         970.9197         4.786115  Retail Agent (Offline)       Independent   \n",
       "\n",
       "   STAR_RATING  ROOM_NIGHTS  CLIENT_MASTER_PARENT  \n",
       "0            5            2                     1  \n",
       "1            4            2                     1  "
      ]
     },
     "execution_count": 2,
     "metadata": {},
     "output_type": "execute_result"
    }
   ],
   "source": [
    "#import data\n",
    "\n",
    "data = pd.read_csv('C:\\\\Users\\\\sonja tilly.ABERDEEN\\\\GTA Data Scientist Interview Dataset.csv',\\\n",
    "                   low_memory=False)\n",
    "data.head(2)"
   ]
  },
  {
   "cell_type": "code",
   "execution_count": 3,
   "metadata": {
    "collapsed": false,
    "deletable": true,
    "editable": true
   },
   "outputs": [],
   "source": [
    "#deal with nan values\n",
    "\n",
    "data = data.fillna(0)"
   ]
  },
  {
   "cell_type": "code",
   "execution_count": 4,
   "metadata": {
    "collapsed": false,
    "deletable": true,
    "editable": true
   },
   "outputs": [
    {
     "data": {
      "text/html": [
       "<div>\n",
       "<table border=\"1\" class=\"dataframe\">\n",
       "  <thead>\n",
       "    <tr>\n",
       "      <th></th>\n",
       "      <th>Unnamed: 0</th>\n",
       "      <th>BOOKING_ID</th>\n",
       "      <th>CHECKIN_WINDOW</th>\n",
       "      <th>NO_OF_ROOMS</th>\n",
       "      <th>NO_OF_PASSENGERS</th>\n",
       "      <th>GROSS_SALES_EUR</th>\n",
       "      <th>COMMISSION_PERC</th>\n",
       "      <th>STAR_RATING</th>\n",
       "      <th>ROOM_NIGHTS</th>\n",
       "      <th>CLIENT_MASTER_PARENT</th>\n",
       "    </tr>\n",
       "    <tr>\n",
       "      <th></th>\n",
       "      <th>sum</th>\n",
       "      <th>sum</th>\n",
       "      <th>sum</th>\n",
       "      <th>sum</th>\n",
       "      <th>sum</th>\n",
       "      <th>sum</th>\n",
       "      <th>sum</th>\n",
       "      <th>sum</th>\n",
       "      <th>sum</th>\n",
       "      <th>sum</th>\n",
       "    </tr>\n",
       "    <tr>\n",
       "      <th>CLIENT_SEGMENT</th>\n",
       "      <th></th>\n",
       "      <th></th>\n",
       "      <th></th>\n",
       "      <th></th>\n",
       "      <th></th>\n",
       "      <th></th>\n",
       "      <th></th>\n",
       "      <th></th>\n",
       "      <th></th>\n",
       "      <th></th>\n",
       "    </tr>\n",
       "  </thead>\n",
       "  <tbody>\n",
       "    <tr>\n",
       "      <th>Retail Agent (Offline)</th>\n",
       "      <td>43140157</td>\n",
       "      <td>43075569</td>\n",
       "      <td>263836</td>\n",
       "      <td>8197</td>\n",
       "      <td>15929</td>\n",
       "      <td>3.270700e+06</td>\n",
       "      <td>14178.525684</td>\n",
       "      <td>31073</td>\n",
       "      <td>20846</td>\n",
       "      <td>858941</td>\n",
       "    </tr>\n",
       "    <tr>\n",
       "      <th>Retail Online (Ota)</th>\n",
       "      <td>43301369</td>\n",
       "      <td>43262850</td>\n",
       "      <td>146518</td>\n",
       "      <td>5974</td>\n",
       "      <td>9787</td>\n",
       "      <td>1.114157e+06</td>\n",
       "      <td>2826.273297</td>\n",
       "      <td>19244</td>\n",
       "      <td>13353</td>\n",
       "      <td>808149</td>\n",
       "    </tr>\n",
       "  </tbody>\n",
       "</table>\n",
       "</div>"
      ],
      "text/plain": [
       "                       Unnamed: 0 BOOKING_ID CHECKIN_WINDOW NO_OF_ROOMS  \\\n",
       "                              sum        sum            sum         sum   \n",
       "CLIENT_SEGMENT                                                            \n",
       "Retail Agent (Offline)   43140157   43075569         263836        8197   \n",
       "Retail Online (Ota)      43301369   43262850         146518        5974   \n",
       "\n",
       "                       NO_OF_PASSENGERS GROSS_SALES_EUR COMMISSION_PERC  \\\n",
       "                                    sum             sum             sum   \n",
       "CLIENT_SEGMENT                                                            \n",
       "Retail Agent (Offline)            15929    3.270700e+06    14178.525684   \n",
       "Retail Online (Ota)                9787    1.114157e+06     2826.273297   \n",
       "\n",
       "                       STAR_RATING ROOM_NIGHTS CLIENT_MASTER_PARENT  \n",
       "                               sum         sum                  sum  \n",
       "CLIENT_SEGMENT                                                       \n",
       "Retail Agent (Offline)       31073       20846               858941  \n",
       "Retail Online (Ota)          19244       13353               808149  "
      ]
     },
     "execution_count": 4,
     "metadata": {},
     "output_type": "execute_result"
    }
   ],
   "source": [
    "table1 = data.groupby('CLIENT_SEGMENT').agg([np.sum])\n",
    "table1"
   ]
  },
  {
   "cell_type": "code",
   "execution_count": 5,
   "metadata": {
    "collapsed": false,
    "deletable": true,
    "editable": true
   },
   "outputs": [
    {
     "data": {
      "text/plain": [
       "(array([0, 1]), <a list of 2 Text xticklabel objects>)"
      ]
     },
     "execution_count": 5,
     "metadata": {},
     "output_type": "execute_result"
    },
    {
     "data": {
      "image/png": "[encoded data removed]",
      "text/plain": [
       "<matplotlib.figure.Figure at 0xaead470>"
      ]
     },
     "metadata": {},
     "output_type": "display_data"
    }
   ],
   "source": [
    "table1.GROSS_SALES_EUR.plot(kind='bar', color='seagreen')\n",
    "plt.title('Aggregate gross sales')\n",
    "plt.ylabel('EUR')\n",
    "plt.xticks(rotation=45)"
   ]
  },
  {
   "cell_type": "code",
   "execution_count": 6,
   "metadata": {
    "collapsed": false
   },
   "outputs": [
    {
     "data": {
      "text/html": [
       "<div>\n",
       "<table border=\"1\" class=\"dataframe\">\n",
       "  <thead>\n",
       "    <tr style=\"text-align: right;\">\n",
       "      <th></th>\n",
       "      <th>GROSS_SALES_EUR</th>\n",
       "    </tr>\n",
       "  </thead>\n",
       "  <tbody>\n",
       "    <tr>\n",
       "      <th>13138</th>\n",
       "      <td>346.0</td>\n",
       "    </tr>\n",
       "    <tr>\n",
       "      <th>13139</th>\n",
       "      <td>466.5</td>\n",
       "    </tr>\n",
       "    <tr>\n",
       "      <th>13140</th>\n",
       "      <td>24.5</td>\n",
       "    </tr>\n",
       "    <tr>\n",
       "      <th>13141</th>\n",
       "      <td>184.0</td>\n",
       "    </tr>\n",
       "    <tr>\n",
       "      <th>13142</th>\n",
       "      <td>553.0</td>\n",
       "    </tr>\n",
       "  </tbody>\n",
       "</table>\n",
       "</div>"
      ],
      "text/plain": [
       "       GROSS_SALES_EUR\n",
       "13138            346.0\n",
       "13139            466.5\n",
       "13140             24.5\n",
       "13141            184.0\n",
       "13142            553.0"
      ]
     },
     "execution_count": 6,
     "metadata": {},
     "output_type": "execute_result"
    }
   ],
   "source": [
    "rao = data.loc[data['CLIENT_SEGMENT'] == 'Retail Agent (Offline)', 'GROSS_SALES_EUR']\n",
    "ota = data.loc[data['CLIENT_SEGMENT'] == 'Retail Online (Ota)', 'GROSS_SALES_EUR']\n",
    "\n",
    "RAO = pd.DataFrame(rao)\n",
    "OTA = pd.DataFrame(ota)\n",
    "OTA.tail()"
   ]
  },
  {
   "cell_type": "code",
   "execution_count": null,
   "metadata": {
    "collapsed": true
   },
   "outputs": [],
   "source": [
    "fig = plt.figure(figsize=(18,6))\n",
    "sns.set_style(\"whitegrid\")\n",
    "\n",
    "sub1 = plt.subplot(1,2, 1)\n",
    "sub1 = sns.swarmplot(y=RAO['GROSS_SALES_EUR'], data=RAO)\n",
    "\n",
    "sub2 = plt.subplot(1,2, 2)\n",
    "sub1 = sns.swarmplot(y=OTA['GROSS_SALES_EUR'], data=OTA)"
   ]
  },
  {
   "cell_type": "code",
   "execution_count": null,
   "metadata": {
    "collapsed": true
   },
   "outputs": [],
   "source": [
    "RAO.boxplot(showmeans=True, whis = 100)\n",
    "OTA.boxplot(showmeans=True, whis = 100)"
   ]
  },
  {
   "cell_type": "code",
   "execution_count": 37,
   "metadata": {
    "collapsed": false,
    "deletable": true,
    "editable": true
   },
   "outputs": [
    {
     "data": {
      "text/plain": [
       "Ttest_indResult(statistic=24.386678874755265, pvalue=1.6590306888291448e-128)"
      ]
     },
     "execution_count": 37,
     "metadata": {},
     "output_type": "execute_result"
    }
   ],
   "source": [
    "from scipy.stats import ttest_ind\n",
    "\n",
    "rao = data.loc[data['CLIENT_SEGMENT'] == 'Retail Agent (Offline)', 'GROSS_SALES_EUR']\n",
    "ota = data.loc[data['CLIENT_SEGMENT'] == 'Retail Online (Ota)', 'GROSS_SALES_EUR']\n",
    "\n",
    "ttest_ind(rao, ota)"
   ]
  },
  {
   "cell_type": "markdown",
   "metadata": {
    "collapsed": true,
    "deletable": true,
    "editable": true
   },
   "source": [
    "This is a two-sided test for the null hypothesis that 2 independent samples have identical average (expected) values. This test assumes that the populations have identical variances by default. The test measures whether the average (expected) value differs significantly across samples. If we observe a large p-value, for example larger than 0.05 or 0.1, then we cannot reject the null hypothesis of identical average scores. If the p-value is smaller than the threshold, e.g. 1%, 5% or 10%, then we reject the null hypothesis of equal averages.\n",
    "source: scipy\n",
    "\n",
    "When you perform a t-test, you're usually trying to find evidence of a significant difference between population means (2-sample t) or between the population mean and a hypothesized value (1-sample t).\n",
    "In statistics, the t-statistic is a ratio of the departure of an estimated parameter from its notional value to its standard error. It is used in hypothesis testing. For example, it is used in determining the population mean from a sampling distribution of sample means if the population standard deviation is unknown."
   ]
  },
  {
   "cell_type": "markdown",
   "metadata": {
    "collapsed": true,
    "deletable": true,
    "editable": true
   },
   "source": [
    "the p-value is very small, therefore we can reject the null hypothesis - the two series are significantly different."
   ]
  },
  {
   "cell_type": "code",
   "execution_count": 70,
   "metadata": {
    "collapsed": false,
    "deletable": true,
    "editable": true
   },
   "outputs": [],
   "source": [
    "df = data[['SUPPLIER_CHAIN', 'GROSS_SALES_EUR', 'CLIENT_MASTER_PARENT']]\n",
    "#table2 = data.groupby('CLIENT_SEGMENT').agg([sum])\n",
    "#table2.head()\n",
    "#df = df.groupby('SUPPLIER_CHAIN').agg([sum])\n",
    "#df.head()\n",
    "df = df.sort_values(['CLIENT_MASTER_PARENT'], ascending=[False])\n",
    "grouped = df.groupby('SUPPLIER_CHAIN').agg([sum])\n",
    "grouped_sorted = grouped.sort_index(axis=1, level=1, ascending=False, inplace=True,\\\n",
    "                                    kind='quicksort', na_position='last', sort_remaining=True, by=None)\n",
    "grouped_sorted"
   ]
  },
  {
   "cell_type": "code",
   "execution_count": 71,
   "metadata": {
    "collapsed": false,
    "deletable": true,
    "editable": true
   },
   "outputs": [],
   "source": [
    "grouped_sorted"
   ]
  },
  {
   "cell_type": "code",
   "execution_count": null,
   "metadata": {
    "collapsed": true,
    "deletable": true,
    "editable": true
   },
   "outputs": [],
   "source": []
  },
  {
   "cell_type": "code",
   "execution_count": null,
   "metadata": {
    "collapsed": true,
    "deletable": true,
    "editable": true
   },
   "outputs": [],
   "source": []
  }
 ],
 "metadata": {
  "kernelspec": {
   "display_name": "py35",
   "language": "python",
   "name": "py35"
  },
  "language_info": {
   "codemirror_mode": {
    "name": "ipython",
    "version": 3
   },
   "file_extension": ".py",
   "mimetype": "text/x-python",
   "name": "python",
   "nbconvert_exporter": "python",
   "pygments_lexer": "ipython3",
   "version": "3.5.2"
  }
 },
 "nbformat": 4,
 "nbformat_minor": 2
}
