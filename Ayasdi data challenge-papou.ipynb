{
 "cells": [
  {
   "cell_type": "code",
   "execution_count": 76,
   "metadata": {
    "collapsed": true
   },
   "outputs": [],
   "source": [
    "# import libraries\n",
    "\n",
    "import numpy as np\n",
    "import matplotlib.pyplot as plt\n",
    "%matplotlib inline\n",
    "import seaborn as sns\n",
    "import csv\n",
    "from sklearn.decomposition import PCA\n"
   ]
  },
  {
   "cell_type": "code",
   "execution_count": 228,
   "metadata": {
    "collapsed": false
   },
   "outputs": [],
   "source": [
    "\n",
    "from scipy import stats\n",
    "\n",
    "\n",
    "\n",
    "class Dataset(object):\n",
    "    \"A dataset that we load into the system\"\n",
    "\n",
    "    def __init__(self, features, target):\n",
    "        \"\"\n",
    "        self.features = features\n",
    "        self.target = target\n",
    "\n",
    "    def summary_stats(self):\n",
    "        summary_stats=[]\n",
    "\n",
    "        for var in self.features:\n",
    "            sum_stats = stats.describe(var.astype(float))\n",
    "            summary_stats.append(sum_stats)\n",
    "        return summary_stats\n",
    "    \n",
    "    def plot_distribution(self,feature_number):\n",
    "        fig = plt.figure()\n",
    "        sns.set_style(\"white\")\n",
    "        sns.distplot(self.features[feature_number].astype(float), kde=False, rug=True)\n",
    "        plt.title('Distribution Graph for Feature: '+str(feature_number))\n",
    "        plt.tight_layout()\n",
    "    \n",
    "    def PCA_trans(self,nb_components):\n",
    "        return(PCA(n_components=nb_components).fit_transform(self.features))\n",
    "                                                             \n",
    "    def corr_tgt(self):\n",
    "        results=[]\n",
    "        for i in range(0,self.features.shape[1]):\n",
    "            transp=self.features.transpose()[i]\n",
    "            correlation=np.corrcoef(transp.astype('float'), self.target)[0][1]\n",
    "            results.append(correlation)\n",
    "        return (results)\n",
    "   \n",
    "    def tgt_reg_plot(self, feature_number):\n",
    "        var_p= self.features[:,feature_number]\n",
    "        sns.regplot(var_p.astype('float'), self.target, logistic=True)\n",
    "    \n",
    "    "
   ]
  },
  {
   "cell_type": "code",
   "execution_count": 229,
   "metadata": {
    "collapsed": false
   },
   "outputs": [],
   "source": [
    "# import data\n",
    "\n",
    "file=[]\n",
    "\n",
    "with open('C:\\\\Users\\Sonja\\\\Documents\\\\Python Scripts\\\\Ayasdi\\\\dataset_challenge.tsv') as tsvfile:\n",
    "    reader = csv.reader(tsvfile, delimiter='\\t')\n",
    "    for row in reader:\n",
    "        file.append(row)"
   ]
  },
  {
   "cell_type": "code",
   "execution_count": 230,
   "metadata": {
    "collapsed": false
   },
   "outputs": [],
   "source": [
    "data = np.array(file)"
   ]
  },
  {
   "cell_type": "code",
   "execution_count": 231,
   "metadata": {
    "collapsed": false
   },
   "outputs": [
    {
     "data": {
      "text/plain": [
       "array([0, 0, 0, 0, 0, 0, 0, 0, 0, 1, 0, 0, 1, 0, 1, 0, 1, 0, 0, 1, 0, 0, 0,\n",
       "       1, 1, 0, 0, 1, 0, 1, 0, 1, 0, 0, 1, 1, 0, 1, 0, 0, 0, 1, 1, 0, 0, 0,\n",
       "       1, 0, 1, 1, 0, 0, 1, 0, 0, 0, 1, 1, 1, 0, 0, 0, 0, 0, 1, 0, 0, 0, 0,\n",
       "       0, 0, 0, 0, 0, 1, 0, 0, 0, 0, 0, 0, 1, 1, 0, 0, 1, 1, 0, 0, 0, 1, 0,\n",
       "       1, 1, 1, 0, 0, 0, 1, 1, 0, 0, 1, 0, 0, 0, 0, 0, 0, 0, 0, 1, 0, 1, 1,\n",
       "       0, 0, 0, 1, 0, 0, 0, 0, 0, 1, 1, 0, 0, 0, 0, 1, 0, 0, 0, 0, 0, 0, 1,\n",
       "       0, 0, 1, 0, 0, 0, 0, 0, 0, 0, 0, 1, 0, 0, 0, 0, 1, 0, 0, 0, 1, 0, 0,\n",
       "       1, 0, 1, 1, 0, 0, 0, 0, 0, 0, 0, 0, 0, 0, 1, 0, 0, 0, 0, 0, 0, 0, 0,\n",
       "       1, 1, 0, 0, 0, 0, 0, 0, 0, 0, 0, 0, 0, 0, 0, 0, 0, 0, 0, 0, 0, 0, 0,\n",
       "       0, 0, 1, 0, 1, 1, 1, 0, 1, 0, 1, 0, 0, 0, 0, 0, 1, 0, 0, 1, 0, 0, 0,\n",
       "       0, 0, 0, 0, 1, 0, 0, 0, 0, 0, 1, 1, 1, 1, 0, 0, 0, 0, 0, 0, 0, 0, 0,\n",
       "       0, 0, 0, 0, 0, 0, 0, 0, 1, 1, 1, 1, 1, 1, 1, 1, 1, 1, 1])"
      ]
     },
     "execution_count": 231,
     "metadata": {},
     "output_type": "execute_result"
    }
   ],
   "source": [
    "target = data[1:, -1].astype(int)\n",
    "target.dtype\n",
    "target"
   ]
  },
  {
   "cell_type": "code",
   "execution_count": 232,
   "metadata": {
    "collapsed": false,
    "scrolled": true
   },
   "outputs": [],
   "source": [
    "# replace 'na' with zero\n",
    "\n",
    "variables = data[1:, :-1]\n",
    "\n",
    "for var in variables:\n",
    "    var[var== 'NA'] = 0\n",
    "    "
   ]
  },
  {
   "cell_type": "markdown",
   "metadata": {},
   "source": [
    "**Question 1**"
   ]
  },
  {
   "cell_type": "code",
   "execution_count": 233,
   "metadata": {
    "collapsed": true
   },
   "outputs": [],
   "source": [
    "df=Dataset(variables,target)"
   ]
  },
  {
   "cell_type": "code",
   "execution_count": 234,
   "metadata": {
    "collapsed": true
   },
   "outputs": [],
   "source": [
    "summary=df.summary_stats()"
   ]
  },
  {
   "cell_type": "code",
   "execution_count": 248,
   "metadata": {
    "collapsed": false
   },
   "outputs": [],
   "source": [
    "#summary"
   ]
  },
  {
   "cell_type": "code",
   "execution_count": 238,
   "metadata": {
    "collapsed": false
   },
   "outputs": [],
   "source": [
    "\n",
    "kurtosis = []\n",
    "\n",
    "for sum in summary_stats:\n",
    "    kurt = sum[:][:][-1]\n",
    "    kurtosis.append(kurt)"
   ]
  },
  {
   "cell_type": "code",
   "execution_count": 239,
   "metadata": {
    "collapsed": false
   },
   "outputs": [
    {
     "data": {
      "text/plain": [
       "1.5259605445187532"
      ]
     },
     "execution_count": 239,
     "metadata": {},
     "output_type": "execute_result"
    }
   ],
   "source": [
    "idx = range(len(kurtosis))\n",
    "zipped = dict(zip(idx, kurtosis))\n",
    "zipped[0]"
   ]
  },
  {
   "cell_type": "code",
   "execution_count": 249,
   "metadata": {
    "collapsed": false
   },
   "outputs": [
    {
     "ename": "IndentationError",
     "evalue": "expected an indented block (<ipython-input-249-f9640f78d6d7>, line 5)",
     "output_type": "error",
     "traceback": [
      "\u001b[0;36m  File \u001b[0;32m\"<ipython-input-249-f9640f78d6d7>\"\u001b[0;36m, line \u001b[0;32m5\u001b[0m\n\u001b[0;31m    #print(k, v)\u001b[0m\n\u001b[0m                ^\u001b[0m\n\u001b[0;31mIndentationError\u001b[0m\u001b[0;31m:\u001b[0m expected an indented block\n"
     ]
    }
   ],
   "source": [
    "#kurt_large = dict(filter(lambda x: x > 3))\n",
    "#[v for k, v in zipped.items() if v >3]\n",
    "for k, v in zipped.items():\n",
    "    if v > 3:\n",
    "        #print(k, v)"
   ]
  },
  {
   "cell_type": "code",
   "execution_count": 250,
   "metadata": {
    "collapsed": false,
    "scrolled": false
   },
   "outputs": [
    {
     "data": {
      "image/png": "[encoded data removed]",
      "text/plain": [
       "<matplotlib.figure.Figure at 0x13a222e8>"
      ]
     },
     "metadata": {},
     "output_type": "display_data"
    },
    {
     "data": {
      "image/png": "[encoded data removed]",
      "text/plain": [
       "<matplotlib.figure.Figure at 0xda538d0>"
      ]
     },
     "metadata": {},
     "output_type": "display_data"
    },
    {
     "data": {
      "image/png": "[encoded data removed]",
      "text/plain": [
       "<matplotlib.figure.Figure at 0x12aa7438>"
      ]
     },
     "metadata": {},
     "output_type": "display_data"
    },
    {
     "data": {
      "image/png": "[encoded data removed]",
      "text/plain": [
       "<matplotlib.figure.Figure at 0x18bed4a8>"
      ]
     },
     "metadata": {},
     "output_type": "display_data"
    }
   ],
   "source": [
    "features_to_plot=[79,103,231,263]\n",
    "\n",
    "for i in features_to_plot:\n",
    "    df.plot_distribution(i)"
   ]
  },
  {
   "cell_type": "markdown",
   "metadata": {},
   "source": [
    "The above variables have been chosen for their leptokurtic distributions, with kurtosis values above 3, which is the value for a univariate normal distribution. This means that the above distributions have fatter tails, or outliers. \n",
    "The histogram with rugplot has been chosen as it allows to plot a univariate distribution of observations and draw small vertical lines to show each observation in a distribution."
   ]
  },
  {
   "cell_type": "markdown",
   "metadata": {},
   "source": [
    "**Question 2**"
   ]
  },
  {
   "cell_type": "code",
   "execution_count": 242,
   "metadata": {
    "collapsed": false
   },
   "outputs": [],
   "source": [
    "from sklearn.decomposition import PCA\n",
    "\n",
    "var_redux = df.PCA_trans(2)\n"
   ]
  },
  {
   "cell_type": "code",
   "execution_count": 243,
   "metadata": {
    "collapsed": false
   },
   "outputs": [],
   "source": [
    "\n",
    "redux_zipped = zip(var_redux, df.target)\n",
    "\n",
    "colors=[]\n",
    "\n",
    "for i in redux_zipped:\n",
    "    if i[:][:][-1] ==1:\n",
    "        colors.append('r')\n",
    "    else:\n",
    "        colors.append('b')\n"
   ]
  },
  {
   "cell_type": "code",
   "execution_count": 244,
   "metadata": {
    "collapsed": false
   },
   "outputs": [
    {
     "data": {
      "text/plain": [
       "<matplotlib.collections.PathCollection at 0xd94f908>"
      ]
     },
     "execution_count": 244,
     "metadata": {},
     "output_type": "execute_result"
    },
    {
     "data": {
      "image/png": "[encoded data removed]",
      "text/plain": [
       "<matplotlib.figure.Figure at 0x15847668>"
      ]
     },
     "metadata": {},
     "output_type": "display_data"
    }
   ],
   "source": [
    "# plot principal components\n",
    "\n",
    "plt.scatter(var_redux[:,0], var_redux[:,1], c=colors)"
   ]
  },
  {
   "cell_type": "markdown",
   "metadata": {},
   "source": [
    "**Question 3a**"
   ]
  },
  {
   "cell_type": "code",
   "execution_count": 245,
   "metadata": {
    "collapsed": false
   },
   "outputs": [
    {
     "data": {
      "text/plain": [
       "[0.0036840393203256168,\n",
       " -0.081323517747939819,\n",
       " -0.028860777985607496,\n",
       " -0.10495373160402828,\n",
       " -0.052973715134242573,\n",
       " -0.12194992380377687,\n",
       " -0.28770663685334047,\n",
       " 0.076927472360619031,\n",
       " -0.071407587540666853,\n",
       " -0.077909466858096188,\n",
       " 0.017477816734558067,\n",
       " -0.18614346016968825,\n",
       " -0.010090366225090051,\n",
       " -0.22148578529297641,\n",
       " 0.0082074512410446453,\n",
       " -0.075763091376027783,\n",
       " -0.10347504806005452,\n",
       " -0.22201089250271633,\n",
       " 0.0032705543880307999,\n",
       " 0.01038554235743562,\n",
       " -0.026116516273340017,\n",
       " 0.1012756220836393,\n",
       " -0.023461887238117533,\n",
       " 0.10974372732380358,\n",
       " 0.012944716436081145,\n",
       " 0.0062258254144887141,\n",
       " -0.16197787298349978,\n",
       " -0.13442001912826579,\n",
       " -0.10795915627566581,\n",
       " -0.20282585947072468,\n",
       " -0.015441489113218526,\n",
       " -0.041242214328334026,\n",
       " 0.10449451512162604,\n",
       " -0.0029346109325397618,\n",
       " 0.049313431959468808,\n",
       " 0.066280456949932232,\n",
       " -0.048765183848816424,\n",
       " -0.13818644801782817,\n",
       " -0.2073595526518876,\n",
       " -0.13407323883655806,\n",
       " -0.19892415902972832,\n",
       " 0.15727075487145026,\n",
       " 0.034949788062124974,\n",
       " 0.14939264707260178,\n",
       " -0.13869383321016918,\n",
       " 0.15903249463281208,\n",
       " -0.080573785169039985,\n",
       " -0.25594677295914758,\n",
       " -0.010810256794884033,\n",
       " -0.054425752166384352,\n",
       " 0.098819170895038555,\n",
       " -0.08106744777845068,\n",
       " -0.031836898830592701,\n",
       " 0.018402466314816464,\n",
       " -0.13596107892236034,\n",
       " 0.028010857876352154,\n",
       " -0.24414491616356765,\n",
       " 0.26579462278362409,\n",
       " -0.12928933828090849,\n",
       " -0.098737357006717291,\n",
       " 0.079636983659107735,\n",
       " -0.19735576849464798,\n",
       " -0.25324168872383995,\n",
       " 0.091946397070162098,\n",
       " -0.0015781046333589394,\n",
       " -0.1594194468701384,\n",
       " -0.13809093659792243,\n",
       " -0.309565276010552,\n",
       " -0.21792685840923368,\n",
       " -0.16295301496261111,\n",
       " -0.15514345483385783,\n",
       " -0.050947900821079389,\n",
       " 0.25627783815223787,\n",
       " -0.042151661379955255,\n",
       " 0.015133036041799953,\n",
       " -0.15182018910253392,\n",
       " 0.11714540601316856,\n",
       " 0.28204576169184337,\n",
       " -0.054126800235104841,\n",
       " 0.094309183009358033,\n",
       " -0.0237096527090743,\n",
       " 0.09512048832542605,\n",
       " -0.00034033318054336499,\n",
       " -0.037674525015614399,\n",
       " 0.037933530506090357,\n",
       " -0.074035783921779688,\n",
       " -0.00020798063536457337,\n",
       " -0.060449155773954849,\n",
       " 0.011802719180592147,\n",
       " -0.12108428305937657,\n",
       " 0.044832310758670224,\n",
       " -0.011382503228470198,\n",
       " -0.040165672691127412,\n",
       " -0.039147390110710223,\n",
       " -0.099273849085680446,\n",
       " -0.010938965408776813,\n",
       " 0.036912387457944347,\n",
       " 0.025213430359645031,\n",
       " 0.16293613110635324,\n",
       " -0.11334000574218638,\n",
       " 0.14712439776230687,\n",
       " 0.068247648007617123,\n",
       " -0.29714447671865934,\n",
       " 0.072977342661342287,\n",
       " -0.16237587979747073,\n",
       " 0.041784325249884596,\n",
       " -0.0042925888802754766,\n",
       " 0.025508494381537395,\n",
       " -0.091595390913160657,\n",
       " 0.2011679261955685,\n",
       " -0.040651344139038308,\n",
       " -0.069608161419044773,\n",
       " -0.05037262722672875,\n",
       " -0.033786099159437095,\n",
       " 0.21701983716971399,\n",
       " -0.1098278282885343,\n",
       " -0.16567348777154253,\n",
       " -0.14106784565055874,\n",
       " 0.092952814993060087,\n",
       " 0.039384150282742829,\n",
       " -0.26906539160082221,\n",
       " -0.13422547506211535,\n",
       " -0.020132019382166296,\n",
       " 0.20013277110607461,\n",
       " 0.080448527817910009,\n",
       " 0.017161269787376383,\n",
       " 0.24786459055363846,\n",
       " -0.020184046329975575,\n",
       " 0.0091621897503289841,\n",
       " 0.15235178727493529,\n",
       " -0.15628961156559135,\n",
       " 0.031625834175544994,\n",
       " 0.072837014067687986,\n",
       " -0.095467664273375621,\n",
       " -0.10483622160886778,\n",
       " -0.002994538019288325,\n",
       " 0.0016748884304650044,\n",
       " -0.14376977043215103,\n",
       " -0.090646447123144513,\n",
       " 0.017149255441698128,\n",
       " 0.18215744315901969,\n",
       " 0.060813057482873738,\n",
       " 0.13889889653103812,\n",
       " 0.018230429935025608,\n",
       " 0.079300511604597612,\n",
       " -0.061730101244121344,\n",
       " -0.11337078979309823,\n",
       " 0.054704354455966296,\n",
       " 0.09263260418560644,\n",
       " 0.023995890256602259,\n",
       " -0.17389128422032082,\n",
       " -0.18728344834476424,\n",
       " -0.22853164106653676,\n",
       " 0.050459492706660863,\n",
       " 0.21158760979754337,\n",
       " -0.041770398198830258,\n",
       " 0.007245386795645176,\n",
       " 0.14706758113876567,\n",
       " 0.057941593302997696,\n",
       " -0.077683680051750401,\n",
       " 0.054890704091053663,\n",
       " -0.061662400322764106,\n",
       " 0.086970769470855372,\n",
       " -0.11935918236464207,\n",
       " 0.048283039310692173,\n",
       " -0.067434890007693399,\n",
       " -0.043492986999908695,\n",
       " 0.042766634974132918,\n",
       " 0.092080811274132077,\n",
       " 0.036678302158198256,\n",
       " -0.22493912467702454,\n",
       " -0.059283177752105135,\n",
       " -0.25331347989634556,\n",
       " 0.062735392949142363,\n",
       " 0.091914922211194683,\n",
       " -0.0059098939556872761,\n",
       " 0.14544838934286491,\n",
       " -0.14742283612172774,\n",
       " 0.049349680775653076,\n",
       " -0.018330411656047388,\n",
       " 0.025647593193613035,\n",
       " 0.009204793045814905,\n",
       " 0.060331113587303691,\n",
       " -0.23515134924968933,\n",
       " -0.2159914365201959,\n",
       " 0.13301758107790382,\n",
       " 0.12328380580972223,\n",
       " 0.1238773885498448,\n",
       " -0.22455995087830602,\n",
       " -0.18861083434290313,\n",
       " 0.089707005491915071,\n",
       " 0.0023263005341599302,\n",
       " -0.064014323121401054,\n",
       " -0.023358263334397354,\n",
       " 0.070320946006250454,\n",
       " -0.046927763040276162,\n",
       " 0.34363061214223878,\n",
       " 0.11651688589488236,\n",
       " 0.34347609828193976,\n",
       " 0.16717548962374315,\n",
       " 0.11143520619722314,\n",
       " -0.090715142611665203,\n",
       " -0.0087188364548456253,\n",
       " 0.0056062840573010203,\n",
       " -0.066535636406346854,\n",
       " 0.092725617710768468,\n",
       " 0.033714360017647153,\n",
       " -0.099572615242371293,\n",
       " -0.17959104072990931,\n",
       " 0.075160765158987286,\n",
       " -0.067452956762668145,\n",
       " -0.095789521377397449,\n",
       " 0.14729071243140243,\n",
       " -0.27853486169783137,\n",
       " -0.031622518143576687,\n",
       " 0.037344202310284715,\n",
       " -0.14628200756859153,\n",
       " 0.08465514727908767,\n",
       " 0.17223735337133825,\n",
       " -0.027814555836916773,\n",
       " 0.1133413389314392,\n",
       " -0.097674061328594811,\n",
       " 0.11494480594753108,\n",
       " -0.073506490572833774,\n",
       " 0.091116576581466047,\n",
       " -0.067104766093341706,\n",
       " -0.034883720050845488,\n",
       " -0.0307178532544885,\n",
       " -0.067851101734176189,\n",
       " 0.054006617188905849,\n",
       " 0.0046169121386615926,\n",
       " 0.013274455008562225,\n",
       " -0.07165196111857472,\n",
       " 0.17156188364530756,\n",
       " 0.11375451199871085,\n",
       " 0.10378008354928416,\n",
       " -0.1255266922134966,\n",
       " -0.02352521726222831,\n",
       " 0.029693018018305935,\n",
       " 0.20127577871834096,\n",
       " -0.14021984285861208,\n",
       " 0.16171732005465694,\n",
       " 0.15455697539853591,\n",
       " 0.093102467814077508,\n",
       " -0.099891982883796651,\n",
       " 0.06495695150062035,\n",
       " 0.00082964025622846204,\n",
       " 0.0028576127356682163,\n",
       " -0.032905575517234734,\n",
       " -0.10018061191447293,\n",
       " -0.029140715700689088,\n",
       " -0.055078710895570558,\n",
       " -0.21767152208577559,\n",
       " 0.057959059297845034,\n",
       " -0.066219385546571738,\n",
       " 0.01426970562224349,\n",
       " -0.084223511660801623,\n",
       " 0.13897781729750203,\n",
       " 0.097435937289346713,\n",
       " 0.040578730780127983,\n",
       " 0.075263445316091429,\n",
       " -0.022898377309389664,\n",
       " 0.20746377189638976,\n",
       " -0.30304980946227755,\n",
       " 0.006095941546091407,\n",
       " 0.048030025638419689,\n",
       " -0.1913581441756935,\n",
       " 0.076934348471289007,\n",
       " 0.0043982096358697893,\n",
       " 0.09556870961250008,\n",
       " -0.17774653687079006,\n",
       " -0.15649799187262675,\n",
       " 0.021058453579159191,\n",
       " -0.018337302681418852,\n",
       " 0.058702747840408707,\n",
       " 0.061722363397068325,\n",
       " 0.076452035962938689,\n",
       " 0.25787610229910385,\n",
       " 0.14370271069788815,\n",
       " -0.1083278203918982,\n",
       " -0.20298298296075648,\n",
       " -0.1672665323434453,\n",
       " 0.076768606210246546,\n",
       " -0.10272336085183793,\n",
       " 0.2259367999325072,\n",
       " 0.12265686469261847,\n",
       " -0.17136356191280758,\n",
       " -0.074307741782348252,\n",
       " -0.24686493357206968,\n",
       " -0.022990289223585272,\n",
       " 0.12542092300027755,\n",
       " -0.21558784085541363,\n",
       " -0.016036801070250763,\n",
       " 0.10603990501527759,\n",
       " 0.10783601508396497,\n",
       " 0.0011435422189518965,\n",
       " -0.13681878886832019,\n",
       " 0.050891713025800901,\n",
       " -0.059506790619339729,\n",
       " -0.088800508358115524,\n",
       " 0.048419683476224391,\n",
       " -0.20070759015901293,\n",
       " -0.093634631490780204,\n",
       " 0.064714749811930039,\n",
       " -0.092018977496093737,\n",
       " 0.058056758350898748,\n",
       " 0.0011155362867639423,\n",
       " 0.061120392785359849,\n",
       " -0.013085966481562133,\n",
       " -0.16951080803539628,\n",
       " 0.028779257511759627,\n",
       " -0.041413936364507964,\n",
       " -0.23205038777014098,\n",
       " -0.071701718988201199,\n",
       " -0.031125084444713211,\n",
       " 0.091823602635572557,\n",
       " 0.038107078116578062,\n",
       " -0.2151568064293741,\n",
       " 0.022749452510468796,\n",
       " 0.10893133430520252,\n",
       " 0.02918834118110623,\n",
       " -0.18858003153726338,\n",
       " 0.027124375647987378,\n",
       " -0.15188967930466746,\n",
       " 0.048972925836611614,\n",
       " 0.085336602514766505,\n",
       " -0.13519720118881129,\n",
       " 0.11354243692927678,\n",
       " -0.19853675000620041,\n",
       " -0.28646630484409241,\n",
       " -0.029348936665289531,\n",
       " -0.0067014732294388077,\n",
       " -0.21758644813007583,\n",
       " -0.17947048005147972,\n",
       " -0.021549497063473266,\n",
       " -0.16179882590960284,\n",
       " 0.15777721108296469,\n",
       " -0.076204430775801107,\n",
       " 0.075679868217084029,\n",
       " -0.25285818014158173,\n",
       " 0.02572505606157291,\n",
       " 0.037898403802020766,\n",
       " -0.0071191077503156199,\n",
       " -0.011952279129319447,\n",
       " -0.21462009668380702,\n",
       " -0.25384608372556544,\n",
       " 0.047515499829320615,\n",
       " 0.055701299133035717,\n",
       " -0.056429897222189294,\n",
       " -0.038033908821450364,\n",
       " 0.061668140736047657,\n",
       " -0.1105314119442873,\n",
       " -0.012223209378521225,\n",
       " 0.02867237225700087,\n",
       " 0.05047532360634973,\n",
       " 0.03840648085040179,\n",
       " 0.041725705134923789,\n",
       " -0.0037656490891592818,\n",
       " 0.014324508875746211,\n",
       " -0.17057661059363319,\n",
       " 0.055121220839732143,\n",
       " 0.040537210957203106,\n",
       " 0.01625041578815397,\n",
       " 0.12646905650011842,\n",
       " 0.046740824702649099,\n",
       " 0.068591714403253956,\n",
       " 0.079230159309390827,\n",
       " 0.040691212459508845,\n",
       " 0.0074870890842969268,\n",
       " 0.069862367451699853,\n",
       " -0.16057432267314042,\n",
       " -0.1351508718245466,\n",
       " 0.078772689481977812,\n",
       " 0.02939199326568093,\n",
       " 0.083315894131744395,\n",
       " 0.031327805644288338,\n",
       " 0.30744392235260648,\n",
       " -0.17382609047889733,\n",
       " 0.26720805890873178,\n",
       " 0.06998329026301825,\n",
       " 0.10525755658413201,\n",
       " 0.040323183433237923,\n",
       " 0.03726606146037479,\n",
       " 0.080371289360611872,\n",
       " 0.22031349982297416,\n",
       " -0.10069486016968571,\n",
       " 0.12153638167092631,\n",
       " 0.16368352500817968,\n",
       " -0.059543358779403116,\n",
       " 0.18631352037633553,\n",
       " 0.0054528673163982584,\n",
       " 0.042710210745444364,\n",
       " -0.024168840162354564,\n",
       " 0.0288755043745451,\n",
       " -0.02054147129279307,\n",
       " 0.15964430543959793,\n",
       " 0.10183675792077719,\n",
       " 0.21550064482497322,\n",
       " 0.08548603152165514,\n",
       " 0.08548423615447466,\n",
       " -0.19295045901870034,\n",
       " -0.08382060635815794,\n",
       " -0.067899259072538895,\n",
       " -0.0036205703621628592,\n",
       " 0.060873086619338816,\n",
       " 0.027022553465716796,\n",
       " 0.10632572131161555,\n",
       " -0.063663418669391084,\n",
       " 0.02293014455308983,\n",
       " -0.30189729193388815,\n",
       " 0.13556817468679958,\n",
       " 0.032611317475275334,\n",
       " 0.087153410812953039,\n",
       " 0.040490313159799451,\n",
       " 0.12599339175104357,\n",
       " 0.15957627956918061,\n",
       " -0.099067510391534955,\n",
       " 0.014584920781900332,\n",
       " 0.046481246998732753,\n",
       " -0.1752478202345793,\n",
       " -0.019013560075519936,\n",
       " -0.0093344833205551685,\n",
       " 0.075670292061074201,\n",
       " -0.1870151067042452,\n",
       " 0.17590122021817503,\n",
       " 0.15260186225480246,\n",
       " -0.071665890306271865,\n",
       " -0.021814260715797385,\n",
       " -0.097672871251380869,\n",
       " -0.18416016445443803,\n",
       " 0.13651288926920693,\n",
       " 0.15409812855116437,\n",
       " 0.025856931970031763,\n",
       " -0.12648452083800135,\n",
       " -0.1304748303455357,\n",
       " -0.15433499619009713,\n",
       " -0.21935609037539869,\n",
       " 0.0020328480334414097,\n",
       " -0.3020389744803717,\n",
       " -0.071483054568645191,\n",
       " -0.24607855401507969,\n",
       " -0.00055286452173248818,\n",
       " 0.10180618102145131,\n",
       " -0.14582073665233988,\n",
       " 0.033074578890721039,\n",
       " -0.21574758598502344,\n",
       " -0.18470412732711292,\n",
       " 0.18370773125023176,\n",
       " 0.097211929740375763,\n",
       " 0.28831152134924498,\n",
       " -0.0060108717330379889,\n",
       " 0.14171595208106205,\n",
       " -4.0445378331069797e-05,\n",
       " -0.25396297315430655,\n",
       " 0.019263870833015718,\n",
       " -0.075824088945842541,\n",
       " -0.12633801138481932,\n",
       " -0.0051383256867975607,\n",
       " -0.065167242999304251,\n",
       " 0.04643680625797432,\n",
       " 0.055225748050496827,\n",
       " 0.094609479700183324,\n",
       " 0.071264693855280864,\n",
       " 0.09990116735476838,\n",
       " -0.041166719956609206,\n",
       " 0.10327259159089237,\n",
       " -0.048045590346957587,\n",
       " -0.039726320760242524,\n",
       " 0.302815735665868,\n",
       " -0.15475730964425291,\n",
       " 0.077573055632481375,\n",
       " -0.2489570484644438,\n",
       " -0.046467138540134047,\n",
       " -0.091838068177705706,\n",
       " -0.185527773101577,\n",
       " -0.017991508128579029,\n",
       " -0.14595575391359475,\n",
       " 0.048461985822942415,\n",
       " -0.26125047356924097,\n",
       " -0.22529891784963807,\n",
       " 0.14390100206819215,\n",
       " 0.31848297698547057,\n",
       " 0.046133369214551904,\n",
       " 0.017540683448986884,\n",
       " -0.10715676601362621,\n",
       " 0.00026325284610953092,\n",
       " -0.0052767186014726058,\n",
       " 0.0057743978687680086,\n",
       " -0.17249501507802137,\n",
       " -0.13644675840049958,\n",
       " 0.10326102172225891,\n",
       " 0.025737342804064353,\n",
       " 0.051306116248883094,\n",
       " 0.038614697832051466,\n",
       " 0.13213147855774593,\n",
       " -0.07845746504431092,\n",
       " -0.071605100356788604,\n",
       " -0.11731179321048611,\n",
       " 0.04493063752792139,\n",
       " -0.2020264415845506,\n",
       " 0.071497873848868188,\n",
       " 0.11526274481700889,\n",
       " -0.066382584208629081,\n",
       " 0.020200979545918575,\n",
       " 0.13514480738999626,\n",
       " 0.10822380718295034,\n",
       " 0.058169904019800212,\n",
       " -0.066471448317651588,\n",
       " -0.095714078339889583,\n",
       " 0.077171277424209109,\n",
       " -0.14446529430633454,\n",
       " 0.080165169292100602,\n",
       " 0.090564656835485285,\n",
       " 0.060298635062956629,\n",
       " 0.017239117320671203,\n",
       " 0.15016103171966866,\n",
       " 0.023105743546511938,\n",
       " 0.14555477981576678,\n",
       " 0.10376375014316266,\n",
       " -0.17585334513684384,\n",
       " 0.17043047696781807,\n",
       " -0.11859813850640225,\n",
       " 0.026106037722249911,\n",
       " -0.030805994455617561,\n",
       " 0.14962242825800626,\n",
       " 0.10492189486215332,\n",
       " 0.089159983815521884,\n",
       " -0.13152197668466595,\n",
       " -0.030825933507188825,\n",
       " 0.0075715136657340523,\n",
       " -0.015393164325294584,\n",
       " -0.049304500910460201,\n",
       " -0.12209097919216108,\n",
       " -0.026747450262199629,\n",
       " 0.16332482408711665,\n",
       " 0.050574276270081472,\n",
       " -0.0059287537920959575,\n",
       " -0.11080800045035526,\n",
       " 0.073708019719025755,\n",
       " 0.13684886350606826,\n",
       " -0.016121331150399831,\n",
       " 0.28999815236996668,\n",
       " 0.023799576668620509,\n",
       " -0.0081545079858930149,\n",
       " 0.10644886983206504,\n",
       " 0.15697818754155474,\n",
       " -0.2087260575882573,\n",
       " -0.048862011443998161,\n",
       " -0.076415933171008615,\n",
       " -0.23386066594138408,\n",
       " -0.034420736496386169,\n",
       " -0.017231773944980433,\n",
       " -0.090751903469902917,\n",
       " 0.012263328148997624,\n",
       " -0.17087243023591644,\n",
       " 0.21484025596884518,\n",
       " 0.064561424094684516,\n",
       " 0.045800564284217055,\n",
       " -0.25972547181125033,\n",
       " -0.16542769468992893,\n",
       " 0.058148264944922326,\n",
       " 0.063884407123327769,\n",
       " -0.015616142567736016,\n",
       " 0.10258788967135278,\n",
       " 0.32710247320665797,\n",
       " -0.075086934446284281,\n",
       " -0.091730319352860787,\n",
       " 0.045928514198686092,\n",
       " 0.23067903907720139,\n",
       " 0.0966387257725419,\n",
       " -0.071981345643842884,\n",
       " 0.19241558228097999,\n",
       " 0.19525045189342913,\n",
       " -0.17230151806261962,\n",
       " 0.042743987927904369,\n",
       " -0.048623854584486766,\n",
       " 0.002510355850396156,\n",
       " -0.22186505237644399,\n",
       " -0.15253217388705848,\n",
       " 0.098923090816539438,\n",
       " -0.060247084864255132,\n",
       " 0.095326926645717291,\n",
       " 0.091284892467921361,\n",
       " 0.061682927533212792,\n",
       " 0.056524591259306707,\n",
       " -0.034164124395623212,\n",
       " -0.056723355676680999,\n",
       " 0.099126738559723593,\n",
       " 0.077748692796172567,\n",
       " 0.12337727232641536,\n",
       " 0.021398633045566721,\n",
       " -0.048326539224246567,\n",
       " -0.23072617382773417,\n",
       " -0.242898412014659,\n",
       " -0.019142914340423065,\n",
       " -0.13685376426343876,\n",
       " 0.078154882589008351,\n",
       " 0.075767284321016162,\n",
       " -0.11889471192822688,\n",
       " 0.060620524375211489,\n",
       " 0.2075700946144701,\n",
       " 0.012843481614198014,\n",
       " -0.06711590705468623,\n",
       " -0.25368568011699594,\n",
       " -0.23160445664147464,\n",
       " -0.1810196711355436,\n",
       " -0.16395602018534694,\n",
       " -0.16950645454995159,\n",
       " -0.046382716901928175,\n",
       " 0.12586207220299664,\n",
       " 0.10054120234120359,\n",
       " -0.11567250500985461,\n",
       " 0.14087156709471518,\n",
       " 0.10600399909775597,\n",
       " 0.07732386033826992,\n",
       " 0.23823583704420373,\n",
       " 0.12581815518807257,\n",
       " 0.055428624802762699,\n",
       " -0.18414357010175766,\n",
       " -0.074013133541393716,\n",
       " -0.17887310777589105,\n",
       " -0.1919727429308859,\n",
       " 0.002675869645592216,\n",
       " 0.23644706165845925,\n",
       " -0.048228204327806057,\n",
       " -0.11606894419094098,\n",
       " 0.087802778550285246,\n",
       " 0.0071929966585560848,\n",
       " -0.10337582728315826,\n",
       " -0.15099807564155016,\n",
       " 0.065042888926934994,\n",
       " 0.08477060261600837,\n",
       " 0.14171703486576454,\n",
       " -0.18436339144687405,\n",
       " -0.091602782056283208,\n",
       " 0.055064215456837352,\n",
       " -0.23416847379353017,\n",
       " 0.048950144172388806,\n",
       " -0.080865154944986334,\n",
       " -0.16852211220913163,\n",
       " 0.1044885542671212,\n",
       " 0.082458808193610539,\n",
       " -0.191783517429432,\n",
       " -0.21865890089602005,\n",
       " 0.16513338353060505,\n",
       " 0.12053210579867837,\n",
       " -0.21062842076751601,\n",
       " -0.012152207349707402,\n",
       " 0.13722371420382065,\n",
       " -0.16761925955602283,\n",
       " -0.22760506615750897,\n",
       " -0.039147621174641913,\n",
       " 0.1234502057551376,\n",
       " 0.051827953499150196,\n",
       " 0.10254294505251962,\n",
       " 0.10065337645152261,\n",
       " 0.051044417281607635,\n",
       " 0.17640452183373714,\n",
       " 0.029837111535336715,\n",
       " 0.15240049890331259,\n",
       " -0.037400251775331642,\n",
       " 0.22198444138272924,\n",
       " -0.11763240480851832,\n",
       " 0.05747315166012628,\n",
       " 0.27496530828100663,\n",
       " 0.041706211366999334,\n",
       " 0.11479259955512121,\n",
       " 0.07045094125971367,\n",
       " 0.015090601337513084,\n",
       " 0.084094327003235922,\n",
       " 0.078227393272634657,\n",
       " 0.098256127208303207,\n",
       " 0.19979358594096649,\n",
       " -0.14187399321982888,\n",
       " 0.10625825736614612,\n",
       " -0.053875812742667277,\n",
       " 0.34105910134026213,\n",
       " -0.0097327146332351362,\n",
       " -0.052229731365873749,\n",
       " -0.31378737521637484,\n",
       " 0.080574412056161268,\n",
       " -0.029404212667242798,\n",
       " -0.025662207238377473,\n",
       " -0.20732517008867074,\n",
       " -0.084062815514666753,\n",
       " 0.071471890718770775,\n",
       " 0.03686627727165951,\n",
       " -0.013652586067606505,\n",
       " 0.067185640981969136,\n",
       " -0.23590694709094884,\n",
       " -0.17027237195646169,\n",
       " -0.19828265984833751,\n",
       " -0.13893935751296035,\n",
       " -0.17247589053480056,\n",
       " 0.17626883340255034,\n",
       " -0.07764769018966329,\n",
       " 0.095219069211421967,\n",
       " 0.35725049040697526,\n",
       " 0.091955446401821725,\n",
       " 0.05199953042701063,\n",
       " 0.045737749031543394,\n",
       " 0.11286030433463601,\n",
       " 0.13277007103960653,\n",
       " -0.20031590235700011,\n",
       " 0.032878562828018917,\n",
       " 0.052821715659940385,\n",
       " -0.14417726332694727,\n",
       " -0.11793941094367622,\n",
       " -0.26287853992978716,\n",
       " -0.18600324979734401,\n",
       " -0.095366487675193817,\n",
       " -0.0069486494234259682,\n",
       " -0.27559281586932954,\n",
       " -0.086672925040512827,\n",
       " 0.18813916666687358,\n",
       " -0.21923509578983652,\n",
       " -0.16385607691712575,\n",
       " 0.14509470457834966,\n",
       " -0.038109332231949747,\n",
       " -0.082420563394439886,\n",
       " 0.022781220589053186,\n",
       " -0.27714792581341791,\n",
       " 0.087956518864463054,\n",
       " 0.16085206499375215,\n",
       " 0.036460064979814417,\n",
       " 0.12983345850718539,\n",
       " -0.054904792597179522,\n",
       " -0.16232466639552739,\n",
       " 0.20243422174072528,\n",
       " 0.16661717922562852,\n",
       " 0.12113571514177959,\n",
       " 0.01284544467241846,\n",
       " -0.10001322198439665,\n",
       " 0.36314299247224796,\n",
       " 0.30897712913495101,\n",
       " 0.023644190030825653,\n",
       " -0.053462697529101745,\n",
       " -0.082114855609746268,\n",
       " 0.13975182114691556,\n",
       " 0.11775821731769107,\n",
       " -0.10522843421215776,\n",
       " -0.0017890234930463393,\n",
       " 0.10405764360498881,\n",
       " 0.11696512792329604,\n",
       " -0.0070577119210909079,\n",
       " 0.17600216831006854,\n",
       " 0.14013056938539808,\n",
       " -0.20179875067204561,\n",
       " 0.28896896076725531,\n",
       " -0.16513173965054667,\n",
       " -0.13091340272713897,\n",
       " 0.217559054732929,\n",
       " -0.14245679165493103,\n",
       " 0.16522665653900748,\n",
       " 0.10856189619879333,\n",
       " 0.036424822870414958,\n",
       " -0.15975081177880507,\n",
       " -0.12321355292038111,\n",
       " 0.12113929623688102,\n",
       " 0.026805514352623554,\n",
       " 0.19162885626446505,\n",
       " 0.10328684136406166,\n",
       " -0.056481137890376433,\n",
       " 0.11000936156685089,\n",
       " 0.10731350740478321,\n",
       " 0.29794428258451339,\n",
       " 0.082665831777899892,\n",
       " 0.019107802629666194,\n",
       " -0.089877167226350863,\n",
       " 0.054589345757423711,\n",
       " -0.17906943939619985,\n",
       " 0.14516431188716311,\n",
       " -0.14065162887190555,\n",
       " -0.2274027553886753,\n",
       " 0.11465874415713086,\n",
       " -0.004064007282466176,\n",
       " 0.13230176992631146,\n",
       " 0.16105913316423939,\n",
       " -0.086380005256836034,\n",
       " 0.012833585253707343,\n",
       " 0.17235184723717795,\n",
       " -0.13161308743147088,\n",
       " 0.084160033149793922,\n",
       " 0.13838072181644462,\n",
       " 0.10929010862000066,\n",
       " 0.051438606184356139,\n",
       " -0.22251492680423735,\n",
       " 0.043341012910345998,\n",
       " 0.10278564644231775,\n",
       " -0.27189010675533598,\n",
       " 0.18099818876116455,\n",
       " 0.070764582162245182,\n",
       " 0.14519890709424094,\n",
       " -0.20069080750102358,\n",
       " -0.1487749411820829,\n",
       " 0.29549770955220672,\n",
       " 0.001370014004467136,\n",
       " 0.097231222889955796,\n",
       " 0.0040354649324072182,\n",
       " 0.015832607526153227,\n",
       " -0.13536807502479306,\n",
       " -0.055848541290100216,\n",
       " -0.044551628966426421,\n",
       " 0.0083167411251195093,\n",
       " -0.19695627859315198,\n",
       " 0.12408730123556688,\n",
       " -0.19101164096380696,\n",
       " -0.035466485201685841,\n",
       " 0.10396718990723583,\n",
       " -0.0089863120048972473,\n",
       " -0.054440054868912478,\n",
       " -0.075113947946422191,\n",
       " -0.091116704596650819,\n",
       " 0.093982993541311677,\n",
       " 0.08370719132529672,\n",
       " -0.22150943274692259,\n",
       " 0.33852062202275118,\n",
       " -0.034591582499364573,\n",
       " 0.33814542341243375,\n",
       " 0.15156249237154956,\n",
       " -0.088542526272237077,\n",
       " -0.29024530809740506,\n",
       " -0.055861219217135841,\n",
       " -0.099959373078706032,\n",
       " -0.09027394680987029,\n",
       " -0.074802849419389222,\n",
       " -0.02366368581984821,\n",
       " -0.19554104046157819,\n",
       " 0.1515776271587489,\n",
       " 0.016554050351808524,\n",
       " -0.24295658202592821,\n",
       " 0.15117449582023787,\n",
       " -0.095622413893945352,\n",
       " 0.043348424929816408,\n",
       " 0.013073498233670114,\n",
       " -0.13976566367723608,\n",
       " -0.29076606269920308,\n",
       " 0.032603067729684278,\n",
       " -0.33412521000047379,\n",
       " -0.035648208612635304,\n",
       " 0.008289559728258844,\n",
       " 0.020359827258395916,\n",
       " -0.15371971797625009,\n",
       " 0.07919080268396872,\n",
       " 0.14043514538466589,\n",
       " -0.0057492305063947778,\n",
       " 0.12895596014984015,\n",
       " 0.042877671378336514,\n",
       " 0.078394949973462261,\n",
       " -0.16262439420841115,\n",
       " -0.02683795251313198,\n",
       " -0.092604951369805427,\n",
       " -0.16934235055985219,\n",
       " -0.13038903538980071,\n",
       " 0.018980568507733563,\n",
       " -0.051303803633963967,\n",
       " 0.1648864824030439,\n",
       " -0.25224456207660689,\n",
       " 0.14584198865581163,\n",
       " 0.074146709909187911,\n",
       " 0.2399838673994345,\n",
       " 0.18112405230040041,\n",
       " -0.12544200205846043,\n",
       " -0.13880794526751664,\n",
       " -0.11344405200596547,\n",
       " -0.092955043869424062,\n",
       " -0.28954998362984463,\n",
       " 0.065683856194868259,\n",
       " 0.05739656585506793,\n",
       " 0.080744262336668204,\n",
       " -0.027578770759645738,\n",
       " 0.14418497681821027,\n",
       " -0.13516596597663505,\n",
       " 0.092228952216152557,\n",
       " -0.055448643811281617,\n",
       " -0.098633011941335891,\n",
       " -0.19818028171240207,\n",
       " -0.17639599766236017,\n",
       " 0.05515765315894533,\n",
       " -0.22126228491085645,\n",
       " -0.016749459942033806,\n",
       " -0.12041717281357905,\n",
       " 0.1311386444794885,\n",
       " -0.088530312721222373,\n",
       " 0.035549479733198455,\n",
       " -0.1390605187350748,\n",
       " -0.05357848820506924,\n",
       " -0.096007403408740061,\n",
       " -0.111719359432076,\n",
       " 0.077704426426480941,\n",
       " -0.14957672631272859,\n",
       " -0.1440337736103188,\n",
       " 0.31230103016249616,\n",
       " 0.34266936413061494,\n",
       " -0.10814489653759154,\n",
       " -0.087325183864016831,\n",
       " 0.0075495949718816912,\n",
       " -0.14038663955227151,\n",
       " -0.045700666826193434,\n",
       " 0.1186705420856036,\n",
       " 0.038844664737390427,\n",
       " 0.047130102399809498,\n",
       " 0.10145795554673843,\n",
       " -0.11973002284049093,\n",
       " 0.15970245378631018,\n",
       " 0.071830127785936296,\n",
       " -0.060798913312270629,\n",
       " -0.13350253604175982,\n",
       " -0.011636283162476061,\n",
       " -0.063466637467079867,\n",
       " 0.029023387499096772,\n",
       " 0.1391674861186887,\n",
       " -0.0079818050809484804,\n",
       " 0.065847445675572852,\n",
       " -0.061340010005048157,\n",
       " -0.030504306005406785,\n",
       " -0.12154113761639186,\n",
       " -0.25957235085384467,\n",
       " 0.035633580157093364,\n",
       " 0.042421289581948289,\n",
       " -0.089474556860862198,\n",
       " 0.013617364109729546,\n",
       " -0.097299753752254234,\n",
       " -0.10294895865784857,\n",
       " -0.24616139710209503,\n",
       " 0.16361230141806712,\n",
       " 0.15983946743152919,\n",
       " -0.2194368478491513,\n",
       " -0.12757082438549788,\n",
       " 0.03959109743623189,\n",
       " 0.096784905673071853,\n",
       " 0.0027739777237712382,\n",
       " -0.0075180101331951696,\n",
       " -0.038077141607756909,\n",
       " 0.032102927064981371,\n",
       " 0.081168815606933939,\n",
       " 0.043155450673628991,\n",
       " 0.095374671411669262,\n",
       " -0.0046471412343860518,\n",
       " 0.15861916944620985,\n",
       " -0.13424892726032914,\n",
       " 0.071841435613942545,\n",
       " -0.19294598409235578,\n",
       " -0.063121908266810703,\n",
       " 0.013140693692095489,\n",
       " -0.27804723248810459,\n",
       " -0.095312902463413604,\n",
       " -0.0010012295369688396,\n",
       " -0.033334340856385578,\n",
       " -0.015233956866463142,\n",
       " -0.06232040187427329,\n",
       " -0.16520395909443777,\n",
       " 0.17250998682400906,\n",
       " -0.0056248345890335862,\n",
       " 0.1235556271295524,\n",
       " -0.17084122803401391,\n",
       " -0.19805703305264666,\n",
       " -0.016067160994551206,\n",
       " 0.19688789934971165,\n",
       " 0.072504073312976508,\n",
       " -0.055797399014501585,\n",
       " 0.013009171054117771,\n",
       " 0.23023649723120729,\n",
       " -0.09063830203633344,\n",
       " -0.16245416495528617,\n",
       " -0.077008081715441615,\n",
       " -0.2155922118480938,\n",
       " 0.16204949067852831,\n",
       " 0.11557874083792653,\n",
       " 0.31682326377744213,\n",
       " -0.21138041433012489,\n",
       " -0.059917327298589368,\n",
       " -0.073926922742177131,\n",
       " -0.08197636451132638,\n",
       " 0.095241368359125889,\n",
       " 0.10211182908636254,\n",
       " 0.01905765277651586,\n",
       " 0.056189124207141568,\n",
       " 0.16040408781112689,\n",
       " 0.19451808649296973,\n",
       " -0.013983724418634106,\n",
       " -0.025977782226907213,\n",
       " 0.28044349883829883,\n",
       " -0.1594752983700892,\n",
       " -0.078456298750513465,\n",
       " 0.0072705626280073704,\n",
       " 0.090725081974951952,\n",
       " -0.039835762428664025,\n",
       " -0.098381417805548474,\n",
       " 0.052147293660249165,\n",
       " 0.094227893498594631,\n",
       " -0.23831388745756427,\n",
       " -0.12716076520372782,\n",
       " -0.0073088725190006464,\n",
       " 0.11209570727021705,\n",
       " -0.15417639993484539,\n",
       " -0.012778800083877185,\n",
       " -0.13002717662281441,\n",
       " 0.13873513048276179,\n",
       " 0.16944764385580097,\n",
       " ...]"
      ]
     },
     "execution_count": 245,
     "metadata": {},
     "output_type": "execute_result"
    }
   ],
   "source": [
    "correlations = df.corr_tgt()\n",
    "correlations"
   ]
  },
  {
   "cell_type": "code",
   "execution_count": 246,
   "metadata": {
    "collapsed": false
   },
   "outputs": [
    {
     "ename": "IndentationError",
     "evalue": "unindent does not match any outer indentation level (<ipython-input-246-e1d32c793e6b>, line 6)",
     "output_type": "error",
     "traceback": [
      "\u001b[0;36m  File \u001b[0;32m\"<ipython-input-246-e1d32c793e6b>\"\u001b[0;36m, line \u001b[0;32m6\u001b[0m\n\u001b[0;31m    def min_max(self, zip_lists):\u001b[0m\n\u001b[0m                                 ^\u001b[0m\n\u001b[0;31mIndentationError\u001b[0m\u001b[0;31m:\u001b[0m unindent does not match any outer indentation level\n"
     ]
    }
   ],
   "source": [
    " def zip_lists(self, var, calc_corr_tgt):\n",
    "        idx = range(len(var))\n",
    "        zipped = dict(zip(idx, calc_corr_tgt))\n",
    "        return zipped\n",
    "    \n",
    "    def min_max(self, zip_lists):\n",
    "        minim = min(zip_lists, key=lambda k: zip_lists[k])\n",
    "        maxim = min(zip_lists, key=lambda k: zip_lists[k])\n",
    "        if abs(zip_lists[minim]) > abs(zip_lists[maxim]):\n",
    "            return minim\n",
    "        else:\n",
    "            return maxim  \n",
    "        return \n",
    "    \n",
    "    def var_abs(self, var, min_max):\n",
    "        var_abs = var[:, min_max]\n",
    "        return var_abs\n",
    "    \n",
    "    def reg_plot(self, var_abs, tgt):\n",
    "        return sns.regplot(var_abs.astype('float'), tgt, logistic=True)\n",
    "        "
   ]
  },
  {
   "cell_type": "code",
   "execution_count": null,
   "metadata": {
    "collapsed": true
   },
   "outputs": [],
   "source": []
  },
  {
   "cell_type": "code",
   "execution_count": null,
   "metadata": {
    "collapsed": false
   },
   "outputs": [],
   "source": [
    "idx2 = range(len(variables))\n",
    "zipped2 = dict(zip(idx2, results))\n",
    "zipped2[0]"
   ]
  },
  {
   "cell_type": "code",
   "execution_count": null,
   "metadata": {
    "collapsed": false
   },
   "outputs": [],
   "source": [
    "min(zipped2, key=lambda k: zipped2[k])"
   ]
  },
  {
   "cell_type": "code",
   "execution_count": null,
   "metadata": {
    "collapsed": false
   },
   "outputs": [],
   "source": [
    "max(zipped2, key=lambda k: zipped2[k])"
   ]
  },
  {
   "cell_type": "code",
   "execution_count": null,
   "metadata": {
    "collapsed": false
   },
   "outputs": [],
   "source": [
    "zipped2[67]"
   ]
  },
  {
   "cell_type": "code",
   "execution_count": null,
   "metadata": {
    "collapsed": false
   },
   "outputs": [],
   "source": [
    "zipped2[196]"
   ]
  },
  {
   "cell_type": "code",
   "execution_count": null,
   "metadata": {
    "collapsed": false
   },
   "outputs": [],
   "source": [
    "var196 = variables[:, 196]"
   ]
  },
  {
   "cell_type": "code",
   "execution_count": null,
   "metadata": {
    "collapsed": false
   },
   "outputs": [],
   "source": [
    "target.shape"
   ]
  },
  {
   "cell_type": "code",
   "execution_count": 247,
   "metadata": {
    "collapsed": false
   },
   "outputs": [
    {
     "data": {
      "image/png": "[encoded data removed]",
      "text/plain": [
       "<matplotlib.figure.Figure at 0x1f651cf8>"
      ]
     },
     "metadata": {},
     "output_type": "display_data"
    }
   ],
   "source": [
    "df.tgt_reg_plot(196)\n"
   ]
  },
  {
   "cell_type": "markdown",
   "metadata": {},
   "source": [
    "Variable 196 was selected for visualisation as it exhibited the strongest relationship with the target variable based on correlation. The relationship is moderately positive with a correlation coefficient of +0.34.\n",
    "\n",
    "The correlation coefficient was chosen to examine the relationship between the variables and the target variable as it represents the linear interdependence of two variables, describing the strength of the relationship and whether the relationship is negative or positive. A criticism is that the choice is overly simplistic as variables may have a non-linear relationship not captured by the metric. \n",
    "The regression plot was chosen as it permits to plot data and a linear regression model fit. Since the target is binary, we are dealing with a classification task and the plot was adjusted for this setting logistic to True (statsmodels estimates a logistic regression model).\n",
    "\n",
    "The chart illustrates a mildly positive relationship between the variable and the target."
   ]
  },
  {
   "cell_type": "markdown",
   "metadata": {},
   "source": [
    "**Question 3b**"
   ]
  },
  {
   "cell_type": "code",
   "execution_count": null,
   "metadata": {
    "collapsed": true
   },
   "outputs": [],
   "source": []
  },
  {
   "cell_type": "code",
   "execution_count": null,
   "metadata": {
    "collapsed": true
   },
   "outputs": [],
   "source": []
  },
  {
   "cell_type": "code",
   "execution_count": null,
   "metadata": {
    "collapsed": true
   },
   "outputs": [],
   "source": [
    "pc1 = var_redux[:,0]"
   ]
  },
  {
   "cell_type": "code",
   "execution_count": null,
   "metadata": {
    "collapsed": true
   },
   "outputs": [],
   "source": [
    "results2=[]\n",
    "for i in range(0,variables.shape[1]):\n",
    "    uo=variables.transpose()[i]\n",
    "    correlation=np.corrcoef(uo.astype('float'), pc1)[0][1]\n",
    "    results2.append(correlation)"
   ]
  },
  {
   "cell_type": "code",
   "execution_count": null,
   "metadata": {
    "collapsed": false
   },
   "outputs": [],
   "source": [
    "idx3 = range(len(variables))\n",
    "zipped3 = dict(zip(idx3, results2))\n",
    "zipped3[0]"
   ]
  },
  {
   "cell_type": "code",
   "execution_count": null,
   "metadata": {
    "collapsed": false
   },
   "outputs": [],
   "source": [
    "min(zipped3, key=lambda k: zipped3[k])"
   ]
  },
  {
   "cell_type": "code",
   "execution_count": null,
   "metadata": {
    "collapsed": false
   },
   "outputs": [],
   "source": [
    "max(zipped3, key=lambda k: zipped3[k])"
   ]
  },
  {
   "cell_type": "code",
   "execution_count": null,
   "metadata": {
    "collapsed": false
   },
   "outputs": [],
   "source": [
    "zipped3[6]"
   ]
  },
  {
   "cell_type": "code",
   "execution_count": null,
   "metadata": {
    "collapsed": false
   },
   "outputs": [],
   "source": [
    "zipped3[198]"
   ]
  },
  {
   "cell_type": "code",
   "execution_count": null,
   "metadata": {
    "collapsed": true
   },
   "outputs": [],
   "source": [
    "var6 = variables[:, 6]"
   ]
  },
  {
   "cell_type": "code",
   "execution_count": null,
   "metadata": {
    "collapsed": false
   },
   "outputs": [],
   "source": [
    "sns.regplot(var6.astype('float'), pc1)"
   ]
  },
  {
   "cell_type": "markdown",
   "metadata": {},
   "source": [
    "Variable 6 was selected for visualisation as it exhibited the strongest relationship with the the first principal component based on correlation.\n",
    "\n",
    "As in question 3a, the correlation coefficient was chosen to examine the relationship between the variables and the target variable as it represents the linear interdependence of two variables, describing the strength of the relationship and whether the relationship is negative or positive. A criticism is that the choice is overly simplistic as variables may have a non-linear relationship not captured by the metric. The regression plot was chosen as it permits to plot data and a linear regression model fit. \n",
    "\n",
    "The chart illustrates a strong negative relationship between the variable and the first principal component.\n"
   ]
  },
  {
   "cell_type": "markdown",
   "metadata": {},
   "source": [
    "**Question 4**"
   ]
  },
  {
   "cell_type": "code",
   "execution_count": null,
   "metadata": {
    "collapsed": false
   },
   "outputs": [],
   "source": [
    "from sklearn import svm\n",
    "from sklearn.model_selection import GridSearchCV\n",
    "\n",
    "params = {'kernel':('linear', 'rbf'), 'C':[1, 10]}\n",
    "svc = svm.SVC()\n",
    "clf = GridSearchCV(svc, params, cv=5, scoring='f1_micro')\n",
    "\n",
    "clf.fit(variables.astype('float'), target) \n"
   ]
  },
  {
   "cell_type": "code",
   "execution_count": null,
   "metadata": {
    "collapsed": false
   },
   "outputs": [],
   "source": [
    "clf.best_params_"
   ]
  },
  {
   "cell_type": "code",
   "execution_count": null,
   "metadata": {
    "collapsed": false
   },
   "outputs": [],
   "source": [
    "clf.best_score_"
   ]
  },
  {
   "cell_type": "markdown",
   "metadata": {},
   "source": [
    "A support vector machine classifier was chosen as it is effective when the number of features is greater than the number of samples, which is the case in this dataset. SVMs tend to work well with clear margin of separation and they are effective in high dimensional spaces.\n",
    "SVMs do not perform well when a lot of 'noise' is present in the dataset.\n",
    "\n",
    "Model performance was evaluated with cross-validation using the F1 score, as it is an appropriate evaluation metric for a classification task.\n",
    "This metric can be interpreted as a weighted average of the precision and recall, where an F1 score reaches its best value at 1 and worst score at 0. The relative contribution of precision and recall to the F1 score are equal.  F1_micro calculates metrics globally by counting the total true positives, false negatives and false positives.\n",
    "\n",
    "The model's best score is an F1 score of 0.72. Further performance improvements could be achieved by feature selection (e.g. through RFECV) and by addressing collinearity between features. "
   ]
  },
  {
   "cell_type": "code",
   "execution_count": null,
   "metadata": {
    "collapsed": true
   },
   "outputs": [],
   "source": []
  },
  {
   "cell_type": "code",
   "execution_count": null,
   "metadata": {
    "collapsed": true
   },
   "outputs": [],
   "source": []
  }
 ],
 "metadata": {
  "anaconda-cloud": {},
  "kernelspec": {
   "display_name": "Python [default]",
   "language": "python",
   "name": "python2"
  },
  "language_info": {
   "codemirror_mode": {
    "name": "ipython",
    "version": 2
   },
   "file_extension": ".py",
   "mimetype": "text/x-python",
   "name": "python",
   "nbconvert_exporter": "python",
   "pygments_lexer": "ipython2",
   "version": "2.7.12"
  }
 },
 "nbformat": 4,
 "nbformat_minor": 1
}
