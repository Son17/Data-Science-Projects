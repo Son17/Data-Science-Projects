{
 "cells": [
  {
   "cell_type": "markdown",
   "metadata": {
    "deletable": true,
    "editable": true
   },
   "source": [
    "# Lending Club: predicing creditworthiness"
   ]
  },
  {
   "cell_type": "code",
   "execution_count": 59,
   "metadata": {
    "collapsed": false,
    "deletable": true,
    "editable": true
   },
   "outputs": [],
   "source": [
    "#import libraries\n",
    "\n",
    "import numpy as np\n",
    "import pandas as pd\n",
    "pd.set_option('display.max_columns', 100)\n",
    "import matplotlib.pyplot as plt\n",
    "%matplotlib inline\n",
    "import seaborn as sns\n"
   ]
  },
  {
   "cell_type": "code",
   "execution_count": 60,
   "metadata": {
    "collapsed": true,
    "deletable": true,
    "editable": true
   },
   "outputs": [],
   "source": [
    "# import raw data\n",
    "\n",
    "df_raw = pd.read_csv('C:\\\\Users\\sonja tilly.ABERDEEN\\\\LendingClub.csv', low_memory=False)"
   ]
  },
  {
   "cell_type": "code",
   "execution_count": 61,
   "metadata": {
    "collapsed": false,
    "deletable": true,
    "editable": true
   },
   "outputs": [
    {
     "data": {
      "text/html": [
       "<div>\n",
       "<table border=\"1\" class=\"dataframe\">\n",
       "  <thead>\n",
       "    <tr style=\"text-align: right;\">\n",
       "      <th></th>\n",
       "      <th>Loan Amount</th>\n",
       "      <th>Employment Length</th>\n",
       "      <th>Annual Income</th>\n",
       "      <th>Debt To Income Ratio</th>\n",
       "      <th>Earliest Credit Line Opened</th>\n",
       "      <th>FICO Credit Score</th>\n",
       "      <th>No. Inquiries In Last 6 Months</th>\n",
       "      <th>Months Since Last Delinquency</th>\n",
       "      <th>No. Of Credit Lines</th>\n",
       "      <th>Total Credit Balance</th>\n",
       "      <th>Use Of Credit Line</th>\n",
       "      <th>Total Number Of Credit Lines</th>\n",
       "      <th>Loan Application Description</th>\n",
       "    </tr>\n",
       "  </thead>\n",
       "  <tbody>\n",
       "    <tr>\n",
       "      <th>count</th>\n",
       "      <td>24776.000000</td>\n",
       "      <td>24776.000000</td>\n",
       "      <td>24776.000000</td>\n",
       "      <td>24775.000000</td>\n",
       "      <td>24776.000000</td>\n",
       "      <td>24775.000000</td>\n",
       "      <td>24775.000000</td>\n",
       "      <td>24776.000000</td>\n",
       "      <td>24775.000000</td>\n",
       "      <td>24775.000000</td>\n",
       "      <td>24724.000000</td>\n",
       "      <td>24775.000000</td>\n",
       "      <td>24776.000000</td>\n",
       "    </tr>\n",
       "    <tr>\n",
       "      <th>mean</th>\n",
       "      <td>11115.051865</td>\n",
       "      <td>4.810119</td>\n",
       "      <td>67178.127238</td>\n",
       "      <td>13.233085</td>\n",
       "      <td>35647.665675</td>\n",
       "      <td>713.197982</td>\n",
       "      <td>0.952694</td>\n",
       "      <td>12.845899</td>\n",
       "      <td>9.429102</td>\n",
       "      <td>12488.257275</td>\n",
       "      <td>47.949507</td>\n",
       "      <td>22.584460</td>\n",
       "      <td>257.196359</td>\n",
       "    </tr>\n",
       "    <tr>\n",
       "      <th>std</th>\n",
       "      <td>7334.153775</td>\n",
       "      <td>3.528494</td>\n",
       "      <td>37288.333082</td>\n",
       "      <td>6.909056</td>\n",
       "      <td>2243.580467</td>\n",
       "      <td>36.435892</td>\n",
       "      <td>1.111826</td>\n",
       "      <td>21.556324</td>\n",
       "      <td>4.513058</td>\n",
       "      <td>12024.044982</td>\n",
       "      <td>28.529554</td>\n",
       "      <td>11.745806</td>\n",
       "      <td>295.285715</td>\n",
       "    </tr>\n",
       "    <tr>\n",
       "      <th>min</th>\n",
       "      <td>500.000000</td>\n",
       "      <td>0.000000</td>\n",
       "      <td>4000.000000</td>\n",
       "      <td>0.000000</td>\n",
       "      <td>30000.000000</td>\n",
       "      <td>625.000000</td>\n",
       "      <td>0.000000</td>\n",
       "      <td>0.000000</td>\n",
       "      <td>1.000000</td>\n",
       "      <td>0.000000</td>\n",
       "      <td>0.000000</td>\n",
       "      <td>2.000000</td>\n",
       "      <td>0.000000</td>\n",
       "    </tr>\n",
       "    <tr>\n",
       "      <th>25%</th>\n",
       "      <td>5500.000000</td>\n",
       "      <td>2.000000</td>\n",
       "      <td>41000.000000</td>\n",
       "      <td>7.940000</td>\n",
       "      <td>34411.236115</td>\n",
       "      <td>685.000000</td>\n",
       "      <td>0.000000</td>\n",
       "      <td>0.000000</td>\n",
       "      <td>6.000000</td>\n",
       "      <td>3681.500000</td>\n",
       "      <td>24.200000</td>\n",
       "      <td>14.000000</td>\n",
       "      <td>0.000000</td>\n",
       "    </tr>\n",
       "    <tr>\n",
       "      <th>50%</th>\n",
       "      <td>10000.000000</td>\n",
       "      <td>4.000000</td>\n",
       "      <td>60000.000000</td>\n",
       "      <td>13.270000</td>\n",
       "      <td>36043.425690</td>\n",
       "      <td>705.000000</td>\n",
       "      <td>1.000000</td>\n",
       "      <td>0.000000</td>\n",
       "      <td>9.000000</td>\n",
       "      <td>8890.000000</td>\n",
       "      <td>48.300000</td>\n",
       "      <td>21.000000</td>\n",
       "      <td>153.000000</td>\n",
       "    </tr>\n",
       "    <tr>\n",
       "      <th>75%</th>\n",
       "      <td>15000.000000</td>\n",
       "      <td>8.000000</td>\n",
       "      <td>83000.000000</td>\n",
       "      <td>18.560000</td>\n",
       "      <td>37202.679688</td>\n",
       "      <td>740.000000</td>\n",
       "      <td>2.000000</td>\n",
       "      <td>21.000000</td>\n",
       "      <td>12.000000</td>\n",
       "      <td>17251.000000</td>\n",
       "      <td>71.700000</td>\n",
       "      <td>29.000000</td>\n",
       "      <td>379.000000</td>\n",
       "    </tr>\n",
       "    <tr>\n",
       "      <th>max</th>\n",
       "      <td>35000.000000</td>\n",
       "      <td>10.000000</td>\n",
       "      <td>200000.000000</td>\n",
       "      <td>34.980000</td>\n",
       "      <td>40075.198610</td>\n",
       "      <td>845.000000</td>\n",
       "      <td>8.000000</td>\n",
       "      <td>106.000000</td>\n",
       "      <td>49.000000</td>\n",
       "      <td>50000.000000</td>\n",
       "      <td>100.900000</td>\n",
       "      <td>90.000000</td>\n",
       "      <td>1000.000000</td>\n",
       "    </tr>\n",
       "  </tbody>\n",
       "</table>\n",
       "</div>"
      ],
      "text/plain": [
       "        Loan Amount  Employment Length  Annual Income  Debt To Income Ratio  \\\n",
       "count  24776.000000       24776.000000   24776.000000          24775.000000   \n",
       "mean   11115.051865           4.810119   67178.127238             13.233085   \n",
       "std     7334.153775           3.528494   37288.333082              6.909056   \n",
       "min      500.000000           0.000000    4000.000000              0.000000   \n",
       "25%     5500.000000           2.000000   41000.000000              7.940000   \n",
       "50%    10000.000000           4.000000   60000.000000             13.270000   \n",
       "75%    15000.000000           8.000000   83000.000000             18.560000   \n",
       "max    35000.000000          10.000000  200000.000000             34.980000   \n",
       "\n",
       "       Earliest Credit Line Opened  FICO Credit Score  \\\n",
       "count                 24776.000000       24775.000000   \n",
       "mean                  35647.665675         713.197982   \n",
       "std                    2243.580467          36.435892   \n",
       "min                   30000.000000         625.000000   \n",
       "25%                   34411.236115         685.000000   \n",
       "50%                   36043.425690         705.000000   \n",
       "75%                   37202.679688         740.000000   \n",
       "max                   40075.198610         845.000000   \n",
       "\n",
       "       No. Inquiries In Last 6 Months  Months Since Last Delinquency  \\\n",
       "count                    24775.000000                   24776.000000   \n",
       "mean                         0.952694                      12.845899   \n",
       "std                          1.111826                      21.556324   \n",
       "min                          0.000000                       0.000000   \n",
       "25%                          0.000000                       0.000000   \n",
       "50%                          1.000000                       0.000000   \n",
       "75%                          2.000000                      21.000000   \n",
       "max                          8.000000                     106.000000   \n",
       "\n",
       "       No. Of Credit Lines  Total Credit Balance  Use Of Credit Line  \\\n",
       "count         24775.000000          24775.000000        24724.000000   \n",
       "mean              9.429102          12488.257275           47.949507   \n",
       "std               4.513058          12024.044982           28.529554   \n",
       "min               1.000000              0.000000            0.000000   \n",
       "25%               6.000000           3681.500000           24.200000   \n",
       "50%               9.000000           8890.000000           48.300000   \n",
       "75%              12.000000          17251.000000           71.700000   \n",
       "max              49.000000          50000.000000          100.900000   \n",
       "\n",
       "       Total Number Of Credit Lines  Loan Application Description  \n",
       "count                  24775.000000                  24776.000000  \n",
       "mean                      22.584460                    257.196359  \n",
       "std                       11.745806                    295.285715  \n",
       "min                        2.000000                      0.000000  \n",
       "25%                       14.000000                      0.000000  \n",
       "50%                       21.000000                    153.000000  \n",
       "75%                       29.000000                    379.000000  \n",
       "max                       90.000000                   1000.000000  "
      ]
     },
     "execution_count": 61,
     "metadata": {},
     "output_type": "execute_result"
    }
   ],
   "source": [
    "df_raw.describe()"
   ]
  },
  {
   "cell_type": "markdown",
   "metadata": {
    "deletable": true,
    "editable": true
   },
   "source": [
    "The dataset contains a mix of datatypes. \n",
    "The objects need to be converted into numerical values. \n",
    "The feature 'Class' will be the target and its values will be converted in '0' and '1'."
   ]
  },
  {
   "cell_type": "markdown",
   "metadata": {
    "deletable": true,
    "editable": true
   },
   "source": [
    "## Exploratory Data Analysis"
   ]
  },
  {
   "cell_type": "code",
   "execution_count": 62,
   "metadata": {
    "collapsed": false,
    "deletable": true,
    "editable": true
   },
   "outputs": [
    {
     "data": {
      "text/plain": [
       "Creditworthy      20274\n",
       "Uncreditworthy     4502\n",
       "Name: Class, dtype: int64"
      ]
     },
     "execution_count": 62,
     "metadata": {},
     "output_type": "execute_result"
    }
   ],
   "source": [
    "# let's have a look at the target variable.\n",
    "\n",
    "count = df_raw['Class'].value_counts()\n",
    "count"
   ]
  },
  {
   "cell_type": "code",
   "execution_count": 63,
   "metadata": {
    "collapsed": true,
    "deletable": true,
    "editable": true
   },
   "outputs": [],
   "source": [
    "# convert 'Class' feature (=target) into numerical values\n",
    "\n",
    "def credit_worthiness(status):\n",
    "    if status == 'Creditworthy':\n",
    "        return 0\n",
    "    elif status == 'Uncreditworthy':\n",
    "        return 1\n",
    "    else:\n",
    "        return status\n",
    "\n",
    "df_raw['Class_new'] = df_raw['Class'].apply(credit_worthiness)\n"
   ]
  },
  {
   "cell_type": "code",
   "execution_count": 64,
   "metadata": {
    "collapsed": false,
    "deletable": true,
    "editable": true
   },
   "outputs": [
    {
     "name": "stdout",
     "output_type": "stream",
     "text": [
      "81.83\n",
      "18.17\n"
     ]
    }
   ],
   "source": [
    "# calculate percentage\n",
    "total = len(df_raw.index)\n",
    "credit = df_raw['Class_new'].value_counts()\n",
    "\n",
    "creditworthy = round((credit[0]/total)*100,2)\n",
    "uncreditworthy = round((credit[1]/total)*100,2)\n",
    "print(creditworthy)\n",
    "print(uncreditworthy)"
   ]
  },
  {
   "cell_type": "code",
   "execution_count": 65,
   "metadata": {
    "collapsed": false,
    "deletable": true,
    "editable": true
   },
   "outputs": [
    {
     "data": {
      "image/png": "[encoded data removed]",
      "text/plain": [
       "<matplotlib.figure.Figure at 0xd113358>"
      ]
     },
     "metadata": {},
     "output_type": "display_data"
    }
   ],
   "source": [
    "sums = df_raw.Class_new.groupby(df_raw.Class_new).value_counts()\n",
    "\n",
    "colors = sns.color_palette(\"Greens\", n_colors=2, desat=1)\n",
    "\n",
    "explode=(0.04, 0.04)\n",
    "plt.pie([count[0], count[1]], labels=['Creditworthy: 81.83%', 'Uncreditworthy: 18.17%'],\\\n",
    "       explode=explode, colors=colors)\n",
    "plt.axis('equal')\n",
    "plt.tight_layout()"
   ]
  },
  {
   "cell_type": "markdown",
   "metadata": {
    "deletable": true,
    "editable": true
   },
   "source": [
    "The dataset is unbalanced, with uncreditworthy observations only accounting for 18.17%.\n",
    "\n",
    "The unbalanced nature of the data will have to be considered when making predictions."
   ]
  },
  {
   "cell_type": "code",
   "execution_count": 66,
   "metadata": {
    "collapsed": false,
    "deletable": true,
    "editable": true
   },
   "outputs": [],
   "source": [
    "# what is the link between loan purpose and creditworthiness?\n",
    "\n",
    "table = pd.pivot_table(df_raw, values='Loan Amount', index='Loan Purpose', \\\n",
    "                        columns='Class_new', aggfunc='count').fillna(0)\n",
    "table.columns = ['good', 'bad']\n",
    "table['Sum'] = table['good'] + table['bad']\n",
    "table['percent_good'] = table['good']/table['Sum']*100\n",
    "table['percent_bad'] = table['bad']/table['Sum']*100\n",
    "\n",
    "table.drop(table.columns[[0, 1, 2]], axis=1, inplace=True)\n",
    "table = table[1: :]\n"
   ]
  },
  {
   "cell_type": "code",
   "execution_count": 67,
   "metadata": {
    "collapsed": false,
    "deletable": true,
    "editable": true
   },
   "outputs": [
    {
     "data": {
      "text/plain": [
       "<matplotlib.text.Text at 0xd78b748>"
      ]
     },
     "execution_count": 67,
     "metadata": {},
     "output_type": "execute_result"
    },
    {
     "data": {
      "image/png": "[encoded data removed]",
      "text/plain": [
       "<matplotlib.figure.Figure at 0xd73ccc0>"
      ]
     },
     "metadata": {},
     "output_type": "display_data"
    }
   ],
   "source": [
    "colors = ('seagreen','magenta')\n",
    "ax= table.plot(legend=False, kind='bar',stacked=True, ylim=(0,100), color=colors, fontsize=9,\\\n",
    "                title='Loan Purpose and creditworthiness')\n",
    "plt.legend(loc='upper left', bbox_to_anchor=(1.0, 0.5))\n",
    "ax.set_xticklabels(table.index, rotation=70)\n",
    "ax.set_xlabel('purpose', fontsize=9)\n",
    "ax.set_ylabel('percentage', fontsize=9)"
   ]
  },
  {
   "cell_type": "code",
   "execution_count": 68,
   "metadata": {
    "collapsed": false,
    "deletable": true,
    "editable": true
   },
   "outputs": [
    {
     "data": {
      "text/html": [
       "<div>\n",
       "<table border=\"1\" class=\"dataframe\">\n",
       "  <thead>\n",
       "    <tr style=\"text-align: right;\">\n",
       "      <th></th>\n",
       "      <th>percent_good</th>\n",
       "      <th>percent_bad</th>\n",
       "    </tr>\n",
       "    <tr>\n",
       "      <th>Home Ownership</th>\n",
       "      <th></th>\n",
       "      <th></th>\n",
       "    </tr>\n",
       "  </thead>\n",
       "  <tbody>\n",
       "    <tr>\n",
       "      <th>NOne</th>\n",
       "      <td>100.000000</td>\n",
       "      <td>0.000000</td>\n",
       "    </tr>\n",
       "    <tr>\n",
       "      <th>OTHER</th>\n",
       "      <td>82.653061</td>\n",
       "      <td>17.346939</td>\n",
       "    </tr>\n",
       "    <tr>\n",
       "      <th>OWN</th>\n",
       "      <td>81.030213</td>\n",
       "      <td>18.969787</td>\n",
       "    </tr>\n",
       "    <tr>\n",
       "      <th>RENT</th>\n",
       "      <td>80.452830</td>\n",
       "      <td>19.547170</td>\n",
       "    </tr>\n",
       "  </tbody>\n",
       "</table>\n",
       "</div>"
      ],
      "text/plain": [
       "                percent_good  percent_bad\n",
       "Home Ownership                           \n",
       "NOne              100.000000     0.000000\n",
       "OTHER              82.653061    17.346939\n",
       "OWN                81.030213    18.969787\n",
       "RENT               80.452830    19.547170"
      ]
     },
     "execution_count": 68,
     "metadata": {},
     "output_type": "execute_result"
    }
   ],
   "source": [
    "# what is the link between home ownership and creditworthiness?\n",
    "\n",
    "table1 = pd.pivot_table(df_raw, values='Loan Amount', index='Home Ownership', \\\n",
    "                        columns='Class_new', aggfunc='count').fillna(0)\n",
    "table1.columns = ['good', 'bad']\n",
    "table1['Sum'] = table1['good'] + table1['bad']\n",
    "table1['percent_good'] = table1['good']/table1['Sum']*100\n",
    "table1['percent_bad'] = table1['bad']/table1['Sum']*100\n",
    "\n",
    "table1.drop(table1.columns[[0, 1, 2]], axis=1, inplace=True)\n",
    "table1 = table1.iloc[1: :]\n",
    "table1"
   ]
  },
  {
   "cell_type": "code",
   "execution_count": 69,
   "metadata": {
    "collapsed": false,
    "deletable": true,
    "editable": true
   },
   "outputs": [
    {
     "data": {
      "text/plain": [
       "<matplotlib.text.Text at 0xd7b7fd0>"
      ]
     },
     "execution_count": 69,
     "metadata": {},
     "output_type": "execute_result"
    },
    {
     "data": {
      "image/png": "[encoded data removed]",
      "text/plain": [
       "<matplotlib.figure.Figure at 0xda3c198>"
      ]
     },
     "metadata": {},
     "output_type": "display_data"
    }
   ],
   "source": [
    "colors = ('seagreen','magenta')\n",
    "ax1= table1.plot(legend=False, kind='bar',stacked=True, ylim=(0,100), color=colors, fontsize=9,\\\n",
    "                title='Home Ownership and creditworthiness')\n",
    "plt.legend(loc='upper left', bbox_to_anchor=(1.0, 0.5))\n",
    "ax1.set_xticklabels(table1.index, rotation=70)\n",
    "ax1.set_xlabel('purpose', fontsize=9)\n",
    "ax1.set_ylabel('percentage', fontsize=9)"
   ]
  },
  {
   "cell_type": "code",
   "execution_count": 70,
   "metadata": {
    "collapsed": false,
    "deletable": true,
    "editable": true
   },
   "outputs": [
    {
     "name": "stdout",
     "output_type": "stream",
     "text": [
      "                 good    bad     Sum       %good       %bad  above mean\n",
      "Address State                                                          \n",
      "AK               49.0    8.0    57.0   85.964912  14.035088   -2.501998\n",
      "AL              240.0   45.0   285.0   84.210526  15.789474   -0.747612\n",
      "AR              132.0   18.0   150.0   88.000000  12.000000   -4.537086\n",
      "AZ              487.0  112.0   599.0   81.302170  18.697830    2.160744\n",
      "CA             3552.0  933.0  4485.0   79.197324  20.802676    4.265590\n",
      "CO              431.0   81.0   512.0   84.179688  15.820312   -0.716773\n",
      "CT              390.0   78.0   468.0   83.333333  16.666667    0.129581\n",
      "DC              127.0   11.0   138.0   92.028986   7.971014   -8.566071\n",
      "DE               61.0   11.0    72.0   84.722222  15.277778   -1.259308\n",
      "FL             1328.0  413.0  1741.0   76.278001  23.721999    7.184913\n",
      "GA              694.0  181.0   875.0   79.314286  20.685714    4.148629\n",
      "HI               89.0   21.0   110.0   80.909091  19.090909    2.553824\n",
      "IA                4.0    0.0     4.0  100.000000   0.000000  -16.537086\n",
      "ID                5.0    1.0     6.0   83.333333  16.666667    0.129581\n",
      "IL              741.0  126.0   867.0   85.467128  14.532872   -2.004214\n",
      "IN               11.0    0.0    11.0  100.000000   0.000000  -16.537086\n",
      "KS              137.0   26.0   163.0   84.049080  15.950920   -0.586165\n",
      "KY              153.0   32.0   185.0   82.702703  17.297297    0.760212\n",
      "LA              220.0   34.0   254.0   86.614173  13.385827   -3.151259\n",
      "MA              684.0  125.0   809.0   84.548826  15.451174   -1.085911\n",
      "MD              535.0  125.0   660.0   81.060606  18.939394    2.402308\n",
      "ME                3.0    0.0     3.0  100.000000   0.000000  -16.537086\n",
      "MI              398.0   84.0   482.0   82.572614  17.427386    0.890300\n",
      "MN              354.0   66.0   420.0   84.285714  15.714286   -0.822800\n",
      "MO              320.0   89.0   409.0   78.239609  21.760391    5.223306\n",
      "MS               17.0    2.0    19.0   89.473684  10.526316   -6.010770\n",
      "MT               47.0    6.0    53.0   88.679245  11.320755   -5.216331\n",
      "NC              377.0  101.0   478.0   78.870293  21.129707    4.592622\n",
      "NE                2.0    3.0     5.0   40.000000  60.000000   43.462914\n",
      "NH               91.0   20.0   111.0   81.981982  18.018018    1.480932\n",
      "NJ              882.0  221.0  1103.0   79.963735  20.036265    3.499179\n",
      "NM               96.0   21.0   117.0   82.051282  17.948718    1.411632\n",
      "NV              219.0   87.0   306.0   71.568627  28.431373   11.894287\n",
      "NY             2022.0  379.0  2401.0   84.214910  15.785090   -0.751996\n",
      "OH              596.0  120.0   716.0   83.240223  16.759777    0.222691\n",
      "OK              172.0   33.0   205.0   83.902439  16.097561   -0.439525\n",
      "OR              225.0   59.0   284.0   79.225352  20.774648    4.237562\n",
      "PA              761.0  129.0   890.0   85.505618  14.494382   -2.042704\n",
      "RI              112.0   19.0   131.0   85.496183  14.503817   -2.033269\n",
      "SC              237.0   53.0   290.0   81.724138  18.275862    1.738776\n",
      "SD               31.0    7.0    38.0   81.578947  18.421053    1.883967\n",
      "TN               16.0    2.0    18.0   88.888889  11.111111   -5.425974\n",
      "TX             1470.0  274.0  1744.0   84.288991  15.711009   -0.826076\n",
      "UT              146.0   41.0   187.0   78.074866  21.925134    5.388048\n",
      "VA              780.0  129.0   909.0   85.808581  14.191419   -2.345666\n",
      "VT               29.0    7.0    36.0   80.555556  19.444444    2.907359\n",
      "WA              428.0  103.0   531.0   80.602637  19.397363    2.860278\n",
      "WI              237.0   50.0   287.0   82.578397  17.421603    0.884517\n",
      "WV               81.0   15.0    96.0   84.375000  15.625000   -0.912086\n",
      "WY               54.0    1.0    55.0   98.181818   1.818182  -14.718904\n"
     ]
    }
   ],
   "source": [
    "#How is loan performance related to address state?\n",
    "\n",
    "table2 = pd.pivot_table(df_raw, values='Loan Amount', index='Address State', columns=['Class_new'], aggfunc='count').fillna(0)\n",
    "table2.columns=[['good', 'bad']]\n",
    "table2['Sum']=table2['good']+table2['bad']\n",
    "table2['%good']=table2['good']/table2['Sum']*100\n",
    "table2['%bad']=table2['bad']/table2['Sum']*100\n",
    "table2.index = table2.index.astype(str)\n",
    "table2['above mean'] = table2['%bad'] - table2['%bad'].mean()  \n",
    "print(table2)"
   ]
  },
  {
   "cell_type": "code",
   "execution_count": 71,
   "metadata": {
    "collapsed": false,
    "deletable": true,
    "editable": true
   },
   "outputs": [
    {
     "name": "stdout",
     "output_type": "stream",
     "text": [
      "High five! You successfully sent some data to your account on plotly. View your plot in your browser at https://plot.ly/~Son17/0 or inside your plot.ly account where it is named 'd3-cloropleth-map'\n"
     ]
    },
    {
     "data": {
      "text/html": [
       "<iframe id=\"igraph\" scrolling=\"no\" style=\"border:none;\" seamless=\"seamless\" src=\"https://plot.ly/~Son17/0.embed\" height=\"525px\" width=\"100%\"></iframe>"
      ],
      "text/plain": [
       "<plotly.tools.PlotlyDisplay object>"
      ]
     },
     "execution_count": 71,
     "metadata": {},
     "output_type": "execute_result"
    }
   ],
   "source": [
    "#Plot bad loans on map\n",
    "\n",
    "import plotly.plotly as py\n",
    "py.sign_in('Son17', 'GGwvotqQmpBq2zCu1w46')\n",
    "\n",
    "data = [ dict(\n",
    "        type='choropleth',\n",
    "        colorscale = 'husl',\n",
    "        autocolorscale = False,\n",
    "        locations = table2.index,\n",
    "        z = table2['%bad'].astype(float).round(2),\n",
    "        locationmode = 'USA-states',\n",
    "        marker = dict(\n",
    "            line = dict (\n",
    "                color = 'rgb(255,255,255)',\n",
    "                width = 2\n",
    "            ) ),\n",
    "        colorbar = dict(title = \"Portion of uncreditworthy loans (%)\"))]\n",
    "\n",
    "layout = dict(\n",
    "        title = 'Uncreditworthy loans by state (%)',\n",
    "        geo = dict(\n",
    "            scope='usa',\n",
    "            projection=dict( type='albers usa' ),\n",
    "            showlakes = True,\n",
    "            lakecolor = 'rgb(255, 255, 255)'),)\n",
    "    \n",
    "fig = dict( data=data, layout=layout )\n",
    "py.iplot( fig, filename='d3-cloropleth-map' )"
   ]
  },
  {
   "cell_type": "code",
   "execution_count": 72,
   "metadata": {
    "collapsed": false,
    "deletable": true,
    "editable": true
   },
   "outputs": [
    {
     "name": "stdout",
     "output_type": "stream",
     "text": [
      "High five! You successfully sent some data to your account on plotly. View your plot in your browser at https://plot.ly/~Son17/0 or inside your plot.ly account where it is named 'd3-cloropleth-map'\n"
     ]
    },
    {
     "data": {
      "text/html": [
       "<iframe id=\"igraph\" scrolling=\"no\" style=\"border:none;\" seamless=\"seamless\" src=\"https://plot.ly/~Son17/0.embed\" height=\"525px\" width=\"100%\"></iframe>"
      ],
      "text/plain": [
       "<plotly.tools.PlotlyDisplay object>"
      ]
     },
     "execution_count": 72,
     "metadata": {},
     "output_type": "execute_result"
    }
   ],
   "source": [
    "#Plot bad loans on map\n",
    "\n",
    "import plotly.plotly as py\n",
    "py.sign_in('Son17', 'GGwvotqQmpBq2zCu1w46')\n",
    "\n",
    "data = [ dict(\n",
    "        type='choropleth',\n",
    "        colorscale = 'husl',\n",
    "        autocolorscale = False,\n",
    "        locations = table2.index,\n",
    "        z = table2['Sum'].astype(float).round(2),\n",
    "        locationmode = 'USA-states',\n",
    "        marker = dict(\n",
    "            line = dict (\n",
    "                color = 'rgb(255,255,255)',\n",
    "                width = 2\n",
    "            ) ),\n",
    "        colorbar = dict(title = \"Number of uncreditworthy loans\"))]\n",
    "\n",
    "layout = dict(\n",
    "        title = 'Uncreditworthy loans by state in absolute numbers',\n",
    "        geo = dict(\n",
    "            scope='usa',\n",
    "            projection=dict( type='albers usa' ),\n",
    "            showlakes = True,\n",
    "            lakecolor = 'rgb(255, 255, 255)'),)\n",
    "    \n",
    "fig = dict( data=data, layout=layout )\n",
    "py.iplot( fig, filename='d3-cloropleth-map' )"
   ]
  },
  {
   "cell_type": "code",
   "execution_count": 73,
   "metadata": {
    "collapsed": false,
    "deletable": true,
    "editable": true
   },
   "outputs": [
    {
     "data": {
      "text/html": [
       "<div>\n",
       "<table border=\"1\" class=\"dataframe\">\n",
       "  <thead>\n",
       "    <tr style=\"text-align: right;\">\n",
       "      <th></th>\n",
       "      <th>percent_good</th>\n",
       "      <th>percent_bad</th>\n",
       "    </tr>\n",
       "    <tr>\n",
       "      <th>No. Of Public Record Bankruptcies</th>\n",
       "      <th></th>\n",
       "      <th></th>\n",
       "    </tr>\n",
       "  </thead>\n",
       "  <tbody>\n",
       "    <tr>\n",
       "      <th>None</th>\n",
       "      <td>82.165096</td>\n",
       "      <td>17.834904</td>\n",
       "    </tr>\n",
       "    <tr>\n",
       "      <th>One</th>\n",
       "      <td>73.878365</td>\n",
       "      <td>26.121635</td>\n",
       "    </tr>\n",
       "    <tr>\n",
       "      <th>Two</th>\n",
       "      <td>80.000000</td>\n",
       "      <td>20.000000</td>\n",
       "    </tr>\n",
       "  </tbody>\n",
       "</table>\n",
       "</div>"
      ],
      "text/plain": [
       "                                   percent_good  percent_bad\n",
       "No. Of Public Record Bankruptcies                           \n",
       "None                                  82.165096    17.834904\n",
       "One                                   73.878365    26.121635\n",
       "Two                                   80.000000    20.000000"
      ]
     },
     "execution_count": 73,
     "metadata": {},
     "output_type": "execute_result"
    }
   ],
   "source": [
    "# what is the link between No. Of Public Record Bankruptcies and creditworthiness?\n",
    "\n",
    "table3 = pd.pivot_table(df_raw, values='Loan Amount', index='No. Of Public Record Bankruptcies', \\\n",
    "                        columns='Class_new', aggfunc='count').fillna(0)\n",
    "table3.columns = ['good', 'bad']\n",
    "table3['Sum'] = table3['good'] + table3['bad']\n",
    "table3['percent_good'] = table3['good']/table3['Sum']*100\n",
    "table3['percent_bad'] = table3['bad']/table3['Sum']*100\n",
    "\n",
    "table3.drop(table3.columns[[0, 1, 2]], axis=1, inplace=True)\n",
    "table3 = table3.iloc[0: :]\n",
    "table3"
   ]
  },
  {
   "cell_type": "code",
   "execution_count": 74,
   "metadata": {
    "collapsed": false,
    "deletable": true,
    "editable": true
   },
   "outputs": [
    {
     "data": {
      "text/plain": [
       "<matplotlib.text.Text at 0xda79c50>"
      ]
     },
     "execution_count": 74,
     "metadata": {},
     "output_type": "execute_result"
    },
    {
     "data": {
      "image/png": "[encoded data removed]",
      "text/plain": [
       "<matplotlib.figure.Figure at 0xd768ba8>"
      ]
     },
     "metadata": {},
     "output_type": "display_data"
    }
   ],
   "source": [
    "colors = ('seagreen','magenta')\n",
    "ax3= table3.plot(legend=False, kind='bar',stacked=True, ylim=(0,100), color=colors, fontsize=9,\\\n",
    "                title='No. Of Public Record Bankruptcies and creditworthiness')\n",
    "plt.legend(loc='upper left', bbox_to_anchor=(1.0, 0.5))\n",
    "ax3.set_xticklabels(table3.index, rotation=70)\n",
    "ax3.set_xlabel('No. Of Public Record Bankruptcies', fontsize=9)\n",
    "ax3.set_ylabel('percentage', fontsize=9)"
   ]
  },
  {
   "cell_type": "code",
   "execution_count": 75,
   "metadata": {
    "collapsed": false,
    "deletable": true,
    "editable": true
   },
   "outputs": [
    {
     "data": {
      "text/html": [
       "<div>\n",
       "<table border=\"1\" class=\"dataframe\">\n",
       "  <thead>\n",
       "    <tr style=\"text-align: right;\">\n",
       "      <th></th>\n",
       "      <th>percent_good</th>\n",
       "      <th>percent_bad</th>\n",
       "    </tr>\n",
       "    <tr>\n",
       "      <th>FICO Credit Score</th>\n",
       "      <th></th>\n",
       "      <th></th>\n",
       "    </tr>\n",
       "  </thead>\n",
       "  <tbody>\n",
       "    <tr>\n",
       "      <th>625.0</th>\n",
       "      <td>100.000000</td>\n",
       "      <td>0.000000</td>\n",
       "    </tr>\n",
       "    <tr>\n",
       "      <th>630.0</th>\n",
       "      <td>100.000000</td>\n",
       "      <td>0.000000</td>\n",
       "    </tr>\n",
       "    <tr>\n",
       "      <th>660.0</th>\n",
       "      <td>71.138211</td>\n",
       "      <td>28.861789</td>\n",
       "    </tr>\n",
       "    <tr>\n",
       "      <th>665.0</th>\n",
       "      <td>71.714534</td>\n",
       "      <td>28.285466</td>\n",
       "    </tr>\n",
       "    <tr>\n",
       "      <th>670.0</th>\n",
       "      <td>73.128120</td>\n",
       "      <td>26.871880</td>\n",
       "    </tr>\n",
       "  </tbody>\n",
       "</table>\n",
       "</div>"
      ],
      "text/plain": [
       "                   percent_good  percent_bad\n",
       "FICO Credit Score                           \n",
       "625.0                100.000000     0.000000\n",
       "630.0                100.000000     0.000000\n",
       "660.0                 71.138211    28.861789\n",
       "665.0                 71.714534    28.285466\n",
       "670.0                 73.128120    26.871880"
      ]
     },
     "execution_count": 75,
     "metadata": {},
     "output_type": "execute_result"
    }
   ],
   "source": [
    "# what is the link between FICO Credit Score and creditworthiness?\n",
    "\n",
    "table4 = pd.pivot_table(df_raw, values='Loan Amount', index='FICO Credit Score', \\\n",
    "                        columns='Class_new', aggfunc='count').fillna(0)\n",
    "table4.columns = ['good', 'bad']\n",
    "table4['Sum'] = table4['good'] + table4['bad']\n",
    "table4['percent_good'] = table4['good']/table4['Sum']*100\n",
    "table4['percent_bad'] = table4['bad']/table4['Sum']*100\n",
    "\n",
    "table4.drop(table4.columns[[0, 1, 2]], axis=1, inplace=True)\n",
    "table4 = table4.iloc[0: :]\n",
    "table4.head()"
   ]
  },
  {
   "cell_type": "code",
   "execution_count": 76,
   "metadata": {
    "collapsed": false,
    "deletable": true,
    "editable": true
   },
   "outputs": [
    {
     "data": {
      "text/plain": [
       "<matplotlib.text.Text at 0xd7f6630>"
      ]
     },
     "execution_count": 76,
     "metadata": {},
     "output_type": "execute_result"
    },
    {
     "data": {
      "image/png": "[encoded data removed]",
      "text/plain": [
       "<matplotlib.figure.Figure at 0xdb85908>"
      ]
     },
     "metadata": {},
     "output_type": "display_data"
    }
   ],
   "source": [
    "colors = ('seagreen','magenta')\n",
    "ax4= table4.plot(legend=False, kind='bar',stacked=True, ylim=(0,100), color=colors, fontsize=9,\\\n",
    "                title='FICO Credit Score and creditworthiness')\n",
    "plt.legend(loc='upper left', bbox_to_anchor=(1.0, 0.5))\n",
    "ax4.set_xticklabels(table4.index, rotation=70)\n",
    "ax4.set_xlabel('FICO Credit Score', fontsize=9)\n",
    "ax4.set_ylabel('percentage', fontsize=9)"
   ]
  },
  {
   "cell_type": "code",
   "execution_count": 77,
   "metadata": {
    "collapsed": false,
    "deletable": true,
    "editable": true
   },
   "outputs": [
    {
     "data": {
      "text/html": [
       "<div>\n",
       "<table border=\"1\" class=\"dataframe\">\n",
       "  <thead>\n",
       "    <tr style=\"text-align: right;\">\n",
       "      <th></th>\n",
       "      <th>percent_good</th>\n",
       "      <th>percent_bad</th>\n",
       "    </tr>\n",
       "    <tr>\n",
       "      <th>No. Adverse Public Records</th>\n",
       "      <th></th>\n",
       "      <th></th>\n",
       "    </tr>\n",
       "  </thead>\n",
       "  <tbody>\n",
       "    <tr>\n",
       "      <th>Four</th>\n",
       "      <td>100.000000</td>\n",
       "      <td>0.000000</td>\n",
       "    </tr>\n",
       "    <tr>\n",
       "      <th>None</th>\n",
       "      <td>82.315619</td>\n",
       "      <td>17.684381</td>\n",
       "    </tr>\n",
       "    <tr>\n",
       "      <th>One</th>\n",
       "      <td>72.763578</td>\n",
       "      <td>27.236422</td>\n",
       "    </tr>\n",
       "    <tr>\n",
       "      <th>Three</th>\n",
       "      <td>100.000000</td>\n",
       "      <td>0.000000</td>\n",
       "    </tr>\n",
       "    <tr>\n",
       "      <th>Two</th>\n",
       "      <td>75.757576</td>\n",
       "      <td>24.242424</td>\n",
       "    </tr>\n",
       "  </tbody>\n",
       "</table>\n",
       "</div>"
      ],
      "text/plain": [
       "                            percent_good  percent_bad\n",
       "No. Adverse Public Records                           \n",
       "Four                          100.000000     0.000000\n",
       "None                           82.315619    17.684381\n",
       "One                            72.763578    27.236422\n",
       "Three                         100.000000     0.000000\n",
       "Two                            75.757576    24.242424"
      ]
     },
     "execution_count": 77,
     "metadata": {},
     "output_type": "execute_result"
    }
   ],
   "source": [
    "# what is the link between No. Adverse Public Records and creditworthiness?\n",
    "\n",
    "table5 = pd.pivot_table(df_raw, values='Loan Amount', index='No. Adverse Public Records', \\\n",
    "                        columns='Class_new', aggfunc='count').fillna(0)\n",
    "table5.columns = ['good', 'bad']\n",
    "table5['Sum'] = table5['good'] + table5['bad']\n",
    "table5['percent_good'] = table5['good']/table5['Sum']*100\n",
    "table5['percent_bad'] = table5['bad']/table5['Sum']*100\n",
    "\n",
    "table5.drop(table5.columns[[0, 1, 2]], axis=1, inplace=True)\n",
    "table5 = table5.iloc[0: :]\n",
    "table5.head()"
   ]
  },
  {
   "cell_type": "code",
   "execution_count": 78,
   "metadata": {
    "collapsed": false,
    "deletable": true,
    "editable": true
   },
   "outputs": [
    {
     "data": {
      "text/plain": [
       "<matplotlib.text.Text at 0xd8f8860>"
      ]
     },
     "execution_count": 78,
     "metadata": {},
     "output_type": "execute_result"
    },
    {
     "data": {
      "image/png": "[encoded data removed]",
      "text/plain": [
       "<matplotlib.figure.Figure at 0xd9803c8>"
      ]
     },
     "metadata": {},
     "output_type": "display_data"
    }
   ],
   "source": [
    "colors = ('seagreen','magenta')\n",
    "ax5= table5.plot(legend=False, kind='bar',stacked=True, ylim=(0,100), color=colors, fontsize=9,\\\n",
    "                title='No. Adverse Public Records and creditworthiness')\n",
    "plt.legend(loc='upper left', bbox_to_anchor=(1.0, 0.5))\n",
    "ax5.set_xticklabels(table5.index, rotation=70)\n",
    "ax5.set_xlabel('No. Adverse Public Records', fontsize=9)\n",
    "ax5.set_ylabel('percentage', fontsize=9)"
   ]
  },
  {
   "cell_type": "markdown",
   "metadata": {
    "deletable": true,
    "editable": true
   },
   "source": [
    "# Data preprocessing"
   ]
  },
  {
   "cell_type": "code",
   "execution_count": 79,
   "metadata": {
    "collapsed": false,
    "deletable": true,
    "editable": true
   },
   "outputs": [],
   "source": [
    "# summarise address states into geographic regions\n",
    "\n",
    "East_Coast = ['ME', 'NH', 'VT', 'MA', 'RI', 'CT', 'NY', 'PA', 'NJ', 'DE', 'MD', 'VA', 'PA', 'DC']\n",
    "West_Coast = ['CA']\n",
    "North = ['WA', 'OR', 'ID', 'MT', 'WY', 'SD','MN', 'WI', 'MI', 'AK']\n",
    "South = ['AZ', 'NM', 'TX', 'OK', 'LA', 'AR', 'MS', 'AL', 'GA', 'FL', 'SC', 'NC', 'TN', 'HI']\n",
    "Middle = ['NV', 'UT', 'CO', 'KS', 'NE', 'IA', 'MO', 'IL', 'IN', 'KY', 'WV', 'OH']"
   ]
  },
  {
   "cell_type": "code",
   "execution_count": 80,
   "metadata": {
    "collapsed": false,
    "deletable": true,
    "editable": true
   },
   "outputs": [
    {
     "data": {
      "text/plain": [
       "East_Coast    7731\n",
       "South         6885\n",
       "West_Coast    4485\n",
       "Middle        3461\n",
       "North         2213\n",
       "Name: Address State, dtype: int64"
      ]
     },
     "execution_count": 80,
     "metadata": {},
     "output_type": "execute_result"
    }
   ],
   "source": [
    "df_raw['Address State'] = df_raw['Address State'].replace(East_Coast, 'East_Coast')\n",
    "df_raw['Address State'] = df_raw['Address State'].replace(West_Coast, 'West_Coast')\n",
    "df_raw['Address State'] = df_raw['Address State'].replace(North, 'North')\n",
    "df_raw['Address State'] = df_raw['Address State'].replace(South, 'South')\n",
    "df_raw['Address State'] = df_raw['Address State'].replace(Middle, 'Middle') \n",
    "\n",
    "df_raw['Address State'].value_counts()"
   ]
  },
  {
   "cell_type": "code",
   "execution_count": 81,
   "metadata": {
    "collapsed": true
   },
   "outputs": [],
   "source": [
    "# summarise FICO scores into categories\n",
    "\n",
    "def summarise(fico):\n",
    "    if 300 >= fico < 579:\n",
    "        return 'Very Poor'\n",
    "    if 580 >= fico < 669:\n",
    "        return 'Fair'\n",
    "    if 670 >= fico < 739:\n",
    "        return 'Good'\n",
    "    if 740 >= fico < 799:\n",
    "        return 'Very Good'\n",
    "    if 800 >= fico <= 850:\n",
    "        return 'Exceptional'"
   ]
  },
  {
   "cell_type": "code",
   "execution_count": 82,
   "metadata": {
    "collapsed": false
   },
   "outputs": [
    {
     "data": {
      "text/plain": [
       "Very Good      15950\n",
       "Exceptional     5208\n",
       "Good            3337\n",
       "Name: FICO Credit Score, dtype: int64"
      ]
     },
     "execution_count": 82,
     "metadata": {},
     "output_type": "execute_result"
    }
   ],
   "source": [
    "df_raw['FICO Credit Score'] = df_raw['FICO Credit Score'].apply(summarise)\n",
    "df_raw['FICO Credit Score'].value_counts()"
   ]
  },
  {
   "cell_type": "code",
   "execution_count": 83,
   "metadata": {
    "collapsed": false,
    "deletable": true,
    "editable": true
   },
   "outputs": [],
   "source": [
    "# create dummy variables for categorical data\n",
    "\n",
    "df_raw = pd.get_dummies(df_raw, columns=['Loan Term','Home Ownership', 'Loan Purpose', \\\n",
    "                                         'FICO Credit Score','Address State'])"
   ]
  },
  {
   "cell_type": "code",
   "execution_count": 84,
   "metadata": {
    "collapsed": false,
    "deletable": true,
    "editable": true
   },
   "outputs": [],
   "source": [
    "# encode remaining columns containing object data types\n",
    "\n",
    "from sklearn import preprocessing \n",
    "\n",
    "cols = ['No. Delinquencies In Last 2 Years', 'No. Adverse Public Records',\\\n",
    "           'No. Of Public Record Bankruptcies']\n",
    "\n",
    "le = preprocessing.LabelEncoder()\n",
    "\n",
    "def labelencoder(input):\n",
    "    if input == 'None':\n",
    "        return 0\n",
    "    elif input == 'One':\n",
    "        return 1\n",
    "    elif input == 'Two':\n",
    "        return 2\n",
    "    elif input == 'Three':\n",
    "        return 3\n",
    "    elif input == 'Four':\n",
    "        return 4\n",
    "    elif input == 'Five':\n",
    "        return 5\n",
    "    elif input == 'Six':\n",
    "        return 6\n",
    "    elif input == 'Seven':\n",
    "        return 7\n",
    "    elif input == 'Eight':\n",
    "        return 8\n",
    "    elif input == 'Nine':\n",
    "        return 9\n",
    "    else:\n",
    "        return input\n",
    "\n",
    "for c in cols:    \n",
    "    df_raw[c] = df_raw[c].apply(labelencoder)\n"
   ]
  },
  {
   "cell_type": "code",
   "execution_count": 85,
   "metadata": {
    "collapsed": false,
    "deletable": true,
    "editable": true
   },
   "outputs": [],
   "source": [
    "# drop redundant feature\n",
    "\n",
    "df_raw.drop('Class', axis=1, inplace=True)"
   ]
  },
  {
   "cell_type": "code",
   "execution_count": 86,
   "metadata": {
    "collapsed": false,
    "deletable": true,
    "editable": true
   },
   "outputs": [
    {
     "name": "stdout",
     "output_type": "stream",
     "text": [
      "<class 'pandas.core.frame.DataFrame'>\n",
      "RangeIndex: 24776 entries, 0 to 24775\n",
      "Data columns (total 46 columns):\n",
      "Loan Amount                          24776 non-null int64\n",
      "Employment Length                    24776 non-null float64\n",
      "Annual Income                        24776 non-null float64\n",
      "Debt To Income Ratio                 24775 non-null float64\n",
      "No. Delinquencies In Last 2 Years    24775 non-null float64\n",
      "Earliest Credit Line Opened          24776 non-null float64\n",
      "No. Inquiries In Last 6 Months       24775 non-null float64\n",
      "Months Since Last Delinquency        24776 non-null int64\n",
      "No. Of Credit Lines                  24775 non-null float64\n",
      "No. Adverse Public Records           24775 non-null float64\n",
      "Total Credit Balance                 24775 non-null float64\n",
      "Use Of Credit Line                   24724 non-null float64\n",
      "Total Number Of Credit Lines         24775 non-null float64\n",
      "Loan Application Description         24776 non-null int64\n",
      "No. Of Public Record Bankruptcies    24776 non-null int64\n",
      "Class_new                            24776 non-null int64\n",
      "Loan Term_36 Months                  24776 non-null uint8\n",
      "Loan Term_60 Months                  24776 non-null uint8\n",
      "Home Ownership_MORTGAGE              24776 non-null uint8\n",
      "Home Ownership_NOne                  24776 non-null uint8\n",
      "Home Ownership_OTHER                 24776 non-null uint8\n",
      "Home Ownership_OWN                   24776 non-null uint8\n",
      "Home Ownership_RENT                  24776 non-null uint8\n",
      "Loan Purpose_0                       24776 non-null uint8\n",
      "Loan Purpose_Car                     24776 non-null uint8\n",
      "Loan Purpose_Credit Card             24776 non-null uint8\n",
      "Loan Purpose_Debt Consolidation      24776 non-null uint8\n",
      "Loan Purpose_Educationalal           24776 non-null uint8\n",
      "Loan Purpose_Home Improvement        24776 non-null uint8\n",
      "Loan Purpose_House                   24776 non-null uint8\n",
      "Loan Purpose_Major Purchase          24776 non-null uint8\n",
      "Loan Purpose_Medical                 24776 non-null uint8\n",
      "Loan Purpose_Moving                  24776 non-null uint8\n",
      "Loan Purpose_Other                   24776 non-null uint8\n",
      "Loan Purpose_Renewable Energy        24776 non-null uint8\n",
      "Loan Purpose_Small Business          24776 non-null uint8\n",
      "Loan Purpose_Vacation                24776 non-null uint8\n",
      "Loan Purpose_Wedding                 24776 non-null uint8\n",
      "FICO Credit Score_Exceptional        24776 non-null uint8\n",
      "FICO Credit Score_Good               24776 non-null uint8\n",
      "FICO Credit Score_Very Good          24776 non-null uint8\n",
      "Address State_East_Coast             24776 non-null uint8\n",
      "Address State_Middle                 24776 non-null uint8\n",
      "Address State_North                  24776 non-null uint8\n",
      "Address State_South                  24776 non-null uint8\n",
      "Address State_West_Coast             24776 non-null uint8\n",
      "dtypes: float64(11), int64(5), uint8(30)\n",
      "memory usage: 3.7 MB\n"
     ]
    }
   ],
   "source": [
    "# let's have a look a the preprocessed data:\n",
    "\n",
    "df_raw.info()"
   ]
  },
  {
   "cell_type": "markdown",
   "metadata": {},
   "source": [
    "# Define target"
   ]
  },
  {
   "cell_type": "code",
   "execution_count": 87,
   "metadata": {
    "collapsed": false
   },
   "outputs": [],
   "source": [
    "# Define X and y\n",
    "\n",
    "y = df_raw['Class_new']\n",
    "y.columns = ['Class']\n",
    "X = df_raw.drop(['Class_new'], axis=1)"
   ]
  },
  {
   "cell_type": "markdown",
   "metadata": {
    "deletable": true,
    "editable": true
   },
   "source": [
    "# Address correlated features"
   ]
  },
  {
   "cell_type": "code",
   "execution_count": 88,
   "metadata": {
    "collapsed": false,
    "deletable": true,
    "editable": true
   },
   "outputs": [
    {
     "data": {
      "text/plain": [
       "<matplotlib.axes._subplots.AxesSubplot at 0xd591438>"
      ]
     },
     "execution_count": 88,
     "metadata": {},
     "output_type": "execute_result"
    },
    {
     "data": {
      "image/png": "[encoded data removed]",
      "text/plain": [
       "<matplotlib.figure.Figure at 0xd372ef0>"
      ]
     },
     "metadata": {},
     "output_type": "display_data"
    }
   ],
   "source": [
    "corr = X.corr()\n",
    "sns.heatmap(corr, xticklabels='', yticklabels='')"
   ]
  },
  {
   "cell_type": "code",
   "execution_count": 89,
   "metadata": {
    "collapsed": false,
    "deletable": true,
    "editable": true
   },
   "outputs": [],
   "source": [
    "def correlation(dataset, threshold):\n",
    "    col_corr = set() # Set of all the names of deleted columns\n",
    "    corr_matrix = dataset.corr()\n",
    "    for i in range(len(corr_matrix.columns)):\n",
    "        for j in range(i):\n",
    "            if corr_matrix.iloc[i, j] >= threshold:\n",
    "                colname = corr_matrix.columns[i] # getting the name of column\n",
    "                col_corr.add(colname)\n",
    "                if colname in dataset.columns:\n",
    "                    del dataset[colname] # deleting the column from the dataset\n",
    "\n",
    "    print(dataset)\n",
    "    "
   ]
  },
  {
   "cell_type": "code",
   "execution_count": 90,
   "metadata": {
    "collapsed": false,
    "deletable": true,
    "editable": true
   },
   "outputs": [
    {
     "name": "stdout",
     "output_type": "stream",
     "text": [
      "       Loan Amount  Employment Length  Annual Income  Debt To Income Ratio  \\\n",
      "0            25000                0.5        85000.0                 19.48   \n",
      "1             7000                0.5        65000.0                 14.29   \n",
      "2             1200               10.0        54000.0                  5.47   \n",
      "3            10800                6.0        32000.0                 11.63   \n",
      "4             7500                3.0        85000.0                  8.10   \n",
      "5             3000                3.0        80800.0                 14.97   \n",
      "6             4000                0.5       148000.0                 16.98   \n",
      "7             5600                1.0        45000.0                  4.00   \n",
      "8             3200                5.0        54000.0                  6.51   \n",
      "9             4000                0.5        60000.0                 11.08   \n",
      "10            5000               10.0        90000.0                 17.25   \n",
      "11            2525                3.0        27000.0                 10.00   \n",
      "12           10625               10.0        34000.0                 22.09   \n",
      "13            2800                0.5        24000.0                  4.00   \n",
      "14            7500                3.0       138000.0                  9.16   \n",
      "15           10000                1.0        56000.0                 15.49   \n",
      "16            3000                9.0       100000.0                  6.50   \n",
      "17            6625                0.5        13200.0                  9.73   \n",
      "18           10000               10.0        46116.0                 13.04   \n",
      "19            2300               10.0        37152.0                  2.26   \n",
      "20           15000                0.5       110000.0                  7.07   \n",
      "21           18000               10.0        36000.0                  3.80   \n",
      "22            5000                2.0        60000.0                  2.74   \n",
      "23            6000                0.5        75000.0                 16.08   \n",
      "24           15000               10.0        50000.0                  2.59   \n",
      "25           10000                3.0       100000.0                  7.94   \n",
      "26           15500                0.5       125000.0                  7.05   \n",
      "27            9600                4.0        78000.0                  8.80   \n",
      "28            5000                1.0       200000.0                 10.00   \n",
      "29            5000               10.0        65000.0                  0.28   \n",
      "...            ...                ...            ...                   ...   \n",
      "24746         5000               10.0        33000.0                 15.96   \n",
      "24747        13600                7.0       180000.0                  2.60   \n",
      "24748         3600                5.0        38004.0                 22.89   \n",
      "24749         2100                1.0        57200.0                  7.32   \n",
      "24750        10000               10.0        52000.0                  3.92   \n",
      "24751        35000                7.0       200000.0                  4.87   \n",
      "24752         1400                8.0        28800.0                 22.25   \n",
      "24753        35000                3.0        82840.0                 17.92   \n",
      "24754        20000                2.0        80000.0                 18.63   \n",
      "24755         3075                6.0        48000.0                 16.40   \n",
      "24756         2000                1.0        24000.0                 22.60   \n",
      "24757        10400               10.0        85325.0                  8.93   \n",
      "24758        22000                5.0        80000.0                  9.48   \n",
      "24759        10000               10.0        45000.0                 28.19   \n",
      "24760         5000                3.0        45000.0                 34.20   \n",
      "24761        25000               10.0        82000.0                 13.46   \n",
      "24762         6975                5.0        25000.0                  7.87   \n",
      "24763         5000                0.5        50000.0                 17.02   \n",
      "24764         6000                1.0        76000.0                  7.25   \n",
      "24765         1000                0.0        10140.0                 23.67   \n",
      "24766         6400                5.0        33000.0                  9.05   \n",
      "24767         7000                4.0        27000.0                  4.62   \n",
      "24768         7500               10.0        32000.0                 24.19   \n",
      "24769         1500                1.0        27000.0                 18.53   \n",
      "24770         3450                5.0        25000.0                 16.94   \n",
      "24771         4600                5.0        50000.0                 14.26   \n",
      "24772         4750                0.0        10400.0                  3.00   \n",
      "24773         5000                2.0        40000.0                 24.60   \n",
      "24774         5825                0.5        70000.0                 13.55   \n",
      "24775        12325                2.0        42000.0                 17.03   \n",
      "\n",
      "       No. Delinquencies In Last 2 Years  Earliest Credit Line Opened  \\\n",
      "0                                    0.0                  34380.44375   \n",
      "1                                    0.0                  36820.52083   \n",
      "2                                    0.0                  31068.22222   \n",
      "3                                    0.0                  35411.32431   \n",
      "4                                    0.0                  36846.05278   \n",
      "5                                    1.0                  36004.45278   \n",
      "6                                    0.0                  34095.40694   \n",
      "7                                    0.0                  37045.53194   \n",
      "8                                    0.0                  38872.23681   \n",
      "9                                    0.0                  34933.54097   \n",
      "10                                   0.0                  35566.36597   \n",
      "11                                   0.0                  37139.14167   \n",
      "12                                   0.0                  33085.05972   \n",
      "13                                   0.0                  36865.49653   \n",
      "14                                   1.0                  35306.51944   \n",
      "15                                   0.0                  33584.53958   \n",
      "16                                   1.0                  35827.15833   \n",
      "17                                   0.0                  37963.44444   \n",
      "18                                   0.0                  31360.22292   \n",
      "19                                   0.0                  35778.40347   \n",
      "20                                   0.0                  33560.26944   \n",
      "21                                   0.0                  36759.33958   \n",
      "22                                   0.0                  38411.21319   \n",
      "23                                   0.0                  34671.21597   \n",
      "24                                   0.0                  30000.00000   \n",
      "25                                   0.0                  37589.44722   \n",
      "26                                   0.0                  34582.10486   \n",
      "27                                   0.0                  35762.39514   \n",
      "28                                   2.0                  37712.33333   \n",
      "29                                   0.0                  34669.33333   \n",
      "...                                  ...                          ...   \n",
      "24746                                0.0                  36403.30069   \n",
      "24747                                0.0                  38867.37361   \n",
      "24748                                0.0                  38097.07847   \n",
      "24749                                0.0                  37405.22708   \n",
      "24750                                0.0                  38642.06042   \n",
      "24751                                0.0                  38997.07708   \n",
      "24752                                1.0                  38775.08611   \n",
      "24753                                0.0                  36835.24792   \n",
      "24754                                1.0                  36428.13819   \n",
      "24755                                0.0                  37112.43750   \n",
      "24756                                0.0                  38865.54097   \n",
      "24757                                0.0                  36992.53889   \n",
      "24758                                0.0                  37766.08194   \n",
      "24759                                0.0                  38294.40139   \n",
      "24760                                0.0                  36327.47222   \n",
      "24761                                0.0                  36138.37917   \n",
      "24762                                0.0                  38820.36944   \n",
      "24763                                0.0                  34667.40208   \n",
      "24764                                0.0                  37057.35208   \n",
      "24765                                0.0                  37173.09236   \n",
      "24766                                0.0                  38874.46528   \n",
      "24767                                0.0                  35790.29167   \n",
      "24768                                0.0                  35582.51944   \n",
      "24769                                0.0                  39335.53958   \n",
      "24770                                0.0                  39234.31389   \n",
      "24771                                0.0                  35296.42153   \n",
      "24772                                3.0                  36499.42083   \n",
      "24773                                0.0                  39503.42639   \n",
      "24774                                0.0                  35933.18889   \n",
      "24775                                0.0                  36045.07014   \n",
      "\n",
      "       No. Inquiries In Last 6 Months  Months Since Last Delinquency  \\\n",
      "0                                 0.0                              0   \n",
      "1                                 0.0                              0   \n",
      "2                                 0.0                             64   \n",
      "3                                 1.0                             58   \n",
      "4                                 1.0                              0   \n",
      "5                                 0.0                             13   \n",
      "6                                 0.0                              0   \n",
      "7                                 0.0                             38   \n",
      "8                                 0.0                              0   \n",
      "9                                 0.0                              0   \n",
      "10                                1.0                              0   \n",
      "11                                1.0                              0   \n",
      "12                                2.0                             57   \n",
      "13                                0.0                              0   \n",
      "14                                2.0                             10   \n",
      "15                                0.0                              0   \n",
      "16                                0.0                             16   \n",
      "17                                0.0                              0   \n",
      "18                                1.0                             45   \n",
      "19                                0.0                             46   \n",
      "20                                1.0                              0   \n",
      "21                                0.0                              0   \n",
      "22                                3.0                              0   \n",
      "23                                1.0                              0   \n",
      "24                                0.0                              0   \n",
      "25                                0.0                              0   \n",
      "26                                1.0                              0   \n",
      "27                                0.0                             68   \n",
      "28                                0.0                              5   \n",
      "29                                1.0                              0   \n",
      "...                               ...                            ...   \n",
      "24746                             1.0                              0   \n",
      "24747                             0.0                              0   \n",
      "24748                             2.0                             40   \n",
      "24749                             1.0                              0   \n",
      "24750                             2.0                              0   \n",
      "24751                             2.0                              0   \n",
      "24752                             1.0                              9   \n",
      "24753                             2.0                              0   \n",
      "24754                             3.0                             13   \n",
      "24755                             2.0                             32   \n",
      "24756                             3.0                              0   \n",
      "24757                             0.0                             64   \n",
      "24758                             3.0                              0   \n",
      "24759                             0.0                              0   \n",
      "24760                             3.0                             40   \n",
      "24761                             1.0                             26   \n",
      "24762                             0.0                              0   \n",
      "24763                             2.0                             35   \n",
      "24764                             1.0                              0   \n",
      "24765                             2.0                              0   \n",
      "24766                             3.0                             25   \n",
      "24767                             1.0                             74   \n",
      "24768                             2.0                              0   \n",
      "24769                             2.0                              0   \n",
      "24770                             0.0                              0   \n",
      "24771                             1.0                              0   \n",
      "24772                             0.0                              6   \n",
      "24773                             0.0                              0   \n",
      "24774                             0.0                             40   \n",
      "24775                             1.0                              0   \n",
      "\n",
      "       No. Of Credit Lines  No. Adverse Public Records  Total Credit Balance  \\\n",
      "0                     10.0                         0.0               28854.0   \n",
      "1                      7.0                         0.0               33623.0   \n",
      "2                      5.0                         0.0                2584.0   \n",
      "3                     14.0                         0.0                3511.0   \n",
      "4                      3.0                         0.0               33667.0   \n",
      "5                     13.0                         0.0                4740.0   \n",
      "6                     11.0                         0.0               50000.0   \n",
      "7                      5.0                         1.0                3839.0   \n",
      "8                      7.0                         0.0                3198.0   \n",
      "9                     14.0                         0.0               24220.0   \n",
      "10                    20.0                         0.0               50000.0   \n",
      "11                     5.0                         0.0                5630.0   \n",
      "12                     5.0                         1.0               13846.0   \n",
      "13                     7.0                         1.0                2183.0   \n",
      "14                    11.0                         0.0                5122.0   \n",
      "15                     7.0                         0.0                6068.0   \n",
      "16                    14.0                         0.0                3021.0   \n",
      "17                     3.0                         0.0                6282.0   \n",
      "18                     7.0                         0.0                5394.0   \n",
      "19                     4.0                         0.0                2211.0   \n",
      "20                     6.0                         0.0                7586.0   \n",
      "21                     2.0                         0.0                8311.0   \n",
      "22                     2.0                         0.0                 591.0   \n",
      "23                    16.0                         0.0               29797.0   \n",
      "24                     4.0                         0.0                5656.0   \n",
      "25                    11.0                         0.0               21162.0   \n",
      "26                     8.0                         0.0               16931.0   \n",
      "27                     5.0                         1.0                4822.0   \n",
      "28                     5.0                         0.0               14354.0   \n",
      "29                    12.0                         0.0                1576.0   \n",
      "...                    ...                         ...                   ...   \n",
      "24746                  5.0                         0.0                1865.0   \n",
      "24747                  9.0                         0.0                6876.0   \n",
      "24748                  7.0                         0.0                2697.0   \n",
      "24749                  5.0                         0.0                 609.0   \n",
      "24750                  7.0                         0.0                9301.0   \n",
      "24751                  7.0                         0.0               15358.0   \n",
      "24752                  6.0                         0.0                 612.0   \n",
      "24753                 11.0                         0.0                3127.0   \n",
      "24754                 13.0                         0.0               12189.0   \n",
      "24755                  9.0                         0.0                6271.0   \n",
      "24756                  3.0                         0.0                   0.0   \n",
      "24757                  8.0                         1.0                 856.0   \n",
      "24758                  6.0                         0.0                5595.0   \n",
      "24759                  7.0                         0.0                8066.0   \n",
      "24760                 18.0                         0.0                5414.0   \n",
      "24761                  3.0                         0.0                  75.0   \n",
      "24762                  5.0                         0.0                9799.0   \n",
      "24763                  9.0                         1.0                4999.0   \n",
      "24764                  9.0                         0.0               15882.0   \n",
      "24765                  4.0                         0.0                6487.0   \n",
      "24766                  4.0                         0.0                2237.0   \n",
      "24767                  5.0                         0.0                   0.0   \n",
      "24768                 10.0                         0.0               19254.0   \n",
      "24769                  9.0                         0.0                 743.0   \n",
      "24770                  7.0                         0.0                3626.0   \n",
      "24771                  9.0                         0.0                5837.0   \n",
      "24772                  6.0                         0.0                 740.0   \n",
      "24773                  6.0                         0.0                4955.0   \n",
      "24774                 12.0                         0.0               13577.0   \n",
      "24775                 11.0                         0.0               29254.0   \n",
      "\n",
      "       Use Of Credit Line  Loan Application Description  Loan Term_36 Months  \\\n",
      "0                    52.1                           308                    1   \n",
      "1                    76.7                            71                    1   \n",
      "2                    40.4                           748                    1   \n",
      "3                    25.6                           403                    1   \n",
      "4                    73.2                           293                    1   \n",
      "5                    39.5                           487                    1   \n",
      "6                    51.0                           363                    1   \n",
      "7                    76.8                           340                    1   \n",
      "8                    51.1                           141                    1   \n",
      "9                    68.6                           824                    1   \n",
      "10                   51.1                            65                    1   \n",
      "11                   23.0                           171                    1   \n",
      "12                   71.0                            62                    1   \n",
      "13                   19.5                           302                    0   \n",
      "14                   18.2                           981                    1   \n",
      "15                   16.7                           240                    1   \n",
      "16                    4.8                           651                    1   \n",
      "17                   44.6                          1000                    1   \n",
      "18                   53.4                            40                    1   \n",
      "19                   88.4                            93                    1   \n",
      "20                   52.7                            59                    1   \n",
      "21                   59.8                            55                    1   \n",
      "22                   84.4                           192                    1   \n",
      "23                   23.2                           161                    1   \n",
      "24                   27.6                           499                    1   \n",
      "25                   57.7                           141                    1   \n",
      "26                   34.6                           280                    1   \n",
      "27                   58.1                            89                    1   \n",
      "28                   36.6                            22                    1   \n",
      "29                    5.7                            31                    1   \n",
      "...                   ...                           ...                  ...   \n",
      "24746                16.5                             0                    0   \n",
      "24747                51.1                             0                    0   \n",
      "24748                59.9                          1000                    0   \n",
      "24749                 2.3                           179                    1   \n",
      "24750                44.1                             0                    1   \n",
      "24751                20.9                           122                    1   \n",
      "24752                29.1                             0                    1   \n",
      "24753                28.7                           165                    0   \n",
      "24754                67.3                             0                    1   \n",
      "24755                51.4                           268                    1   \n",
      "24756                 NaN                             0                    1   \n",
      "24757                 4.7                             0                    0   \n",
      "24758                23.1                             0                    0   \n",
      "24759                91.7                            60                    1   \n",
      "24760                33.2                            54                    1   \n",
      "24761                18.7                           244                    1   \n",
      "24762                50.9                           122                    1   \n",
      "24763                34.2                           244                    1   \n",
      "24764                59.7                            62                    1   \n",
      "24765                94.0                             0                    1   \n",
      "24766                60.5                             0                    0   \n",
      "24767                 NaN                           189                    0   \n",
      "24768                72.9                             0                    1   \n",
      "24769                26.5                           161                    1   \n",
      "24770                53.3                           108                    1   \n",
      "24771                78.9                           133                    1   \n",
      "24772                33.6                           314                    1   \n",
      "24773                78.7                            78                    1   \n",
      "24774                89.9                           128                    1   \n",
      "24775                33.6                           120                    0   \n",
      "\n",
      "       Loan Term_60 Months  Home Ownership_MORTGAGE  Home Ownership_NOne  \\\n",
      "0                        0                        0                    0   \n",
      "1                        0                        0                    0   \n",
      "2                        0                        0                    0   \n",
      "3                        0                        0                    0   \n",
      "4                        0                        0                    0   \n",
      "5                        0                        1                    0   \n",
      "6                        0                        1                    0   \n",
      "7                        0                        0                    0   \n",
      "8                        0                        0                    0   \n",
      "9                        0                        1                    0   \n",
      "10                       0                        1                    0   \n",
      "11                       0                        0                    0   \n",
      "12                       0                        1                    0   \n",
      "13                       1                        0                    0   \n",
      "14                       0                        1                    0   \n",
      "15                       0                        1                    0   \n",
      "16                       0                        1                    0   \n",
      "17                       0                        0                    0   \n",
      "18                       0                        1                    0   \n",
      "19                       0                        0                    0   \n",
      "20                       0                        1                    0   \n",
      "21                       0                        1                    0   \n",
      "22                       0                        0                    0   \n",
      "23                       0                        1                    0   \n",
      "24                       0                        0                    0   \n",
      "25                       0                        0                    0   \n",
      "26                       0                        0                    0   \n",
      "27                       0                        0                    0   \n",
      "28                       0                        1                    0   \n",
      "29                       0                        1                    0   \n",
      "...                    ...                      ...                  ...   \n",
      "24746                    1                        0                    0   \n",
      "24747                    1                        0                    0   \n",
      "24748                    1                        0                    0   \n",
      "24749                    0                        0                    0   \n",
      "24750                    0                        0                    0   \n",
      "24751                    0                        0                    0   \n",
      "24752                    0                        1                    0   \n",
      "24753                    1                        0                    0   \n",
      "24754                    0                        0                    0   \n",
      "24755                    0                        1                    0   \n",
      "24756                    0                        0                    0   \n",
      "24757                    1                        0                    0   \n",
      "24758                    1                        0                    0   \n",
      "24759                    0                        0                    0   \n",
      "24760                    0                        0                    0   \n",
      "24761                    0                        0                    0   \n",
      "24762                    0                        0                    0   \n",
      "24763                    0                        0                    0   \n",
      "24764                    0                        0                    0   \n",
      "24765                    0                        0                    0   \n",
      "24766                    1                        0                    0   \n",
      "24767                    1                        0                    0   \n",
      "24768                    0                        1                    0   \n",
      "24769                    0                        0                    0   \n",
      "24770                    0                        0                    0   \n",
      "24771                    0                        0                    0   \n",
      "24772                    0                        0                    0   \n",
      "24773                    0                        0                    0   \n",
      "24774                    0                        1                    0   \n",
      "24775                    1                        0                    0   \n",
      "\n",
      "       Home Ownership_OTHER  Home Ownership_OWN  Home Ownership_RENT  \\\n",
      "0                         0                   0                    1   \n",
      "1                         0                   0                    1   \n",
      "2                         0                   1                    0   \n",
      "3                         0                   0                    1   \n",
      "4                         0                   0                    1   \n",
      "5                         0                   0                    0   \n",
      "6                         0                   0                    0   \n",
      "7                         0                   0                    1   \n",
      "8                         0                   0                    1   \n",
      "9                         0                   0                    0   \n",
      "10                        0                   0                    0   \n",
      "11                        0                   0                    1   \n",
      "12                        0                   0                    0   \n",
      "13                        0                   0                    1   \n",
      "14                        0                   0                    0   \n",
      "15                        0                   0                    0   \n",
      "16                        0                   0                    0   \n",
      "17                        0                   0                    1   \n",
      "18                        0                   0                    0   \n",
      "19                        0                   0                    1   \n",
      "20                        0                   0                    0   \n",
      "21                        0                   0                    0   \n",
      "22                        0                   0                    1   \n",
      "23                        0                   0                    0   \n",
      "24                        0                   1                    0   \n",
      "25                        0                   0                    1   \n",
      "26                        0                   0                    1   \n",
      "27                        0                   0                    1   \n",
      "28                        0                   0                    0   \n",
      "29                        0                   0                    0   \n",
      "...                     ...                 ...                  ...   \n",
      "24746                     0                   0                    1   \n",
      "24747                     0                   0                    1   \n",
      "24748                     0                   0                    1   \n",
      "24749                     0                   0                    1   \n",
      "24750                     0                   0                    1   \n",
      "24751                     0                   0                    1   \n",
      "24752                     0                   0                    0   \n",
      "24753                     0                   0                    1   \n",
      "24754                     0                   0                    1   \n",
      "24755                     0                   0                    0   \n",
      "24756                     0                   0                    1   \n",
      "24757                     0                   0                    1   \n",
      "24758                     0                   0                    1   \n",
      "24759                     0                   0                    1   \n",
      "24760                     0                   0                    1   \n",
      "24761                     0                   0                    1   \n",
      "24762                     0                   0                    1   \n",
      "24763                     0                   0                    1   \n",
      "24764                     0                   0                    1   \n",
      "24765                     0                   0                    1   \n",
      "24766                     0                   0                    1   \n",
      "24767                     0                   0                    1   \n",
      "24768                     0                   0                    0   \n",
      "24769                     0                   0                    1   \n",
      "24770                     0                   0                    1   \n",
      "24771                     0                   0                    1   \n",
      "24772                     0                   1                    0   \n",
      "24773                     0                   1                    0   \n",
      "24774                     0                   0                    0   \n",
      "24775                     0                   0                    1   \n",
      "\n",
      "       Loan Purpose_0  Loan Purpose_Car  Loan Purpose_Credit Card  \\\n",
      "0                   0                 0                         0   \n",
      "1                   0                 0                         1   \n",
      "2                   0                 0                         0   \n",
      "3                   0                 0                         0   \n",
      "4                   0                 0                         0   \n",
      "5                   0                 0                         1   \n",
      "6                   0                 0                         1   \n",
      "7                   0                 0                         0   \n",
      "8                   0                 0                         0   \n",
      "9                   0                 1                         0   \n",
      "10                  0                 0                         0   \n",
      "11                  0                 0                         0   \n",
      "12                  0                 0                         0   \n",
      "13                  0                 0                         0   \n",
      "14                  0                 0                         0   \n",
      "15                  0                 0                         0   \n",
      "16                  0                 0                         0   \n",
      "17                  0                 0                         0   \n",
      "18                  0                 0                         0   \n",
      "19                  0                 0                         0   \n",
      "20                  0                 0                         1   \n",
      "21                  0                 0                         0   \n",
      "22                  0                 0                         0   \n",
      "23                  0                 0                         0   \n",
      "24                  0                 0                         0   \n",
      "25                  0                 0                         1   \n",
      "26                  0                 0                         1   \n",
      "27                  0                 0                         0   \n",
      "28                  0                 0                         0   \n",
      "29                  0                 0                         0   \n",
      "...               ...               ...                       ...   \n",
      "24746               0                 0                         0   \n",
      "24747               0                 0                         0   \n",
      "24748               0                 0                         0   \n",
      "24749               0                 0                         0   \n",
      "24750               0                 0                         0   \n",
      "24751               0                 0                         0   \n",
      "24752               0                 0                         0   \n",
      "24753               0                 0                         0   \n",
      "24754               0                 0                         0   \n",
      "24755               0                 0                         0   \n",
      "24756               0                 0                         0   \n",
      "24757               0                 0                         0   \n",
      "24758               0                 0                         1   \n",
      "24759               0                 0                         0   \n",
      "24760               0                 0                         0   \n",
      "24761               0                 0                         0   \n",
      "24762               0                 0                         0   \n",
      "24763               0                 0                         0   \n",
      "24764               0                 0                         0   \n",
      "24765               0                 0                         1   \n",
      "24766               0                 0                         0   \n",
      "24767               0                 0                         0   \n",
      "24768               0                 0                         0   \n",
      "24769               0                 0                         0   \n",
      "24770               0                 0                         0   \n",
      "24771               0                 0                         0   \n",
      "24772               0                 0                         0   \n",
      "24773               0                 0                         0   \n",
      "24774               0                 0                         0   \n",
      "24775               0                 0                         0   \n",
      "\n",
      "       Loan Purpose_Debt Consolidation  Loan Purpose_Educationalal  \\\n",
      "0                                    1                           0   \n",
      "1                                    0                           0   \n",
      "2                                    1                           0   \n",
      "3                                    1                           0   \n",
      "4                                    1                           0   \n",
      "5                                    0                           0   \n",
      "6                                    0                           0   \n",
      "7                                    1                           0   \n",
      "8                                    1                           0   \n",
      "9                                    0                           0   \n",
      "10                                   0                           0   \n",
      "11                                   1                           0   \n",
      "12                                   1                           0   \n",
      "13                                   1                           0   \n",
      "14                                   1                           0   \n",
      "15                                   1                           0   \n",
      "16                                   0                           0   \n",
      "17                                   1                           0   \n",
      "18                                   0                           0   \n",
      "19                                   0                           0   \n",
      "20                                   0                           0   \n",
      "21                                   1                           0   \n",
      "22                                   0                           0   \n",
      "23                                   0                           0   \n",
      "24                                   0                           0   \n",
      "25                                   0                           0   \n",
      "26                                   0                           0   \n",
      "27                                   1                           0   \n",
      "28                                   0                           0   \n",
      "29                                   0                           0   \n",
      "...                                ...                         ...   \n",
      "24746                                0                           0   \n",
      "24747                                0                           0   \n",
      "24748                                1                           0   \n",
      "24749                                0                           0   \n",
      "24750                                0                           0   \n",
      "24751                                0                           0   \n",
      "24752                                1                           0   \n",
      "24753                                0                           0   \n",
      "24754                                1                           0   \n",
      "24755                                1                           0   \n",
      "24756                                0                           0   \n",
      "24757                                0                           0   \n",
      "24758                                0                           0   \n",
      "24759                                0                           0   \n",
      "24760                                1                           0   \n",
      "24761                                0                           0   \n",
      "24762                                1                           0   \n",
      "24763                                0                           0   \n",
      "24764                                1                           0   \n",
      "24765                                0                           0   \n",
      "24766                                0                           0   \n",
      "24767                                0                           0   \n",
      "24768                                0                           0   \n",
      "24769                                0                           0   \n",
      "24770                                1                           0   \n",
      "24771                                1                           0   \n",
      "24772                                0                           0   \n",
      "24773                                0                           0   \n",
      "24774                                1                           0   \n",
      "24775                                0                           0   \n",
      "\n",
      "       Loan Purpose_Home Improvement  Loan Purpose_House  \\\n",
      "0                                  0                   0   \n",
      "1                                  0                   0   \n",
      "2                                  0                   0   \n",
      "3                                  0                   0   \n",
      "4                                  0                   0   \n",
      "5                                  0                   0   \n",
      "6                                  0                   0   \n",
      "7                                  0                   0   \n",
      "8                                  0                   0   \n",
      "9                                  0                   0   \n",
      "10                                 1                   0   \n",
      "11                                 0                   0   \n",
      "12                                 0                   0   \n",
      "13                                 0                   0   \n",
      "14                                 0                   0   \n",
      "15                                 0                   0   \n",
      "16                                 0                   0   \n",
      "17                                 0                   0   \n",
      "18                                 0                   0   \n",
      "19                                 0                   0   \n",
      "20                                 0                   0   \n",
      "21                                 0                   0   \n",
      "22                                 0                   0   \n",
      "23                                 0                   0   \n",
      "24                                 0                   0   \n",
      "25                                 0                   0   \n",
      "26                                 0                   0   \n",
      "27                                 0                   0   \n",
      "28                                 0                   0   \n",
      "29                                 0                   0   \n",
      "...                              ...                 ...   \n",
      "24746                              0                   0   \n",
      "24747                              0                   0   \n",
      "24748                              0                   0   \n",
      "24749                              0                   0   \n",
      "24750                              0                   0   \n",
      "24751                              0                   0   \n",
      "24752                              0                   0   \n",
      "24753                              0                   0   \n",
      "24754                              0                   0   \n",
      "24755                              0                   0   \n",
      "24756                              0                   0   \n",
      "24757                              0                   0   \n",
      "24758                              0                   0   \n",
      "24759                              0                   0   \n",
      "24760                              0                   0   \n",
      "24761                              0                   0   \n",
      "24762                              0                   0   \n",
      "24763                              0                   0   \n",
      "24764                              0                   0   \n",
      "24765                              0                   0   \n",
      "24766                              0                   0   \n",
      "24767                              0                   0   \n",
      "24768                              0                   1   \n",
      "24769                              0                   0   \n",
      "24770                              0                   0   \n",
      "24771                              0                   0   \n",
      "24772                              0                   0   \n",
      "24773                              1                   0   \n",
      "24774                              0                   0   \n",
      "24775                              0                   1   \n",
      "\n",
      "       Loan Purpose_Major Purchase  Loan Purpose_Medical  Loan Purpose_Moving  \\\n",
      "0                                0                     0                    0   \n",
      "1                                0                     0                    0   \n",
      "2                                0                     0                    0   \n",
      "3                                0                     0                    0   \n",
      "4                                0                     0                    0   \n",
      "5                                0                     0                    0   \n",
      "6                                0                     0                    0   \n",
      "7                                0                     0                    0   \n",
      "8                                0                     0                    0   \n",
      "9                                0                     0                    0   \n",
      "10                               0                     0                    0   \n",
      "11                               0                     0                    0   \n",
      "12                               0                     0                    0   \n",
      "13                               0                     0                    0   \n",
      "14                               0                     0                    0   \n",
      "15                               0                     0                    0   \n",
      "16                               0                     0                    0   \n",
      "17                               0                     0                    0   \n",
      "18                               1                     0                    0   \n",
      "19                               0                     0                    1   \n",
      "20                               0                     0                    0   \n",
      "21                               0                     0                    0   \n",
      "22                               1                     0                    0   \n",
      "23                               0                     0                    0   \n",
      "24                               0                     0                    0   \n",
      "25                               0                     0                    0   \n",
      "26                               0                     0                    0   \n",
      "27                               0                     0                    0   \n",
      "28                               0                     0                    0   \n",
      "29                               0                     0                    0   \n",
      "...                            ...                   ...                  ...   \n",
      "24746                            0                     0                    0   \n",
      "24747                            0                     0                    0   \n",
      "24748                            0                     0                    0   \n",
      "24749                            0                     0                    0   \n",
      "24750                            0                     0                    0   \n",
      "24751                            0                     0                    0   \n",
      "24752                            0                     0                    0   \n",
      "24753                            0                     0                    0   \n",
      "24754                            0                     0                    0   \n",
      "24755                            0                     0                    0   \n",
      "24756                            0                     0                    0   \n",
      "24757                            0                     0                    0   \n",
      "24758                            0                     0                    0   \n",
      "24759                            0                     0                    0   \n",
      "24760                            0                     0                    0   \n",
      "24761                            0                     0                    0   \n",
      "24762                            0                     0                    0   \n",
      "24763                            0                     0                    0   \n",
      "24764                            0                     0                    0   \n",
      "24765                            0                     0                    0   \n",
      "24766                            1                     0                    0   \n",
      "24767                            0                     0                    0   \n",
      "24768                            0                     0                    0   \n",
      "24769                            0                     0                    0   \n",
      "24770                            0                     0                    0   \n",
      "24771                            0                     0                    0   \n",
      "24772                            0                     0                    0   \n",
      "24773                            0                     0                    0   \n",
      "24774                            0                     0                    0   \n",
      "24775                            0                     0                    0   \n",
      "\n",
      "       Loan Purpose_Other  Loan Purpose_Renewable Energy  \\\n",
      "0                       0                              0   \n",
      "1                       0                              0   \n",
      "2                       0                              0   \n",
      "3                       0                              0   \n",
      "4                       0                              0   \n",
      "5                       0                              0   \n",
      "6                       0                              0   \n",
      "7                       0                              0   \n",
      "8                       0                              0   \n",
      "9                       0                              0   \n",
      "10                      0                              0   \n",
      "11                      0                              0   \n",
      "12                      0                              0   \n",
      "13                      0                              0   \n",
      "14                      0                              0   \n",
      "15                      0                              0   \n",
      "16                      0                              0   \n",
      "17                      0                              0   \n",
      "18                      0                              0   \n",
      "19                      0                              0   \n",
      "20                      0                              0   \n",
      "21                      0                              0   \n",
      "22                      0                              0   \n",
      "23                      1                              0   \n",
      "24                      1                              0   \n",
      "25                      0                              0   \n",
      "26                      0                              0   \n",
      "27                      0                              0   \n",
      "28                      1                              0   \n",
      "29                      1                              0   \n",
      "...                   ...                            ...   \n",
      "24746                   1                              0   \n",
      "24747                   0                              0   \n",
      "24748                   0                              0   \n",
      "24749                   0                              0   \n",
      "24750                   0                              0   \n",
      "24751                   0                              0   \n",
      "24752                   0                              0   \n",
      "24753                   1                              0   \n",
      "24754                   0                              0   \n",
      "24755                   0                              0   \n",
      "24756                   1                              0   \n",
      "24757                   0                              0   \n",
      "24758                   0                              0   \n",
      "24759                   1                              0   \n",
      "24760                   0                              0   \n",
      "24761                   0                              0   \n",
      "24762                   0                              0   \n",
      "24763                   1                              0   \n",
      "24764                   0                              0   \n",
      "24765                   0                              0   \n",
      "24766                   0                              0   \n",
      "24767                   1                              0   \n",
      "24768                   0                              0   \n",
      "24769                   0                              0   \n",
      "24770                   0                              0   \n",
      "24771                   0                              0   \n",
      "24772                   0                              0   \n",
      "24773                   0                              0   \n",
      "24774                   0                              0   \n",
      "24775                   0                              0   \n",
      "\n",
      "       Loan Purpose_Small Business  Loan Purpose_Vacation  \\\n",
      "0                                0                      0   \n",
      "1                                0                      0   \n",
      "2                                0                      0   \n",
      "3                                0                      0   \n",
      "4                                0                      0   \n",
      "5                                0                      0   \n",
      "6                                0                      0   \n",
      "7                                0                      0   \n",
      "8                                0                      0   \n",
      "9                                0                      0   \n",
      "10                               0                      0   \n",
      "11                               0                      0   \n",
      "12                               0                      0   \n",
      "13                               0                      0   \n",
      "14                               0                      0   \n",
      "15                               0                      0   \n",
      "16                               1                      0   \n",
      "17                               0                      0   \n",
      "18                               0                      0   \n",
      "19                               0                      0   \n",
      "20                               0                      0   \n",
      "21                               0                      0   \n",
      "22                               0                      0   \n",
      "23                               0                      0   \n",
      "24                               0                      0   \n",
      "25                               0                      0   \n",
      "26                               0                      0   \n",
      "27                               0                      0   \n",
      "28                               0                      0   \n",
      "29                               0                      0   \n",
      "...                            ...                    ...   \n",
      "24746                            0                      0   \n",
      "24747                            1                      0   \n",
      "24748                            0                      0   \n",
      "24749                            0                      0   \n",
      "24750                            0                      0   \n",
      "24751                            0                      0   \n",
      "24752                            0                      0   \n",
      "24753                            0                      0   \n",
      "24754                            0                      0   \n",
      "24755                            0                      0   \n",
      "24756                            0                      0   \n",
      "24757                            1                      0   \n",
      "24758                            0                      0   \n",
      "24759                            0                      0   \n",
      "24760                            0                      0   \n",
      "24761                            1                      0   \n",
      "24762                            0                      0   \n",
      "24763                            0                      0   \n",
      "24764                            0                      0   \n",
      "24765                            0                      0   \n",
      "24766                            0                      0   \n",
      "24767                            0                      0   \n",
      "24768                            0                      0   \n",
      "24769                            0                      0   \n",
      "24770                            0                      0   \n",
      "24771                            0                      0   \n",
      "24772                            1                      0   \n",
      "24773                            0                      0   \n",
      "24774                            0                      0   \n",
      "24775                            0                      0   \n",
      "\n",
      "       Loan Purpose_Wedding  FICO Credit Score_Exceptional  \\\n",
      "0                         0                              0   \n",
      "1                         0                              0   \n",
      "2                         0                              0   \n",
      "3                         0                              0   \n",
      "4                         0                              0   \n",
      "5                         0                              0   \n",
      "6                         0                              0   \n",
      "7                         0                              0   \n",
      "8                         0                              0   \n",
      "9                         0                              0   \n",
      "10                        0                              0   \n",
      "11                        0                              0   \n",
      "12                        0                              0   \n",
      "13                        0                              0   \n",
      "14                        0                              0   \n",
      "15                        0                              1   \n",
      "16                        0                              1   \n",
      "17                        0                              0   \n",
      "18                        0                              0   \n",
      "19                        0                              0   \n",
      "20                        0                              1   \n",
      "21                        0                              0   \n",
      "22                        0                              0   \n",
      "23                        0                              1   \n",
      "24                        0                              1   \n",
      "25                        0                              0   \n",
      "26                        0                              1   \n",
      "27                        0                              0   \n",
      "28                        0                              0   \n",
      "29                        0                              1   \n",
      "...                     ...                            ...   \n",
      "24746                     0                              1   \n",
      "24747                     0                              0   \n",
      "24748                     0                              0   \n",
      "24749                     1                              1   \n",
      "24750                     1                              0   \n",
      "24751                     1                              0   \n",
      "24752                     0                              0   \n",
      "24753                     0                              1   \n",
      "24754                     0                              0   \n",
      "24755                     0                              0   \n",
      "24756                     0                              0   \n",
      "24757                     0                              0   \n",
      "24758                     0                              1   \n",
      "24759                     0                              0   \n",
      "24760                     0                              0   \n",
      "24761                     0                              0   \n",
      "24762                     0                              0   \n",
      "24763                     0                              0   \n",
      "24764                     0                              0   \n",
      "24765                     0                              0   \n",
      "24766                     0                              0   \n",
      "24767                     0                              0   \n",
      "24768                     0                              1   \n",
      "24769                     1                              0   \n",
      "24770                     0                              0   \n",
      "24771                     0                              0   \n",
      "24772                     0                              0   \n",
      "24773                     0                              0   \n",
      "24774                     0                              0   \n",
      "24775                     0                              1   \n",
      "\n",
      "       FICO Credit Score_Good  FICO Credit Score_Very Good  \\\n",
      "0                           0                            1   \n",
      "1                           0                            1   \n",
      "2                           0                            1   \n",
      "3                           0                            1   \n",
      "4                           0                            1   \n",
      "5                           1                            0   \n",
      "6                           0                            1   \n",
      "7                           1                            0   \n",
      "8                           0                            1   \n",
      "9                           0                            1   \n",
      "10                          0                            1   \n",
      "11                          0                            1   \n",
      "12                          0                            1   \n",
      "13                          0                            1   \n",
      "14                          1                            0   \n",
      "15                          0                            0   \n",
      "16                          0                            0   \n",
      "17                          0                            1   \n",
      "18                          0                            1   \n",
      "19                          1                            0   \n",
      "20                          0                            0   \n",
      "21                          0                            1   \n",
      "22                          1                            0   \n",
      "23                          0                            0   \n",
      "24                          0                            0   \n",
      "25                          1                            0   \n",
      "26                          0                            0   \n",
      "27                          1                            0   \n",
      "28                          0                            1   \n",
      "29                          0                            0   \n",
      "...                       ...                          ...   \n",
      "24746                       0                            0   \n",
      "24747                       0                            1   \n",
      "24748                       1                            0   \n",
      "24749                       0                            0   \n",
      "24750                       0                            1   \n",
      "24751                       0                            1   \n",
      "24752                       0                            1   \n",
      "24753                       0                            0   \n",
      "24754                       0                            1   \n",
      "24755                       0                            1   \n",
      "24756                       0                            1   \n",
      "24757                       0                            1   \n",
      "24758                       0                            0   \n",
      "24759                       0                            1   \n",
      "24760                       1                            0   \n",
      "24761                       1                            0   \n",
      "24762                       0                            1   \n",
      "24763                       0                            1   \n",
      "24764                       0                            1   \n",
      "24765                       0                            1   \n",
      "24766                       0                            1   \n",
      "24767                       0                            1   \n",
      "24768                       0                            0   \n",
      "24769                       1                            0   \n",
      "24770                       0                            1   \n",
      "24771                       0                            1   \n",
      "24772                       1                            0   \n",
      "24773                       0                            1   \n",
      "24774                       1                            0   \n",
      "24775                       0                            0   \n",
      "\n",
      "       Address State_East_Coast  Address State_Middle  Address State_North  \\\n",
      "0                             0                     0                    0   \n",
      "1                             1                     0                    0   \n",
      "2                             0                     0                    0   \n",
      "3                             1                     0                    0   \n",
      "4                             0                     0                    0   \n",
      "5                             0                     0                    0   \n",
      "6                             0                     0                    0   \n",
      "7                             1                     0                    0   \n",
      "8                             1                     0                    0   \n",
      "9                             0                     0                    1   \n",
      "10                            0                     0                    0   \n",
      "11                            0                     1                    0   \n",
      "12                            0                     0                    0   \n",
      "13                            0                     0                    0   \n",
      "14                            0                     1                    0   \n",
      "15                            0                     0                    1   \n",
      "16                            0                     0                    0   \n",
      "17                            0                     0                    0   \n",
      "18                            0                     0                    0   \n",
      "19                            1                     0                    0   \n",
      "20                            1                     0                    0   \n",
      "21                            0                     0                    1   \n",
      "22                            0                     1                    0   \n",
      "23                            0                     1                    0   \n",
      "24                            0                     0                    1   \n",
      "25                            0                     0                    0   \n",
      "26                            1                     0                    0   \n",
      "27                            0                     1                    0   \n",
      "28                            1                     0                    0   \n",
      "29                            1                     0                    0   \n",
      "...                         ...                   ...                  ...   \n",
      "24746                         0                     0                    0   \n",
      "24747                         0                     0                    0   \n",
      "24748                         1                     0                    0   \n",
      "24749                         0                     1                    0   \n",
      "24750                         1                     0                    0   \n",
      "24751                         1                     0                    0   \n",
      "24752                         0                     0                    0   \n",
      "24753                         1                     0                    0   \n",
      "24754                         1                     0                    0   \n",
      "24755                         1                     0                    0   \n",
      "24756                         0                     0                    0   \n",
      "24757                         0                     0                    0   \n",
      "24758                         1                     0                    0   \n",
      "24759                         1                     0                    0   \n",
      "24760                         0                     0                    0   \n",
      "24761                         0                     0                    0   \n",
      "24762                         1                     0                    0   \n",
      "24763                         0                     0                    0   \n",
      "24764                         0                     0                    0   \n",
      "24765                         0                     0                    0   \n",
      "24766                         0                     1                    0   \n",
      "24767                         1                     0                    0   \n",
      "24768                         0                     1                    0   \n",
      "24769                         0                     0                    0   \n",
      "24770                         0                     0                    0   \n",
      "24771                         0                     0                    1   \n",
      "24772                         0                     1                    0   \n",
      "24773                         0                     1                    0   \n",
      "24774                         0                     0                    0   \n",
      "24775                         1                     0                    0   \n",
      "\n",
      "       Address State_South  Address State_West_Coast  \n",
      "0                        0                         1  \n",
      "1                        0                         0  \n",
      "2                        1                         0  \n",
      "3                        0                         0  \n",
      "4                        0                         1  \n",
      "5                        1                         0  \n",
      "6                        1                         0  \n",
      "7                        0                         0  \n",
      "8                        0                         0  \n",
      "9                        0                         0  \n",
      "10                       0                         1  \n",
      "11                       0                         0  \n",
      "12                       1                         0  \n",
      "13                       0                         1  \n",
      "14                       0                         0  \n",
      "15                       0                         0  \n",
      "16                       1                         0  \n",
      "17                       0                         1  \n",
      "18                       1                         0  \n",
      "19                       0                         0  \n",
      "20                       0                         0  \n",
      "21                       0                         0  \n",
      "22                       0                         0  \n",
      "23                       0                         0  \n",
      "24                       0                         0  \n",
      "25                       0                         1  \n",
      "26                       0                         0  \n",
      "27                       0                         0  \n",
      "28                       0                         0  \n",
      "29                       0                         0  \n",
      "...                    ...                       ...  \n",
      "24746                    1                         0  \n",
      "24747                    1                         0  \n",
      "24748                    0                         0  \n",
      "24749                    0                         0  \n",
      "24750                    0                         0  \n",
      "24751                    0                         0  \n",
      "24752                    1                         0  \n",
      "24753                    0                         0  \n",
      "24754                    0                         0  \n",
      "24755                    0                         0  \n",
      "24756                    1                         0  \n",
      "24757                    0                         1  \n",
      "24758                    0                         0  \n",
      "24759                    0                         0  \n",
      "24760                    0                         1  \n",
      "24761                    1                         0  \n",
      "24762                    0                         0  \n",
      "24763                    0                         1  \n",
      "24764                    0                         1  \n",
      "24765                    0                         1  \n",
      "24766                    0                         0  \n",
      "24767                    0                         0  \n",
      "24768                    0                         0  \n",
      "24769                    1                         0  \n",
      "24770                    0                         1  \n",
      "24771                    0                         0  \n",
      "24772                    0                         0  \n",
      "24773                    0                         0  \n",
      "24774                    0                         1  \n",
      "24775                    0                         0  \n",
      "\n",
      "[24776 rows x 43 columns]\n"
     ]
    }
   ],
   "source": [
    "correlation(X, 0.6)"
   ]
  },
  {
   "cell_type": "markdown",
   "metadata": {},
   "source": [
    "# Addressing sparsity of data"
   ]
  },
  {
   "cell_type": "markdown",
   "metadata": {},
   "source": [
    "#there may be some columns with more than one unique values but one of the values has #insignificant frequency in the dataset. Let’s find out and drop such column(s):\n",
    "\n",
    "for col in loans_2007.columns:\n",
    "    if (len(loans_2007[col].unique()) < 4):\n",
    "        print(loans_2007[col].value_counts())\n",
    "        print()\n"
   ]
  },
  {
   "cell_type": "code",
   "execution_count": 91,
   "metadata": {
    "collapsed": true
   },
   "outputs": [],
   "source": [
    "# drop those columns with less than 4 values"
   ]
  },
  {
   "cell_type": "code",
   "execution_count": 92,
   "metadata": {
    "collapsed": true,
    "deletable": true,
    "editable": true
   },
   "outputs": [],
   "source": [
    "X_new = X.fillna(X.median())"
   ]
  },
  {
   "cell_type": "code",
   "execution_count": 93,
   "metadata": {
    "collapsed": false,
    "deletable": true,
    "editable": true
   },
   "outputs": [
    {
     "name": "stdout",
     "output_type": "stream",
     "text": [
      "<class 'pandas.core.frame.DataFrame'>\n",
      "RangeIndex: 24776 entries, 0 to 24775\n",
      "Data columns (total 43 columns):\n",
      "Loan Amount                          24776 non-null int64\n",
      "Employment Length                    24776 non-null float64\n",
      "Annual Income                        24776 non-null float64\n",
      "Debt To Income Ratio                 24776 non-null float64\n",
      "No. Delinquencies In Last 2 Years    24776 non-null float64\n",
      "Earliest Credit Line Opened          24776 non-null float64\n",
      "No. Inquiries In Last 6 Months       24776 non-null float64\n",
      "Months Since Last Delinquency        24776 non-null int64\n",
      "No. Of Credit Lines                  24776 non-null float64\n",
      "No. Adverse Public Records           24776 non-null float64\n",
      "Total Credit Balance                 24776 non-null float64\n",
      "Use Of Credit Line                   24776 non-null float64\n",
      "Loan Application Description         24776 non-null int64\n",
      "Loan Term_36 Months                  24776 non-null uint8\n",
      "Loan Term_60 Months                  24776 non-null uint8\n",
      "Home Ownership_MORTGAGE              24776 non-null uint8\n",
      "Home Ownership_NOne                  24776 non-null uint8\n",
      "Home Ownership_OTHER                 24776 non-null uint8\n",
      "Home Ownership_OWN                   24776 non-null uint8\n",
      "Home Ownership_RENT                  24776 non-null uint8\n",
      "Loan Purpose_0                       24776 non-null uint8\n",
      "Loan Purpose_Car                     24776 non-null uint8\n",
      "Loan Purpose_Credit Card             24776 non-null uint8\n",
      "Loan Purpose_Debt Consolidation      24776 non-null uint8\n",
      "Loan Purpose_Educationalal           24776 non-null uint8\n",
      "Loan Purpose_Home Improvement        24776 non-null uint8\n",
      "Loan Purpose_House                   24776 non-null uint8\n",
      "Loan Purpose_Major Purchase          24776 non-null uint8\n",
      "Loan Purpose_Medical                 24776 non-null uint8\n",
      "Loan Purpose_Moving                  24776 non-null uint8\n",
      "Loan Purpose_Other                   24776 non-null uint8\n",
      "Loan Purpose_Renewable Energy        24776 non-null uint8\n",
      "Loan Purpose_Small Business          24776 non-null uint8\n",
      "Loan Purpose_Vacation                24776 non-null uint8\n",
      "Loan Purpose_Wedding                 24776 non-null uint8\n",
      "FICO Credit Score_Exceptional        24776 non-null uint8\n",
      "FICO Credit Score_Good               24776 non-null uint8\n",
      "FICO Credit Score_Very Good          24776 non-null uint8\n",
      "Address State_East_Coast             24776 non-null uint8\n",
      "Address State_Middle                 24776 non-null uint8\n",
      "Address State_North                  24776 non-null uint8\n",
      "Address State_South                  24776 non-null uint8\n",
      "Address State_West_Coast             24776 non-null uint8\n",
      "dtypes: float64(10), int64(3), uint8(30)\n",
      "memory usage: 3.2 MB\n"
     ]
    }
   ],
   "source": [
    "X_new.info()"
   ]
  },
  {
   "cell_type": "code",
   "execution_count": 94,
   "metadata": {
    "collapsed": false,
    "deletable": true,
    "editable": true
   },
   "outputs": [],
   "source": [
    "# train test split\n",
    "# stratify target y as it may not be normally distributed\n",
    "\n",
    "from sklearn.model_selection import train_test_split\n",
    "\n",
    "X_train, X_test, y_train, y_test = train_test_split(X_new, y, test_size=0.3, random_state=42,\\\n",
    "                                                    stratify=y)"
   ]
  },
  {
   "cell_type": "markdown",
   "metadata": {
    "deletable": true,
    "editable": true
   },
   "source": [
    "# Build model"
   ]
  },
  {
   "cell_type": "code",
   "execution_count": 97,
   "metadata": {
    "collapsed": false,
    "deletable": true,
    "editable": true
   },
   "outputs": [],
   "source": [
    "# Build logistic regression model\n",
    "\n",
    "from sklearn import linear_model\n",
    "from sklearn.metrics import roc_auc_score\n",
    "\n",
    "regr = linear_model.LogisticRegression(random_state=42, class_weight={0:0.1817, 1:0.8183})\n",
    "regr.fit(X_train, y_train)\n",
    "\n",
    "y_pred_regr = regr.predict(X_test)"
   ]
  },
  {
   "cell_type": "code",
   "execution_count": 98,
   "metadata": {
    "collapsed": false,
    "deletable": true,
    "editable": true
   },
   "outputs": [
    {
     "name": "stdout",
     "output_type": "stream",
     "text": [
      "The AUC score for a simple Logistic Regression model is 0.6488.\n"
     ]
    }
   ],
   "source": [
    "# Assess benchmark model performance using area under the curve (AUC)\n",
    "\n",
    "from sklearn.metrics import roc_auc_score\n",
    "\n",
    "AUC = roc_auc_score(y_test, y_pred_regr)\n",
    "print(\"The AUC score for a simple Logistic Regression model is {:.4f}.\".format(AUC))"
   ]
  },
  {
   "cell_type": "markdown",
   "metadata": {
    "deletable": true,
    "editable": true
   },
   "source": [
    "# Optimise model"
   ]
  },
  {
   "cell_type": "code",
   "execution_count": 99,
   "metadata": {
    "collapsed": false,
    "deletable": true,
    "editable": true
   },
   "outputs": [
    {
     "name": "stdout",
     "output_type": "stream",
     "text": [
      "The AUC score for the optimized logistic regression model is 0.6529.\n"
     ]
    }
   ],
   "source": [
    "# Tuning hyperparameters - logistic regression\n",
    "\n",
    "from sklearn.model_selection import GridSearchCV\n",
    "\n",
    "\n",
    "param_grid = {'C': [0.1,0.2,0.3,0.4,0.5,0.6], 'penalty': ['l1','l2']}\n",
    "             \n",
    "gsregr = GridSearchCV(regr, param_grid, cv=11)\n",
    "    \n",
    "gsregr.fit(X_train, y_train)\n",
    "\n",
    "gsregr_pred = gsregr.predict(X_test) \n",
    "\n",
    "AUC = roc_auc_score(y_test, gsregr_pred)\n",
    "print(\"The AUC score for the optimized logistic regression model is {:.4f}.\".format(AUC))"
   ]
  },
  {
   "cell_type": "code",
   "execution_count": 100,
   "metadata": {
    "collapsed": false,
    "deletable": true,
    "editable": true
   },
   "outputs": [
    {
     "name": "stdout",
     "output_type": "stream",
     "text": [
      "{'penalty': 'l1', 'C': 0.4}\n"
     ]
    }
   ],
   "source": [
    "print(gsregr.best_params_)"
   ]
  },
  {
   "cell_type": "code",
   "execution_count": 101,
   "metadata": {
    "collapsed": false
   },
   "outputs": [
    {
     "name": "stdout",
     "output_type": "stream",
     "text": [
      "Best C: LogisticRegression(C=0.4, class_weight={0: 0.1817, 1: 0.8183}, dual=False,\n",
      "          fit_intercept=True, intercept_scaling=1, max_iter=100,\n",
      "          multi_class='ovr', n_jobs=1, penalty='l1', random_state=42,\n",
      "          solver='liblinear', tol=0.0001, verbose=0, warm_start=False)\n"
     ]
    }
   ],
   "source": [
    "# View the best parameters for the model found using grid search\n",
    "\n",
    "print('Best C:',gsregr.best_estimator_) \n"
   ]
  },
  {
   "cell_type": "code",
   "execution_count": null,
   "metadata": {
    "collapsed": true
   },
   "outputs": [],
   "source": []
  },
  {
   "cell_type": "code",
   "execution_count": null,
   "metadata": {
    "collapsed": true
   },
   "outputs": [],
   "source": []
  },
  {
   "cell_type": "code",
   "execution_count": null,
   "metadata": {
    "collapsed": true,
    "deletable": true,
    "editable": true
   },
   "outputs": [],
   "source": []
  },
  {
   "cell_type": "code",
   "execution_count": null,
   "metadata": {
    "collapsed": true,
    "deletable": true,
    "editable": true
   },
   "outputs": [],
   "source": []
  },
  {
   "cell_type": "code",
   "execution_count": null,
   "metadata": {
    "collapsed": true,
    "deletable": true,
    "editable": true
   },
   "outputs": [],
   "source": []
  },
  {
   "cell_type": "code",
   "execution_count": null,
   "metadata": {
    "collapsed": true,
    "deletable": true,
    "editable": true
   },
   "outputs": [],
   "source": []
  },
  {
   "cell_type": "code",
   "execution_count": null,
   "metadata": {
    "collapsed": true,
    "deletable": true,
    "editable": true
   },
   "outputs": [],
   "source": []
  },
  {
   "cell_type": "code",
   "execution_count": null,
   "metadata": {
    "collapsed": true,
    "deletable": true,
    "editable": true
   },
   "outputs": [],
   "source": []
  },
  {
   "cell_type": "markdown",
   "metadata": {
    "deletable": true,
    "editable": true
   },
   "source": [
    "# ROC curve"
   ]
  },
  {
   "cell_type": "code",
   "execution_count": 102,
   "metadata": {
    "collapsed": false,
    "deletable": true,
    "editable": true
   },
   "outputs": [],
   "source": [
    "from sklearn.metrics import roc_curve\n",
    "\n",
    "probs = gsregr.predict_proba(X_test)\n",
    "preds = probs[:,1]\n",
    "fpr, tpr, threshold = roc_curve(y_test, preds)\n",
    "AUC = roc_auc_score(y_test, y_pred_regr)"
   ]
  },
  {
   "cell_type": "code",
   "execution_count": 103,
   "metadata": {
    "collapsed": false,
    "deletable": true,
    "editable": true
   },
   "outputs": [
    {
     "ename": "AttributeError",
     "evalue": "'numpy.ndarray' object has no attribute 'iloc'",
     "output_type": "error",
     "traceback": [
      "\u001b[0;31m---------------------------------------------------------------------------\u001b[0m",
      "\u001b[0;31mAttributeError\u001b[0m                            Traceback (most recent call last)",
      "\u001b[0;32m<ipython-input-103-81000be67506>\u001b[0m in \u001b[0;36m<module>\u001b[0;34m()\u001b[0m\n\u001b[1;32m      1\u001b[0m \u001b[1;33m\u001b[0m\u001b[0m\n\u001b[0;32m----> 2\u001b[0;31m \u001b[0mpreds2\u001b[0m \u001b[1;33m=\u001b[0m \u001b[0mprobs\u001b[0m\u001b[1;33m.\u001b[0m\u001b[0miloc\u001b[0m\u001b[1;33m[\u001b[0m\u001b[1;33m:\u001b[0m\u001b[1;33m,\u001b[0m\u001b[1;36m1\u001b[0m\u001b[1;33m]\u001b[0m\u001b[1;33m\u001b[0m\u001b[0m\n\u001b[0m\u001b[1;32m      3\u001b[0m \u001b[0mfpr2\u001b[0m\u001b[1;33m,\u001b[0m \u001b[0mtpr2\u001b[0m\u001b[1;33m,\u001b[0m \u001b[0mthreshold2\u001b[0m \u001b[1;33m=\u001b[0m \u001b[0mroc_curve\u001b[0m\u001b[1;33m(\u001b[0m\u001b[0my_test\u001b[0m\u001b[1;33m,\u001b[0m \u001b[0mpreds2\u001b[0m\u001b[1;33m)\u001b[0m\u001b[1;33m\u001b[0m\u001b[0m\n",
      "\u001b[0;31mAttributeError\u001b[0m: 'numpy.ndarray' object has no attribute 'iloc'"
     ]
    }
   ],
   "source": [
    "\n",
    "preds2 = probs.iloc[:,1]\n",
    "fpr2, tpr2, threshold2 = roc_curve(y_test, preds2)"
   ]
  },
  {
   "cell_type": "code",
   "execution_count": 104,
   "metadata": {
    "collapsed": false,
    "deletable": true,
    "editable": true
   },
   "outputs": [
    {
     "ename": "NameError",
     "evalue": "name 'fpr2' is not defined",
     "output_type": "error",
     "traceback": [
      "\u001b[0;31m---------------------------------------------------------------------------\u001b[0m",
      "\u001b[0;31mNameError\u001b[0m                                 Traceback (most recent call last)",
      "\u001b[0;32m<ipython-input-104-cd316efc04ad>\u001b[0m in \u001b[0;36m<module>\u001b[0;34m()\u001b[0m\n\u001b[1;32m      6\u001b[0m \u001b[0mplt\u001b[0m\u001b[1;33m.\u001b[0m\u001b[0mplot\u001b[0m\u001b[1;33m(\u001b[0m\u001b[1;33m[\u001b[0m\u001b[1;36m0\u001b[0m\u001b[1;33m,\u001b[0m \u001b[1;36m1\u001b[0m\u001b[1;33m]\u001b[0m\u001b[1;33m,\u001b[0m \u001b[1;33m[\u001b[0m\u001b[1;36m0\u001b[0m\u001b[1;33m,\u001b[0m \u001b[1;36m1\u001b[0m\u001b[1;33m]\u001b[0m\u001b[1;33m,\u001b[0m\u001b[1;34m'm--'\u001b[0m\u001b[1;33m,\u001b[0m \u001b[0mlabel\u001b[0m\u001b[1;33m=\u001b[0m\u001b[1;34m'Random'\u001b[0m\u001b[1;33m)\u001b[0m\u001b[1;33m\u001b[0m\u001b[0m\n\u001b[1;32m      7\u001b[0m \u001b[0mplt\u001b[0m\u001b[1;33m.\u001b[0m\u001b[0mlegend\u001b[0m\u001b[1;33m(\u001b[0m\u001b[0mloc\u001b[0m \u001b[1;33m=\u001b[0m \u001b[1;34m'lower right'\u001b[0m\u001b[1;33m)\u001b[0m\u001b[1;33m\u001b[0m\u001b[0m\n\u001b[0;32m----> 8\u001b[0;31m \u001b[0mplt\u001b[0m\u001b[1;33m.\u001b[0m\u001b[0mplot\u001b[0m\u001b[1;33m(\u001b[0m\u001b[0mfpr2\u001b[0m\u001b[1;33m,\u001b[0m \u001b[0mtpr2\u001b[0m\u001b[1;33m,\u001b[0m \u001b[1;34m'navy'\u001b[0m\u001b[1;33m,\u001b[0m \u001b[0mlabel\u001b[0m\u001b[1;33m=\u001b[0m\u001b[1;34m'AUC (final model) = 0.9871'\u001b[0m\u001b[1;33m)\u001b[0m\u001b[1;33m\u001b[0m\u001b[0m\n\u001b[0m\u001b[1;32m      9\u001b[0m \u001b[0mplt\u001b[0m\u001b[1;33m.\u001b[0m\u001b[0mlegend\u001b[0m\u001b[1;33m(\u001b[0m\u001b[0mloc\u001b[0m \u001b[1;33m=\u001b[0m \u001b[1;34m'lower right'\u001b[0m\u001b[1;33m)\u001b[0m\u001b[1;33m\u001b[0m\u001b[0m\n\u001b[1;32m     10\u001b[0m \u001b[0mplt\u001b[0m\u001b[1;33m.\u001b[0m\u001b[0mxlim\u001b[0m\u001b[1;33m(\u001b[0m\u001b[1;33m[\u001b[0m\u001b[1;36m0\u001b[0m\u001b[1;33m,\u001b[0m \u001b[1;36m1\u001b[0m\u001b[1;33m]\u001b[0m\u001b[1;33m)\u001b[0m\u001b[1;33m\u001b[0m\u001b[0m\n",
      "\u001b[0;31mNameError\u001b[0m: name 'fpr2' is not defined"
     ]
    },
    {
     "data": {
      "image/png": "[encoded data removed]",
      "text/plain": [
       "<matplotlib.figure.Figure at 0xcca9e10>"
      ]
     },
     "metadata": {},
     "output_type": "display_data"
    }
   ],
   "source": [
    "sns.set_style(\"white\")\n",
    "\n",
    "plt.title('Receiver Operating Characteristic')\n",
    "plt.plot(fpr, tpr, 'seagreen', label='AUC (benchmark model) = %0.4f' % AUC)\n",
    "plt.legend(loc = 'lower right')\n",
    "plt.plot([0, 1], [0, 1],'m--', label='Random')\n",
    "plt.legend(loc = 'lower right')\n",
    "plt.plot(fpr2, tpr2, 'navy', label='AUC (final model) = 0.9871')\n",
    "plt.legend(loc = 'lower right')\n",
    "plt.xlim([0, 1])\n",
    "plt.ylim([0, 1])\n",
    "plt.ylabel('True Positive Rate')\n",
    "plt.xlabel('False Positive Rate')\n",
    "plt.show()"
   ]
  },
  {
   "cell_type": "code",
   "execution_count": null,
   "metadata": {
    "collapsed": true,
    "deletable": true,
    "editable": true
   },
   "outputs": [],
   "source": []
  },
  {
   "cell_type": "code",
   "execution_count": null,
   "metadata": {
    "collapsed": true,
    "deletable": true,
    "editable": true
   },
   "outputs": [],
   "source": []
  },
  {
   "cell_type": "markdown",
   "metadata": {
    "deletable": true,
    "editable": true
   },
   "source": [
    "# Confusion matrix"
   ]
  },
  {
   "cell_type": "code",
   "execution_count": 105,
   "metadata": {
    "collapsed": false,
    "deletable": true,
    "editable": true
   },
   "outputs": [
    {
     "data": {
      "text/plain": [
       "<matplotlib.axes._subplots.AxesSubplot at 0xccc3a90>"
      ]
     },
     "execution_count": 105,
     "metadata": {},
     "output_type": "execute_result"
    },
    {
     "data": {
      "image/png": "[encoded data removed]",
      "text/plain": [
       "<matplotlib.figure.Figure at 0xccc70b8>"
      ]
     },
     "metadata": {},
     "output_type": "display_data"
    }
   ],
   "source": [
    "from sklearn.metrics import confusion_matrix\n",
    "\n",
    "pred_values = gsregr.predict(X_test)\n",
    "\n",
    "cm = confusion_matrix(y_test, pred_values)\n",
    "\n",
    "df_cm = pd.DataFrame(cm, index = ['True (positive)', 'True (negative)'])\n",
    "df_cm.columns = ['Predicted (positive)', 'Predicted (negative)']\n",
    "\n",
    "sns.heatmap(df_cm, annot=True, fmt=\"d\")"
   ]
  },
  {
   "cell_type": "markdown",
   "metadata": {},
   "source": [
    "true positives (TP): These are cases in which we predicted yes (they have the disease), and they do have the disease.\n",
    "•true negatives (TN): We predicted no, and they don't have the disease.\n",
    "•false positives (FP): We predicted yes, but they don't actually have the disease. (Also known as a \"Type I error.\")\n",
    "•false negatives (FN): We predicted no, but they actually do have the disease. (Also known as a \"Type II error.\")\n"
   ]
  },
  {
   "cell_type": "markdown",
   "metadata": {},
   "source": [
    "What can be calculated from a confusion matrix?\n",
    "\n",
    "Accuracy: Overall, how often is the classifier correct? ◦(TP+TN)/total = (100+50)/165 = 0.91\n",
    "\n",
    "•Misclassification Rate: Overall, how often is it wrong? ◦(FP+FN)/total = (10+5)/165 = 0.09\n",
    "◦equivalent to 1 minus Accuracy\n",
    "◦also known as \"Error Rate\"\n",
    "\n",
    "•True Positive Rate: When it's actually yes, how often does it predict yes? ◦TP/actual yes = 100/105 = 0.95\n",
    "◦also known as \"Sensitivity\" or \"Recall\"\n",
    "\n",
    "•False Positive Rate: When it's actually no, how often does it predict yes? ◦FP/actual no = 10/60 = 0.17\n",
    "\n",
    "•Specificity: When it's actually no, how often does it predict no? ◦TN/actual no = 50/60 = 0.83\n",
    "◦equivalent to 1 minus False Positive Rate\n",
    "\n",
    "•Precision: When it predicts yes, how often is it correct? ◦TP/predicted yes = 100/110 = 0.91\n",
    "\n",
    "•Prevalence: How often does the yes condition actually occur in our sample? ◦actual yes/total = 105/165 = 0.64\n",
    "\n"
   ]
  },
  {
   "cell_type": "code",
   "execution_count": null,
   "metadata": {
    "collapsed": true
   },
   "outputs": [],
   "source": []
  }
 ],
 "metadata": {
  "kernelspec": {
   "display_name": "python3.5",
   "language": "python",
   "name": "python3.5"
  },
  "language_info": {
   "codemirror_mode": {
    "name": "ipython",
    "version": 3
   },
   "file_extension": ".py",
   "mimetype": "text/x-python",
   "name": "python",
   "nbconvert_exporter": "python",
   "pygments_lexer": "ipython3",
   "version": "3.5.2"
  }
 },
 "nbformat": 4,
 "nbformat_minor": 2
}
