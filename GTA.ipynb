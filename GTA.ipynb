{
 "cells": [
  {
   "cell_type": "code",
   "execution_count": 302,
   "metadata": {
    "collapsed": true,
    "deletable": true,
    "editable": true
   },
   "outputs": [],
   "source": [
    "#import libraries\n",
    "import pandas as pd\n",
    "import numpy as np\n",
    "import datetime\n",
    "import matplotlib.pyplot as plt\n",
    "%matplotlib inline\n",
    "import seaborn as sns\n",
    "color = sns.color_palette()"
   ]
  },
  {
   "cell_type": "code",
   "execution_count": 303,
   "metadata": {
    "collapsed": false,
    "deletable": true,
    "editable": true
   },
   "outputs": [
    {
     "data": {
      "text/html": [
       "<div>\n",
       "<table border=\"1\" class=\"dataframe\">\n",
       "  <thead>\n",
       "    <tr style=\"text-align: right;\">\n",
       "      <th></th>\n",
       "      <th>Unnamed: 0</th>\n",
       "      <th>BOOKING_ID</th>\n",
       "      <th>CHECKIN_WINDOW</th>\n",
       "      <th>NO_OF_ROOMS</th>\n",
       "      <th>NO_OF_PASSENGERS</th>\n",
       "      <th>GROSS_SALES_EUR</th>\n",
       "      <th>COMMISSION_PERC</th>\n",
       "      <th>CLIENT_SEGMENT</th>\n",
       "      <th>SUPPLIER_CHAIN</th>\n",
       "      <th>STAR_RATING</th>\n",
       "      <th>ROOM_NIGHTS</th>\n",
       "      <th>CLIENT_MASTER_PARENT</th>\n",
       "    </tr>\n",
       "  </thead>\n",
       "  <tbody>\n",
       "    <tr>\n",
       "      <th>13128</th>\n",
       "      <td>13129</td>\n",
       "      <td>13118</td>\n",
       "      <td>4</td>\n",
       "      <td>1</td>\n",
       "      <td>2</td>\n",
       "      <td>461.6653</td>\n",
       "      <td>1.222520</td>\n",
       "      <td>Retail Agent (Offline)</td>\n",
       "      <td>Park Hotel Group</td>\n",
       "      <td>5</td>\n",
       "      <td>3</td>\n",
       "      <td>224</td>\n",
       "    </tr>\n",
       "    <tr>\n",
       "      <th>13129</th>\n",
       "      <td>13130</td>\n",
       "      <td>13119</td>\n",
       "      <td>44</td>\n",
       "      <td>1</td>\n",
       "      <td>2</td>\n",
       "      <td>156.3368</td>\n",
       "      <td>0.740205</td>\n",
       "      <td>Retail Agent (Offline)</td>\n",
       "      <td>Hotel81</td>\n",
       "      <td>4</td>\n",
       "      <td>2</td>\n",
       "      <td>224</td>\n",
       "    </tr>\n",
       "    <tr>\n",
       "      <th>13130</th>\n",
       "      <td>13131</td>\n",
       "      <td>13120</td>\n",
       "      <td>12</td>\n",
       "      <td>1</td>\n",
       "      <td>2</td>\n",
       "      <td>394.3792</td>\n",
       "      <td>0.033178</td>\n",
       "      <td>Retail Agent (Offline)</td>\n",
       "      <td>Hotel81</td>\n",
       "      <td>4</td>\n",
       "      <td>4</td>\n",
       "      <td>224</td>\n",
       "    </tr>\n",
       "    <tr>\n",
       "      <th>13131</th>\n",
       "      <td>13132</td>\n",
       "      <td>13121</td>\n",
       "      <td>89</td>\n",
       "      <td>1</td>\n",
       "      <td>2</td>\n",
       "      <td>196.8101</td>\n",
       "      <td>2.678365</td>\n",
       "      <td>Retail Agent (Offline)</td>\n",
       "      <td>Accor</td>\n",
       "      <td>3</td>\n",
       "      <td>2</td>\n",
       "      <td>224</td>\n",
       "    </tr>\n",
       "    <tr>\n",
       "      <th>13132</th>\n",
       "      <td>13133</td>\n",
       "      <td>13122</td>\n",
       "      <td>13</td>\n",
       "      <td>1</td>\n",
       "      <td>2</td>\n",
       "      <td>376.9326</td>\n",
       "      <td>1.025212</td>\n",
       "      <td>Retail Agent (Offline)</td>\n",
       "      <td>Hotel81</td>\n",
       "      <td>4</td>\n",
       "      <td>4</td>\n",
       "      <td>224</td>\n",
       "    </tr>\n",
       "    <tr>\n",
       "      <th>13133</th>\n",
       "      <td>13134</td>\n",
       "      <td>13123</td>\n",
       "      <td>267</td>\n",
       "      <td>2</td>\n",
       "      <td>3</td>\n",
       "      <td>323.0000</td>\n",
       "      <td>0.293462</td>\n",
       "      <td>Retail Online (Ota)</td>\n",
       "      <td>Dorint ag</td>\n",
       "      <td>4</td>\n",
       "      <td>4</td>\n",
       "      <td>184</td>\n",
       "    </tr>\n",
       "    <tr>\n",
       "      <th>13134</th>\n",
       "      <td>13135</td>\n",
       "      <td>13124</td>\n",
       "      <td>141</td>\n",
       "      <td>1</td>\n",
       "      <td>2</td>\n",
       "      <td>226.0000</td>\n",
       "      <td>0.214812</td>\n",
       "      <td>Retail Online (Ota)</td>\n",
       "      <td>Independent</td>\n",
       "      <td>2</td>\n",
       "      <td>3</td>\n",
       "      <td>184</td>\n",
       "    </tr>\n",
       "    <tr>\n",
       "      <th>13135</th>\n",
       "      <td>13136</td>\n",
       "      <td>13125</td>\n",
       "      <td>38</td>\n",
       "      <td>1</td>\n",
       "      <td>2</td>\n",
       "      <td>115.0000</td>\n",
       "      <td>0.263102</td>\n",
       "      <td>Retail Online (Ota)</td>\n",
       "      <td>Independent</td>\n",
       "      <td>4</td>\n",
       "      <td>2</td>\n",
       "      <td>184</td>\n",
       "    </tr>\n",
       "    <tr>\n",
       "      <th>13136</th>\n",
       "      <td>13137</td>\n",
       "      <td>13126</td>\n",
       "      <td>1</td>\n",
       "      <td>1</td>\n",
       "      <td>4</td>\n",
       "      <td>71.0000</td>\n",
       "      <td>0.340377</td>\n",
       "      <td>Retail Online (Ota)</td>\n",
       "      <td>Independent</td>\n",
       "      <td>1</td>\n",
       "      <td>2</td>\n",
       "      <td>184</td>\n",
       "    </tr>\n",
       "    <tr>\n",
       "      <th>13137</th>\n",
       "      <td>13138</td>\n",
       "      <td>13127</td>\n",
       "      <td>11</td>\n",
       "      <td>1</td>\n",
       "      <td>2</td>\n",
       "      <td>149.0000</td>\n",
       "      <td>0.091630</td>\n",
       "      <td>Retail Online (Ota)</td>\n",
       "      <td>Independent</td>\n",
       "      <td>4</td>\n",
       "      <td>2</td>\n",
       "      <td>184</td>\n",
       "    </tr>\n",
       "    <tr>\n",
       "      <th>13138</th>\n",
       "      <td>13139</td>\n",
       "      <td>13128</td>\n",
       "      <td>100</td>\n",
       "      <td>1</td>\n",
       "      <td>2</td>\n",
       "      <td>346.0000</td>\n",
       "      <td>1.397912</td>\n",
       "      <td>Retail Online (Ota)</td>\n",
       "      <td>Turim Hotels</td>\n",
       "      <td>4</td>\n",
       "      <td>5</td>\n",
       "      <td>184</td>\n",
       "    </tr>\n",
       "    <tr>\n",
       "      <th>13139</th>\n",
       "      <td>13140</td>\n",
       "      <td>13129</td>\n",
       "      <td>31</td>\n",
       "      <td>1</td>\n",
       "      <td>6</td>\n",
       "      <td>466.5000</td>\n",
       "      <td>0.888032</td>\n",
       "      <td>Retail Online (Ota)</td>\n",
       "      <td>Independent</td>\n",
       "      <td>3</td>\n",
       "      <td>3</td>\n",
       "      <td>184</td>\n",
       "    </tr>\n",
       "    <tr>\n",
       "      <th>13140</th>\n",
       "      <td>13141</td>\n",
       "      <td>13130</td>\n",
       "      <td>25</td>\n",
       "      <td>1</td>\n",
       "      <td>2</td>\n",
       "      <td>24.5000</td>\n",
       "      <td>0.641898</td>\n",
       "      <td>Retail Online (Ota)</td>\n",
       "      <td>Independent</td>\n",
       "      <td>1</td>\n",
       "      <td>1</td>\n",
       "      <td>184</td>\n",
       "    </tr>\n",
       "    <tr>\n",
       "      <th>13141</th>\n",
       "      <td>13142</td>\n",
       "      <td>13131</td>\n",
       "      <td>62</td>\n",
       "      <td>1</td>\n",
       "      <td>2</td>\n",
       "      <td>184.0000</td>\n",
       "      <td>0.590164</td>\n",
       "      <td>Retail Online (Ota)</td>\n",
       "      <td>Independent</td>\n",
       "      <td>3</td>\n",
       "      <td>4</td>\n",
       "      <td>184</td>\n",
       "    </tr>\n",
       "    <tr>\n",
       "      <th>13142</th>\n",
       "      <td>13143</td>\n",
       "      <td>13132</td>\n",
       "      <td>43</td>\n",
       "      <td>1</td>\n",
       "      <td>3</td>\n",
       "      <td>553.0000</td>\n",
       "      <td>1.136389</td>\n",
       "      <td>Retail Online (Ota)</td>\n",
       "      <td>Independent</td>\n",
       "      <td>5</td>\n",
       "      <td>7</td>\n",
       "      <td>184</td>\n",
       "    </tr>\n",
       "    <tr>\n",
       "      <th>13143</th>\n",
       "      <td>13144</td>\n",
       "      <td>13133</td>\n",
       "      <td>20</td>\n",
       "      <td>1</td>\n",
       "      <td>2</td>\n",
       "      <td>110.9759</td>\n",
       "      <td>0.046522</td>\n",
       "      <td>Retail Agent (Offline)</td>\n",
       "      <td>Hotel81</td>\n",
       "      <td>4</td>\n",
       "      <td>1</td>\n",
       "      <td>224</td>\n",
       "    </tr>\n",
       "    <tr>\n",
       "      <th>13144</th>\n",
       "      <td>13145</td>\n",
       "      <td>13134</td>\n",
       "      <td>3</td>\n",
       "      <td>1</td>\n",
       "      <td>2</td>\n",
       "      <td>93.4712</td>\n",
       "      <td>0.486248</td>\n",
       "      <td>Retail Agent (Offline)</td>\n",
       "      <td>Accor</td>\n",
       "      <td>4</td>\n",
       "      <td>1</td>\n",
       "      <td>224</td>\n",
       "    </tr>\n",
       "    <tr>\n",
       "      <th>13145</th>\n",
       "      <td>13146</td>\n",
       "      <td>13135</td>\n",
       "      <td>13</td>\n",
       "      <td>1</td>\n",
       "      <td>2</td>\n",
       "      <td>265.4838</td>\n",
       "      <td>0.159662</td>\n",
       "      <td>Retail Agent (Offline)</td>\n",
       "      <td>Hotel81</td>\n",
       "      <td>4</td>\n",
       "      <td>3</td>\n",
       "      <td>224</td>\n",
       "    </tr>\n",
       "    <tr>\n",
       "      <th>13146</th>\n",
       "      <td>13147</td>\n",
       "      <td>13136</td>\n",
       "      <td>9</td>\n",
       "      <td>1</td>\n",
       "      <td>2</td>\n",
       "      <td>390.0775</td>\n",
       "      <td>0.361536</td>\n",
       "      <td>Retail Agent (Offline)</td>\n",
       "      <td>Hilton Worldwide</td>\n",
       "      <td>5</td>\n",
       "      <td>2</td>\n",
       "      <td>219</td>\n",
       "    </tr>\n",
       "    <tr>\n",
       "      <th>13147</th>\n",
       "      <td>13148</td>\n",
       "      <td>13137</td>\n",
       "      <td>15</td>\n",
       "      <td>2</td>\n",
       "      <td>4</td>\n",
       "      <td>3272.6840</td>\n",
       "      <td>2.532247</td>\n",
       "      <td>Retail Agent (Offline)</td>\n",
       "      <td>Accor</td>\n",
       "      <td>5</td>\n",
       "      <td>8</td>\n",
       "      <td>219</td>\n",
       "    </tr>\n",
       "  </tbody>\n",
       "</table>\n",
       "</div>"
      ],
      "text/plain": [
       "       Unnamed: 0  BOOKING_ID  CHECKIN_WINDOW  NO_OF_ROOMS  NO_OF_PASSENGERS  \\\n",
       "13128       13129       13118               4            1                 2   \n",
       "13129       13130       13119              44            1                 2   \n",
       "13130       13131       13120              12            1                 2   \n",
       "13131       13132       13121              89            1                 2   \n",
       "13132       13133       13122              13            1                 2   \n",
       "13133       13134       13123             267            2                 3   \n",
       "13134       13135       13124             141            1                 2   \n",
       "13135       13136       13125              38            1                 2   \n",
       "13136       13137       13126               1            1                 4   \n",
       "13137       13138       13127              11            1                 2   \n",
       "13138       13139       13128             100            1                 2   \n",
       "13139       13140       13129              31            1                 6   \n",
       "13140       13141       13130              25            1                 2   \n",
       "13141       13142       13131              62            1                 2   \n",
       "13142       13143       13132              43            1                 3   \n",
       "13143       13144       13133              20            1                 2   \n",
       "13144       13145       13134               3            1                 2   \n",
       "13145       13146       13135              13            1                 2   \n",
       "13146       13147       13136               9            1                 2   \n",
       "13147       13148       13137              15            2                 4   \n",
       "\n",
       "       GROSS_SALES_EUR  COMMISSION_PERC          CLIENT_SEGMENT  \\\n",
       "13128         461.6653         1.222520  Retail Agent (Offline)   \n",
       "13129         156.3368         0.740205  Retail Agent (Offline)   \n",
       "13130         394.3792         0.033178  Retail Agent (Offline)   \n",
       "13131         196.8101         2.678365  Retail Agent (Offline)   \n",
       "13132         376.9326         1.025212  Retail Agent (Offline)   \n",
       "13133         323.0000         0.293462     Retail Online (Ota)   \n",
       "13134         226.0000         0.214812     Retail Online (Ota)   \n",
       "13135         115.0000         0.263102     Retail Online (Ota)   \n",
       "13136          71.0000         0.340377     Retail Online (Ota)   \n",
       "13137         149.0000         0.091630     Retail Online (Ota)   \n",
       "13138         346.0000         1.397912     Retail Online (Ota)   \n",
       "13139         466.5000         0.888032     Retail Online (Ota)   \n",
       "13140          24.5000         0.641898     Retail Online (Ota)   \n",
       "13141         184.0000         0.590164     Retail Online (Ota)   \n",
       "13142         553.0000         1.136389     Retail Online (Ota)   \n",
       "13143         110.9759         0.046522  Retail Agent (Offline)   \n",
       "13144          93.4712         0.486248  Retail Agent (Offline)   \n",
       "13145         265.4838         0.159662  Retail Agent (Offline)   \n",
       "13146         390.0775         0.361536  Retail Agent (Offline)   \n",
       "13147        3272.6840         2.532247  Retail Agent (Offline)   \n",
       "\n",
       "         SUPPLIER_CHAIN  STAR_RATING  ROOM_NIGHTS  CLIENT_MASTER_PARENT  \n",
       "13128  Park Hotel Group            5            3                   224  \n",
       "13129           Hotel81            4            2                   224  \n",
       "13130           Hotel81            4            4                   224  \n",
       "13131             Accor            3            2                   224  \n",
       "13132           Hotel81            4            4                   224  \n",
       "13133         Dorint ag            4            4                   184  \n",
       "13134       Independent            2            3                   184  \n",
       "13135       Independent            4            2                   184  \n",
       "13136       Independent            1            2                   184  \n",
       "13137       Independent            4            2                   184  \n",
       "13138      Turim Hotels            4            5                   184  \n",
       "13139       Independent            3            3                   184  \n",
       "13140       Independent            1            1                   184  \n",
       "13141       Independent            3            4                   184  \n",
       "13142       Independent            5            7                   184  \n",
       "13143           Hotel81            4            1                   224  \n",
       "13144             Accor            4            1                   224  \n",
       "13145           Hotel81            4            3                   224  \n",
       "13146  Hilton Worldwide            5            2                   219  \n",
       "13147             Accor            5            8                   219  "
      ]
     },
     "execution_count": 303,
     "metadata": {},
     "output_type": "execute_result"
    }
   ],
   "source": [
    "#import data\n",
    "\n",
    "data = pd.read_csv('C:\\\\Users\\\\sonja tilly.ABERDEEN\\\\GTA Data Scientist Interview Dataset.csv',\\\n",
    "                   low_memory=False)\n",
    "data.tail(20)"
   ]
  },
  {
   "cell_type": "code",
   "execution_count": 304,
   "metadata": {
    "collapsed": false,
    "deletable": true,
    "editable": true
   },
   "outputs": [],
   "source": [
    "#deal with nan values\n",
    "\n",
    "data = data.fillna(0)"
   ]
  },
  {
   "cell_type": "markdown",
   "metadata": {
    "deletable": true,
    "editable": true
   },
   "source": [
    "**Question 1**\n",
    "\n",
    "*Most of our bookings come from either OTAs or traditional agencies (Client Segment). Based on our data, are those two groups statistically different, on Gross Sales at individual transaction level? Use an appropriate statistical test of your choice and supplement it with some simple plots.*"
   ]
  },
  {
   "cell_type": "code",
   "execution_count": 6,
   "metadata": {
    "collapsed": false,
    "deletable": true,
    "editable": true
   },
   "outputs": [
    {
     "data": {
      "text/html": [
       "<div>\n",
       "<table border=\"1\" class=\"dataframe\">\n",
       "  <thead>\n",
       "    <tr>\n",
       "      <th></th>\n",
       "      <th>Unnamed: 0</th>\n",
       "      <th>BOOKING_ID</th>\n",
       "      <th>CHECKIN_WINDOW</th>\n",
       "      <th>NO_OF_ROOMS</th>\n",
       "      <th>NO_OF_PASSENGERS</th>\n",
       "      <th>GROSS_SALES_EUR</th>\n",
       "      <th>COMMISSION_PERC</th>\n",
       "      <th>STAR_RATING</th>\n",
       "      <th>ROOM_NIGHTS</th>\n",
       "      <th>CLIENT_MASTER_PARENT</th>\n",
       "    </tr>\n",
       "    <tr>\n",
       "      <th></th>\n",
       "      <th>sum</th>\n",
       "      <th>sum</th>\n",
       "      <th>sum</th>\n",
       "      <th>sum</th>\n",
       "      <th>sum</th>\n",
       "      <th>sum</th>\n",
       "      <th>sum</th>\n",
       "      <th>sum</th>\n",
       "      <th>sum</th>\n",
       "      <th>sum</th>\n",
       "    </tr>\n",
       "    <tr>\n",
       "      <th>CLIENT_SEGMENT</th>\n",
       "      <th></th>\n",
       "      <th></th>\n",
       "      <th></th>\n",
       "      <th></th>\n",
       "      <th></th>\n",
       "      <th></th>\n",
       "      <th></th>\n",
       "      <th></th>\n",
       "      <th></th>\n",
       "      <th></th>\n",
       "    </tr>\n",
       "  </thead>\n",
       "  <tbody>\n",
       "    <tr>\n",
       "      <th>Retail Agent (Offline)</th>\n",
       "      <td>43140157</td>\n",
       "      <td>43075569</td>\n",
       "      <td>263836</td>\n",
       "      <td>8197</td>\n",
       "      <td>15929</td>\n",
       "      <td>3.270700e+06</td>\n",
       "      <td>14178.525684</td>\n",
       "      <td>31073</td>\n",
       "      <td>20846</td>\n",
       "      <td>858941</td>\n",
       "    </tr>\n",
       "    <tr>\n",
       "      <th>Retail Online (Ota)</th>\n",
       "      <td>43301369</td>\n",
       "      <td>43262850</td>\n",
       "      <td>146518</td>\n",
       "      <td>5974</td>\n",
       "      <td>9787</td>\n",
       "      <td>1.114157e+06</td>\n",
       "      <td>2826.273297</td>\n",
       "      <td>19244</td>\n",
       "      <td>13353</td>\n",
       "      <td>808149</td>\n",
       "    </tr>\n",
       "  </tbody>\n",
       "</table>\n",
       "</div>"
      ],
      "text/plain": [
       "                       Unnamed: 0 BOOKING_ID CHECKIN_WINDOW NO_OF_ROOMS  \\\n",
       "                              sum        sum            sum         sum   \n",
       "CLIENT_SEGMENT                                                            \n",
       "Retail Agent (Offline)   43140157   43075569         263836        8197   \n",
       "Retail Online (Ota)      43301369   43262850         146518        5974   \n",
       "\n",
       "                       NO_OF_PASSENGERS GROSS_SALES_EUR COMMISSION_PERC  \\\n",
       "                                    sum             sum             sum   \n",
       "CLIENT_SEGMENT                                                            \n",
       "Retail Agent (Offline)            15929    3.270700e+06    14178.525684   \n",
       "Retail Online (Ota)                9787    1.114157e+06     2826.273297   \n",
       "\n",
       "                       STAR_RATING ROOM_NIGHTS CLIENT_MASTER_PARENT  \n",
       "                               sum         sum                  sum  \n",
       "CLIENT_SEGMENT                                                       \n",
       "Retail Agent (Offline)       31073       20846               858941  \n",
       "Retail Online (Ota)          19244       13353               808149  "
      ]
     },
     "execution_count": 6,
     "metadata": {},
     "output_type": "execute_result"
    }
   ],
   "source": [
    "table1 = data.groupby('CLIENT_SEGMENT').agg([np.sum])\n",
    "table1"
   ]
  },
  {
   "cell_type": "code",
   "execution_count": 7,
   "metadata": {
    "collapsed": false,
    "deletable": true,
    "editable": true
   },
   "outputs": [
    {
     "data": {
      "text/plain": [
       "(array([0, 1]), <a list of 2 Text xticklabel objects>)"
      ]
     },
     "execution_count": 7,
     "metadata": {},
     "output_type": "execute_result"
    },
    {
     "data": {
      "image/png": "[encoded data removed]",
      "text/plain": [
       "<matplotlib.figure.Figure at 0xac4c5c0>"
      ]
     },
     "metadata": {},
     "output_type": "display_data"
    }
   ],
   "source": [
    "table1.GROSS_SALES_EUR.plot(kind='bar', color='seagreen')\n",
    "plt.title('Aggregate gross sales')\n",
    "plt.ylabel('EUR')\n",
    "plt.xticks(rotation=45)"
   ]
  },
  {
   "cell_type": "markdown",
   "metadata": {
    "deletable": true,
    "editable": true
   },
   "source": [
    "The two client types differ in terms of the volume of gross sales - the retail agent (offline) volumes are nearly three times as high as the retail online (ota) sales volume."
   ]
  },
  {
   "cell_type": "code",
   "execution_count": 21,
   "metadata": {
    "collapsed": false,
    "deletable": true,
    "editable": true
   },
   "outputs": [],
   "source": [
    "rao = data.loc[data['CLIENT_SEGMENT'] == 'Retail Agent (Offline)', 'GROSS_SALES_EUR']\n",
    "ota = data.loc[data['CLIENT_SEGMENT'] == 'Retail Online (Ota)', 'GROSS_SALES_EUR']\n",
    "\n",
    "RAO = pd.DataFrame(rao)\n",
    "OTA = pd.DataFrame(ota)"
   ]
  },
  {
   "cell_type": "code",
   "execution_count": 25,
   "metadata": {
    "collapsed": false,
    "deletable": true,
    "editable": true
   },
   "outputs": [
    {
     "data": {
      "text/plain": [
       "<matplotlib.text.Text at 0xcade048>"
      ]
     },
     "execution_count": 25,
     "metadata": {},
     "output_type": "execute_result"
    },
    {
     "data": {
      "image/png": "[encoded data removed]",
      "text/plain": [
       "<matplotlib.figure.Figure at 0xba451d0>"
      ]
     },
     "metadata": {},
     "output_type": "display_data"
    }
   ],
   "source": [
    "fig = plt.figure(figsize=(18,6))\n",
    "sns.set_style(\"whitegrid\")\n",
    "\n",
    "sub1 = plt.subplot(1,2, 1)\n",
    "sub1 = sns.violinplot(data=RAO, color='seagreen')\n",
    "plt.title('Retail Agent (Offline)')\n",
    "\n",
    "sub2 = plt.subplot(1,2, 2)\n",
    "sub2 = sns.violinplot(data=OTA, color='skyblue')\n",
    "plt.title('Retail Online (Ota)')"
   ]
  },
  {
   "cell_type": "code",
   "execution_count": 29,
   "metadata": {
    "collapsed": false,
    "deletable": true,
    "editable": true
   },
   "outputs": [
    {
     "data": {
      "text/plain": [
       "<matplotlib.text.Text at 0xf6d8748>"
      ]
     },
     "execution_count": 29,
     "metadata": {},
     "output_type": "execute_result"
    },
    {
     "data": {
      "image/png": "[encoded data removed]",
      "text/plain": [
       "<matplotlib.figure.Figure at 0xd3b5e80>"
      ]
     },
     "metadata": {},
     "output_type": "display_data"
    }
   ],
   "source": [
    "fig = plt.figure(figsize=(18,6))\n",
    "sns.set_style(\"darkgrid\")\n",
    "\n",
    "sub1 = plt.subplot(1,2, 1)\n",
    "sub1 = sns.boxplot(data=RAO, color='cadetblue')\n",
    "plt.title('Retail Agent (Offline)')\n",
    "\n",
    "sub2 = plt.subplot(1,2, 2)\n",
    "sub2 = sns.boxplot(data=OTA, color='fuchsia')\n",
    "plt.title('Retail Online (Ota)')"
   ]
  },
  {
   "cell_type": "markdown",
   "metadata": {
    "deletable": true,
    "editable": true
   },
   "source": [
    "The above violin and boxplots illustrate again that the sales volume of traditional channels are significantly higher than those of online channels."
   ]
  },
  {
   "cell_type": "code",
   "execution_count": 19,
   "metadata": {
    "collapsed": false,
    "deletable": true,
    "editable": true
   },
   "outputs": [
    {
     "data": {
      "text/plain": [
       "Ttest_indResult(statistic=24.386678874755265, pvalue=1.6590306888291448e-128)"
      ]
     },
     "execution_count": 19,
     "metadata": {},
     "output_type": "execute_result"
    }
   ],
   "source": [
    "from scipy.stats import ttest_ind\n",
    "\n",
    "rao = data.loc[data['CLIENT_SEGMENT'] == 'Retail Agent (Offline)', 'GROSS_SALES_EUR']\n",
    "ota = data.loc[data['CLIENT_SEGMENT'] == 'Retail Online (Ota)', 'GROSS_SALES_EUR']\n",
    "\n",
    "ttest_ind(rao, ota)"
   ]
  },
  {
   "cell_type": "markdown",
   "metadata": {
    "collapsed": true,
    "deletable": true,
    "editable": true
   },
   "source": [
    "The p-value is very small, therefore we can reject the null hypothesis - the two series are significantly different."
   ]
  },
  {
   "cell_type": "markdown",
   "metadata": {},
   "source": [
    "**Question 2**\n",
    "\n",
    "*Find the 10 clients (Client Master Parent) who generated the most Gross Sales for us. What are the sales for Accor, Hilton Worldwide and Mandarin Oriental (Supplier Chain) from each of these clients? Present results in a single table.*"
   ]
  },
  {
   "cell_type": "code",
   "execution_count": 305,
   "metadata": {
    "collapsed": false,
    "deletable": true,
    "editable": true
   },
   "outputs": [],
   "source": [
    "df2=pd.pivot_table(data=data,index=['CLIENT_MASTER_PARENT'],\\\n",
    "                   values='GROSS_SALES_EUR',aggfunc=np.sum)"
   ]
  },
  {
   "cell_type": "code",
   "execution_count": 306,
   "metadata": {
    "collapsed": false,
    "deletable": true,
    "editable": true
   },
   "outputs": [
    {
     "data": {
      "text/html": [
       "<div>\n",
       "<table border=\"1\" class=\"dataframe\">\n",
       "  <thead>\n",
       "    <tr style=\"text-align: right;\">\n",
       "      <th></th>\n",
       "      <th>GROSS_SALES_EUR</th>\n",
       "    </tr>\n",
       "    <tr>\n",
       "      <th>CLIENT_MASTER_PARENT</th>\n",
       "      <th></th>\n",
       "    </tr>\n",
       "  </thead>\n",
       "  <tbody>\n",
       "    <tr>\n",
       "      <th>139</th>\n",
       "      <td>717848.7117</td>\n",
       "    </tr>\n",
       "    <tr>\n",
       "      <th>184</th>\n",
       "      <td>345294.5000</td>\n",
       "    </tr>\n",
       "    <tr>\n",
       "      <th>68</th>\n",
       "      <td>277484.9517</td>\n",
       "    </tr>\n",
       "    <tr>\n",
       "      <th>85</th>\n",
       "      <td>274397.0059</td>\n",
       "    </tr>\n",
       "    <tr>\n",
       "      <th>178</th>\n",
       "      <td>203955.3700</td>\n",
       "    </tr>\n",
       "    <tr>\n",
       "      <th>191</th>\n",
       "      <td>164166.8934</td>\n",
       "    </tr>\n",
       "    <tr>\n",
       "      <th>51</th>\n",
       "      <td>142321.8729</td>\n",
       "    </tr>\n",
       "    <tr>\n",
       "      <th>38</th>\n",
       "      <td>102646.6866</td>\n",
       "    </tr>\n",
       "    <tr>\n",
       "      <th>122</th>\n",
       "      <td>83840.0190</td>\n",
       "    </tr>\n",
       "    <tr>\n",
       "      <th>151</th>\n",
       "      <td>83837.6808</td>\n",
       "    </tr>\n",
       "  </tbody>\n",
       "</table>\n",
       "</div>"
      ],
      "text/plain": [
       "                      GROSS_SALES_EUR\n",
       "CLIENT_MASTER_PARENT                 \n",
       "139                       717848.7117\n",
       "184                       345294.5000\n",
       "68                        277484.9517\n",
       "85                        274397.0059\n",
       "178                       203955.3700\n",
       "191                       164166.8934\n",
       "51                        142321.8729\n",
       "38                        102646.6866\n",
       "122                        83840.0190\n",
       "151                        83837.6808"
      ]
     },
     "execution_count": 306,
     "metadata": {},
     "output_type": "execute_result"
    }
   ],
   "source": [
    "df3 = pd.DataFrame(df2.nlargest(10))\n",
    "df3"
   ]
  },
  {
   "cell_type": "code",
   "execution_count": 307,
   "metadata": {
    "collapsed": false,
    "scrolled": false
   },
   "outputs": [],
   "source": [
    "df4 = data[data['CLIENT_MASTER_PARENT'].isin(df3.index)]"
   ]
  },
  {
   "cell_type": "code",
   "execution_count": 310,
   "metadata": {
    "collapsed": false
   },
   "outputs": [],
   "source": [
    "accor = pd.DataFrame(df4[df4['SUPPLIER_CHAIN'] == 'Accor'].groupby('CLIENT_MASTER_PARENT')['GROSS_SALES_EUR'].sum())\n",
    "hilton = pd.DataFrame(df4[df4['SUPPLIER_CHAIN'] == 'Hilton Worldwide'].groupby('CLIENT_MASTER_PARENT')['GROSS_SALES_EUR'].sum())\n",
    "mandarin = pd.DataFrame(df4[df4['SUPPLIER_CHAIN'] == 'Mandarin Oriental'].groupby('CLIENT_MASTER_PARENT')['GROSS_SALES_EUR'].sum())"
   ]
  },
  {
   "cell_type": "code",
   "execution_count": null,
   "metadata": {
    "collapsed": false
   },
   "outputs": [],
   "source": [
    "\n"
   ]
  },
  {
   "cell_type": "code",
   "execution_count": 330,
   "metadata": {
    "collapsed": false,
    "deletable": true,
    "editable": true
   },
   "outputs": [
    {
     "name": "stdout",
     "output_type": "stream",
     "text": [
      "Sales for Accor, Hilton Worldwide and Mandarin Oriental(Supplier Chain) from each of the top 10 clients:\n"
     ]
    },
    {
     "data": {
      "text/html": [
       "<div>\n",
       "<table border=\"1\" class=\"dataframe\">\n",
       "  <thead>\n",
       "    <tr style=\"text-align: right;\">\n",
       "      <th></th>\n",
       "      <th>Accor</th>\n",
       "      <th>Hilton</th>\n",
       "      <th>Mandarin</th>\n",
       "    </tr>\n",
       "    <tr>\n",
       "      <th>CLIENT_MASTER_PARENT</th>\n",
       "      <th></th>\n",
       "      <th></th>\n",
       "      <th></th>\n",
       "    </tr>\n",
       "  </thead>\n",
       "  <tbody>\n",
       "    <tr>\n",
       "      <th>38</th>\n",
       "      <td>12262.2170</td>\n",
       "      <td>7819.8273</td>\n",
       "      <td>4442.2279</td>\n",
       "    </tr>\n",
       "    <tr>\n",
       "      <th>51</th>\n",
       "      <td>1867.9504</td>\n",
       "      <td>18953.7581</td>\n",
       "      <td>NaN</td>\n",
       "    </tr>\n",
       "    <tr>\n",
       "      <th>68</th>\n",
       "      <td>16931.9354</td>\n",
       "      <td>24721.1245</td>\n",
       "      <td>NaN</td>\n",
       "    </tr>\n",
       "    <tr>\n",
       "      <th>85</th>\n",
       "      <td>27989.2226</td>\n",
       "      <td>17692.1717</td>\n",
       "      <td>2391.1727</td>\n",
       "    </tr>\n",
       "    <tr>\n",
       "      <th>122</th>\n",
       "      <td>2897.5619</td>\n",
       "      <td>1195.8098</td>\n",
       "      <td>NaN</td>\n",
       "    </tr>\n",
       "    <tr>\n",
       "      <th>139</th>\n",
       "      <td>80945.3497</td>\n",
       "      <td>26740.9066</td>\n",
       "      <td>7083.7564</td>\n",
       "    </tr>\n",
       "    <tr>\n",
       "      <th>151</th>\n",
       "      <td>4313.7313</td>\n",
       "      <td>4970.8948</td>\n",
       "      <td>NaN</td>\n",
       "    </tr>\n",
       "    <tr>\n",
       "      <th>178</th>\n",
       "      <td>17171.0582</td>\n",
       "      <td>13805.4671</td>\n",
       "      <td>2118.8433</td>\n",
       "    </tr>\n",
       "    <tr>\n",
       "      <th>184</th>\n",
       "      <td>7580.5000</td>\n",
       "      <td>2582.5000</td>\n",
       "      <td>NaN</td>\n",
       "    </tr>\n",
       "    <tr>\n",
       "      <th>191</th>\n",
       "      <td>14633.4842</td>\n",
       "      <td>9166.7304</td>\n",
       "      <td>NaN</td>\n",
       "    </tr>\n",
       "  </tbody>\n",
       "</table>\n",
       "</div>"
      ],
      "text/plain": [
       "                           Accor      Hilton   Mandarin\n",
       "CLIENT_MASTER_PARENT                                   \n",
       "38                    12262.2170   7819.8273  4442.2279\n",
       "51                     1867.9504  18953.7581        NaN\n",
       "68                    16931.9354  24721.1245        NaN\n",
       "85                    27989.2226  17692.1717  2391.1727\n",
       "122                    2897.5619   1195.8098        NaN\n",
       "139                   80945.3497  26740.9066  7083.7564\n",
       "151                    4313.7313   4970.8948        NaN\n",
       "178                   17171.0582  13805.4671  2118.8433\n",
       "184                    7580.5000   2582.5000        NaN\n",
       "191                   14633.4842   9166.7304        NaN"
      ]
     },
     "execution_count": 330,
     "metadata": {},
     "output_type": "execute_result"
    }
   ],
   "source": [
    "sales = pd.concat([accor, hilton, mandarin], axis=1)\n",
    "sales.columns = ['Accor', 'Hilton', 'Mandarin']\n",
    "sales.fillna(0)\n",
    "print(\"Sales for Accor, Hilton Worldwide and Mandarin Oriental\\\n",
    "(Supplier Chain) from each of the top 10 clients:\")\n",
    "sales"
   ]
  },
  {
   "cell_type": "markdown",
   "metadata": {},
   "source": [
    "**Question 3**\n",
    "\n",
    "*(You are not required to build any models for this question!) Suppose that we have some transactions with missing Client Segment and any other variables that are directly related to it (say, client name). This implies that that we cannot simply tell whether those bookings were made by an OTA:\n",
    "a.\tWe believe certain Machine Learning algorithms may be useful in answering this. Can you name some and suggest how they are different to each other? \n",
    "b.\tThe variables available in this dataset are relatively limited, what would you ask, or try in order to increase prediction accuracy?*\n"
   ]
  },
  {
   "cell_type": "markdown",
   "metadata": {},
   "source": [
    "This is a classification task - the algorithm needs to determine whether a booking was made by a traditional or an online channel using the available variables.\n",
    "\n",
    "In terms of algorithms, I would try Random Forests and XGBoost. Both are are ensembles of algorithm and are known to work well with classification tasks. \n",
    "\n",
    "Random Forests randomly divides up variables and builds trees in parallel using those sets. This is called bagging. The final result is achieved by voting. XGBoost builds weak learners (i.e. trees) sequentially which emphasize those with the largest error (boosting). Both models address overfitting. XGBoost permits parallel processing, making it very fast and tends to perform better than Random Forest. It also has a built-in cross-validation function.\n",
    "\n",
    "Both models allow for parameter tuning, which allows for model optimisation. For instance, GridSearchCV searches for the best set of parameters and includes a cross-validation function (which I would use for RandomForests.\n",
    "\n",
    "To increase prediction accuracy, one should investigate the correlation between variables. Uncorrelated variables can be eliminated. Alternatively, the above-mentioned algorithms can produce 'feature importances' and features with low importance could be taken out. \n",
    "\n",
    "In order to increase the amount of variables, one could generate new features such as ratios of existing variables. However, attention should be paid to their correlation to the target variable and other variables."
   ]
  },
  {
   "cell_type": "code",
   "execution_count": null,
   "metadata": {
    "collapsed": true
   },
   "outputs": [],
   "source": []
  }
 ],
 "metadata": {
  "anaconda-cloud": {},
  "kernelspec": {
   "display_name": "py35",
   "language": "python",
   "name": "py35"
  },
  "language_info": {
   "codemirror_mode": {
    "name": "ipython",
    "version": 3
   },
   "file_extension": ".py",
   "mimetype": "text/x-python",
   "name": "python",
   "nbconvert_exporter": "python",
   "pygments_lexer": "ipython3",
   "version": "3.5.2"
  }
 },
 "nbformat": 4,
 "nbformat_minor": 2
}
