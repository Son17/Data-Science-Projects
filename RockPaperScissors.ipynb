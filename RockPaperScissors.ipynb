{
 "cells": [
  {
   "cell_type": "code",
   "execution_count": null,
   "metadata": {
    "collapsed": false
   },
   "outputs": [],
   "source": [
    "\"\"\"Play Rock-Paper-Scissors against the computer!\"\"\"\n",
    "\n",
    "from random import randint\n",
    "from time import sleep\n",
    "\n",
    "options = (\"R\", \"P\", \"S\")\n",
    "LOSS_MESSAGE = \"You lost!\"\n",
    "WIN_MESSAGE = \"You won!\"\n",
    "\n",
    "def decide_winner(user_choice, computer_choice):\n",
    "    print(\"You have chosen %s\" %(user_choice))\n",
    "    print(\"Computer selecting...\")\n",
    "    sleep(1)\n",
    "    print(\"Computer has chosen %s\" %(computer_choice))\n",
    "    user_choice_index = options.index(user_choice)\n",
    "    computer_choice_index = options.index(computer_choice)\n",
    "    if user_choice_index == computer_choice_index:\n",
    "        print(\"It's a tie!\")\n",
    "    elif user_choice_index == options[0] and computer_choice_index == options[2]:\n",
    "        print(\"You won!\")\n",
    "    elif user_choice_index == options[1] and computer_choice_index == options[0]:   \n",
    "        print(\"You won!\")\n",
    "    elif user_choice_index == options[2] and computer_choice_index == options[1]:    \n",
    "        print(\"You won!\")\n",
    "    elif user_choice_index > options[2]:\n",
    "        print(\"Invalid entry!\")\n",
    "        return\n",
    "    else:\n",
    "        print(\"You lost!\")\n",
    "\n",
    "def play_RPS():\n",
    "    print(\"Rock, Paper, Scissors\")\n",
    "    user_choice = raw_input(\"Select R for Rock, P for Papaer or S for Scissors!\")\n",
    "    user_choice.upper()\n",
    "    sleep(1)\n",
    "    computer_choice = options[randint(0, len(options)-1)]\n",
    "\n",
    "    decide_winner(user_choice, computer_choice)\n",
    "play_RPS()"
   ]
  },
  {
   "cell_type": "code",
   "execution_count": null,
   "metadata": {
    "collapsed": false
   },
   "outputs": [],
   "source": [
    "\n"
   ]
  },
  {
   "cell_type": "code",
   "execution_count": null,
   "metadata": {
    "collapsed": true
   },
   "outputs": [],
   "source": []
  }
 ],
 "metadata": {
  "anaconda-cloud": {},
  "kernelspec": {
   "display_name": "Python [default]",
   "language": "python",
   "name": "python2"
  },
  "language_info": {
   "codemirror_mode": {
    "name": "ipython",
    "version": 2
   },
   "file_extension": ".py",
   "mimetype": "text/x-python",
   "name": "python",
   "nbconvert_exporter": "python",
   "pygments_lexer": "ipython2",
   "version": "2.7.12"
  }
 },
 "nbformat": 4,
 "nbformat_minor": 1
}
