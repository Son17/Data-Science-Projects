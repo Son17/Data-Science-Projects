{
 "cells": [
  {
   "cell_type": "markdown",
   "metadata": {
    "deletable": true,
    "editable": true
   },
   "source": [
    "# Lending Club: predicing creditworthiness"
   ]
  },
  {
   "cell_type": "code",
   "execution_count": 14,
   "metadata": {
    "collapsed": true,
    "deletable": true,
    "editable": true
   },
   "outputs": [],
   "source": [
    "#import libraries\n",
    "\n",
    "import numpy as np\n",
    "import pandas as pd\n",
    "import matplotlib.pyplot as plt\n",
    "%matplotlib inline\n",
    "import seaborn as sns\n",
    "import datetime "
   ]
  },
  {
   "cell_type": "code",
   "execution_count": 15,
   "metadata": {
    "collapsed": false,
    "deletable": true,
    "editable": true
   },
   "outputs": [],
   "source": [
    "# import raw data\n",
    "\n",
    "df_raw = pd.read_csv('C:\\\\Users\\sonja tilly.ABERDEEN\\\\LendingClub.csv', low_memory=False)"
   ]
  },
  {
   "cell_type": "code",
   "execution_count": 16,
   "metadata": {
    "collapsed": false,
    "deletable": true,
    "editable": true
   },
   "outputs": [
    {
     "name": "stdout",
     "output_type": "stream",
     "text": [
      "<class 'pandas.core.frame.DataFrame'>\n",
      "RangeIndex: 24776 entries, 0 to 24775\n",
      "Data columns (total 21 columns):\n",
      "Loan Amount                          24776 non-null int64\n",
      "Loan Term                            24776 non-null object\n",
      "Employment Length                    24776 non-null float64\n",
      "Home Ownership                       24776 non-null object\n",
      "Annual Income                        24776 non-null float64\n",
      "Loan Purpose                         24776 non-null object\n",
      "Address State                        24775 non-null object\n",
      "Debt To Income Ratio                 24775 non-null float64\n",
      "No. Delinquencies In Last 2 Years    24775 non-null object\n",
      "Earliest Credit Line Opened          24776 non-null float64\n",
      "FICO Credit Score                    24775 non-null float64\n",
      "No. Inquiries In Last 6 Months       24775 non-null float64\n",
      "Months Since Last Delinquency        24776 non-null int64\n",
      "No. Of Credit Lines                  24775 non-null float64\n",
      "No. Adverse Public Records           24775 non-null object\n",
      "Total Credit Balance                 24775 non-null float64\n",
      "Use Of Credit Line                   24724 non-null float64\n",
      "Total Number Of Credit Lines         24775 non-null float64\n",
      "Loan Application Description         24776 non-null int64\n",
      "No. Of Public Record Bankruptcies    24776 non-null object\n",
      "Class                                24776 non-null object\n",
      "dtypes: float64(10), int64(3), object(8)\n",
      "memory usage: 4.0+ MB\n"
     ]
    }
   ],
   "source": [
    "df_raw.info()"
   ]
  },
  {
   "cell_type": "markdown",
   "metadata": {
    "deletable": true,
    "editable": true
   },
   "source": [
    "The dataset contains a mix of datatypes. \n",
    "The objects need to be converted into numerical values. \n",
    "The feature 'Class' will be the target and its values will be converted in '0' and '1'."
   ]
  },
  {
   "cell_type": "markdown",
   "metadata": {
    "deletable": true,
    "editable": true
   },
   "source": [
    "## Exploratory Data Analysis"
   ]
  },
  {
   "cell_type": "code",
   "execution_count": 18,
   "metadata": {
    "collapsed": false,
    "deletable": true,
    "editable": true
   },
   "outputs": [
    {
     "data": {
      "text/plain": [
       "Creditworthy      20274\n",
       "Uncreditworthy     4502\n",
       "Name: Class, dtype: int64"
      ]
     },
     "execution_count": 18,
     "metadata": {},
     "output_type": "execute_result"
    }
   ],
   "source": [
    "# let's have a look at the target variable.\n",
    "\n",
    "count = df_raw['Class'].value_counts()\n",
    "count"
   ]
  },
  {
   "cell_type": "code",
   "execution_count": 19,
   "metadata": {
    "collapsed": true,
    "deletable": true,
    "editable": true
   },
   "outputs": [],
   "source": [
    "# convert 'Class' feature (=target) into numerical values\n",
    "\n",
    "def credit_worthiness(status):\n",
    "    if status == 'Creditworthy':\n",
    "        return 0\n",
    "    elif status == 'Uncreditworthy':\n",
    "        return 1\n",
    "    else:\n",
    "        return status\n",
    "\n",
    "df_raw['Class_new'] = df_raw['Class'].apply(credit_worthiness)\n"
   ]
  },
  {
   "cell_type": "code",
   "execution_count": 20,
   "metadata": {
    "collapsed": false,
    "deletable": true,
    "editable": true
   },
   "outputs": [
    {
     "name": "stdout",
     "output_type": "stream",
     "text": [
      "0.0\n",
      "0.0\n"
     ]
    }
   ],
   "source": [
    "# calculate percentage\n",
    "total = len(df_raw.index)\n",
    "credit = df_raw['Class_new'].value_counts()\n",
    "\n",
    "creditworthy = round((credit[0]/total)*100,2)\n",
    "uncreditworthy = round((credit[1]/total)*100,2)\n",
    "print(creditworthy)\n",
    "print(uncreditworthy)\n"
   ]
  },
  {
   "cell_type": "code",
   "execution_count": 21,
   "metadata": {
    "collapsed": false,
    "deletable": true,
    "editable": true
   },
   "outputs": [
    {
     "data": {
      "image/png": "[encoded data removed]",
      "text/plain": [
       "<matplotlib.figure.Figure at 0xc2e6438>"
      ]
     },
     "metadata": {},
     "output_type": "display_data"
    }
   ],
   "source": [
    "import matplotlib as mpl\n",
    "mpl.rcParams['font.size'] = 60\n",
    "\n",
    "sums = df_raw.Class_new.groupby(df_raw.Class_new).value_counts()\n",
    "\n",
    "colors = sns.color_palette(\"Greens\", n_colors=2, desat=1)\n",
    "\n",
    "explode=(0.04, 0.04)\n",
    "plt.pie([count[0], count[1]], labels=['Completed: 81.83%', 'Defaulted: 18.17%'],\\\n",
    "       explode=explode, colors=colors)\n",
    "plt.axis('equal')\n",
    "plt.tight_layout()"
   ]
  },
  {
   "cell_type": "markdown",
   "metadata": {
    "deletable": true,
    "editable": true
   },
   "source": [
    "The dataset is unbalanced, with uncreditworthy observations only accounting for 18.17%.\n",
    "\n",
    "The unbalanced nature of the data will have to be considered when making predictions."
   ]
  },
  {
   "cell_type": "code",
   "execution_count": null,
   "metadata": {
    "collapsed": false,
    "deletable": true,
    "editable": true
   },
   "outputs": [],
   "source": [
    "# what is the link between loan purpose and creditworthiness?\n",
    "\n",
    "table = pd.pivot_table(df_raw, values='Loan Amount', index='Loan Purpose', \\\n",
    "                        columns='Class_new', aggfunc='count').fillna(0)\n",
    "table.columns = ['good', 'bad']\n",
    "table['Sum'] = table['good'] + table['bad']\n",
    "table['percent_good'] = table['good']/table['Sum']*100\n",
    "table['percent_bad'] = table['bad']/table['Sum']*100\n",
    "\n",
    "table.drop(table.columns[[0, 1, 2]], axis=1, inplace=True)\n",
    "table = table[1: :]\n"
   ]
  },
  {
   "cell_type": "code",
   "execution_count": null,
   "metadata": {
    "collapsed": false,
    "deletable": true,
    "editable": true
   },
   "outputs": [],
   "source": [
    "colors = ('seagreen','magenta')\n",
    "ax= table.plot(legend=False, kind='bar',stacked=True, ylim=(0,100), color=colors, fontsize=9,\\\n",
    "                title='Loan Purpose and creditworthiness')\n",
    "plt.legend(loc='lower left', bbox_to_anchor=(1.0, 0.5))\n",
    "ax.set_xticklabels(table.index, rotation=70, fontsize=14)\n",
    "ax.set_xlabel('purpose', fontsize=14)\n",
    "ax.set_ylabel('percentage', fontsize=14)"
   ]
  },
  {
   "cell_type": "code",
   "execution_count": null,
   "metadata": {
    "collapsed": false,
    "deletable": true,
    "editable": true
   },
   "outputs": [],
   "source": [
    "# what is the link between home ownership and creditworthiness?\n",
    "\n",
    "table1 = pd.pivot_table(df_raw, values='Loan Amount', index='Home Ownership', \\\n",
    "                        columns='Class_new', aggfunc='count').fillna(0)\n",
    "table1.columns = ['good', 'bad']\n",
    "table1['Sum'] = table1['good'] + table1['bad']\n",
    "table1['percent_good'] = table1['good']/table1['Sum']*100\n",
    "table1['percent_bad'] = table1['bad']/table1['Sum']*100\n",
    "\n",
    "table1.drop(table1.columns[[0, 1, 2]], axis=1, inplace=True)\n",
    "table1 = table1.iloc[1: :]\n",
    "table1"
   ]
  },
  {
   "cell_type": "code",
   "execution_count": null,
   "metadata": {
    "collapsed": false,
    "deletable": true,
    "editable": true
   },
   "outputs": [],
   "source": [
    "colors = ('seagreen','magenta')\n",
    "ax1= table1.plot(legend=False, kind='bar',stacked=True, ylim=(0,100), color=colors, fontsize=9,\\\n",
    "                title='Home Ownership and creditworthiness')\n",
    "plt.legend(loc='lower left', bbox_to_anchor=(1.0, 0.5))\n",
    "ax1.set_xticklabels(table1.index, rotation=70, fontsize=14)\n",
    "ax1.set_xlabel('purpose', fontsize=14)\n",
    "ax1.set_ylabel('percentage', fontsize=14)"
   ]
  },
  {
   "cell_type": "code",
   "execution_count": null,
   "metadata": {
    "collapsed": false,
    "deletable": true,
    "editable": true
   },
   "outputs": [],
   "source": [
    "#How is loan performance related to address state?\n",
    "\n",
    "table2 = pd.pivot_table(df_raw, values='Loan Amount', index='Address State', columns=['Class_new'], aggfunc='count').fillna(0)\n",
    "table2.columns=[['good', 'bad']]\n",
    "table2['Sum']=table2['good']+table2['bad']\n",
    "table2['%good']=table2['good']/table2['Sum']*100\n",
    "table2['%bad']=table2['bad']/table2['Sum']*100\n",
    "table2.index = table2.index.astype(str)\n",
    "table2['above mean'] = table2['%bad'] - table2['%bad'].mean()  \n",
    "print(table2)"
   ]
  },
  {
   "cell_type": "code",
   "execution_count": null,
   "metadata": {
    "collapsed": false,
    "deletable": true,
    "editable": true
   },
   "outputs": [],
   "source": [
    "#Plot bad loans on map\n",
    "\n",
    "import plotly.plotly as py\n",
    "py.sign_in('Son17', 't1lGbnK94WAIem0Z2lVh')\n",
    "\n",
    "data = [ dict(\n",
    "        type='choropleth',\n",
    "        colorscale = 'Greens',\n",
    "        autocolorscale = False,\n",
    "        locations = table2.index,\n",
    "        z = table2['%bad'].astype(float).round(2),\n",
    "        locationmode = 'USA-states',\n",
    "        marker = dict(\n",
    "            line = dict (\n",
    "                color = 'rgb(255,255,255)',\n",
    "                width = 2\n",
    "            ) ),\n",
    "        colorbar = dict(title = \"Portion of uncreditworthy loans (%)\"))]\n",
    "\n",
    "layout = dict(\n",
    "        title = 'Uncreditworthy loans by state (%)',\n",
    "        geo = dict(\n",
    "            scope='usa',\n",
    "            projection=dict( type='albers usa' ),\n",
    "            showlakes = True,\n",
    "            lakecolor = 'rgb(255, 255, 255)'),)\n",
    "    \n",
    "fig = dict( data=data, layout=layout )\n",
    "py.iplot( fig, filename='d3-cloropleth-map' )"
   ]
  },
  {
   "cell_type": "code",
   "execution_count": null,
   "metadata": {
    "collapsed": false,
    "deletable": true,
    "editable": true
   },
   "outputs": [],
   "source": [
    "#Plot bad loans on map\n",
    "\n",
    "import plotly.plotly as py\n",
    "py.sign_in('Son17', 't1lGbnK94WAIem0Z2lVh')\n",
    "\n",
    "data = [ dict(\n",
    "        type='choropleth',\n",
    "        colorscale = 'Greens',\n",
    "        autocolorscale = False,\n",
    "        locations = table2.index,\n",
    "        z = table2['Sum'].astype(float).round(2),\n",
    "        locationmode = 'USA-states',\n",
    "        marker = dict(\n",
    "            line = dict (\n",
    "                color = 'rgb(255,255,255)',\n",
    "                width = 2\n",
    "            ) ),\n",
    "        colorbar = dict(title = \"Number of uncreditworthy loans\"))]\n",
    "\n",
    "layout = dict(\n",
    "        title = 'Uncreditworthy loans by state in absolute numbers',\n",
    "        geo = dict(\n",
    "            scope='usa',\n",
    "            projection=dict( type='albers usa' ),\n",
    "            showlakes = True,\n",
    "            lakecolor = 'rgb(255, 255, 255)'),)\n",
    "    \n",
    "fig = dict( data=data, layout=layout )\n",
    "py.iplot( fig, filename='d3-cloropleth-map' )"
   ]
  },
  {
   "cell_type": "code",
   "execution_count": null,
   "metadata": {
    "collapsed": false,
    "deletable": true,
    "editable": true
   },
   "outputs": [],
   "source": [
    "# what is the link between No. Of Public Record Bankruptcies and creditworthiness?\n",
    "\n",
    "table3 = pd.pivot_table(df_raw, values='Loan Amount', index='No. Of Public Record Bankruptcies', \\\n",
    "                        columns='Class_new', aggfunc='count').fillna(0)\n",
    "table3.columns = ['good', 'bad']\n",
    "table3['Sum'] = table3['good'] + table3['bad']\n",
    "table3['percent_good'] = table3['good']/table3['Sum']*100\n",
    "table3['percent_bad'] = table3['bad']/table3['Sum']*100\n",
    "\n",
    "table3.drop(table3.columns[[0, 1, 2]], axis=1, inplace=True)\n",
    "table3 = table3.iloc[0: :]\n",
    "table3"
   ]
  },
  {
   "cell_type": "code",
   "execution_count": null,
   "metadata": {
    "collapsed": false,
    "deletable": true,
    "editable": true
   },
   "outputs": [],
   "source": [
    "colors = ('seagreen','magenta')\n",
    "ax3= table3.plot(legend=False, kind='bar',stacked=True, ylim=(0,100), color=colors, fontsize=9,\\\n",
    "                title='No. Of Public Record Bankruptcies and creditworthiness')\n",
    "plt.legend(loc='upper left', bbox_to_anchor=(1.0, 0.5))\n",
    "ax3.set_xticklabels(table3.index, rotation=70, fontsize=14)\n",
    "ax3.set_xlabel('No. Of Public Record Bankruptcies', fontsize=14)\n",
    "ax3.set_ylabel('percentage', fontsize=14)"
   ]
  },
  {
   "cell_type": "code",
   "execution_count": null,
   "metadata": {
    "collapsed": false,
    "deletable": true,
    "editable": true
   },
   "outputs": [],
   "source": [
    "# what is the link between FICO Credit Score and creditworthiness?\n",
    "\n",
    "table4 = pd.pivot_table(df_raw, values='Loan Amount', index='FICO Credit Score', \\\n",
    "                        columns='Class_new', aggfunc='count').fillna(0)\n",
    "table4.columns = ['good', 'bad']\n",
    "table4['Sum'] = table4['good'] + table4['bad']\n",
    "table4['percent_good'] = table4['good']/table4['Sum']*100\n",
    "table4['percent_bad'] = table4['bad']/table4['Sum']*100\n",
    "\n",
    "table4.drop(table4.columns[[0, 1, 2]], axis=1, inplace=True)\n",
    "table4 = table4.iloc[0: :]\n",
    "table4.head()"
   ]
  },
  {
   "cell_type": "code",
   "execution_count": null,
   "metadata": {
    "collapsed": false,
    "deletable": true,
    "editable": true
   },
   "outputs": [],
   "source": [
    "colors = ('seagreen','magenta')\n",
    "ax4= table4.plot(legend=False, kind='bar',stacked=True, ylim=(0,100), color=colors, fontsize=9,\\\n",
    "                title='FICO Credit Score and creditworthiness')\n",
    "plt.legend(loc='upper left', bbox_to_anchor=(1.0, 0.5))\n",
    "ax4.set_xticklabels(table4.index, rotation=70, fontsize=12)\n",
    "ax4.set_xlabel('FICO Credit Score', fontsize=14)\n",
    "ax4.set_ylabel('percentage', fontsize=14)"
   ]
  },
  {
   "cell_type": "code",
   "execution_count": null,
   "metadata": {
    "collapsed": false,
    "deletable": true,
    "editable": true
   },
   "outputs": [],
   "source": [
    "# what is the link between No. Adverse Public Records and creditworthiness?\n",
    "\n",
    "table5 = pd.pivot_table(df_raw, values='Loan Amount', index='No. Adverse Public Records', \\\n",
    "                        columns='Class_new', aggfunc='count').fillna(0)\n",
    "table5.columns = ['good', 'bad']\n",
    "table5['Sum'] = table5['good'] + table5['bad']\n",
    "table5['percent_good'] = table5['good']/table5['Sum']*100\n",
    "table5['percent_bad'] = table5['bad']/table5['Sum']*100\n",
    "\n",
    "table5.drop(table5.columns[[0, 1, 2]], axis=1, inplace=True)\n",
    "table5 = table5.iloc[0: :]\n",
    "table5.head()"
   ]
  },
  {
   "cell_type": "code",
   "execution_count": null,
   "metadata": {
    "collapsed": false,
    "deletable": true,
    "editable": true
   },
   "outputs": [],
   "source": [
    "colors = ('seagreen','magenta')\n",
    "ax5= table5.plot(legend=False, kind='bar',stacked=True, ylim=(0,100), color=colors, fontsize=9,\\\n",
    "                title='No. Adverse Public Records and creditworthiness')\n",
    "plt.legend(loc='upper left', bbox_to_anchor=(1.0, 0.5))\n",
    "ax5.set_xticklabels(table5.index, rotation=70, fontsize=14)\n",
    "ax5.set_xlabel('No. Adverse Public Records', fontsize=14)\n",
    "ax5.set_ylabel('percentage', fontsize=14)"
   ]
  },
  {
   "cell_type": "markdown",
   "metadata": {
    "deletable": true,
    "editable": true
   },
   "source": [
    "# Data preprocessing"
   ]
  },
  {
   "cell_type": "code",
   "execution_count": 22,
   "metadata": {
    "collapsed": true,
    "deletable": true,
    "editable": true
   },
   "outputs": [],
   "source": [
    "# summarise address states into geographic regions\n",
    "\n",
    "East_Coast = ['ME', 'NH', 'VT', 'MA', 'RI', 'CT', 'NY', 'PA', 'NJ', 'DE', 'MD', 'VA', 'PA', 'DC']\n",
    "West_Coast = ['CA']\n",
    "North = ['WA', 'OR', 'ID', 'MT', 'WY', 'SD','MN', 'WI', 'MI', 'AK']\n",
    "South = ['AZ', 'NM', 'TX', 'OK', 'LA', 'AR', 'MS', 'AL', 'GA', 'FL', 'SC', 'NC', 'TN', 'HI']\n",
    "Middle = ['NV', 'UT', 'CO', 'KS', 'NE', 'IA', 'MO', 'IL', 'IN', 'KY', 'WV', 'OH']"
   ]
  },
  {
   "cell_type": "code",
   "execution_count": 23,
   "metadata": {
    "collapsed": false,
    "deletable": true,
    "editable": true
   },
   "outputs": [
    {
     "data": {
      "text/plain": [
       "East_Coast    7731\n",
       "South         6885\n",
       "West_Coast    4485\n",
       "Middle        3461\n",
       "North         2213\n",
       "Name: Address State, dtype: int64"
      ]
     },
     "execution_count": 23,
     "metadata": {},
     "output_type": "execute_result"
    }
   ],
   "source": [
    "df_raw['Address State'] = df_raw['Address State'].replace(East_Coast, 'East_Coast')\n",
    "df_raw['Address State'] = df_raw['Address State'].replace(West_Coast, 'West_Coast')\n",
    "df_raw['Address State'] = df_raw['Address State'].replace(North, 'North')\n",
    "df_raw['Address State'] = df_raw['Address State'].replace(South, 'South')\n",
    "df_raw['Address State'] = df_raw['Address State'].replace(Middle, 'Middle') \n",
    "\n",
    "df_raw['Address State'].value_counts()"
   ]
  },
  {
   "cell_type": "code",
   "execution_count": 24,
   "metadata": {
    "collapsed": true,
    "deletable": true,
    "editable": true
   },
   "outputs": [],
   "source": [
    "# summarise FICO scores into categories\n",
    "\n",
    "def summarise(fico):\n",
    "    if 300 >= fico < 579:\n",
    "        return 'Very Poor'\n",
    "    if 580 >= fico < 669:\n",
    "        return 'Fair'\n",
    "    if 670 >= fico < 739:\n",
    "        return 'Good'\n",
    "    if 740 >= fico < 799:\n",
    "        return 'Very Good'\n",
    "    if 800 >= fico <= 850:\n",
    "        return 'Exceptional'"
   ]
  },
  {
   "cell_type": "code",
   "execution_count": 25,
   "metadata": {
    "collapsed": false,
    "deletable": true,
    "editable": true
   },
   "outputs": [
    {
     "data": {
      "text/plain": [
       "Very Good      15950\n",
       "Exceptional     5208\n",
       "Good            3337\n",
       "Name: FICO Credit Score, dtype: int64"
      ]
     },
     "execution_count": 25,
     "metadata": {},
     "output_type": "execute_result"
    }
   ],
   "source": [
    "df_raw['FICO Credit Score'] = df_raw['FICO Credit Score'].apply(summarise)\n",
    "df_raw['FICO Credit Score'].value_counts()"
   ]
  },
  {
   "cell_type": "code",
   "execution_count": 26,
   "metadata": {
    "collapsed": false,
    "deletable": true,
    "editable": true
   },
   "outputs": [],
   "source": [
    "# create dummy variables for categorical data\n",
    "\n",
    "df_raw = pd.get_dummies(df_raw, columns=['Loan Term','Home Ownership', 'Loan Purpose', \\\n",
    "                                         'FICO Credit Score','Address State'])"
   ]
  },
  {
   "cell_type": "code",
   "execution_count": 27,
   "metadata": {
    "collapsed": false,
    "deletable": true,
    "editable": true
   },
   "outputs": [],
   "source": [
    "# encode remaining columns containing object data types\n",
    "\n",
    "from sklearn import preprocessing \n",
    "\n",
    "cols = ['No. Delinquencies In Last 2 Years', 'No. Adverse Public Records',\\\n",
    "           'No. Of Public Record Bankruptcies']\n",
    "\n",
    "le = preprocessing.LabelEncoder()\n",
    "\n",
    "def labelencoder(input):\n",
    "    if input == 'None':\n",
    "        return 0\n",
    "    elif input == 'One':\n",
    "        return 1\n",
    "    elif input == 'Two':\n",
    "        return 2\n",
    "    elif input == 'Three':\n",
    "        return 3\n",
    "    elif input == 'Four':\n",
    "        return 4\n",
    "    elif input == 'Five':\n",
    "        return 5\n",
    "    elif input == 'Six':\n",
    "        return 6\n",
    "    elif input == 'Seven':\n",
    "        return 7\n",
    "    elif input == 'Eight':\n",
    "        return 8\n",
    "    elif input == 'Nine':\n",
    "        return 9\n",
    "    else:\n",
    "        return input\n",
    "\n",
    "for c in cols:    \n",
    "    df_raw[c] = df_raw[c].apply(labelencoder)\n"
   ]
  },
  {
   "cell_type": "code",
   "execution_count": 28,
   "metadata": {
    "collapsed": false,
    "deletable": true,
    "editable": true
   },
   "outputs": [],
   "source": [
    "# drop redundant feature\n",
    "\n",
    "df_raw.drop('Class', axis=1, inplace=True)"
   ]
  },
  {
   "cell_type": "code",
   "execution_count": 29,
   "metadata": {
    "collapsed": true,
    "deletable": true,
    "editable": true
   },
   "outputs": [],
   "source": [
    "# deal with nan values\n",
    "\n",
    "data = df_raw.fillna(df_raw.median())"
   ]
  },
  {
   "cell_type": "code",
   "execution_count": 30,
   "metadata": {
    "collapsed": false,
    "deletable": true,
    "editable": true
   },
   "outputs": [
    {
     "data": {
      "text/html": [
       "<div>\n",
       "<table border=\"1\" class=\"dataframe\">\n",
       "  <thead>\n",
       "    <tr style=\"text-align: right;\">\n",
       "      <th></th>\n",
       "      <th>Loan Amount</th>\n",
       "      <th>Employment Length</th>\n",
       "      <th>Annual Income</th>\n",
       "      <th>Debt To Income Ratio</th>\n",
       "      <th>No. Delinquencies In Last 2 Years</th>\n",
       "      <th>Earliest Credit Line Opened</th>\n",
       "      <th>No. Inquiries In Last 6 Months</th>\n",
       "      <th>Months Since Last Delinquency</th>\n",
       "      <th>No. Of Credit Lines</th>\n",
       "      <th>No. Adverse Public Records</th>\n",
       "      <th>...</th>\n",
       "      <th>Loan Purpose_Vacation</th>\n",
       "      <th>Loan Purpose_Wedding</th>\n",
       "      <th>FICO Credit Score_Exceptional</th>\n",
       "      <th>FICO Credit Score_Good</th>\n",
       "      <th>FICO Credit Score_Very Good</th>\n",
       "      <th>Address State_East_Coast</th>\n",
       "      <th>Address State_Middle</th>\n",
       "      <th>Address State_North</th>\n",
       "      <th>Address State_South</th>\n",
       "      <th>Address State_West_Coast</th>\n",
       "    </tr>\n",
       "  </thead>\n",
       "  <tbody>\n",
       "    <tr>\n",
       "      <th>count</th>\n",
       "      <td>24776.000000</td>\n",
       "      <td>24776.000000</td>\n",
       "      <td>24776.000000</td>\n",
       "      <td>24776.000000</td>\n",
       "      <td>24776.000000</td>\n",
       "      <td>24776.000000</td>\n",
       "      <td>24776.000000</td>\n",
       "      <td>24776.000000</td>\n",
       "      <td>24776.000000</td>\n",
       "      <td>24776.000000</td>\n",
       "      <td>...</td>\n",
       "      <td>24776.000000</td>\n",
       "      <td>24776.000000</td>\n",
       "      <td>24776.000000</td>\n",
       "      <td>24776.000000</td>\n",
       "      <td>24776.000000</td>\n",
       "      <td>24776.000000</td>\n",
       "      <td>24776.000000</td>\n",
       "      <td>24776.000000</td>\n",
       "      <td>24776.000000</td>\n",
       "      <td>24776.000000</td>\n",
       "    </tr>\n",
       "    <tr>\n",
       "      <th>mean</th>\n",
       "      <td>11115.051865</td>\n",
       "      <td>4.810119</td>\n",
       "      <td>67178.127238</td>\n",
       "      <td>13.233087</td>\n",
       "      <td>0.152648</td>\n",
       "      <td>35647.665675</td>\n",
       "      <td>0.952696</td>\n",
       "      <td>12.845899</td>\n",
       "      <td>9.429085</td>\n",
       "      <td>0.054004</td>\n",
       "      <td>...</td>\n",
       "      <td>0.008476</td>\n",
       "      <td>0.023248</td>\n",
       "      <td>0.210203</td>\n",
       "      <td>0.134687</td>\n",
       "      <td>0.643768</td>\n",
       "      <td>0.312036</td>\n",
       "      <td>0.139692</td>\n",
       "      <td>0.089320</td>\n",
       "      <td>0.277890</td>\n",
       "      <td>0.181022</td>\n",
       "    </tr>\n",
       "    <tr>\n",
       "      <th>std</th>\n",
       "      <td>7334.153775</td>\n",
       "      <td>3.528494</td>\n",
       "      <td>37288.333082</td>\n",
       "      <td>6.908916</td>\n",
       "      <td>0.500119</td>\n",
       "      <td>2243.580467</td>\n",
       "      <td>1.111804</td>\n",
       "      <td>21.556324</td>\n",
       "      <td>4.512968</td>\n",
       "      <td>0.235989</td>\n",
       "      <td>...</td>\n",
       "      <td>0.091676</td>\n",
       "      <td>0.150694</td>\n",
       "      <td>0.407461</td>\n",
       "      <td>0.341396</td>\n",
       "      <td>0.478895</td>\n",
       "      <td>0.463334</td>\n",
       "      <td>0.346674</td>\n",
       "      <td>0.285211</td>\n",
       "      <td>0.447968</td>\n",
       "      <td>0.385044</td>\n",
       "    </tr>\n",
       "    <tr>\n",
       "      <th>min</th>\n",
       "      <td>500.000000</td>\n",
       "      <td>0.000000</td>\n",
       "      <td>4000.000000</td>\n",
       "      <td>0.000000</td>\n",
       "      <td>0.000000</td>\n",
       "      <td>30000.000000</td>\n",
       "      <td>0.000000</td>\n",
       "      <td>0.000000</td>\n",
       "      <td>1.000000</td>\n",
       "      <td>0.000000</td>\n",
       "      <td>...</td>\n",
       "      <td>0.000000</td>\n",
       "      <td>0.000000</td>\n",
       "      <td>0.000000</td>\n",
       "      <td>0.000000</td>\n",
       "      <td>0.000000</td>\n",
       "      <td>0.000000</td>\n",
       "      <td>0.000000</td>\n",
       "      <td>0.000000</td>\n",
       "      <td>0.000000</td>\n",
       "      <td>0.000000</td>\n",
       "    </tr>\n",
       "    <tr>\n",
       "      <th>25%</th>\n",
       "      <td>5500.000000</td>\n",
       "      <td>2.000000</td>\n",
       "      <td>41000.000000</td>\n",
       "      <td>7.940000</td>\n",
       "      <td>0.000000</td>\n",
       "      <td>34411.236115</td>\n",
       "      <td>0.000000</td>\n",
       "      <td>0.000000</td>\n",
       "      <td>6.000000</td>\n",
       "      <td>0.000000</td>\n",
       "      <td>...</td>\n",
       "      <td>0.000000</td>\n",
       "      <td>0.000000</td>\n",
       "      <td>0.000000</td>\n",
       "      <td>0.000000</td>\n",
       "      <td>0.000000</td>\n",
       "      <td>0.000000</td>\n",
       "      <td>0.000000</td>\n",
       "      <td>0.000000</td>\n",
       "      <td>0.000000</td>\n",
       "      <td>0.000000</td>\n",
       "    </tr>\n",
       "    <tr>\n",
       "      <th>50%</th>\n",
       "      <td>10000.000000</td>\n",
       "      <td>4.000000</td>\n",
       "      <td>60000.000000</td>\n",
       "      <td>13.270000</td>\n",
       "      <td>0.000000</td>\n",
       "      <td>36043.425690</td>\n",
       "      <td>1.000000</td>\n",
       "      <td>0.000000</td>\n",
       "      <td>9.000000</td>\n",
       "      <td>0.000000</td>\n",
       "      <td>...</td>\n",
       "      <td>0.000000</td>\n",
       "      <td>0.000000</td>\n",
       "      <td>0.000000</td>\n",
       "      <td>0.000000</td>\n",
       "      <td>1.000000</td>\n",
       "      <td>0.000000</td>\n",
       "      <td>0.000000</td>\n",
       "      <td>0.000000</td>\n",
       "      <td>0.000000</td>\n",
       "      <td>0.000000</td>\n",
       "    </tr>\n",
       "    <tr>\n",
       "      <th>75%</th>\n",
       "      <td>15000.000000</td>\n",
       "      <td>8.000000</td>\n",
       "      <td>83000.000000</td>\n",
       "      <td>18.560000</td>\n",
       "      <td>0.000000</td>\n",
       "      <td>37202.679688</td>\n",
       "      <td>2.000000</td>\n",
       "      <td>21.000000</td>\n",
       "      <td>12.000000</td>\n",
       "      <td>0.000000</td>\n",
       "      <td>...</td>\n",
       "      <td>0.000000</td>\n",
       "      <td>0.000000</td>\n",
       "      <td>0.000000</td>\n",
       "      <td>0.000000</td>\n",
       "      <td>1.000000</td>\n",
       "      <td>1.000000</td>\n",
       "      <td>0.000000</td>\n",
       "      <td>0.000000</td>\n",
       "      <td>1.000000</td>\n",
       "      <td>0.000000</td>\n",
       "    </tr>\n",
       "    <tr>\n",
       "      <th>max</th>\n",
       "      <td>35000.000000</td>\n",
       "      <td>10.000000</td>\n",
       "      <td>200000.000000</td>\n",
       "      <td>34.980000</td>\n",
       "      <td>9.000000</td>\n",
       "      <td>40075.198610</td>\n",
       "      <td>8.000000</td>\n",
       "      <td>106.000000</td>\n",
       "      <td>49.000000</td>\n",
       "      <td>4.000000</td>\n",
       "      <td>...</td>\n",
       "      <td>1.000000</td>\n",
       "      <td>1.000000</td>\n",
       "      <td>1.000000</td>\n",
       "      <td>1.000000</td>\n",
       "      <td>1.000000</td>\n",
       "      <td>1.000000</td>\n",
       "      <td>1.000000</td>\n",
       "      <td>1.000000</td>\n",
       "      <td>1.000000</td>\n",
       "      <td>1.000000</td>\n",
       "    </tr>\n",
       "  </tbody>\n",
       "</table>\n",
       "<p>8 rows × 46 columns</p>\n",
       "</div>"
      ],
      "text/plain": [
       "        Loan Amount  Employment Length  Annual Income  Debt To Income Ratio  \\\n",
       "count  24776.000000       24776.000000   24776.000000          24776.000000   \n",
       "mean   11115.051865           4.810119   67178.127238             13.233087   \n",
       "std     7334.153775           3.528494   37288.333082              6.908916   \n",
       "min      500.000000           0.000000    4000.000000              0.000000   \n",
       "25%     5500.000000           2.000000   41000.000000              7.940000   \n",
       "50%    10000.000000           4.000000   60000.000000             13.270000   \n",
       "75%    15000.000000           8.000000   83000.000000             18.560000   \n",
       "max    35000.000000          10.000000  200000.000000             34.980000   \n",
       "\n",
       "       No. Delinquencies In Last 2 Years  Earliest Credit Line Opened  \\\n",
       "count                       24776.000000                 24776.000000   \n",
       "mean                            0.152648                 35647.665675   \n",
       "std                             0.500119                  2243.580467   \n",
       "min                             0.000000                 30000.000000   \n",
       "25%                             0.000000                 34411.236115   \n",
       "50%                             0.000000                 36043.425690   \n",
       "75%                             0.000000                 37202.679688   \n",
       "max                             9.000000                 40075.198610   \n",
       "\n",
       "       No. Inquiries In Last 6 Months  Months Since Last Delinquency  \\\n",
       "count                    24776.000000                   24776.000000   \n",
       "mean                         0.952696                      12.845899   \n",
       "std                          1.111804                      21.556324   \n",
       "min                          0.000000                       0.000000   \n",
       "25%                          0.000000                       0.000000   \n",
       "50%                          1.000000                       0.000000   \n",
       "75%                          2.000000                      21.000000   \n",
       "max                          8.000000                     106.000000   \n",
       "\n",
       "       No. Of Credit Lines  No. Adverse Public Records  \\\n",
       "count         24776.000000                24776.000000   \n",
       "mean              9.429085                    0.054004   \n",
       "std               4.512968                    0.235989   \n",
       "min               1.000000                    0.000000   \n",
       "25%               6.000000                    0.000000   \n",
       "50%               9.000000                    0.000000   \n",
       "75%              12.000000                    0.000000   \n",
       "max              49.000000                    4.000000   \n",
       "\n",
       "                 ...             Loan Purpose_Vacation  Loan Purpose_Wedding  \\\n",
       "count            ...                      24776.000000          24776.000000   \n",
       "mean             ...                          0.008476              0.023248   \n",
       "std              ...                          0.091676              0.150694   \n",
       "min              ...                          0.000000              0.000000   \n",
       "25%              ...                          0.000000              0.000000   \n",
       "50%              ...                          0.000000              0.000000   \n",
       "75%              ...                          0.000000              0.000000   \n",
       "max              ...                          1.000000              1.000000   \n",
       "\n",
       "       FICO Credit Score_Exceptional  FICO Credit Score_Good  \\\n",
       "count                   24776.000000            24776.000000   \n",
       "mean                        0.210203                0.134687   \n",
       "std                         0.407461                0.341396   \n",
       "min                         0.000000                0.000000   \n",
       "25%                         0.000000                0.000000   \n",
       "50%                         0.000000                0.000000   \n",
       "75%                         0.000000                0.000000   \n",
       "max                         1.000000                1.000000   \n",
       "\n",
       "       FICO Credit Score_Very Good  Address State_East_Coast  \\\n",
       "count                 24776.000000              24776.000000   \n",
       "mean                      0.643768                  0.312036   \n",
       "std                       0.478895                  0.463334   \n",
       "min                       0.000000                  0.000000   \n",
       "25%                       0.000000                  0.000000   \n",
       "50%                       1.000000                  0.000000   \n",
       "75%                       1.000000                  1.000000   \n",
       "max                       1.000000                  1.000000   \n",
       "\n",
       "       Address State_Middle  Address State_North  Address State_South  \\\n",
       "count          24776.000000         24776.000000         24776.000000   \n",
       "mean               0.139692             0.089320             0.277890   \n",
       "std                0.346674             0.285211             0.447968   \n",
       "min                0.000000             0.000000             0.000000   \n",
       "25%                0.000000             0.000000             0.000000   \n",
       "50%                0.000000             0.000000             0.000000   \n",
       "75%                0.000000             0.000000             1.000000   \n",
       "max                1.000000             1.000000             1.000000   \n",
       "\n",
       "       Address State_West_Coast  \n",
       "count              24776.000000  \n",
       "mean                   0.181022  \n",
       "std                    0.385044  \n",
       "min                    0.000000  \n",
       "25%                    0.000000  \n",
       "50%                    0.000000  \n",
       "75%                    0.000000  \n",
       "max                    1.000000  \n",
       "\n",
       "[8 rows x 46 columns]"
      ]
     },
     "execution_count": 30,
     "metadata": {},
     "output_type": "execute_result"
    }
   ],
   "source": [
    "data.describe()"
   ]
  },
  {
   "cell_type": "markdown",
   "metadata": {
    "deletable": true,
    "editable": true
   },
   "source": [
    "# Dealing with outliers"
   ]
  },
  {
   "cell_type": "code",
   "execution_count": 31,
   "metadata": {
    "collapsed": false,
    "deletable": true,
    "editable": true
   },
   "outputs": [
    {
     "data": {
      "text/plain": [
       "<matplotlib.axes._subplots.AxesSubplot at 0xc4dd550>"
      ]
     },
     "execution_count": 31,
     "metadata": {},
     "output_type": "execute_result"
    },
    {
     "data": {
      "image/png": "[encoded data removed]",
      "text/plain": [
       "<matplotlib.figure.Figure at 0xc4dd160>"
      ]
     },
     "metadata": {},
     "output_type": "display_data"
    }
   ],
   "source": [
    "data['Annual Income'].plot()"
   ]
  },
  {
   "cell_type": "code",
   "execution_count": 32,
   "metadata": {
    "collapsed": false,
    "deletable": true,
    "editable": true
   },
   "outputs": [
    {
     "data": {
      "text/plain": [
       "<matplotlib.axes._subplots.AxesSubplot at 0xdcbf748>"
      ]
     },
     "execution_count": 32,
     "metadata": {},
     "output_type": "execute_result"
    },
    {
     "data": {
      "image/png": "[encoded data removed]",
      "text/plain": [
       "<matplotlib.figure.Figure at 0xdcd4668>"
      ]
     },
     "metadata": {},
     "output_type": "display_data"
    }
   ],
   "source": [
    "data['Debt To Income Ratio'].plot()"
   ]
  },
  {
   "cell_type": "code",
   "execution_count": 33,
   "metadata": {
    "collapsed": false,
    "deletable": true,
    "editable": true
   },
   "outputs": [
    {
     "data": {
      "text/plain": [
       "<matplotlib.axes._subplots.AxesSubplot at 0xdce29e8>"
      ]
     },
     "execution_count": 33,
     "metadata": {},
     "output_type": "execute_result"
    },
    {
     "data": {
      "image/png": "[encoded data removed]",
      "text/plain": [
       "<matplotlib.figure.Figure at 0xc512668>"
      ]
     },
     "metadata": {},
     "output_type": "display_data"
    }
   ],
   "source": [
    "data['No. Delinquencies In Last 2 Years'].plot()"
   ]
  },
  {
   "cell_type": "code",
   "execution_count": 34,
   "metadata": {
    "collapsed": false,
    "deletable": true,
    "editable": true
   },
   "outputs": [],
   "source": [
    "# most values lie between 0 and 4, therefore I will take out any values above.\n",
    "\n",
    "delinq = data['No. Delinquencies In Last 2 Years']<=4"
   ]
  },
  {
   "cell_type": "code",
   "execution_count": 35,
   "metadata": {
    "collapsed": false,
    "deletable": true,
    "editable": true
   },
   "outputs": [
    {
     "data": {
      "text/plain": [
       "<matplotlib.axes._subplots.AxesSubplot at 0xc0c1470>"
      ]
     },
     "execution_count": 35,
     "metadata": {},
     "output_type": "execute_result"
    },
    {
     "data": {
      "image/png": "[encoded data removed]",
      "text/plain": [
       "<matplotlib.figure.Figure at 0xed790f0>"
      ]
     },
     "metadata": {},
     "output_type": "display_data"
    }
   ],
   "source": [
    "data['No. Inquiries In Last 6 Months'].plot()"
   ]
  },
  {
   "cell_type": "code",
   "execution_count": 36,
   "metadata": {
    "collapsed": true,
    "deletable": true,
    "editable": true
   },
   "outputs": [],
   "source": [
    "# most features lie between 0 and 7, hence I will take out any features above.\n",
    "\n",
    "inq = data['No. Inquiries In Last 6 Months'] <= 7"
   ]
  },
  {
   "cell_type": "code",
   "execution_count": 37,
   "metadata": {
    "collapsed": false,
    "deletable": true,
    "editable": true
   },
   "outputs": [
    {
     "data": {
      "text/plain": [
       "<matplotlib.axes._subplots.AxesSubplot at 0xebb13c8>"
      ]
     },
     "execution_count": 37,
     "metadata": {},
     "output_type": "execute_result"
    },
    {
     "data": {
      "image/png": "[encoded data removed]",
      "text/plain": [
       "<matplotlib.figure.Figure at 0xebbd828>"
      ]
     },
     "metadata": {},
     "output_type": "display_data"
    }
   ],
   "source": [
    "data['Months Since Last Delinquency'].plot()"
   ]
  },
  {
   "cell_type": "code",
   "execution_count": 38,
   "metadata": {
    "collapsed": true,
    "deletable": true,
    "editable": true
   },
   "outputs": [],
   "source": [
    "# most features lie below 85, hence I will take out features above \n",
    "\n",
    "mon = data['Months Since Last Delinquency'] <=85"
   ]
  },
  {
   "cell_type": "code",
   "execution_count": 39,
   "metadata": {
    "collapsed": false,
    "deletable": true,
    "editable": true
   },
   "outputs": [
    {
     "data": {
      "text/plain": [
       "<matplotlib.axes._subplots.AxesSubplot at 0xef6d3c8>"
      ]
     },
     "execution_count": 39,
     "metadata": {},
     "output_type": "execute_result"
    },
    {
     "data": {
      "image/png": "[encoded data removed]",
      "text/plain": [
       "<matplotlib.figure.Figure at 0xe203eb8>"
      ]
     },
     "metadata": {},
     "output_type": "display_data"
    }
   ],
   "source": [
    "data['No. Of Credit Lines'].plot()"
   ]
  },
  {
   "cell_type": "code",
   "execution_count": 40,
   "metadata": {
    "collapsed": true,
    "deletable": true,
    "editable": true
   },
   "outputs": [],
   "source": [
    "# most values are below 30, hence I will take out values above 30\n",
    "\n",
    "lines = data['No. Of Credit Lines'] <=30"
   ]
  },
  {
   "cell_type": "code",
   "execution_count": 41,
   "metadata": {
    "collapsed": false,
    "deletable": true,
    "editable": true
   },
   "outputs": [
    {
     "data": {
      "text/plain": [
       "<matplotlib.axes._subplots.AxesSubplot at 0xe474358>"
      ]
     },
     "execution_count": 41,
     "metadata": {},
     "output_type": "execute_result"
    },
    {
     "data": {
      "image/png": "[encoded data removed]",
      "text/plain": [
       "<matplotlib.figure.Figure at 0xe467eb8>"
      ]
     },
     "metadata": {},
     "output_type": "display_data"
    }
   ],
   "source": [
    "data['No. Adverse Public Records'].plot()"
   ]
  },
  {
   "cell_type": "code",
   "execution_count": 42,
   "metadata": {
    "collapsed": true,
    "deletable": true,
    "editable": true
   },
   "outputs": [],
   "source": [
    "# most values lie at 1, hence I will take out values above 1\n",
    "\n",
    "adv = data['No. Adverse Public Records'] <= 1"
   ]
  },
  {
   "cell_type": "code",
   "execution_count": 46,
   "metadata": {
    "collapsed": false,
    "deletable": true,
    "editable": true
   },
   "outputs": [
    {
     "data": {
      "text/plain": [
       "<matplotlib.axes._subplots.AxesSubplot at 0x42557b8>"
      ]
     },
     "execution_count": 46,
     "metadata": {},
     "output_type": "execute_result"
    },
    {
     "data": {
      "image/png": "[encoded data removed]",
      "text/plain": [
       "<matplotlib.figure.Figure at 0x15d661d0>"
      ]
     },
     "metadata": {},
     "output_type": "display_data"
    }
   ],
   "source": [
    "data['Total Credit Balance'].plot()"
   ]
  },
  {
   "cell_type": "code",
   "execution_count": 47,
   "metadata": {
    "collapsed": false,
    "deletable": true,
    "editable": true
   },
   "outputs": [
    {
     "data": {
      "text/plain": [
       "<matplotlib.axes._subplots.AxesSubplot at 0x15eab630>"
      ]
     },
     "execution_count": 47,
     "metadata": {},
     "output_type": "execute_result"
    },
    {
     "data": {
      "image/png": "[encoded data removed]",
      "text/plain": [
       "<matplotlib.figure.Figure at 0x1b586cf8>"
      ]
     },
     "metadata": {},
     "output_type": "display_data"
    }
   ],
   "source": [
    "data['Use Of Credit Line'].plot()"
   ]
  },
  {
   "cell_type": "code",
   "execution_count": 48,
   "metadata": {
    "collapsed": false,
    "deletable": true,
    "editable": true
   },
   "outputs": [
    {
     "data": {
      "text/plain": [
       "<matplotlib.axes._subplots.AxesSubplot at 0x15c3a898>"
      ]
     },
     "execution_count": 48,
     "metadata": {},
     "output_type": "execute_result"
    },
    {
     "data": {
      "image/png": "[encoded data removed]",
      "text/plain": [
       "<matplotlib.figure.Figure at 0x1b586dd8>"
      ]
     },
     "metadata": {},
     "output_type": "display_data"
    }
   ],
   "source": [
    "data['Total Number Of Credit Lines'].plot()"
   ]
  },
  {
   "cell_type": "code",
   "execution_count": 49,
   "metadata": {
    "collapsed": true,
    "deletable": true,
    "editable": true
   },
   "outputs": [],
   "source": [
    "\n",
    "crd = data['Total Number Of Credit Lines'] <= 65"
   ]
  },
  {
   "cell_type": "code",
   "execution_count": 50,
   "metadata": {
    "collapsed": false,
    "deletable": true,
    "editable": true
   },
   "outputs": [
    {
     "data": {
      "text/plain": [
       "<matplotlib.axes._subplots.AxesSubplot at 0x17868fd0>"
      ]
     },
     "execution_count": 50,
     "metadata": {},
     "output_type": "execute_result"
    },
    {
     "data": {
      "image/png": "[encoded data removed]",
      "text/plain": [
       "<matplotlib.figure.Figure at 0x17851630>"
      ]
     },
     "metadata": {},
     "output_type": "display_data"
    }
   ],
   "source": [
    "data['No. Of Public Record Bankruptcies'].plot()"
   ]
  },
  {
   "cell_type": "code",
   "execution_count": 51,
   "metadata": {
    "collapsed": true,
    "deletable": true,
    "editable": true
   },
   "outputs": [],
   "source": [
    "\n",
    "bank = data['No. Of Public Record Bankruptcies'] <= 1\n"
   ]
  },
  {
   "cell_type": "code",
   "execution_count": 52,
   "metadata": {
    "collapsed": false,
    "deletable": true,
    "editable": true
   },
   "outputs": [],
   "source": [
    "# filter out outliers\n",
    "\n",
    "new_data = data[delinq & inq & mon & lines & adv & crd & bank]"
   ]
  },
  {
   "cell_type": "code",
   "execution_count": 53,
   "metadata": {
    "collapsed": false,
    "deletable": true,
    "editable": true
   },
   "outputs": [
    {
     "name": "stdout",
     "output_type": "stream",
     "text": [
      "<class 'pandas.core.frame.DataFrame'>\n",
      "Int64Index: 24638 entries, 0 to 24775\n",
      "Data columns (total 46 columns):\n",
      "Loan Amount                          24638 non-null int64\n",
      "Employment Length                    24638 non-null float64\n",
      "Annual Income                        24638 non-null float64\n",
      "Debt To Income Ratio                 24638 non-null float64\n",
      "No. Delinquencies In Last 2 Years    24638 non-null float64\n",
      "Earliest Credit Line Opened          24638 non-null float64\n",
      "No. Inquiries In Last 6 Months       24638 non-null float64\n",
      "Months Since Last Delinquency        24638 non-null int64\n",
      "No. Of Credit Lines                  24638 non-null float64\n",
      "No. Adverse Public Records           24638 non-null float64\n",
      "Total Credit Balance                 24638 non-null float64\n",
      "Use Of Credit Line                   24638 non-null float64\n",
      "Total Number Of Credit Lines         24638 non-null float64\n",
      "Loan Application Description         24638 non-null int64\n",
      "No. Of Public Record Bankruptcies    24638 non-null int64\n",
      "Class_new                            24638 non-null int64\n",
      "Loan Term_36 Months                  24638 non-null uint8\n",
      "Loan Term_60 Months                  24638 non-null uint8\n",
      "Home Ownership_MORTGAGE              24638 non-null uint8\n",
      "Home Ownership_NOne                  24638 non-null uint8\n",
      "Home Ownership_OTHER                 24638 non-null uint8\n",
      "Home Ownership_OWN                   24638 non-null uint8\n",
      "Home Ownership_RENT                  24638 non-null uint8\n",
      "Loan Purpose_0                       24638 non-null uint8\n",
      "Loan Purpose_Car                     24638 non-null uint8\n",
      "Loan Purpose_Credit Card             24638 non-null uint8\n",
      "Loan Purpose_Debt Consolidation      24638 non-null uint8\n",
      "Loan Purpose_Educationalal           24638 non-null uint8\n",
      "Loan Purpose_Home Improvement        24638 non-null uint8\n",
      "Loan Purpose_House                   24638 non-null uint8\n",
      "Loan Purpose_Major Purchase          24638 non-null uint8\n",
      "Loan Purpose_Medical                 24638 non-null uint8\n",
      "Loan Purpose_Moving                  24638 non-null uint8\n",
      "Loan Purpose_Other                   24638 non-null uint8\n",
      "Loan Purpose_Renewable Energy        24638 non-null uint8\n",
      "Loan Purpose_Small Business          24638 non-null uint8\n",
      "Loan Purpose_Vacation                24638 non-null uint8\n",
      "Loan Purpose_Wedding                 24638 non-null uint8\n",
      "FICO Credit Score_Exceptional        24638 non-null uint8\n",
      "FICO Credit Score_Good               24638 non-null uint8\n",
      "FICO Credit Score_Very Good          24638 non-null uint8\n",
      "Address State_East_Coast             24638 non-null uint8\n",
      "Address State_Middle                 24638 non-null uint8\n",
      "Address State_North                  24638 non-null uint8\n",
      "Address State_South                  24638 non-null uint8\n",
      "Address State_West_Coast             24638 non-null uint8\n",
      "dtypes: float64(11), int64(5), uint8(30)\n",
      "memory usage: 3.9 MB\n"
     ]
    }
   ],
   "source": [
    "new_data.info()"
   ]
  },
  {
   "cell_type": "code",
   "execution_count": 54,
   "metadata": {
    "collapsed": false,
    "deletable": true,
    "editable": true
   },
   "outputs": [
    {
     "data": {
      "text/plain": [
       "<matplotlib.axes._subplots.AxesSubplot at 0x23480438>"
      ]
     },
     "execution_count": 54,
     "metadata": {},
     "output_type": "execute_result"
    },
    {
     "data": {
      "image/png": "[encoded data removed]",
      "text/plain": [
       "<matplotlib.figure.Figure at 0x23480320>"
      ]
     },
     "metadata": {},
     "output_type": "display_data"
    }
   ],
   "source": [
    "corr = new_data.corr()\n",
    "sns.heatmap(corr, xticklabels='', yticklabels='')"
   ]
  },
  {
   "cell_type": "markdown",
   "metadata": {
    "deletable": true,
    "editable": true
   },
   "source": [
    "# Define X and y"
   ]
  },
  {
   "cell_type": "code",
   "execution_count": 55,
   "metadata": {
    "collapsed": false,
    "deletable": true,
    "editable": true
   },
   "outputs": [],
   "source": [
    "# define X and y\n",
    "\n",
    "y = new_data['Class_new']\n",
    "y.columns = ['Class']\n",
    "X = new_data.drop(['Class_new'], axis=1)"
   ]
  },
  {
   "cell_type": "code",
   "execution_count": 56,
   "metadata": {
    "collapsed": false,
    "deletable": true,
    "editable": true
   },
   "outputs": [],
   "source": [
    "# train test split\n",
    "# stratify target y as it may not be normally distributed\n",
    "\n",
    "from sklearn.model_selection import train_test_split\n",
    "\n",
    "X_train, X_test, y_train, y_test = train_test_split(X, y, test_size=0.3, random_state=42,\\\n",
    "                                                    stratify=y)"
   ]
  },
  {
   "cell_type": "markdown",
   "metadata": {
    "deletable": true,
    "editable": true
   },
   "source": [
    "# Classification"
   ]
  },
  {
   "cell_type": "code",
   "execution_count": 63,
   "metadata": {
    "collapsed": false,
    "deletable": true,
    "editable": true
   },
   "outputs": [
    {
     "name": "stdout",
     "output_type": "stream",
     "text": [
      "The AUC score for a simple Logistic Regression model is 0.7207.\n"
     ]
    }
   ],
   "source": [
    "# build logistic regression model\n",
    "# address unbalanced classes with parameter 'class_weights'\n",
    "\n",
    "from sklearn import linear_model\n",
    "from sklearn.metrics import roc_auc_score\n",
    "\n",
    "estimator = linear_model.LogisticRegression(random_state=42, class_weight={0:0.1817, 1:0.8183})\n",
    "\n",
    "estimator.fit(X_train, y_train)\n",
    "\n",
    "y_pred_regr = estimator.predict_proba(X_test)\n",
    "\n",
    "y_pred_regr = pd.DataFrame(y_pred_regr, index=y_test.index)\n",
    "\n",
    "# how does the basic model perform?\n",
    "\n",
    "AUC = roc_auc_score(y_test, y_pred_regr[1])\n",
    "print(\"The AUC score for a simple Logistic Regression model is {:.4f}.\".format(AUC))\n"
   ]
  },
  {
   "cell_type": "code",
   "execution_count": 64,
   "metadata": {
    "collapsed": false,
    "deletable": true,
    "editable": true
   },
   "outputs": [
    {
     "name": "stdout",
     "output_type": "stream",
     "text": [
      "The AUC score for an optimised Logistic Regression model is 0.7216.\n"
     ]
    }
   ],
   "source": [
    "# tuning model parameters\n",
    "\n",
    "from sklearn.model_selection import GridSearchCV\n",
    "\n",
    "\n",
    "param_grid = {'C': [0.01, 1, 2, 3], 'penalty':['l1', 'l2']}\n",
    "             \n",
    "gsregr = GridSearchCV(estimator, param_grid, cv=9)\n",
    "    \n",
    "gsregr.fit(X_train, y_train)\n",
    "\n",
    "y_pred_opt = gsregr.predict_proba(X_test)\n",
    "y_pred_opt = pd.DataFrame(y_pred_opt, index = y_test.index)\n",
    "\n",
    "# how does the optimised model perform?\n",
    "\n",
    "AUC_opt = roc_auc_score(y_test, y_pred_opt[1])\n",
    "print(\"The AUC score for an optimised Logistic Regression model is {:.4f}.\".format(AUC_opt))\n",
    "                        "
   ]
  },
  {
   "cell_type": "code",
   "execution_count": 65,
   "metadata": {
    "collapsed": false,
    "deletable": true,
    "editable": true
   },
   "outputs": [
    {
     "name": "stdout",
     "output_type": "stream",
     "text": [
      "{'penalty': 'l1', 'C': 2}\n"
     ]
    }
   ],
   "source": [
    "# what are the best parameters?\n",
    "\n",
    "print(gsregr.best_params_)"
   ]
  },
  {
   "cell_type": "code",
   "execution_count": 66,
   "metadata": {
    "collapsed": false,
    "deletable": true,
    "editable": true
   },
   "outputs": [],
   "source": [
    "# look at the coefficients\n",
    "\n",
    "coef = pd.DataFrame(gsregr.best_estimator_.coef_)\n",
    "coef.columns = X_test.columns\n",
    "coef = coef.transpose()\n",
    "coef.columns = ['Coef_size']\n",
    "coef_sorted = coef.sort_values('Coef_size', ascending=False)\n"
   ]
  },
  {
   "cell_type": "code",
   "execution_count": 67,
   "metadata": {
    "collapsed": false,
    "deletable": true,
    "editable": true
   },
   "outputs": [
    {
     "data": {
      "text/html": [
       "<div>\n",
       "<table border=\"1\" class=\"dataframe\">\n",
       "  <thead>\n",
       "    <tr style=\"text-align: right;\">\n",
       "      <th></th>\n",
       "      <th>Coef_size</th>\n",
       "    </tr>\n",
       "  </thead>\n",
       "  <tbody>\n",
       "    <tr>\n",
       "      <th>FICO Credit Score_Good</th>\n",
       "      <td>3.948234</td>\n",
       "    </tr>\n",
       "    <tr>\n",
       "      <th>FICO Credit Score_Very Good</th>\n",
       "      <td>2.635692</td>\n",
       "    </tr>\n",
       "    <tr>\n",
       "      <th>Loan Purpose_Small Business</th>\n",
       "      <td>2.624707</td>\n",
       "    </tr>\n",
       "    <tr>\n",
       "      <th>Loan Term_60 Months</th>\n",
       "      <td>2.193179</td>\n",
       "    </tr>\n",
       "    <tr>\n",
       "      <th>No. Adverse Public Records</th>\n",
       "      <td>1.882055</td>\n",
       "    </tr>\n",
       "    <tr>\n",
       "      <th>FICO Credit Score_Exceptional</th>\n",
       "      <td>1.676572</td>\n",
       "    </tr>\n",
       "    <tr>\n",
       "      <th>Loan Purpose_Medical</th>\n",
       "      <td>1.465377</td>\n",
       "    </tr>\n",
       "    <tr>\n",
       "      <th>Loan Purpose_Renewable Energy</th>\n",
       "      <td>1.395834</td>\n",
       "    </tr>\n",
       "    <tr>\n",
       "      <th>Address State_West_Coast</th>\n",
       "      <td>1.256469</td>\n",
       "    </tr>\n",
       "    <tr>\n",
       "      <th>No. Inquiries In Last 6 Months</th>\n",
       "      <td>1.232161</td>\n",
       "    </tr>\n",
       "    <tr>\n",
       "      <th>Loan Purpose_Vacation</th>\n",
       "      <td>1.221745</td>\n",
       "    </tr>\n",
       "    <tr>\n",
       "      <th>Loan Purpose_Moving</th>\n",
       "      <td>1.203831</td>\n",
       "    </tr>\n",
       "    <tr>\n",
       "      <th>Loan Purpose_Other</th>\n",
       "      <td>1.171109</td>\n",
       "    </tr>\n",
       "    <tr>\n",
       "      <th>Home Ownership_RENT</th>\n",
       "      <td>1.080633</td>\n",
       "    </tr>\n",
       "    <tr>\n",
       "      <th>No. Delinquencies In Last 2 Years</th>\n",
       "      <td>1.076531</td>\n",
       "    </tr>\n",
       "    <tr>\n",
       "      <th>Address State_South</th>\n",
       "      <td>1.049997</td>\n",
       "    </tr>\n",
       "    <tr>\n",
       "      <th>Home Ownership_OWN</th>\n",
       "      <td>1.030486</td>\n",
       "    </tr>\n",
       "    <tr>\n",
       "      <th>No. Of Credit Lines</th>\n",
       "      <td>1.012101</td>\n",
       "    </tr>\n",
       "    <tr>\n",
       "      <th>Loan Purpose_House</th>\n",
       "      <td>1.011334</td>\n",
       "    </tr>\n",
       "    <tr>\n",
       "      <th>Debt To Income Ratio</th>\n",
       "      <td>1.009408</td>\n",
       "    </tr>\n",
       "    <tr>\n",
       "      <th>Use Of Credit Line</th>\n",
       "      <td>1.008136</td>\n",
       "    </tr>\n",
       "    <tr>\n",
       "      <th>Employment Length</th>\n",
       "      <td>1.002201</td>\n",
       "    </tr>\n",
       "    <tr>\n",
       "      <th>Loan Amount</th>\n",
       "      <td>1.000015</td>\n",
       "    </tr>\n",
       "    <tr>\n",
       "      <th>Total Credit Balance</th>\n",
       "      <td>1.000005</td>\n",
       "    </tr>\n",
       "    <tr>\n",
       "      <th>Loan Purpose_0</th>\n",
       "      <td>1.000000</td>\n",
       "    </tr>\n",
       "    <tr>\n",
       "      <th>Home Ownership_MORTGAGE</th>\n",
       "      <td>1.000000</td>\n",
       "    </tr>\n",
       "    <tr>\n",
       "      <th>Loan Purpose_Educationalal</th>\n",
       "      <td>1.000000</td>\n",
       "    </tr>\n",
       "    <tr>\n",
       "      <th>Address State_Middle</th>\n",
       "      <td>1.000000</td>\n",
       "    </tr>\n",
       "    <tr>\n",
       "      <th>Home Ownership_NOne</th>\n",
       "      <td>1.000000</td>\n",
       "    </tr>\n",
       "    <tr>\n",
       "      <th>Annual Income</th>\n",
       "      <td>0.999990</td>\n",
       "    </tr>\n",
       "    <tr>\n",
       "      <th>Earliest Credit Line Opened</th>\n",
       "      <td>0.999972</td>\n",
       "    </tr>\n",
       "    <tr>\n",
       "      <th>Loan Application Description</th>\n",
       "      <td>0.999647</td>\n",
       "    </tr>\n",
       "    <tr>\n",
       "      <th>Months Since Last Delinquency</th>\n",
       "      <td>0.998617</td>\n",
       "    </tr>\n",
       "    <tr>\n",
       "      <th>Total Number Of Credit Lines</th>\n",
       "      <td>0.986955</td>\n",
       "    </tr>\n",
       "    <tr>\n",
       "      <th>Loan Purpose_Home Improvement</th>\n",
       "      <td>0.973183</td>\n",
       "    </tr>\n",
       "    <tr>\n",
       "      <th>Loan Purpose_Major Purchase</th>\n",
       "      <td>0.875762</td>\n",
       "    </tr>\n",
       "    <tr>\n",
       "      <th>Address State_East_Coast</th>\n",
       "      <td>0.874912</td>\n",
       "    </tr>\n",
       "    <tr>\n",
       "      <th>Address State_North</th>\n",
       "      <td>0.868033</td>\n",
       "    </tr>\n",
       "    <tr>\n",
       "      <th>Loan Purpose_Debt Consolidation</th>\n",
       "      <td>0.806862</td>\n",
       "    </tr>\n",
       "    <tr>\n",
       "      <th>Home Ownership_OTHER</th>\n",
       "      <td>0.798546</td>\n",
       "    </tr>\n",
       "    <tr>\n",
       "      <th>Loan Term_36 Months</th>\n",
       "      <td>0.792219</td>\n",
       "    </tr>\n",
       "    <tr>\n",
       "      <th>Loan Purpose_Wedding</th>\n",
       "      <td>0.789631</td>\n",
       "    </tr>\n",
       "    <tr>\n",
       "      <th>No. Of Public Record Bankruptcies</th>\n",
       "      <td>0.698370</td>\n",
       "    </tr>\n",
       "    <tr>\n",
       "      <th>Loan Purpose_Car</th>\n",
       "      <td>0.607374</td>\n",
       "    </tr>\n",
       "    <tr>\n",
       "      <th>Loan Purpose_Credit Card</th>\n",
       "      <td>0.586004</td>\n",
       "    </tr>\n",
       "  </tbody>\n",
       "</table>\n",
       "</div>"
      ],
      "text/plain": [
       "                                   Coef_size\n",
       "FICO Credit Score_Good              3.948234\n",
       "FICO Credit Score_Very Good         2.635692\n",
       "Loan Purpose_Small Business         2.624707\n",
       "Loan Term_60 Months                 2.193179\n",
       "No. Adverse Public Records          1.882055\n",
       "FICO Credit Score_Exceptional       1.676572\n",
       "Loan Purpose_Medical                1.465377\n",
       "Loan Purpose_Renewable Energy       1.395834\n",
       "Address State_West_Coast            1.256469\n",
       "No. Inquiries In Last 6 Months      1.232161\n",
       "Loan Purpose_Vacation               1.221745\n",
       "Loan Purpose_Moving                 1.203831\n",
       "Loan Purpose_Other                  1.171109\n",
       "Home Ownership_RENT                 1.080633\n",
       "No. Delinquencies In Last 2 Years   1.076531\n",
       "Address State_South                 1.049997\n",
       "Home Ownership_OWN                  1.030486\n",
       "No. Of Credit Lines                 1.012101\n",
       "Loan Purpose_House                  1.011334\n",
       "Debt To Income Ratio                1.009408\n",
       "Use Of Credit Line                  1.008136\n",
       "Employment Length                   1.002201\n",
       "Loan Amount                         1.000015\n",
       "Total Credit Balance                1.000005\n",
       "Loan Purpose_0                      1.000000\n",
       "Home Ownership_MORTGAGE             1.000000\n",
       "Loan Purpose_Educationalal          1.000000\n",
       "Address State_Middle                1.000000\n",
       "Home Ownership_NOne                 1.000000\n",
       "Annual Income                       0.999990\n",
       "Earliest Credit Line Opened         0.999972\n",
       "Loan Application Description        0.999647\n",
       "Months Since Last Delinquency       0.998617\n",
       "Total Number Of Credit Lines        0.986955\n",
       "Loan Purpose_Home Improvement       0.973183\n",
       "Loan Purpose_Major Purchase         0.875762\n",
       "Address State_East_Coast            0.874912\n",
       "Address State_North                 0.868033\n",
       "Loan Purpose_Debt Consolidation     0.806862\n",
       "Home Ownership_OTHER                0.798546\n",
       "Loan Term_36 Months                 0.792219\n",
       "Loan Purpose_Wedding                0.789631\n",
       "No. Of Public Record Bankruptcies   0.698370\n",
       "Loan Purpose_Car                    0.607374\n",
       "Loan Purpose_Credit Card            0.586004"
      ]
     },
     "execution_count": 67,
     "metadata": {},
     "output_type": "execute_result"
    }
   ],
   "source": [
    "# take the exponential of each of the coefficients to generate the odds ratios. \n",
    "# this tells you how a 1 unit increase or decrease in a variable affects the odds \n",
    "# of being admitted.\n",
    "\n",
    "odds_ratio = np.exp(coef_sorted)\n",
    "odds_ratio"
   ]
  },
  {
   "cell_type": "code",
   "execution_count": 68,
   "metadata": {
    "collapsed": false,
    "deletable": true,
    "editable": true
   },
   "outputs": [
    {
     "data": {
      "image/png": "[encoded data removed]",
      "text/plain": [
       "<matplotlib.figure.Figure at 0xbe02470>"
      ]
     },
     "metadata": {},
     "output_type": "display_data"
    }
   ],
   "source": [
    "# plot odd ratios\n",
    "\n",
    "sns.set(style='whitegrid')\n",
    "\n",
    "f, ax = plt.subplots(figsize=(10,7))\n",
    "ax = sns.barplot(x=odds_ratio.index, y=odds_ratio.Coef_size)\n",
    "ax.set(xlabel='Feature names', ylabel='Odds ratio')\n",
    "ax.set_title('Odd ratios')\n",
    "for item in ax.get_xticklabels():\n",
    "    item.set_rotation(90)"
   ]
  },
  {
   "cell_type": "markdown",
   "metadata": {
    "deletable": true,
    "editable": true
   },
   "source": [
    "# How to interpret odd score\n",
    "\n",
    "A score over 1 indicates a positive relationship with the target variable, a score below 1 a negative one.\n",
    "\n",
    "For example, FICO Credit Score_Good has an odd ratio of 4.190637. This means than the odds for creditunworthiness are 319% higher than the odds for creditworthiness.\n",
    "\n",
    "Odds of success = ratio of probability of success / probability of failure\n",
    "If the probability of success is 50/50, the odds of success are 1/1 = 1"
   ]
  },
  {
   "cell_type": "markdown",
   "metadata": {},
   "source": [
    "# Feature Selection"
   ]
  },
  {
   "cell_type": "code",
   "execution_count": 69,
   "metadata": {
    "collapsed": false
   },
   "outputs": [
    {
     "data": {
      "text/plain": [
       "RFE(estimator=LogisticRegression(C=2, class_weight={0: 0.1817, 1: 0.8183}, dual=False,\n",
       "          fit_intercept=True, intercept_scaling=1, max_iter=100,\n",
       "          multi_class='ovr', n_jobs=1, penalty='l1', random_state=42,\n",
       "          solver='liblinear', tol=0.0001, verbose=0, warm_start=False),\n",
       "  n_features_to_select=39, step=1, verbose=0)"
      ]
     },
     "execution_count": 69,
     "metadata": {},
     "output_type": "execute_result"
    }
   ],
   "source": [
    "# feature extraction with RFE\n",
    "# backward approach - starting with 46 and then taking one off at a time\n",
    "\n",
    "from sklearn.feature_selection import RFE\n",
    "\n",
    "model = linear_model.LogisticRegression(random_state=42, C=2, penalty='l1',class_weight={0:0.1817, 1:0.8183})\n",
    "\n",
    "rfe = RFE(model, 39)\n",
    "rfe.fit(X_train, y_train)\n"
   ]
  },
  {
   "cell_type": "code",
   "execution_count": 70,
   "metadata": {
    "collapsed": false
   },
   "outputs": [
    {
     "name": "stdout",
     "output_type": "stream",
     "text": [
      "The AUC score for an optimised Logistic Regression model is 0.7223.\n"
     ]
    }
   ],
   "source": [
    "y_pred_rfe = rfe.predict_proba(X_test)\n",
    "y_pred_rfe = pd.DataFrame(y_pred_rfe, index = y_test.index)\n",
    "\n",
    "# how does the optimised model perform?\n",
    "\n",
    "AUC_RFE = roc_auc_score(y_test, y_pred_rfe[1])\n",
    "print(\"The AUC score for an optimised Logistic Regression model is {:.4f}.\".format(AUC_RFE))"
   ]
  },
  {
   "cell_type": "code",
   "execution_count": 71,
   "metadata": {
    "collapsed": false
   },
   "outputs": [
    {
     "name": "stdout",
     "output_type": "stream",
     "text": [
      "Num Features: 39\n"
     ]
    },
    {
     "data": {
      "text/html": [
       "<div>\n",
       "<table border=\"1\" class=\"dataframe\">\n",
       "  <thead>\n",
       "    <tr style=\"text-align: right;\">\n",
       "      <th></th>\n",
       "      <th>True or False</th>\n",
       "    </tr>\n",
       "  </thead>\n",
       "  <tbody>\n",
       "    <tr>\n",
       "      <th>Total Credit Balance</th>\n",
       "      <td>False</td>\n",
       "    </tr>\n",
       "    <tr>\n",
       "      <th>Home Ownership_MORTGAGE</th>\n",
       "      <td>False</td>\n",
       "    </tr>\n",
       "    <tr>\n",
       "      <th>Home Ownership_NOne</th>\n",
       "      <td>False</td>\n",
       "    </tr>\n",
       "    <tr>\n",
       "      <th>Loan Purpose_0</th>\n",
       "      <td>False</td>\n",
       "    </tr>\n",
       "    <tr>\n",
       "      <th>Loan Purpose_Educationalal</th>\n",
       "      <td>False</td>\n",
       "    </tr>\n",
       "    <tr>\n",
       "      <th>Address State_Middle</th>\n",
       "      <td>False</td>\n",
       "    </tr>\n",
       "  </tbody>\n",
       "</table>\n",
       "</div>"
      ],
      "text/plain": [
       "                           True or False\n",
       "Total Credit Balance               False\n",
       "Home Ownership_MORTGAGE            False\n",
       "Home Ownership_NOne                False\n",
       "Loan Purpose_0                     False\n",
       "Loan Purpose_Educationalal         False\n",
       "Address State_Middle               False"
      ]
     },
     "execution_count": 71,
     "metadata": {},
     "output_type": "execute_result"
    }
   ],
   "source": [
    "print(\"Num Features: %d\") % rfe.n_features_\n",
    "feats = pd.DataFrame(rfe.support_).transpose()\n",
    "feats.columns = X_test.columns\n",
    "feats = feats.transpose()\n",
    "feats.columns = ['True or False']\n",
    "feats[feats['True or False']==False]"
   ]
  },
  {
   "cell_type": "markdown",
   "metadata": {
    "deletable": true,
    "editable": true
   },
   "source": [
    "# ROC curve"
   ]
  },
  {
   "cell_type": "code",
   "execution_count": 72,
   "metadata": {
    "collapsed": false,
    "deletable": true,
    "editable": true
   },
   "outputs": [],
   "source": [
    "from sklearn.metrics import roc_curve\n",
    "\n",
    "#probs = gsregr.predict_proba(X_test)\n",
    "#preds = probs[:,1]\n",
    "fpr, tpr, threshold = roc_curve(y_test, y_pred_rfe[1])\n"
   ]
  },
  {
   "cell_type": "code",
   "execution_count": 73,
   "metadata": {
    "collapsed": false,
    "deletable": true,
    "editable": true
   },
   "outputs": [
    {
     "data": {
      "image/png": "[encoded data removed]",
      "text/plain": [
       "<matplotlib.figure.Figure at 0x28ea0b38>"
      ]
     },
     "metadata": {},
     "output_type": "display_data"
    }
   ],
   "source": [
    "sns.set_style(\"white\")\n",
    "\n",
    "plt.title('Receiver Operating Characteristic', fontsize=14)\n",
    "plt.plot(fpr, tpr, 'seagreen', label='AUC (Logistic Regression Model) = %0.4f' % AUC_RFE)\n",
    "plt.legend(loc = 'lower right')\n",
    "plt.plot([0, 1], [0, 1],'m--', label='Random')\n",
    "plt.legend(loc = 'lower right')\n",
    "plt.xlim([0, 1])\n",
    "plt.ylim([0, 1])\n",
    "plt.ylabel('True Positive Rate', fontsize=14)\n",
    "plt.xlabel('False Positive Rate', fontsize=14)\n",
    "plt.show()"
   ]
  },
  {
   "cell_type": "markdown",
   "metadata": {
    "deletable": true,
    "editable": true
   },
   "source": [
    "# Confusion matrix"
   ]
  },
  {
   "cell_type": "code",
   "execution_count": 75,
   "metadata": {
    "collapsed": false,
    "deletable": true,
    "editable": true
   },
   "outputs": [
    {
     "data": {
      "text/plain": [
       "<matplotlib.axes._subplots.AxesSubplot at 0x29911710>"
      ]
     },
     "execution_count": 75,
     "metadata": {},
     "output_type": "execute_result"
    },
    {
     "data": {
      "image/png": "[encoded data removed]",
      "text/plain": [
       "<matplotlib.figure.Figure at 0x298fc898>"
      ]
     },
     "metadata": {},
     "output_type": "display_data"
    }
   ],
   "source": [
    "from sklearn.metrics import confusion_matrix\n",
    "\n",
    "sns.set(font_scale=1.3)\n",
    "\n",
    "y_predict = rfe.predict(X_test)\n",
    "\n",
    "cm = confusion_matrix(y_test, y_predict)\n",
    "\n",
    "df_cm = pd.DataFrame(cm, index = ['True (positive)', 'True (negative)'])\n",
    "df_cm.columns = ['Predicted (positive)', 'Predicted (negative)']\n",
    "\n",
    "sns.heatmap(df_cm, annot=True, fmt=\"d\")"
   ]
  },
  {
   "cell_type": "code",
   "execution_count": null,
   "metadata": {
    "collapsed": true
   },
   "outputs": [],
   "source": []
  },
  {
   "cell_type": "code",
   "execution_count": null,
   "metadata": {
    "collapsed": true
   },
   "outputs": [],
   "source": []
  },
  {
   "cell_type": "code",
   "execution_count": null,
   "metadata": {
    "collapsed": true
   },
   "outputs": [],
   "source": []
  }
 ],
 "metadata": {
  "anaconda-cloud": {},
  "kernelspec": {
   "display_name": "Python 2",
   "language": "python",
   "name": "python2"
  }
 },
 "nbformat": 4,
 "nbformat_minor": 2
}
