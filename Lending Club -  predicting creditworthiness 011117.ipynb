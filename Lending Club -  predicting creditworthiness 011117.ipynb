{
 "cells": [
  {
   "cell_type": "markdown",
   "metadata": {
    "deletable": true,
    "editable": true
   },
   "source": [
    "# Lending Club: predicing creditworthiness"
   ]
  },
  {
   "cell_type": "code",
   "execution_count": 4,
   "metadata": {
    "collapsed": true,
    "deletable": true,
    "editable": true
   },
   "outputs": [],
   "source": [
    "#import libraries\n",
    "\n",
    "import numpy as np\n",
    "import pandas as pd\n",
    "import matplotlib.pyplot as plt\n",
    "%matplotlib inline\n",
    "import seaborn as sns\n",
    "import datetime"
   ]
  },
  {
   "cell_type": "code",
   "execution_count": 5,
   "metadata": {
    "collapsed": false,
    "deletable": true,
    "editable": true
   },
   "outputs": [],
   "source": [
    "# import raw data\n",
    "\n",
    "df_raw = pd.read_csv('C:\\\\Users\\sonja tilly.ABERDEEN\\\\LendingClub.csv', low_memory=False)"
   ]
  },
  {
   "cell_type": "code",
   "execution_count": 6,
   "metadata": {
    "collapsed": false,
    "deletable": true,
    "editable": true
   },
   "outputs": [
    {
     "name": "stdout",
     "output_type": "stream",
     "text": [
      "<class 'pandas.core.frame.DataFrame'>\n",
      "RangeIndex: 24776 entries, 0 to 24775\n",
      "Data columns (total 21 columns):\n",
      "Loan Amount                          24776 non-null int64\n",
      "Loan Term                            24776 non-null object\n",
      "Employment Length                    24776 non-null float64\n",
      "Home Ownership                       24776 non-null object\n",
      "Annual Income                        24776 non-null float64\n",
      "Loan Purpose                         24776 non-null object\n",
      "Address State                        24775 non-null object\n",
      "Debt To Income Ratio                 24775 non-null float64\n",
      "No. Delinquencies In Last 2 Years    24775 non-null object\n",
      "Earliest Credit Line Opened          24776 non-null float64\n",
      "FICO Credit Score                    24775 non-null float64\n",
      "No. Inquiries In Last 6 Months       24775 non-null float64\n",
      "Months Since Last Delinquency        24776 non-null int64\n",
      "No. Of Credit Lines                  24775 non-null float64\n",
      "No. Adverse Public Records           24775 non-null object\n",
      "Total Credit Balance                 24775 non-null float64\n",
      "Use Of Credit Line                   24724 non-null float64\n",
      "Total Number Of Credit Lines         24775 non-null float64\n",
      "Loan Application Description         24776 non-null int64\n",
      "No. Of Public Record Bankruptcies    24776 non-null object\n",
      "Class                                24776 non-null object\n",
      "dtypes: float64(10), int64(3), object(8)\n",
      "memory usage: 4.0+ MB\n"
     ]
    }
   ],
   "source": [
    "df_raw.info()"
   ]
  },
  {
   "cell_type": "markdown",
   "metadata": {
    "deletable": true,
    "editable": true
   },
   "source": [
    "The dataset contains a mix of datatypes. \n",
    "The objects need to be converted into numerical values. \n",
    "The feature 'Class' will be the target and its values will be converted in '0' and '1'."
   ]
  },
  {
   "cell_type": "markdown",
   "metadata": {
    "deletable": true,
    "editable": true
   },
   "source": [
    "## Exploratory Data Analysis"
   ]
  },
  {
   "cell_type": "code",
   "execution_count": 7,
   "metadata": {
    "collapsed": false,
    "deletable": true,
    "editable": true
   },
   "outputs": [
    {
     "data": {
      "text/plain": [
       "Creditworthy      20274\n",
       "Uncreditworthy     4502\n",
       "Name: Class, dtype: int64"
      ]
     },
     "execution_count": 7,
     "metadata": {},
     "output_type": "execute_result"
    }
   ],
   "source": [
    "# let's have a look at the target variable.\n",
    "\n",
    "count = df_raw['Class'].value_counts()\n",
    "count"
   ]
  },
  {
   "cell_type": "code",
   "execution_count": 8,
   "metadata": {
    "collapsed": true,
    "deletable": true,
    "editable": true
   },
   "outputs": [],
   "source": [
    "# convert 'Class' feature (=target) into numerical values\n",
    "\n",
    "def credit_worthiness(status):\n",
    "    if status == 'Creditworthy':\n",
    "        return 0\n",
    "    elif status == 'Uncreditworthy':\n",
    "        return 1\n",
    "    else:\n",
    "        return status\n",
    "\n",
    "df_raw['Class_new'] = df_raw['Class'].apply(credit_worthiness)\n"
   ]
  },
  {
   "cell_type": "code",
   "execution_count": 9,
   "metadata": {
    "collapsed": false,
    "deletable": true,
    "editable": true
   },
   "outputs": [
    {
     "name": "stdout",
     "output_type": "stream",
     "text": [
      "0.0\n",
      "0.0\n"
     ]
    }
   ],
   "source": [
    "# calculate percentage\n",
    "total = len(df_raw.index)\n",
    "credit = df_raw['Class_new'].value_counts()\n",
    "\n",
    "creditworthy = round((credit[0]/total)*100,2)\n",
    "uncreditworthy = round((credit[1]/total)*100,2)\n",
    "print(creditworthy)\n",
    "print(uncreditworthy)\n"
   ]
  },
  {
   "cell_type": "code",
   "execution_count": 10,
   "metadata": {
    "collapsed": false,
    "deletable": true,
    "editable": true
   },
   "outputs": [
    {
     "data": {
      "image/png": "[encoded data removed]",
      "text/plain": [
       "<matplotlib.figure.Figure at 0xc4ba4e0>"
      ]
     },
     "metadata": {},
     "output_type": "display_data"
    }
   ],
   "source": [
    "sums = df_raw.Class_new.groupby(df_raw.Class_new).value_counts()\n",
    "\n",
    "colors = sns.color_palette(\"Greens\", n_colors=2, desat=1)\n",
    "\n",
    "explode=(0.04, 0.04)\n",
    "plt.pie([count[0], count[1]], labels=['Creditworthy: 81.83%', 'Uncreditworthy: 18.17%'],\\\n",
    "       explode=explode, colors=colors)\n",
    "plt.axis('equal')\n",
    "plt.tight_layout()"
   ]
  },
  {
   "cell_type": "markdown",
   "metadata": {
    "deletable": true,
    "editable": true
   },
   "source": [
    "The dataset is unbalanced, with uncreditworthy observations only accounting for 18.17%.\n",
    "\n",
    "The unbalanced nature of the data will have to be considered when making predictions."
   ]
  },
  {
   "cell_type": "code",
   "execution_count": 11,
   "metadata": {
    "collapsed": false,
    "deletable": true,
    "editable": true
   },
   "outputs": [],
   "source": [
    "# what is the link between loan purpose and creditworthiness?\n",
    "\n",
    "table = pd.pivot_table(df_raw, values='Loan Amount', index='Loan Purpose', \\\n",
    "                        columns='Class_new', aggfunc='count').fillna(0)\n",
    "table.columns = ['good', 'bad']\n",
    "table['Sum'] = table['good'] + table['bad']\n",
    "table['percent_good'] = table['good']/table['Sum']*100\n",
    "table['percent_bad'] = table['bad']/table['Sum']*100\n",
    "\n",
    "table.drop(table.columns[[0, 1, 2]], axis=1, inplace=True)\n",
    "table = table[1: :]\n"
   ]
  },
  {
   "cell_type": "code",
   "execution_count": 12,
   "metadata": {
    "collapsed": false,
    "deletable": true,
    "editable": true
   },
   "outputs": [
    {
     "data": {
      "text/plain": [
       "<matplotlib.text.Text at 0xc6aefd0>"
      ]
     },
     "execution_count": 12,
     "metadata": {},
     "output_type": "execute_result"
    },
    {
     "data": {
      "image/png": "[encoded data removed]",
      "text/plain": [
       "<matplotlib.figure.Figure at 0xc4ba240>"
      ]
     },
     "metadata": {},
     "output_type": "display_data"
    }
   ],
   "source": [
    "colors = ('seagreen','magenta')\n",
    "ax= table.plot(legend=False, kind='bar',stacked=True, ylim=(0,100), color=colors, fontsize=9,\\\n",
    "                title='Loan Purpose and creditworthiness')\n",
    "plt.legend(loc='upper left', bbox_to_anchor=(1.0, 0.5))\n",
    "ax.set_xticklabels(table.index, rotation=70)\n",
    "ax.set_xlabel('purpose', fontsize=9)\n",
    "ax.set_ylabel('percentage', fontsize=9)"
   ]
  },
  {
   "cell_type": "code",
   "execution_count": 13,
   "metadata": {
    "collapsed": false,
    "deletable": true,
    "editable": true
   },
   "outputs": [
    {
     "data": {
      "text/html": [
       "<div>\n",
       "<table border=\"1\" class=\"dataframe\">\n",
       "  <thead>\n",
       "    <tr style=\"text-align: right;\">\n",
       "      <th></th>\n",
       "      <th>percent_good</th>\n",
       "      <th>percent_bad</th>\n",
       "    </tr>\n",
       "    <tr>\n",
       "      <th>Home Ownership</th>\n",
       "      <th></th>\n",
       "      <th></th>\n",
       "    </tr>\n",
       "  </thead>\n",
       "  <tbody>\n",
       "    <tr>\n",
       "      <th>NOne</th>\n",
       "      <td>100.000000</td>\n",
       "      <td>0.000000</td>\n",
       "    </tr>\n",
       "    <tr>\n",
       "      <th>OTHER</th>\n",
       "      <td>82.653061</td>\n",
       "      <td>17.346939</td>\n",
       "    </tr>\n",
       "    <tr>\n",
       "      <th>OWN</th>\n",
       "      <td>81.030213</td>\n",
       "      <td>18.969787</td>\n",
       "    </tr>\n",
       "    <tr>\n",
       "      <th>RENT</th>\n",
       "      <td>80.452830</td>\n",
       "      <td>19.547170</td>\n",
       "    </tr>\n",
       "  </tbody>\n",
       "</table>\n",
       "</div>"
      ],
      "text/plain": [
       "                percent_good  percent_bad\n",
       "Home Ownership                           \n",
       "NOne              100.000000     0.000000\n",
       "OTHER              82.653061    17.346939\n",
       "OWN                81.030213    18.969787\n",
       "RENT               80.452830    19.547170"
      ]
     },
     "execution_count": 13,
     "metadata": {},
     "output_type": "execute_result"
    }
   ],
   "source": [
    "# what is the link between home ownership and creditworthiness?\n",
    "\n",
    "table1 = pd.pivot_table(df_raw, values='Loan Amount', index='Home Ownership', \\\n",
    "                        columns='Class_new', aggfunc='count').fillna(0)\n",
    "table1.columns = ['good', 'bad']\n",
    "table1['Sum'] = table1['good'] + table1['bad']\n",
    "table1['percent_good'] = table1['good']/table1['Sum']*100\n",
    "table1['percent_bad'] = table1['bad']/table1['Sum']*100\n",
    "\n",
    "table1.drop(table1.columns[[0, 1, 2]], axis=1, inplace=True)\n",
    "table1 = table1.iloc[1: :]\n",
    "table1"
   ]
  },
  {
   "cell_type": "code",
   "execution_count": 14,
   "metadata": {
    "collapsed": false,
    "deletable": true,
    "editable": true
   },
   "outputs": [
    {
     "data": {
      "text/plain": [
       "<matplotlib.text.Text at 0xe8c1be0>"
      ]
     },
     "execution_count": 14,
     "metadata": {},
     "output_type": "execute_result"
    },
    {
     "data": {
      "image/png": "[encoded data removed]",
      "text/plain": [
       "<matplotlib.figure.Figure at 0xc640e10>"
      ]
     },
     "metadata": {},
     "output_type": "display_data"
    }
   ],
   "source": [
    "colors = ('seagreen','magenta')\n",
    "ax1= table1.plot(legend=False, kind='bar',stacked=True, ylim=(0,100), color=colors, fontsize=9,\\\n",
    "                title='Home Ownership and creditworthiness')\n",
    "plt.legend(loc='upper left', bbox_to_anchor=(1.0, 0.5))\n",
    "ax1.set_xticklabels(table1.index, rotation=70)\n",
    "ax1.set_xlabel('purpose', fontsize=9)\n",
    "ax1.set_ylabel('percentage', fontsize=9)"
   ]
  },
  {
   "cell_type": "code",
   "execution_count": 15,
   "metadata": {
    "collapsed": false,
    "deletable": true,
    "editable": true
   },
   "outputs": [
    {
     "name": "stdout",
     "output_type": "stream",
     "text": [
      "                 good    bad     Sum       %good       %bad  above mean\n",
      "Address State                                                          \n",
      "AK               49.0    8.0    57.0   85.964912  14.035088   -2.501998\n",
      "AL              240.0   45.0   285.0   84.210526  15.789474   -0.747612\n",
      "AR              132.0   18.0   150.0   88.000000  12.000000   -4.537086\n",
      "AZ              487.0  112.0   599.0   81.302170  18.697830    2.160744\n",
      "CA             3552.0  933.0  4485.0   79.197324  20.802676    4.265590\n",
      "CO              431.0   81.0   512.0   84.179688  15.820312   -0.716773\n",
      "CT              390.0   78.0   468.0   83.333333  16.666667    0.129581\n",
      "DC              127.0   11.0   138.0   92.028986   7.971014   -8.566071\n",
      "DE               61.0   11.0    72.0   84.722222  15.277778   -1.259308\n",
      "FL             1328.0  413.0  1741.0   76.278001  23.721999    7.184913\n",
      "GA              694.0  181.0   875.0   79.314286  20.685714    4.148629\n",
      "HI               89.0   21.0   110.0   80.909091  19.090909    2.553824\n",
      "IA                4.0    0.0     4.0  100.000000   0.000000  -16.537086\n",
      "ID                5.0    1.0     6.0   83.333333  16.666667    0.129581\n",
      "IL              741.0  126.0   867.0   85.467128  14.532872   -2.004214\n",
      "IN               11.0    0.0    11.0  100.000000   0.000000  -16.537086\n",
      "KS              137.0   26.0   163.0   84.049080  15.950920   -0.586165\n",
      "KY              153.0   32.0   185.0   82.702703  17.297297    0.760212\n",
      "LA              220.0   34.0   254.0   86.614173  13.385827   -3.151259\n",
      "MA              684.0  125.0   809.0   84.548826  15.451174   -1.085911\n",
      "MD              535.0  125.0   660.0   81.060606  18.939394    2.402308\n",
      "ME                3.0    0.0     3.0  100.000000   0.000000  -16.537086\n",
      "MI              398.0   84.0   482.0   82.572614  17.427386    0.890300\n",
      "MN              354.0   66.0   420.0   84.285714  15.714286   -0.822800\n",
      "MO              320.0   89.0   409.0   78.239609  21.760391    5.223306\n",
      "MS               17.0    2.0    19.0   89.473684  10.526316   -6.010770\n",
      "MT               47.0    6.0    53.0   88.679245  11.320755   -5.216331\n",
      "NC              377.0  101.0   478.0   78.870293  21.129707    4.592622\n",
      "NE                2.0    3.0     5.0   40.000000  60.000000   43.462914\n",
      "NH               91.0   20.0   111.0   81.981982  18.018018    1.480932\n",
      "NJ              882.0  221.0  1103.0   79.963735  20.036265    3.499179\n",
      "NM               96.0   21.0   117.0   82.051282  17.948718    1.411632\n",
      "NV              219.0   87.0   306.0   71.568627  28.431373   11.894287\n",
      "NY             2022.0  379.0  2401.0   84.214910  15.785090   -0.751996\n",
      "OH              596.0  120.0   716.0   83.240223  16.759777    0.222691\n",
      "OK              172.0   33.0   205.0   83.902439  16.097561   -0.439525\n",
      "OR              225.0   59.0   284.0   79.225352  20.774648    4.237562\n",
      "PA              761.0  129.0   890.0   85.505618  14.494382   -2.042704\n",
      "RI              112.0   19.0   131.0   85.496183  14.503817   -2.033269\n",
      "SC              237.0   53.0   290.0   81.724138  18.275862    1.738776\n",
      "SD               31.0    7.0    38.0   81.578947  18.421053    1.883967\n",
      "TN               16.0    2.0    18.0   88.888889  11.111111   -5.425974\n",
      "TX             1470.0  274.0  1744.0   84.288991  15.711009   -0.826076\n",
      "UT              146.0   41.0   187.0   78.074866  21.925134    5.388048\n",
      "VA              780.0  129.0   909.0   85.808581  14.191419   -2.345666\n",
      "VT               29.0    7.0    36.0   80.555556  19.444444    2.907359\n",
      "WA              428.0  103.0   531.0   80.602637  19.397363    2.860278\n",
      "WI              237.0   50.0   287.0   82.578397  17.421603    0.884517\n",
      "WV               81.0   15.0    96.0   84.375000  15.625000   -0.912086\n",
      "WY               54.0    1.0    55.0   98.181818   1.818182  -14.718904\n"
     ]
    }
   ],
   "source": [
    "#How is loan performance related to address state?\n",
    "\n",
    "table2 = pd.pivot_table(df_raw, values='Loan Amount', index='Address State', columns=['Class_new'], aggfunc='count').fillna(0)\n",
    "table2.columns=[['good', 'bad']]\n",
    "table2['Sum']=table2['good']+table2['bad']\n",
    "table2['%good']=table2['good']/table2['Sum']*100\n",
    "table2['%bad']=table2['bad']/table2['Sum']*100\n",
    "table2.index = table2.index.astype(str)\n",
    "table2['above mean'] = table2['%bad'] - table2['%bad'].mean()  \n",
    "print(table2)"
   ]
  },
  {
   "cell_type": "code",
   "execution_count": 16,
   "metadata": {
    "collapsed": false,
    "deletable": true,
    "editable": true
   },
   "outputs": [
    {
     "ename": "ImportError",
     "evalue": "No module named plotly.plotly",
     "output_type": "error",
     "traceback": [
      "\u001b[0;31m---------------------------------------------------------------------------\u001b[0m",
      "\u001b[0;31mImportError\u001b[0m                               Traceback (most recent call last)",
      "\u001b[0;32m<ipython-input-16-2e95b34303ec>\u001b[0m in \u001b[0;36m<module>\u001b[0;34m()\u001b[0m\n\u001b[1;32m      1\u001b[0m \u001b[1;31m#Plot bad loans on map\u001b[0m\u001b[1;33m\u001b[0m\u001b[1;33m\u001b[0m\u001b[0m\n\u001b[1;32m      2\u001b[0m \u001b[1;33m\u001b[0m\u001b[0m\n\u001b[0;32m----> 3\u001b[0;31m \u001b[1;32mimport\u001b[0m \u001b[0mplotly\u001b[0m\u001b[1;33m.\u001b[0m\u001b[0mplotly\u001b[0m \u001b[1;32mas\u001b[0m \u001b[0mpy\u001b[0m\u001b[1;33m\u001b[0m\u001b[0m\n\u001b[0m\u001b[1;32m      4\u001b[0m \u001b[0mpy\u001b[0m\u001b[1;33m.\u001b[0m\u001b[0msign_in\u001b[0m\u001b[1;33m(\u001b[0m\u001b[1;34m'Son17'\u001b[0m\u001b[1;33m,\u001b[0m \u001b[1;34m'GGwvotqQmpBq2zCu1w46'\u001b[0m\u001b[1;33m)\u001b[0m\u001b[1;33m\u001b[0m\u001b[0m\n\u001b[1;32m      5\u001b[0m \u001b[1;33m\u001b[0m\u001b[0m\n",
      "\u001b[0;31mImportError\u001b[0m: No module named plotly.plotly"
     ]
    }
   ],
   "source": [
    "#Plot bad loans on map\n",
    "\n",
    "import plotly.plotly as py\n",
    "py.sign_in('Son17', 'GGwvotqQmpBq2zCu1w46')\n",
    "\n",
    "data = [ dict(\n",
    "        type='choropleth',\n",
    "        colorscale = 'Greens',\n",
    "        autocolorscale = False,\n",
    "        locations = table2.index,\n",
    "        z = table2['%bad'].astype(float).round(2),\n",
    "        locationmode = 'USA-states',\n",
    "        marker = dict(\n",
    "            line = dict (\n",
    "                color = 'rgb(255,255,255)',\n",
    "                width = 2\n",
    "            ) ),\n",
    "        colorbar = dict(title = \"Portion of uncreditworthy loans (%)\"))]\n",
    "\n",
    "layout = dict(\n",
    "        title = 'Uncreditworthy loans by state (%)',\n",
    "        geo = dict(\n",
    "            scope='usa',\n",
    "            projection=dict( type='albers usa' ),\n",
    "            showlakes = True,\n",
    "            lakecolor = 'rgb(255, 255, 255)'),)\n",
    "    \n",
    "fig = dict( data=data, layout=layout )\n",
    "py.iplot( fig, filename='d3-cloropleth-map' )"
   ]
  },
  {
   "cell_type": "code",
   "execution_count": 17,
   "metadata": {
    "collapsed": false,
    "deletable": true,
    "editable": true
   },
   "outputs": [
    {
     "ename": "ImportError",
     "evalue": "No module named plotly.plotly",
     "output_type": "error",
     "traceback": [
      "\u001b[0;31m---------------------------------------------------------------------------\u001b[0m",
      "\u001b[0;31mImportError\u001b[0m                               Traceback (most recent call last)",
      "\u001b[0;32m<ipython-input-17-d0f533fdf597>\u001b[0m in \u001b[0;36m<module>\u001b[0;34m()\u001b[0m\n\u001b[1;32m      1\u001b[0m \u001b[1;31m#Plot bad loans on map\u001b[0m\u001b[1;33m\u001b[0m\u001b[1;33m\u001b[0m\u001b[0m\n\u001b[1;32m      2\u001b[0m \u001b[1;33m\u001b[0m\u001b[0m\n\u001b[0;32m----> 3\u001b[0;31m \u001b[1;32mimport\u001b[0m \u001b[0mplotly\u001b[0m\u001b[1;33m.\u001b[0m\u001b[0mplotly\u001b[0m \u001b[1;32mas\u001b[0m \u001b[0mpy\u001b[0m\u001b[1;33m\u001b[0m\u001b[0m\n\u001b[0m\u001b[1;32m      4\u001b[0m \u001b[0mpy\u001b[0m\u001b[1;33m.\u001b[0m\u001b[0msign_in\u001b[0m\u001b[1;33m(\u001b[0m\u001b[1;34m'Son17'\u001b[0m\u001b[1;33m,\u001b[0m \u001b[1;34m'GGwvotqQmpBq2zCu1w46'\u001b[0m\u001b[1;33m)\u001b[0m\u001b[1;33m\u001b[0m\u001b[0m\n\u001b[1;32m      5\u001b[0m \u001b[1;33m\u001b[0m\u001b[0m\n",
      "\u001b[0;31mImportError\u001b[0m: No module named plotly.plotly"
     ]
    }
   ],
   "source": [
    "#Plot bad loans on map\n",
    "\n",
    "import plotly.plotly as py\n",
    "py.sign_in('Son17', 'GGwvotqQmpBq2zCu1w46')\n",
    "\n",
    "data = [ dict(\n",
    "        type='choropleth',\n",
    "        colorscale = 'Greens',\n",
    "        autocolorscale = False,\n",
    "        locations = table2.index,\n",
    "        z = table2['Sum'].astype(float).round(2),\n",
    "        locationmode = 'USA-states',\n",
    "        marker = dict(\n",
    "            line = dict (\n",
    "                color = 'rgb(255,255,255)',\n",
    "                width = 2\n",
    "            ) ),\n",
    "        colorbar = dict(title = \"Number of uncreditworthy loans\"))]\n",
    "\n",
    "layout = dict(\n",
    "        title = 'Uncreditworthy loans by state in absolute numbers',\n",
    "        geo = dict(\n",
    "            scope='usa',\n",
    "            projection=dict( type='albers usa' ),\n",
    "            showlakes = True,\n",
    "            lakecolor = 'rgb(255, 255, 255)'),)\n",
    "    \n",
    "fig = dict( data=data, layout=layout )\n",
    "py.iplot( fig, filename='d3-cloropleth-map' )"
   ]
  },
  {
   "cell_type": "code",
   "execution_count": 18,
   "metadata": {
    "collapsed": false,
    "deletable": true,
    "editable": true
   },
   "outputs": [
    {
     "data": {
      "text/html": [
       "<div>\n",
       "<table border=\"1\" class=\"dataframe\">\n",
       "  <thead>\n",
       "    <tr style=\"text-align: right;\">\n",
       "      <th></th>\n",
       "      <th>percent_good</th>\n",
       "      <th>percent_bad</th>\n",
       "    </tr>\n",
       "    <tr>\n",
       "      <th>No. Of Public Record Bankruptcies</th>\n",
       "      <th></th>\n",
       "      <th></th>\n",
       "    </tr>\n",
       "  </thead>\n",
       "  <tbody>\n",
       "    <tr>\n",
       "      <th>None</th>\n",
       "      <td>82.165096</td>\n",
       "      <td>17.834904</td>\n",
       "    </tr>\n",
       "    <tr>\n",
       "      <th>One</th>\n",
       "      <td>73.878365</td>\n",
       "      <td>26.121635</td>\n",
       "    </tr>\n",
       "    <tr>\n",
       "      <th>Two</th>\n",
       "      <td>80.000000</td>\n",
       "      <td>20.000000</td>\n",
       "    </tr>\n",
       "  </tbody>\n",
       "</table>\n",
       "</div>"
      ],
      "text/plain": [
       "                                   percent_good  percent_bad\n",
       "No. Of Public Record Bankruptcies                           \n",
       "None                                  82.165096    17.834904\n",
       "One                                   73.878365    26.121635\n",
       "Two                                   80.000000    20.000000"
      ]
     },
     "execution_count": 18,
     "metadata": {},
     "output_type": "execute_result"
    }
   ],
   "source": [
    "# what is the link between No. Of Public Record Bankruptcies and creditworthiness?\n",
    "\n",
    "table3 = pd.pivot_table(df_raw, values='Loan Amount', index='No. Of Public Record Bankruptcies', \\\n",
    "                        columns='Class_new', aggfunc='count').fillna(0)\n",
    "table3.columns = ['good', 'bad']\n",
    "table3['Sum'] = table3['good'] + table3['bad']\n",
    "table3['percent_good'] = table3['good']/table3['Sum']*100\n",
    "table3['percent_bad'] = table3['bad']/table3['Sum']*100\n",
    "\n",
    "table3.drop(table3.columns[[0, 1, 2]], axis=1, inplace=True)\n",
    "table3 = table3.iloc[0: :]\n",
    "table3"
   ]
  },
  {
   "cell_type": "code",
   "execution_count": 19,
   "metadata": {
    "collapsed": false,
    "deletable": true,
    "editable": true
   },
   "outputs": [
    {
     "data": {
      "text/plain": [
       "<matplotlib.text.Text at 0xc2c4ac8>"
      ]
     },
     "execution_count": 19,
     "metadata": {},
     "output_type": "execute_result"
    },
    {
     "data": {
      "image/png": "[encoded data removed]",
      "text/plain": [
       "<matplotlib.figure.Figure at 0xe9c8e10>"
      ]
     },
     "metadata": {},
     "output_type": "display_data"
    }
   ],
   "source": [
    "colors = ('seagreen','magenta')\n",
    "ax3= table3.plot(legend=False, kind='bar',stacked=True, ylim=(0,100), color=colors, fontsize=9,\\\n",
    "                title='No. Of Public Record Bankruptcies and creditworthiness')\n",
    "plt.legend(loc='upper left', bbox_to_anchor=(1.0, 0.5))\n",
    "ax3.set_xticklabels(table3.index, rotation=70)\n",
    "ax3.set_xlabel('No. Of Public Record Bankruptcies', fontsize=9)\n",
    "ax3.set_ylabel('percentage', fontsize=9)"
   ]
  },
  {
   "cell_type": "code",
   "execution_count": 20,
   "metadata": {
    "collapsed": false,
    "deletable": true,
    "editable": true
   },
   "outputs": [
    {
     "data": {
      "text/html": [
       "<div>\n",
       "<table border=\"1\" class=\"dataframe\">\n",
       "  <thead>\n",
       "    <tr style=\"text-align: right;\">\n",
       "      <th></th>\n",
       "      <th>percent_good</th>\n",
       "      <th>percent_bad</th>\n",
       "    </tr>\n",
       "    <tr>\n",
       "      <th>FICO Credit Score</th>\n",
       "      <th></th>\n",
       "      <th></th>\n",
       "    </tr>\n",
       "  </thead>\n",
       "  <tbody>\n",
       "    <tr>\n",
       "      <th>625.0</th>\n",
       "      <td>100.000000</td>\n",
       "      <td>0.000000</td>\n",
       "    </tr>\n",
       "    <tr>\n",
       "      <th>630.0</th>\n",
       "      <td>100.000000</td>\n",
       "      <td>0.000000</td>\n",
       "    </tr>\n",
       "    <tr>\n",
       "      <th>660.0</th>\n",
       "      <td>71.138211</td>\n",
       "      <td>28.861789</td>\n",
       "    </tr>\n",
       "    <tr>\n",
       "      <th>665.0</th>\n",
       "      <td>71.714534</td>\n",
       "      <td>28.285466</td>\n",
       "    </tr>\n",
       "    <tr>\n",
       "      <th>670.0</th>\n",
       "      <td>73.128120</td>\n",
       "      <td>26.871880</td>\n",
       "    </tr>\n",
       "  </tbody>\n",
       "</table>\n",
       "</div>"
      ],
      "text/plain": [
       "                   percent_good  percent_bad\n",
       "FICO Credit Score                           \n",
       "625.0                100.000000     0.000000\n",
       "630.0                100.000000     0.000000\n",
       "660.0                 71.138211    28.861789\n",
       "665.0                 71.714534    28.285466\n",
       "670.0                 73.128120    26.871880"
      ]
     },
     "execution_count": 20,
     "metadata": {},
     "output_type": "execute_result"
    }
   ],
   "source": [
    "# what is the link between FICO Credit Score and creditworthiness?\n",
    "\n",
    "table4 = pd.pivot_table(df_raw, values='Loan Amount', index='FICO Credit Score', \\\n",
    "                        columns='Class_new', aggfunc='count').fillna(0)\n",
    "table4.columns = ['good', 'bad']\n",
    "table4['Sum'] = table4['good'] + table4['bad']\n",
    "table4['percent_good'] = table4['good']/table4['Sum']*100\n",
    "table4['percent_bad'] = table4['bad']/table4['Sum']*100\n",
    "\n",
    "table4.drop(table4.columns[[0, 1, 2]], axis=1, inplace=True)\n",
    "table4 = table4.iloc[0: :]\n",
    "table4.head()"
   ]
  },
  {
   "cell_type": "code",
   "execution_count": 21,
   "metadata": {
    "collapsed": false,
    "deletable": true,
    "editable": true
   },
   "outputs": [
    {
     "data": {
      "text/plain": [
       "<matplotlib.text.Text at 0xedbbc50>"
      ]
     },
     "execution_count": 21,
     "metadata": {},
     "output_type": "execute_result"
    },
    {
     "data": {
      "image/png": "[encoded data removed]",
      "text/plain": [
       "<matplotlib.figure.Figure at 0xc76db38>"
      ]
     },
     "metadata": {},
     "output_type": "display_data"
    }
   ],
   "source": [
    "colors = ('seagreen','magenta')\n",
    "ax4= table4.plot(legend=False, kind='bar',stacked=True, ylim=(0,100), color=colors, fontsize=9,\\\n",
    "                title='FICO Credit Score and creditworthiness')\n",
    "plt.legend(loc='upper left', bbox_to_anchor=(1.0, 0.5))\n",
    "ax4.set_xticklabels(table4.index, rotation=70)\n",
    "ax4.set_xlabel('FICO Credit Score', fontsize=9)\n",
    "ax4.set_ylabel('percentage', fontsize=9)"
   ]
  },
  {
   "cell_type": "code",
   "execution_count": 22,
   "metadata": {
    "collapsed": false,
    "deletable": true,
    "editable": true
   },
   "outputs": [
    {
     "data": {
      "text/html": [
       "<div>\n",
       "<table border=\"1\" class=\"dataframe\">\n",
       "  <thead>\n",
       "    <tr style=\"text-align: right;\">\n",
       "      <th></th>\n",
       "      <th>percent_good</th>\n",
       "      <th>percent_bad</th>\n",
       "    </tr>\n",
       "    <tr>\n",
       "      <th>No. Adverse Public Records</th>\n",
       "      <th></th>\n",
       "      <th></th>\n",
       "    </tr>\n",
       "  </thead>\n",
       "  <tbody>\n",
       "    <tr>\n",
       "      <th>Four</th>\n",
       "      <td>100.000000</td>\n",
       "      <td>0.000000</td>\n",
       "    </tr>\n",
       "    <tr>\n",
       "      <th>None</th>\n",
       "      <td>82.315619</td>\n",
       "      <td>17.684381</td>\n",
       "    </tr>\n",
       "    <tr>\n",
       "      <th>One</th>\n",
       "      <td>72.763578</td>\n",
       "      <td>27.236422</td>\n",
       "    </tr>\n",
       "    <tr>\n",
       "      <th>Three</th>\n",
       "      <td>100.000000</td>\n",
       "      <td>0.000000</td>\n",
       "    </tr>\n",
       "    <tr>\n",
       "      <th>Two</th>\n",
       "      <td>75.757576</td>\n",
       "      <td>24.242424</td>\n",
       "    </tr>\n",
       "  </tbody>\n",
       "</table>\n",
       "</div>"
      ],
      "text/plain": [
       "                            percent_good  percent_bad\n",
       "No. Adverse Public Records                           \n",
       "Four                          100.000000     0.000000\n",
       "None                           82.315619    17.684381\n",
       "One                            72.763578    27.236422\n",
       "Three                         100.000000     0.000000\n",
       "Two                            75.757576    24.242424"
      ]
     },
     "execution_count": 22,
     "metadata": {},
     "output_type": "execute_result"
    }
   ],
   "source": [
    "# what is the link between No. Adverse Public Records and creditworthiness?\n",
    "\n",
    "table5 = pd.pivot_table(df_raw, values='Loan Amount', index='No. Adverse Public Records', \\\n",
    "                        columns='Class_new', aggfunc='count').fillna(0)\n",
    "table5.columns = ['good', 'bad']\n",
    "table5['Sum'] = table5['good'] + table5['bad']\n",
    "table5['percent_good'] = table5['good']/table5['Sum']*100\n",
    "table5['percent_bad'] = table5['bad']/table5['Sum']*100\n",
    "\n",
    "table5.drop(table5.columns[[0, 1, 2]], axis=1, inplace=True)\n",
    "table5 = table5.iloc[0: :]\n",
    "table5.head()"
   ]
  },
  {
   "cell_type": "code",
   "execution_count": 23,
   "metadata": {
    "collapsed": false,
    "deletable": true,
    "editable": true
   },
   "outputs": [
    {
     "data": {
      "text/plain": [
       "<matplotlib.text.Text at 0xef6e978>"
      ]
     },
     "execution_count": 23,
     "metadata": {},
     "output_type": "execute_result"
    },
    {
     "data": {
      "image/png": "[encoded data removed]",
      "text/plain": [
       "<matplotlib.figure.Figure at 0xe683978>"
      ]
     },
     "metadata": {},
     "output_type": "display_data"
    }
   ],
   "source": [
    "colors = ('seagreen','magenta')\n",
    "ax5= table5.plot(legend=False, kind='bar',stacked=True, ylim=(0,100), color=colors, fontsize=9,\\\n",
    "                title='No. Adverse Public Records and creditworthiness')\n",
    "plt.legend(loc='upper left', bbox_to_anchor=(1.0, 0.5))\n",
    "ax5.set_xticklabels(table5.index, rotation=70)\n",
    "ax5.set_xlabel('No. Adverse Public Records', fontsize=9)\n",
    "ax5.set_ylabel('percentage', fontsize=9)"
   ]
  },
  {
   "cell_type": "markdown",
   "metadata": {
    "deletable": true,
    "editable": true
   },
   "source": [
    "# Data preprocessing"
   ]
  },
  {
   "cell_type": "code",
   "execution_count": 24,
   "metadata": {
    "collapsed": true,
    "deletable": true,
    "editable": true
   },
   "outputs": [],
   "source": [
    "# summarise address states into geographic regions\n",
    "\n",
    "East_Coast = ['ME', 'NH', 'VT', 'MA', 'RI', 'CT', 'NY', 'PA', 'NJ', 'DE', 'MD', 'VA', 'PA', 'DC']\n",
    "West_Coast = ['CA']\n",
    "North = ['WA', 'OR', 'ID', 'MT', 'WY', 'SD','MN', 'WI', 'MI', 'AK']\n",
    "South = ['AZ', 'NM', 'TX', 'OK', 'LA', 'AR', 'MS', 'AL', 'GA', 'FL', 'SC', 'NC', 'TN', 'HI']\n",
    "Middle = ['NV', 'UT', 'CO', 'KS', 'NE', 'IA', 'MO', 'IL', 'IN', 'KY', 'WV', 'OH']"
   ]
  },
  {
   "cell_type": "code",
   "execution_count": 25,
   "metadata": {
    "collapsed": false,
    "deletable": true,
    "editable": true
   },
   "outputs": [
    {
     "data": {
      "text/plain": [
       "East_Coast    7731\n",
       "South         6885\n",
       "West_Coast    4485\n",
       "Middle        3461\n",
       "North         2213\n",
       "Name: Address State, dtype: int64"
      ]
     },
     "execution_count": 25,
     "metadata": {},
     "output_type": "execute_result"
    }
   ],
   "source": [
    "df_raw['Address State'] = df_raw['Address State'].replace(East_Coast, 'East_Coast')\n",
    "df_raw['Address State'] = df_raw['Address State'].replace(West_Coast, 'West_Coast')\n",
    "df_raw['Address State'] = df_raw['Address State'].replace(North, 'North')\n",
    "df_raw['Address State'] = df_raw['Address State'].replace(South, 'South')\n",
    "df_raw['Address State'] = df_raw['Address State'].replace(Middle, 'Middle') \n",
    "\n",
    "df_raw['Address State'].value_counts()"
   ]
  },
  {
   "cell_type": "code",
   "execution_count": 26,
   "metadata": {
    "collapsed": true,
    "deletable": true,
    "editable": true
   },
   "outputs": [],
   "source": [
    "# summarise FICO scores into categories\n",
    "\n",
    "def summarise(fico):\n",
    "    if 300 >= fico < 579:\n",
    "        return 'Very Poor'\n",
    "    if 580 >= fico < 669:\n",
    "        return 'Fair'\n",
    "    if 670 >= fico < 739:\n",
    "        return 'Good'\n",
    "    if 740 >= fico < 799:\n",
    "        return 'Very Good'\n",
    "    if 800 >= fico <= 850:\n",
    "        return 'Exceptional'"
   ]
  },
  {
   "cell_type": "code",
   "execution_count": 27,
   "metadata": {
    "collapsed": false,
    "deletable": true,
    "editable": true
   },
   "outputs": [
    {
     "data": {
      "text/plain": [
       "Very Good      15950\n",
       "Exceptional     5208\n",
       "Good            3337\n",
       "Name: FICO Credit Score, dtype: int64"
      ]
     },
     "execution_count": 27,
     "metadata": {},
     "output_type": "execute_result"
    }
   ],
   "source": [
    "df_raw['FICO Credit Score'] = df_raw['FICO Credit Score'].apply(summarise)\n",
    "df_raw['FICO Credit Score'].value_counts()"
   ]
  },
  {
   "cell_type": "code",
   "execution_count": null,
   "metadata": {
    "collapsed": true,
    "deletable": true,
    "editable": true
   },
   "outputs": [],
   "source": []
  },
  {
   "cell_type": "code",
   "execution_count": 28,
   "metadata": {
    "collapsed": false,
    "deletable": true,
    "editable": true
   },
   "outputs": [],
   "source": [
    "# create dummy variables for categorical data\n",
    "\n",
    "df_raw = pd.get_dummies(df_raw, columns=['Loan Term','Home Ownership', 'Loan Purpose', \\\n",
    "                                         'FICO Credit Score','Address State'])"
   ]
  },
  {
   "cell_type": "code",
   "execution_count": 29,
   "metadata": {
    "collapsed": false,
    "deletable": true,
    "editable": true
   },
   "outputs": [],
   "source": [
    "# encode remaining columns containing object data types\n",
    "\n",
    "from sklearn import preprocessing \n",
    "\n",
    "cols = ['No. Delinquencies In Last 2 Years', 'No. Adverse Public Records',\\\n",
    "           'No. Of Public Record Bankruptcies']\n",
    "\n",
    "le = preprocessing.LabelEncoder()\n",
    "\n",
    "def labelencoder(input):\n",
    "    if input == 'None':\n",
    "        return 0\n",
    "    elif input == 'One':\n",
    "        return 1\n",
    "    elif input == 'Two':\n",
    "        return 2\n",
    "    elif input == 'Three':\n",
    "        return 3\n",
    "    elif input == 'Four':\n",
    "        return 4\n",
    "    elif input == 'Five':\n",
    "        return 5\n",
    "    elif input == 'Six':\n",
    "        return 6\n",
    "    elif input == 'Seven':\n",
    "        return 7\n",
    "    elif input == 'Eight':\n",
    "        return 8\n",
    "    elif input == 'Nine':\n",
    "        return 9\n",
    "    else:\n",
    "        return input\n",
    "\n",
    "for c in cols:    \n",
    "    df_raw[c] = df_raw[c].apply(labelencoder)\n"
   ]
  },
  {
   "cell_type": "code",
   "execution_count": 30,
   "metadata": {
    "collapsed": false,
    "deletable": true,
    "editable": true
   },
   "outputs": [],
   "source": [
    "# drop redundant feature\n",
    "\n",
    "df_raw.drop('Class', axis=1, inplace=True)"
   ]
  },
  {
   "cell_type": "code",
   "execution_count": 31,
   "metadata": {
    "collapsed": false,
    "deletable": true,
    "editable": true
   },
   "outputs": [
    {
     "name": "stdout",
     "output_type": "stream",
     "text": [
      "<class 'pandas.core.frame.DataFrame'>\n",
      "RangeIndex: 24776 entries, 0 to 24775\n",
      "Data columns (total 46 columns):\n",
      "Loan Amount                          24776 non-null int64\n",
      "Employment Length                    24776 non-null float64\n",
      "Annual Income                        24776 non-null float64\n",
      "Debt To Income Ratio                 24775 non-null float64\n",
      "No. Delinquencies In Last 2 Years    24775 non-null float64\n",
      "Earliest Credit Line Opened          24776 non-null float64\n",
      "No. Inquiries In Last 6 Months       24775 non-null float64\n",
      "Months Since Last Delinquency        24776 non-null int64\n",
      "No. Of Credit Lines                  24775 non-null float64\n",
      "No. Adverse Public Records           24775 non-null float64\n",
      "Total Credit Balance                 24775 non-null float64\n",
      "Use Of Credit Line                   24724 non-null float64\n",
      "Total Number Of Credit Lines         24775 non-null float64\n",
      "Loan Application Description         24776 non-null int64\n",
      "No. Of Public Record Bankruptcies    24776 non-null int64\n",
      "Class_new                            24776 non-null int64\n",
      "Loan Term_36 Months                  24776 non-null uint8\n",
      "Loan Term_60 Months                  24776 non-null uint8\n",
      "Home Ownership_MORTGAGE              24776 non-null uint8\n",
      "Home Ownership_NOne                  24776 non-null uint8\n",
      "Home Ownership_OTHER                 24776 non-null uint8\n",
      "Home Ownership_OWN                   24776 non-null uint8\n",
      "Home Ownership_RENT                  24776 non-null uint8\n",
      "Loan Purpose_0                       24776 non-null uint8\n",
      "Loan Purpose_Car                     24776 non-null uint8\n",
      "Loan Purpose_Credit Card             24776 non-null uint8\n",
      "Loan Purpose_Debt Consolidation      24776 non-null uint8\n",
      "Loan Purpose_Educationalal           24776 non-null uint8\n",
      "Loan Purpose_Home Improvement        24776 non-null uint8\n",
      "Loan Purpose_House                   24776 non-null uint8\n",
      "Loan Purpose_Major Purchase          24776 non-null uint8\n",
      "Loan Purpose_Medical                 24776 non-null uint8\n",
      "Loan Purpose_Moving                  24776 non-null uint8\n",
      "Loan Purpose_Other                   24776 non-null uint8\n",
      "Loan Purpose_Renewable Energy        24776 non-null uint8\n",
      "Loan Purpose_Small Business          24776 non-null uint8\n",
      "Loan Purpose_Vacation                24776 non-null uint8\n",
      "Loan Purpose_Wedding                 24776 non-null uint8\n",
      "FICO Credit Score_Exceptional        24776 non-null uint8\n",
      "FICO Credit Score_Good               24776 non-null uint8\n",
      "FICO Credit Score_Very Good          24776 non-null uint8\n",
      "Address State_East_Coast             24776 non-null uint8\n",
      "Address State_Middle                 24776 non-null uint8\n",
      "Address State_North                  24776 non-null uint8\n",
      "Address State_South                  24776 non-null uint8\n",
      "Address State_West_Coast             24776 non-null uint8\n",
      "dtypes: float64(11), int64(5), uint8(30)\n",
      "memory usage: 3.7 MB\n"
     ]
    }
   ],
   "source": [
    "# let's have a look a the preprocessed data:\n",
    "\n",
    "df_raw.info()"
   ]
  },
  {
   "cell_type": "markdown",
   "metadata": {
    "deletable": true,
    "editable": true
   },
   "source": [
    "# Define X and y"
   ]
  },
  {
   "cell_type": "code",
   "execution_count": 32,
   "metadata": {
    "collapsed": true,
    "deletable": true,
    "editable": true
   },
   "outputs": [],
   "source": [
    "# deal with nan values\n",
    "\n",
    "data = df_raw.fillna(df_raw.median())"
   ]
  },
  {
   "cell_type": "code",
   "execution_count": 33,
   "metadata": {
    "collapsed": false,
    "deletable": true,
    "editable": true
   },
   "outputs": [],
   "source": [
    "# define X and y\n",
    "\n",
    "y = data['Class_new']\n",
    "y.columns = ['Class']\n",
    "X = data.drop(['Class_new'], axis=1)\n"
   ]
  },
  {
   "cell_type": "code",
   "execution_count": 34,
   "metadata": {
    "collapsed": true,
    "deletable": true,
    "editable": true
   },
   "outputs": [],
   "source": [
    "# train test split\n",
    "# stratify target y as it may not be normally distributed\n",
    "\n",
    "from sklearn.model_selection import train_test_split\n",
    "\n",
    "X_train, X_test, y_train, y_test = train_test_split(X, y, test_size=0.3, random_state=42,\\\n",
    "                                                    stratify=y)"
   ]
  },
  {
   "cell_type": "markdown",
   "metadata": {
    "deletable": true,
    "editable": true
   },
   "source": [
    "# Build logistic regression model"
   ]
  },
  {
   "cell_type": "code",
   "execution_count": 35,
   "metadata": {
    "collapsed": false,
    "deletable": true,
    "editable": true
   },
   "outputs": [],
   "source": [
    "# Build logistic regression model\n",
    "\n",
    "from sklearn import linear_model\n",
    "from sklearn.metrics import roc_auc_score\n",
    "\n",
    "regr = linear_model.LogisticRegression(random_state=42, class_weight={0:0.1817, 1:0.8183})\n",
    "regr.fit(X_train, y_train)\n",
    "\n",
    "y_pred_regr = regr.predict(X_test)"
   ]
  },
  {
   "cell_type": "code",
   "execution_count": 36,
   "metadata": {
    "collapsed": false,
    "deletable": true,
    "editable": true
   },
   "outputs": [
    {
     "name": "stdout",
     "output_type": "stream",
     "text": [
      "The AUC score for a simple Logistic Regression model is 0.6529.\n"
     ]
    }
   ],
   "source": [
    "# Assess benchmark model performance using area under the curve (AUC)\n",
    "\n",
    "from sklearn.metrics import roc_auc_score\n",
    "\n",
    "AUC = roc_auc_score(y_test, y_pred_regr)\n",
    "print(\"The AUC score for a simple Logistic Regression model is {:.4f}.\".format(AUC))"
   ]
  },
  {
   "cell_type": "markdown",
   "metadata": {
    "deletable": true,
    "editable": true
   },
   "source": [
    "# Optimise logistic regression model"
   ]
  },
  {
   "cell_type": "code",
   "execution_count": 37,
   "metadata": {
    "collapsed": false,
    "deletable": true,
    "editable": true
   },
   "outputs": [
    {
     "name": "stdout",
     "output_type": "stream",
     "text": [
      "The AUC score for the optimized logistic regression model is 0.6559.\n"
     ]
    }
   ],
   "source": [
    "# tuning hyperparameters - logistic regression\n",
    "\n",
    "from sklearn.model_selection import GridSearchCV\n",
    "\n",
    "\n",
    "param_grid = {'C': [0.01, 0.1, 1, 5], 'penalty': ['l1', 'l2']}\n",
    "             \n",
    "gsregr = GridSearchCV(regr, param_grid, cv=5)\n",
    "    \n",
    "gsregr.fit(X_train, y_train)\n",
    "\n",
    "gsregr_pred = gsregr.predict(X_test)\n",
    "\n",
    "AUC_gs = roc_auc_score(y_test, gsregr_pred)\n",
    "print(\"The AUC score for the optimized logistic regression model is {:.4f}.\".format(AUC_gs))"
   ]
  },
  {
   "cell_type": "code",
   "execution_count": 38,
   "metadata": {
    "collapsed": false,
    "deletable": true,
    "editable": true
   },
   "outputs": [
    {
     "name": "stdout",
     "output_type": "stream",
     "text": [
      "{'penalty': 'l1', 'C': 5}\n"
     ]
    }
   ],
   "source": [
    "# what are the best parameters?\n",
    "\n",
    "print(gsregr.best_params_)"
   ]
  },
  {
   "cell_type": "code",
   "execution_count": 70,
   "metadata": {
    "collapsed": false,
    "deletable": true,
    "editable": true
   },
   "outputs": [],
   "source": [
    "# look at the coefficients\n",
    "\n",
    "coef = pd.DataFrame(gsregr.best_estimator_.coef_)\n",
    "coef.columns = X_test.columns\n",
    "coef = coef.transpose()\n",
    "coef.columns = ['Coef_size']\n",
    "coef_sorted = coef.sort_values('Coef_size', ascending=False)\n"
   ]
  },
  {
   "cell_type": "code",
   "execution_count": 72,
   "metadata": {
    "collapsed": false
   },
   "outputs": [
    {
     "data": {
      "text/html": [
       "<div>\n",
       "<table border=\"1\" class=\"dataframe\">\n",
       "  <thead>\n",
       "    <tr style=\"text-align: right;\">\n",
       "      <th></th>\n",
       "      <th>Coef_size</th>\n",
       "    </tr>\n",
       "  </thead>\n",
       "  <tbody>\n",
       "    <tr>\n",
       "      <th>FICO Credit Score_Good</th>\n",
       "      <td>4.190637</td>\n",
       "    </tr>\n",
       "    <tr>\n",
       "      <th>FICO Credit Score_Very Good</th>\n",
       "      <td>2.993959</td>\n",
       "    </tr>\n",
       "    <tr>\n",
       "      <th>Loan Purpose_Small Business</th>\n",
       "      <td>2.458045</td>\n",
       "    </tr>\n",
       "    <tr>\n",
       "      <th>FICO Credit Score_Exceptional</th>\n",
       "      <td>1.848384</td>\n",
       "    </tr>\n",
       "    <tr>\n",
       "      <th>Loan Purpose_Renewable Energy</th>\n",
       "      <td>1.816389</td>\n",
       "    </tr>\n",
       "    <tr>\n",
       "      <th>Loan Term_60 Months</th>\n",
       "      <td>1.728456</td>\n",
       "    </tr>\n",
       "    <tr>\n",
       "      <th>No. Adverse Public Records</th>\n",
       "      <td>1.665436</td>\n",
       "    </tr>\n",
       "    <tr>\n",
       "      <th>Loan Purpose_Medical</th>\n",
       "      <td>1.503479</td>\n",
       "    </tr>\n",
       "    <tr>\n",
       "      <th>Loan Purpose_Moving</th>\n",
       "      <td>1.362919</td>\n",
       "    </tr>\n",
       "    <tr>\n",
       "      <th>Address State_West_Coast</th>\n",
       "      <td>1.334612</td>\n",
       "    </tr>\n",
       "    <tr>\n",
       "      <th>Loan Purpose_Vacation</th>\n",
       "      <td>1.286806</td>\n",
       "    </tr>\n",
       "    <tr>\n",
       "      <th>No. Inquiries In Last 6 Months</th>\n",
       "      <td>1.235901</td>\n",
       "    </tr>\n",
       "    <tr>\n",
       "      <th>Loan Purpose_Other</th>\n",
       "      <td>1.176056</td>\n",
       "    </tr>\n",
       "    <tr>\n",
       "      <th>Address State_South</th>\n",
       "      <td>1.097940</td>\n",
       "    </tr>\n",
       "    <tr>\n",
       "      <th>Loan Purpose_Educationalal</th>\n",
       "      <td>1.062318</td>\n",
       "    </tr>\n",
       "    <tr>\n",
       "      <th>No. Delinquencies In Last 2 Years</th>\n",
       "      <td>1.047408</td>\n",
       "    </tr>\n",
       "    <tr>\n",
       "      <th>Home Ownership_RENT</th>\n",
       "      <td>1.041001</td>\n",
       "    </tr>\n",
       "    <tr>\n",
       "      <th>Home Ownership_OWN</th>\n",
       "      <td>1.025298</td>\n",
       "    </tr>\n",
       "    <tr>\n",
       "      <th>No. Of Credit Lines</th>\n",
       "      <td>1.020638</td>\n",
       "    </tr>\n",
       "    <tr>\n",
       "      <th>Use Of Credit Line</th>\n",
       "      <td>1.009893</td>\n",
       "    </tr>\n",
       "    <tr>\n",
       "      <th>Debt To Income Ratio</th>\n",
       "      <td>1.006333</td>\n",
       "    </tr>\n",
       "    <tr>\n",
       "      <th>Employment Length</th>\n",
       "      <td>1.004643</td>\n",
       "    </tr>\n",
       "    <tr>\n",
       "      <th>Loan Amount</th>\n",
       "      <td>1.000020</td>\n",
       "    </tr>\n",
       "    <tr>\n",
       "      <th>Total Credit Balance</th>\n",
       "      <td>1.000002</td>\n",
       "    </tr>\n",
       "    <tr>\n",
       "      <th>Loan Purpose_0</th>\n",
       "      <td>1.000000</td>\n",
       "    </tr>\n",
       "    <tr>\n",
       "      <th>Home Ownership_OTHER</th>\n",
       "      <td>1.000000</td>\n",
       "    </tr>\n",
       "    <tr>\n",
       "      <th>Address State_Middle</th>\n",
       "      <td>1.000000</td>\n",
       "    </tr>\n",
       "    <tr>\n",
       "      <th>Loan Purpose_House</th>\n",
       "      <td>1.000000</td>\n",
       "    </tr>\n",
       "    <tr>\n",
       "      <th>Annual Income</th>\n",
       "      <td>0.999990</td>\n",
       "    </tr>\n",
       "    <tr>\n",
       "      <th>Earliest Credit Line Opened</th>\n",
       "      <td>0.999971</td>\n",
       "    </tr>\n",
       "    <tr>\n",
       "      <th>Loan Application Description</th>\n",
       "      <td>0.999611</td>\n",
       "    </tr>\n",
       "    <tr>\n",
       "      <th>Months Since Last Delinquency</th>\n",
       "      <td>0.998302</td>\n",
       "    </tr>\n",
       "    <tr>\n",
       "      <th>Loan Purpose_Home Improvement</th>\n",
       "      <td>0.989069</td>\n",
       "    </tr>\n",
       "    <tr>\n",
       "      <th>Total Number Of Credit Lines</th>\n",
       "      <td>0.987809</td>\n",
       "    </tr>\n",
       "    <tr>\n",
       "      <th>Address State_East_Coast</th>\n",
       "      <td>0.938010</td>\n",
       "    </tr>\n",
       "    <tr>\n",
       "      <th>Home Ownership_MORTGAGE</th>\n",
       "      <td>0.927156</td>\n",
       "    </tr>\n",
       "    <tr>\n",
       "      <th>Address State_North</th>\n",
       "      <td>0.910865</td>\n",
       "    </tr>\n",
       "    <tr>\n",
       "      <th>Home Ownership_NOne</th>\n",
       "      <td>0.910341</td>\n",
       "    </tr>\n",
       "    <tr>\n",
       "      <th>No. Of Public Record Bankruptcies</th>\n",
       "      <td>0.871085</td>\n",
       "    </tr>\n",
       "    <tr>\n",
       "      <th>Loan Purpose_Major Purchase</th>\n",
       "      <td>0.861894</td>\n",
       "    </tr>\n",
       "    <tr>\n",
       "      <th>Loan Purpose_Wedding</th>\n",
       "      <td>0.809547</td>\n",
       "    </tr>\n",
       "    <tr>\n",
       "      <th>Loan Purpose_Debt Consolidation</th>\n",
       "      <td>0.769752</td>\n",
       "    </tr>\n",
       "    <tr>\n",
       "      <th>Loan Purpose_Car</th>\n",
       "      <td>0.665140</td>\n",
       "    </tr>\n",
       "    <tr>\n",
       "      <th>Loan Term_36 Months</th>\n",
       "      <td>0.633294</td>\n",
       "    </tr>\n",
       "    <tr>\n",
       "      <th>Loan Purpose_Credit Card</th>\n",
       "      <td>0.525741</td>\n",
       "    </tr>\n",
       "  </tbody>\n",
       "</table>\n",
       "</div>"
      ],
      "text/plain": [
       "                                   Coef_size\n",
       "FICO Credit Score_Good              4.190637\n",
       "FICO Credit Score_Very Good         2.993959\n",
       "Loan Purpose_Small Business         2.458045\n",
       "FICO Credit Score_Exceptional       1.848384\n",
       "Loan Purpose_Renewable Energy       1.816389\n",
       "Loan Term_60 Months                 1.728456\n",
       "No. Adverse Public Records          1.665436\n",
       "Loan Purpose_Medical                1.503479\n",
       "Loan Purpose_Moving                 1.362919\n",
       "Address State_West_Coast            1.334612\n",
       "Loan Purpose_Vacation               1.286806\n",
       "No. Inquiries In Last 6 Months      1.235901\n",
       "Loan Purpose_Other                  1.176056\n",
       "Address State_South                 1.097940\n",
       "Loan Purpose_Educationalal          1.062318\n",
       "No. Delinquencies In Last 2 Years   1.047408\n",
       "Home Ownership_RENT                 1.041001\n",
       "Home Ownership_OWN                  1.025298\n",
       "No. Of Credit Lines                 1.020638\n",
       "Use Of Credit Line                  1.009893\n",
       "Debt To Income Ratio                1.006333\n",
       "Employment Length                   1.004643\n",
       "Loan Amount                         1.000020\n",
       "Total Credit Balance                1.000002\n",
       "Loan Purpose_0                      1.000000\n",
       "Home Ownership_OTHER                1.000000\n",
       "Address State_Middle                1.000000\n",
       "Loan Purpose_House                  1.000000\n",
       "Annual Income                       0.999990\n",
       "Earliest Credit Line Opened         0.999971\n",
       "Loan Application Description        0.999611\n",
       "Months Since Last Delinquency       0.998302\n",
       "Loan Purpose_Home Improvement       0.989069\n",
       "Total Number Of Credit Lines        0.987809\n",
       "Address State_East_Coast            0.938010\n",
       "Home Ownership_MORTGAGE             0.927156\n",
       "Address State_North                 0.910865\n",
       "Home Ownership_NOne                 0.910341\n",
       "No. Of Public Record Bankruptcies   0.871085\n",
       "Loan Purpose_Major Purchase         0.861894\n",
       "Loan Purpose_Wedding                0.809547\n",
       "Loan Purpose_Debt Consolidation     0.769752\n",
       "Loan Purpose_Car                    0.665140\n",
       "Loan Term_36 Months                 0.633294\n",
       "Loan Purpose_Credit Card            0.525741"
      ]
     },
     "execution_count": 72,
     "metadata": {},
     "output_type": "execute_result"
    }
   ],
   "source": [
    "# take the exponential of each of the coefficients to generate the odds ratios. \n",
    "# this tells you how a 1 unit increase or decrease in a variable affects the odds \n",
    "# of being admitted.\n",
    "\n",
    "odds_ratio = np.exp(coef_sorted)\n",
    "odds_ratio"
   ]
  },
  {
   "cell_type": "code",
   "execution_count": 75,
   "metadata": {
    "collapsed": false
   },
   "outputs": [
    {
     "data": {
      "image/png": "[encoded data removed]",
      "text/plain": [
       "<matplotlib.figure.Figure at 0x14077860>"
      ]
     },
     "metadata": {},
     "output_type": "display_data"
    }
   ],
   "source": [
    "# plot odd ratios\n",
    "\n",
    "sns.set(style='whitegrid')\n",
    "\n",
    "f, ax = plt.subplots(figsize=(10,7))\n",
    "ax = sns.barplot(x=odds_ratio.index, y=odds_ratio.Coef_size)\n",
    "ax.set(xlabel='Feature names', ylabel='Odds ratio')\n",
    "ax.set_title('Odd ratios')\n",
    "for item in ax.get_xticklabels():\n",
    "    item.set_rotation(90)"
   ]
  },
  {
   "cell_type": "markdown",
   "metadata": {},
   "source": [
    "# How to interpret odd score\n",
    "\n",
    "A score over 1 indicates a positive relationship with the target variable, a score below 1 a negative one.\n",
    "\n",
    "For example, FICO Credit Score_Good has an odd ratio of 4.190637. This means than the odds for creditunworthiness are 319% higher than the odds for creditworthiness.\n",
    "\n",
    "Odds of success = ratio of probability of success / probability of failure\n",
    "If the probability of success is 50/50, the odds of success are 1/1 = 1"
   ]
  },
  {
   "cell_type": "code",
   "execution_count": null,
   "metadata": {
    "collapsed": true
   },
   "outputs": [],
   "source": []
  },
  {
   "cell_type": "markdown",
   "metadata": {
    "collapsed": true,
    "deletable": true,
    "editable": true
   },
   "source": [
    "# Gradient Boosted Trees"
   ]
  },
  {
   "cell_type": "code",
   "execution_count": 41,
   "metadata": {
    "collapsed": true,
    "deletable": true,
    "editable": true
   },
   "outputs": [],
   "source": [
    "# try XGBoost\n",
    "\n",
    "import lightgbm as lgb \n",
    "\n",
    "trn_x = X_train\n",
    "trn_y = y_train\n",
    "val_x = X_test\n",
    "val_y = y_test\n",
    "train_data = lgb.Dataset(trn_x, trn_y) \n",
    "test_data = lgb.Dataset(val_x,val_y, reference=train_data) "
   ]
  },
  {
   "cell_type": "code",
   "execution_count": 76,
   "metadata": {
    "collapsed": false,
    "deletable": true,
    "editable": true
   },
   "outputs": [
    {
     "name": "stdout",
     "output_type": "stream",
     "text": [
      "[1]\tvalid_0's auc: 0.673291\n",
      "[2]\tvalid_0's auc: 0.690231\n",
      "[3]\tvalid_0's auc: 0.688937\n",
      "[4]\tvalid_0's auc: 0.690047\n",
      "[5]\tvalid_0's auc: 0.691617\n",
      "[6]\tvalid_0's auc: 0.6945\n",
      "[7]\tvalid_0's auc: 0.697475\n",
      "[8]\tvalid_0's auc: 0.698001\n",
      "[9]\tvalid_0's auc: 0.697866\n",
      "[10]\tvalid_0's auc: 0.699313\n",
      "[11]\tvalid_0's auc: 0.699866\n",
      "[12]\tvalid_0's auc: 0.700358\n",
      "[13]\tvalid_0's auc: 0.700523\n",
      "[14]\tvalid_0's auc: 0.700349\n",
      "[15]\tvalid_0's auc: 0.699833\n",
      "[16]\tvalid_0's auc: 0.700122\n",
      "[17]\tvalid_0's auc: 0.701044\n",
      "[18]\tvalid_0's auc: 0.701555\n",
      "[19]\tvalid_0's auc: 0.701698\n",
      "[20]\tvalid_0's auc: 0.7012\n",
      "[21]\tvalid_0's auc: 0.702056\n",
      "[22]\tvalid_0's auc: 0.702485\n",
      "[23]\tvalid_0's auc: 0.704066\n",
      "[24]\tvalid_0's auc: 0.703703\n",
      "[25]\tvalid_0's auc: 0.704063\n",
      "[26]\tvalid_0's auc: 0.704547\n",
      "[27]\tvalid_0's auc: 0.704944\n",
      "[28]\tvalid_0's auc: 0.705536\n",
      "[29]\tvalid_0's auc: 0.705923\n",
      "[30]\tvalid_0's auc: 0.706\n",
      "[31]\tvalid_0's auc: 0.706922\n",
      "[32]\tvalid_0's auc: 0.706691\n",
      "[33]\tvalid_0's auc: 0.706616\n",
      "[34]\tvalid_0's auc: 0.707333\n",
      "[35]\tvalid_0's auc: 0.707287\n",
      "[36]\tvalid_0's auc: 0.707443\n",
      "[37]\tvalid_0's auc: 0.707601\n",
      "[38]\tvalid_0's auc: 0.707529\n",
      "[39]\tvalid_0's auc: 0.707172\n",
      "[40]\tvalid_0's auc: 0.707328\n",
      "[41]\tvalid_0's auc: 0.707152\n",
      "[42]\tvalid_0's auc: 0.707703\n",
      "[43]\tvalid_0's auc: 0.708107\n",
      "[44]\tvalid_0's auc: 0.708125\n",
      "[45]\tvalid_0's auc: 0.708444\n",
      "[46]\tvalid_0's auc: 0.708234\n",
      "[47]\tvalid_0's auc: 0.708215\n",
      "[48]\tvalid_0's auc: 0.708127\n",
      "[49]\tvalid_0's auc: 0.708292\n",
      "[50]\tvalid_0's auc: 0.708102\n",
      "[51]\tvalid_0's auc: 0.708256\n",
      "[52]\tvalid_0's auc: 0.708301\n",
      "[53]\tvalid_0's auc: 0.708365\n",
      "[54]\tvalid_0's auc: 0.708237\n",
      "[55]\tvalid_0's auc: 0.708138\n",
      "[56]\tvalid_0's auc: 0.707928\n",
      "[57]\tvalid_0's auc: 0.708347\n",
      "[58]\tvalid_0's auc: 0.70851\n",
      "[59]\tvalid_0's auc: 0.708692\n",
      "[60]\tvalid_0's auc: 0.708823\n",
      "[61]\tvalid_0's auc: 0.708591\n",
      "[62]\tvalid_0's auc: 0.708767\n",
      "[63]\tvalid_0's auc: 0.709066\n",
      "[64]\tvalid_0's auc: 0.709435\n",
      "[65]\tvalid_0's auc: 0.709511\n",
      "[66]\tvalid_0's auc: 0.709691\n",
      "[67]\tvalid_0's auc: 0.709704\n",
      "[68]\tvalid_0's auc: 0.710054\n",
      "[69]\tvalid_0's auc: 0.710062\n",
      "[70]\tvalid_0's auc: 0.710015\n",
      "[71]\tvalid_0's auc: 0.710078\n",
      "[72]\tvalid_0's auc: 0.710053\n",
      "[73]\tvalid_0's auc: 0.709925\n",
      "[74]\tvalid_0's auc: 0.709914\n",
      "[75]\tvalid_0's auc: 0.70998\n",
      "[76]\tvalid_0's auc: 0.709954\n",
      "[77]\tvalid_0's auc: 0.710071\n",
      "[78]\tvalid_0's auc: 0.709964\n",
      "[79]\tvalid_0's auc: 0.710001\n",
      "[80]\tvalid_0's auc: 0.709927\n",
      "[81]\tvalid_0's auc: 0.710049\n",
      "[82]\tvalid_0's auc: 0.710082\n",
      "[83]\tvalid_0's auc: 0.710115\n",
      "[84]\tvalid_0's auc: 0.710395\n",
      "[85]\tvalid_0's auc: 0.710559\n",
      "[86]\tvalid_0's auc: 0.710786\n",
      "[87]\tvalid_0's auc: 0.710935\n",
      "[88]\tvalid_0's auc: 0.711071\n",
      "[89]\tvalid_0's auc: 0.711098\n",
      "[90]\tvalid_0's auc: 0.711076\n",
      "[91]\tvalid_0's auc: 0.711251\n",
      "[92]\tvalid_0's auc: 0.711336\n",
      "[93]\tvalid_0's auc: 0.711327\n",
      "[94]\tvalid_0's auc: 0.711293\n",
      "[95]\tvalid_0's auc: 0.711168\n",
      "[96]\tvalid_0's auc: 0.711231\n",
      "[97]\tvalid_0's auc: 0.711406\n",
      "[98]\tvalid_0's auc: 0.711482\n",
      "[99]\tvalid_0's auc: 0.71157\n",
      "[100]\tvalid_0's auc: 0.711553\n",
      "[101]\tvalid_0's auc: 0.711436\n",
      "[102]\tvalid_0's auc: 0.71138\n",
      "[103]\tvalid_0's auc: 0.711391\n",
      "[104]\tvalid_0's auc: 0.711266\n",
      "[105]\tvalid_0's auc: 0.711313\n",
      "[106]\tvalid_0's auc: 0.711377\n",
      "[107]\tvalid_0's auc: 0.711465\n",
      "[108]\tvalid_0's auc: 0.711557\n",
      "[109]\tvalid_0's auc: 0.71164\n",
      "[110]\tvalid_0's auc: 0.711743\n",
      "[111]\tvalid_0's auc: 0.711898\n",
      "[112]\tvalid_0's auc: 0.712085\n",
      "[113]\tvalid_0's auc: 0.712243\n",
      "[114]\tvalid_0's auc: 0.712445\n",
      "[115]\tvalid_0's auc: 0.712435\n",
      "[116]\tvalid_0's auc: 0.712531\n",
      "[117]\tvalid_0's auc: 0.712615\n",
      "[118]\tvalid_0's auc: 0.712741\n",
      "[119]\tvalid_0's auc: 0.712874\n",
      "[120]\tvalid_0's auc: 0.713044\n",
      "[121]\tvalid_0's auc: 0.713132\n",
      "[122]\tvalid_0's auc: 0.713353\n",
      "[123]\tvalid_0's auc: 0.713477\n",
      "[124]\tvalid_0's auc: 0.713579\n",
      "[125]\tvalid_0's auc: 0.713595\n",
      "[126]\tvalid_0's auc: 0.713721\n",
      "[127]\tvalid_0's auc: 0.713771\n",
      "[128]\tvalid_0's auc: 0.713887\n",
      "[129]\tvalid_0's auc: 0.713887\n",
      "[130]\tvalid_0's auc: 0.713874\n",
      "[131]\tvalid_0's auc: 0.713817\n",
      "[132]\tvalid_0's auc: 0.713854\n",
      "[133]\tvalid_0's auc: 0.714056\n",
      "[134]\tvalid_0's auc: 0.714151\n",
      "[135]\tvalid_0's auc: 0.714361\n",
      "[136]\tvalid_0's auc: 0.714491\n",
      "[137]\tvalid_0's auc: 0.714566\n",
      "[138]\tvalid_0's auc: 0.714758\n",
      "[139]\tvalid_0's auc: 0.714979\n",
      "[140]\tvalid_0's auc: 0.715184\n",
      "[141]\tvalid_0's auc: 0.715355\n",
      "[142]\tvalid_0's auc: 0.715337\n",
      "[143]\tvalid_0's auc: 0.715355\n",
      "[144]\tvalid_0's auc: 0.715404\n",
      "[145]\tvalid_0's auc: 0.715601\n",
      "[146]\tvalid_0's auc: 0.715755\n",
      "[147]\tvalid_0's auc: 0.715863\n",
      "[148]\tvalid_0's auc: 0.716111\n",
      "[149]\tvalid_0's auc: 0.71623\n",
      "[150]\tvalid_0's auc: 0.716302\n",
      "[151]\tvalid_0's auc: 0.716278\n",
      "[152]\tvalid_0's auc: 0.716282\n",
      "[153]\tvalid_0's auc: 0.716394\n",
      "[154]\tvalid_0's auc: 0.716445\n",
      "[155]\tvalid_0's auc: 0.716452\n",
      "[156]\tvalid_0's auc: 0.716802\n",
      "[157]\tvalid_0's auc: 0.716939\n",
      "[158]\tvalid_0's auc: 0.717047\n",
      "[159]\tvalid_0's auc: 0.717218\n",
      "[160]\tvalid_0's auc: 0.717262\n",
      "[161]\tvalid_0's auc: 0.717392\n",
      "[162]\tvalid_0's auc: 0.717322\n",
      "[163]\tvalid_0's auc: 0.717357\n",
      "[164]\tvalid_0's auc: 0.717451\n",
      "[165]\tvalid_0's auc: 0.71766\n",
      "[166]\tvalid_0's auc: 0.717683\n",
      "[167]\tvalid_0's auc: 0.717891\n",
      "[168]\tvalid_0's auc: 0.717957\n",
      "[169]\tvalid_0's auc: 0.718036\n",
      "[170]\tvalid_0's auc: 0.71811\n",
      "[171]\tvalid_0's auc: 0.718148\n",
      "[172]\tvalid_0's auc: 0.718279\n",
      "[173]\tvalid_0's auc: 0.718273\n",
      "[174]\tvalid_0's auc: 0.718314\n",
      "[175]\tvalid_0's auc: 0.71833\n",
      "[176]\tvalid_0's auc: 0.718432\n",
      "[177]\tvalid_0's auc: 0.718488\n",
      "[178]\tvalid_0's auc: 0.718572\n",
      "[179]\tvalid_0's auc: 0.718638\n",
      "[180]\tvalid_0's auc: 0.718679\n",
      "[181]\tvalid_0's auc: 0.718832\n",
      "[182]\tvalid_0's auc: 0.718735\n",
      "[183]\tvalid_0's auc: 0.718653\n",
      "[184]\tvalid_0's auc: 0.71878\n",
      "[185]\tvalid_0's auc: 0.718871\n",
      "[186]\tvalid_0's auc: 0.718905\n",
      "[187]\tvalid_0's auc: 0.718941\n",
      "[188]\tvalid_0's auc: 0.718862\n",
      "[189]\tvalid_0's auc: 0.718901\n",
      "[190]\tvalid_0's auc: 0.719018\n",
      "[191]\tvalid_0's auc: 0.719082\n",
      "[192]\tvalid_0's auc: 0.719136\n",
      "[193]\tvalid_0's auc: 0.719131\n",
      "[194]\tvalid_0's auc: 0.7191\n",
      "[195]\tvalid_0's auc: 0.719119\n",
      "[196]\tvalid_0's auc: 0.719136\n",
      "[197]\tvalid_0's auc: 0.719202\n",
      "[198]\tvalid_0's auc: 0.719162\n",
      "[199]\tvalid_0's auc: 0.719201\n",
      "[200]\tvalid_0's auc: 0.719392\n",
      "[201]\tvalid_0's auc: 0.719497\n",
      "[202]\tvalid_0's auc: 0.719551\n",
      "[203]\tvalid_0's auc: 0.719614\n",
      "[204]\tvalid_0's auc: 0.719668\n",
      "[205]\tvalid_0's auc: 0.719742\n",
      "[206]\tvalid_0's auc: 0.71992\n",
      "[207]\tvalid_0's auc: 0.720094\n",
      "[208]\tvalid_0's auc: 0.720219\n",
      "[209]\tvalid_0's auc: 0.720204\n",
      "[210]\tvalid_0's auc: 0.720154\n",
      "[211]\tvalid_0's auc: 0.72014\n",
      "[212]\tvalid_0's auc: 0.720167\n",
      "[213]\tvalid_0's auc: 0.72015\n",
      "[214]\tvalid_0's auc: 0.72016\n",
      "[215]\tvalid_0's auc: 0.720166\n",
      "[216]\tvalid_0's auc: 0.720179\n",
      "[217]\tvalid_0's auc: 0.720196\n",
      "[218]\tvalid_0's auc: 0.720315\n",
      "[219]\tvalid_0's auc: 0.720403\n",
      "[220]\tvalid_0's auc: 0.720487\n",
      "[221]\tvalid_0's auc: 0.720526\n",
      "[222]\tvalid_0's auc: 0.72058\n",
      "[223]\tvalid_0's auc: 0.720662\n",
      "[224]\tvalid_0's auc: 0.720673\n",
      "[225]\tvalid_0's auc: 0.720753\n",
      "[226]\tvalid_0's auc: 0.720753\n",
      "[227]\tvalid_0's auc: 0.720779\n",
      "[228]\tvalid_0's auc: 0.720799\n",
      "[229]\tvalid_0's auc: 0.720903\n",
      "[230]\tvalid_0's auc: 0.721033\n",
      "[231]\tvalid_0's auc: 0.721134\n",
      "[232]\tvalid_0's auc: 0.721126\n",
      "[233]\tvalid_0's auc: 0.721222\n",
      "[234]\tvalid_0's auc: 0.721298\n",
      "[235]\tvalid_0's auc: 0.721374\n",
      "[236]\tvalid_0's auc: 0.721521\n",
      "[237]\tvalid_0's auc: 0.721525\n",
      "[238]\tvalid_0's auc: 0.721629\n",
      "[239]\tvalid_0's auc: 0.721685\n",
      "[240]\tvalid_0's auc: 0.721686\n",
      "[241]\tvalid_0's auc: 0.721754\n",
      "[242]\tvalid_0's auc: 0.721922\n",
      "[243]\tvalid_0's auc: 0.722015\n",
      "[244]\tvalid_0's auc: 0.72212\n",
      "[245]\tvalid_0's auc: 0.722213\n",
      "[246]\tvalid_0's auc: 0.72234\n",
      "[247]\tvalid_0's auc: 0.722384\n",
      "[248]\tvalid_0's auc: 0.722428\n",
      "[249]\tvalid_0's auc: 0.722436\n",
      "[250]\tvalid_0's auc: 0.72239\n"
     ]
    }
   ],
   "source": [
    "# setting up parameters\n",
    "\n",
    "param = {\n",
    "        'task': 'train',\n",
    "        'boosting_type': 'gbdt',\n",
    "        'objective': 'binary', # one class to predict\n",
    "        'num_classes': 1,\n",
    "        'metric': 'auc', \n",
    "        'max_depth': 10,\n",
    "        'learning_rate': 0.01,\n",
    "        'feature_fraction': 0.8,\n",
    "        'bagging_fraction': 0.8,\n",
    "        'num_thread':1,\n",
    "        'bagging_freq': 4,\n",
    "        'verbose': 0,\n",
    "        'num_iterations':50, \n",
    "        'is_unbalance':True,\n",
    "        'early_stopping_round':5 # stops if no improvement after 5 iterations\n",
    "        }\n",
    "\n",
    "num_round = 250 # number of iterations\n",
    "\n",
    "lgb.cv(param, train_data, num_round, nfold=5) # crossvalidates with 5 folds for selection\n",
    "bst = lgb.train(param, train_data, num_round, valid_sets=[test_data] )"
   ]
  },
  {
   "cell_type": "code",
   "execution_count": 77,
   "metadata": {
    "collapsed": false,
    "deletable": true,
    "editable": true
   },
   "outputs": [
    {
     "data": {
      "text/html": [
       "<div>\n",
       "<table border=\"1\" class=\"dataframe\">\n",
       "  <thead>\n",
       "    <tr style=\"text-align: right;\">\n",
       "      <th></th>\n",
       "      <th>probabilities</th>\n",
       "    </tr>\n",
       "  </thead>\n",
       "  <tbody>\n",
       "    <tr>\n",
       "      <th>0</th>\n",
       "      <td>0.632183</td>\n",
       "    </tr>\n",
       "    <tr>\n",
       "      <th>1</th>\n",
       "      <td>0.596567</td>\n",
       "    </tr>\n",
       "    <tr>\n",
       "      <th>2</th>\n",
       "      <td>0.317572</td>\n",
       "    </tr>\n",
       "    <tr>\n",
       "      <th>3</th>\n",
       "      <td>0.351255</td>\n",
       "    </tr>\n",
       "    <tr>\n",
       "      <th>4</th>\n",
       "      <td>0.224703</td>\n",
       "    </tr>\n",
       "  </tbody>\n",
       "</table>\n",
       "</div>"
      ],
      "text/plain": [
       "   probabilities\n",
       "0       0.632183\n",
       "1       0.596567\n",
       "2       0.317572\n",
       "3       0.351255\n",
       "4       0.224703"
      ]
     },
     "execution_count": 77,
     "metadata": {},
     "output_type": "execute_result"
    }
   ],
   "source": [
    "probs = bst.predict(val_x)\n",
    "probs = pd.DataFrame(data=probs)\n",
    "probs.columns = ['probabilities']\n",
    "probs.head()"
   ]
  },
  {
   "cell_type": "code",
   "execution_count": 66,
   "metadata": {
    "collapsed": false,
    "deletable": true,
    "editable": true
   },
   "outputs": [
    {
     "ename": "NameError",
     "evalue": "name 'bst' is not defined",
     "output_type": "error",
     "traceback": [
      "\u001b[0;31m---------------------------------------------------------------------------\u001b[0m",
      "\u001b[0;31mNameError\u001b[0m                                 Traceback (most recent call last)",
      "\u001b[0;32m<ipython-input-66-95113082b31e>\u001b[0m in \u001b[0;36m<module>\u001b[0;34m()\u001b[0m\n\u001b[1;32m      2\u001b[0m \u001b[1;33m\u001b[0m\u001b[0m\n\u001b[1;32m      3\u001b[0m \u001b[1;31m#print('Feature importances:', list(bst.feature_importance()))\u001b[0m\u001b[1;33m\u001b[0m\u001b[1;33m\u001b[0m\u001b[0m\n\u001b[0;32m----> 4\u001b[0;31m \u001b[0mfeats\u001b[0m \u001b[1;33m=\u001b[0m \u001b[0mpd\u001b[0m\u001b[1;33m.\u001b[0m\u001b[0mDataFrame\u001b[0m\u001b[1;33m(\u001b[0m\u001b[0mbst\u001b[0m\u001b[1;33m.\u001b[0m\u001b[0mfeature_importance\u001b[0m\u001b[1;33m(\u001b[0m\u001b[1;33m)\u001b[0m\u001b[1;33m)\u001b[0m\u001b[1;33m\u001b[0m\u001b[0m\n\u001b[0m\u001b[1;32m      5\u001b[0m \u001b[0mfeats\u001b[0m\u001b[1;33m.\u001b[0m\u001b[0mcolumns\u001b[0m \u001b[1;33m=\u001b[0m \u001b[1;33m[\u001b[0m\u001b[1;34m'feature importance'\u001b[0m\u001b[1;33m]\u001b[0m\u001b[1;33m\u001b[0m\u001b[0m\n\u001b[1;32m      6\u001b[0m \u001b[0mfeature_name\u001b[0m \u001b[1;33m=\u001b[0m \u001b[0mbst\u001b[0m\u001b[1;33m.\u001b[0m\u001b[0mfeature_name\u001b[0m\u001b[1;33m(\u001b[0m\u001b[1;33m)\u001b[0m\u001b[1;33m\u001b[0m\u001b[0m\n",
      "\u001b[0;31mNameError\u001b[0m: name 'bst' is not defined"
     ]
    }
   ],
   "source": [
    "# Get feature importances\n",
    "\n",
    "#print('Feature importances:', list(bst.feature_importance()))\n",
    "feats = pd.DataFrame(bst.feature_importance())\n",
    "feats.columns = ['feature importance']\n",
    "feature_name = bst.feature_name()\n",
    "feats['name'] = feature_name\n",
    "featssorted = feats.sort_values(['feature importance'], ascending=False)"
   ]
  },
  {
   "cell_type": "code",
   "execution_count": 65,
   "metadata": {
    "collapsed": false,
    "deletable": true,
    "editable": true,
    "scrolled": true
   },
   "outputs": [
    {
     "ename": "NameError",
     "evalue": "name 'featssorted' is not defined",
     "output_type": "error",
     "traceback": [
      "\u001b[0;31m---------------------------------------------------------------------------\u001b[0m",
      "\u001b[0;31mNameError\u001b[0m                                 Traceback (most recent call last)",
      "\u001b[0;32m<ipython-input-65-133b30148b32>\u001b[0m in \u001b[0;36m<module>\u001b[0;34m()\u001b[0m\n\u001b[1;32m      4\u001b[0m \u001b[1;33m\u001b[0m\u001b[0m\n\u001b[1;32m      5\u001b[0m \u001b[0mf\u001b[0m\u001b[1;33m,\u001b[0m \u001b[0max\u001b[0m \u001b[1;33m=\u001b[0m \u001b[0mplt\u001b[0m\u001b[1;33m.\u001b[0m\u001b[0msubplots\u001b[0m\u001b[1;33m(\u001b[0m\u001b[0mfigsize\u001b[0m\u001b[1;33m=\u001b[0m\u001b[1;33m(\u001b[0m\u001b[1;36m15\u001b[0m\u001b[1;33m,\u001b[0m\u001b[1;36m10\u001b[0m\u001b[1;33m)\u001b[0m\u001b[1;33m)\u001b[0m\u001b[1;33m\u001b[0m\u001b[0m\n\u001b[0;32m----> 6\u001b[0;31m \u001b[0max\u001b[0m \u001b[1;33m=\u001b[0m \u001b[0msns\u001b[0m\u001b[1;33m.\u001b[0m\u001b[0mbarplot\u001b[0m\u001b[1;33m(\u001b[0m\u001b[0mx\u001b[0m\u001b[1;33m=\u001b[0m\u001b[0mfeatssorted\u001b[0m\u001b[1;33m[\u001b[0m\u001b[1;34m'name'\u001b[0m\u001b[1;33m]\u001b[0m\u001b[1;33m,\u001b[0m \u001b[0my\u001b[0m\u001b[1;33m=\u001b[0m\u001b[0mfeatssorted\u001b[0m\u001b[1;33m[\u001b[0m\u001b[1;34m'feature importance'\u001b[0m\u001b[1;33m]\u001b[0m\u001b[1;33m)\u001b[0m\u001b[1;33m\u001b[0m\u001b[0m\n\u001b[0m\u001b[1;32m      7\u001b[0m \u001b[0max\u001b[0m\u001b[1;33m.\u001b[0m\u001b[0mset\u001b[0m\u001b[1;33m(\u001b[0m\u001b[0mxlabel\u001b[0m\u001b[1;33m=\u001b[0m\u001b[1;34m'feature names'\u001b[0m\u001b[1;33m,\u001b[0m \u001b[0mylabel\u001b[0m\u001b[1;33m=\u001b[0m\u001b[1;34m'feature importance'\u001b[0m\u001b[1;33m)\u001b[0m\u001b[1;33m\u001b[0m\u001b[0m\n\u001b[1;32m      8\u001b[0m \u001b[0max\u001b[0m\u001b[1;33m.\u001b[0m\u001b[0mset_title\u001b[0m\u001b[1;33m(\u001b[0m\u001b[1;34m'Feature importances'\u001b[0m\u001b[1;33m)\u001b[0m\u001b[1;33m\u001b[0m\u001b[0m\n",
      "\u001b[0;31mNameError\u001b[0m: name 'featssorted' is not defined"
     ]
    },
    {
     "data": {
      "image/png": "[encoded data removed]",
      "text/plain": [
       "<matplotlib.figure.Figure at 0x128ec7b8>"
      ]
     },
     "metadata": {},
     "output_type": "display_data"
    }
   ],
   "source": [
    "# Plot feature importances\n",
    "\n",
    "sns.set(style='whitegrid')\n",
    "\n",
    "f, ax = plt.subplots(figsize=(15,10))\n",
    "ax = sns.barplot(x=featssorted['name'], y=featssorted['feature importance'])\n",
    "ax.set(xlabel='feature names', ylabel='feature importance')\n",
    "ax.set_title('Feature importances')\n",
    "for item in ax.get_xticklabels():\n",
    "    item.set_rotation(90)"
   ]
  },
  {
   "cell_type": "markdown",
   "metadata": {
    "deletable": true,
    "editable": true
   },
   "source": [
    "# ROC curve"
   ]
  },
  {
   "cell_type": "code",
   "execution_count": 80,
   "metadata": {
    "collapsed": false,
    "deletable": true,
    "editable": true
   },
   "outputs": [],
   "source": [
    "from sklearn.metrics import roc_curve\n",
    "\n",
    "probs = gsregr.predict_proba(X_test)\n",
    "preds = probs[:,1]\n",
    "fpr, tpr, threshold = roc_curve(y_test, preds)\n",
    "AUC = roc_auc_score(y_test, y_pred_regr)"
   ]
  },
  {
   "cell_type": "code",
   "execution_count": 81,
   "metadata": {
    "collapsed": false,
    "deletable": true,
    "editable": true
   },
   "outputs": [],
   "source": [
    "preds2 = bst.predict(X_test)\n",
    "fpr2, tpr2, threshold2 = roc_curve(y_test, preds2)"
   ]
  },
  {
   "cell_type": "code",
   "execution_count": 87,
   "metadata": {
    "collapsed": false,
    "deletable": true,
    "editable": true
   },
   "outputs": [
    {
     "data": {
      "image/png": "[encoded data removed]",
      "text/plain": [
       "<matplotlib.figure.Figure at 0x1b3a4c88>"
      ]
     },
     "metadata": {},
     "output_type": "display_data"
    }
   ],
   "source": [
    "sns.set_style(\"white\")\n",
    "\n",
    "plt.title('Receiver Operating Characteristic')\n",
    "plt.plot(fpr, tpr, 'seagreen', label='AUC (logistic regression model) = %0.4f' % AUC_gs)\n",
    "plt.legend(loc = 'lower right')\n",
    "plt.plot([0, 1], [0, 1],'m--', label='Random')\n",
    "plt.legend(loc = 'lower right')\n",
    "#plt.plot(fpr2, tpr2, 'navy', label='AUC (Light GBM model) = xxx')\n",
    "#plt.legend(loc = 'lower right')\n",
    "plt.xlim([0, 1])\n",
    "plt.ylim([0, 1])\n",
    "plt.ylabel('True Positive Rate')\n",
    "plt.xlabel('False Positive Rate')\n",
    "plt.show()"
   ]
  },
  {
   "cell_type": "markdown",
   "metadata": {
    "deletable": true,
    "editable": true
   },
   "source": [
    "# Confusion matrix"
   ]
  },
  {
   "cell_type": "code",
   "execution_count": 83,
   "metadata": {
    "collapsed": false,
    "deletable": true,
    "editable": true
   },
   "outputs": [
    {
     "data": {
      "text/plain": [
       "<matplotlib.axes._subplots.AxesSubplot at 0x1c023c18>"
      ]
     },
     "execution_count": 83,
     "metadata": {},
     "output_type": "execute_result"
    },
    {
     "data": {
      "image/png": "[encoded data removed]",
      "text/plain": [
       "<matplotlib.figure.Figure at 0x1c02ee48>"
      ]
     },
     "metadata": {},
     "output_type": "display_data"
    }
   ],
   "source": [
    "from sklearn.metrics import confusion_matrix\n",
    "\n",
    "pred_values = gsregr.predict(X_test)\n",
    "\n",
    "cm = confusion_matrix(y_test, pred_values)\n",
    "\n",
    "df_cm = pd.DataFrame(cm, index = ['True (positive)', 'True (negative)'])\n",
    "df_cm.columns = ['Predicted (positive)', 'Predicted (negative)']\n",
    "\n",
    "sns.heatmap(df_cm, annot=True, fmt=\"d\")"
   ]
  },
  {
   "cell_type": "code",
   "execution_count": null,
   "metadata": {
    "collapsed": true,
    "deletable": true,
    "editable": true
   },
   "outputs": [],
   "source": []
  }
 ],
 "metadata": {
  "anaconda-cloud": {},
  "kernelspec": {
   "display_name": "Python 2",
   "language": "python",
   "name": "python2"
  },
  "language_info": {
   "codemirror_mode": {
    "name": "ipython",
    "version": 2
   },
   "file_extension": ".py",
   "mimetype": "text/x-python",
   "name": "python",
   "nbconvert_exporter": "python",
   "pygments_lexer": "ipython2",
   "version": "2.7.13"
  }
 },
 "nbformat": 4,
 "nbformat_minor": 2
}
